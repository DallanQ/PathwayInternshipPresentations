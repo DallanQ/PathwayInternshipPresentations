{
 "cells": [
  {
   "cell_type": "markdown",
   "id": "086f9c5e",
   "metadata": {
    "slideshow": {
     "slide_type": "slide"
    }
   },
   "source": [
    "# Week 8 day 5 (Everyone) - Agile Project Management\n",
    "\n",
    "**Agile** is a project management methodology, or a way to manage projects, that is very common in software development. We will use Agile during the rest of the internship. I believe this will help you be more productive as well as learn an important new skill. "
   ]
  },
  {
   "cell_type": "markdown",
   "id": "dc1b6f17",
   "metadata": {
    "slideshow": {
     "slide_type": "slide"
    }
   },
   "source": [
    "## Agile Core Values\n",
    "\n",
    "You can read more about agile at https://business.adobe.com/blog/basics/agile\n",
    "\n",
    "- Individuals and interactions over processes and tools\n",
    "- Working software over comprehensive documentation\n",
    "- Customer collaboration over contract negotiation\n",
    "- Responding to change over following a plan"
   ]
  },
  {
   "cell_type": "markdown",
   "id": "5b08ef7b",
   "metadata": {
    "slideshow": {
     "slide_type": "slide"
    }
   },
   "source": [
    "## Agile Principles\n",
    "\n",
    "1. Our highest priority is to satisfy the customer through early and continuous delivery of valuable software (or whatever else you deliver).\n",
    "2. Welcome changing requirements, even late in development. Agile processes harness change for the customer’s competitive advantage.\n",
    "3. Deliver projects frequently, from a couple of weeks to a couple of months, with a preference for the shorter timescale.\n",
    "4. Coordinating team members must work together daily throughout the project.\n",
    "5. Build projects around motivated individuals. Give them the environment and support they need and trust them to get the job done.\n",
    "6. Face-to-face conversation is the most efficient and effective method of conveying information to and within different teams."
   ]
  },
  {
   "cell_type": "markdown",
   "id": "6d7bec0d",
   "metadata": {
    "slideshow": {
     "slide_type": "slide"
    }
   },
   "source": [
    "## Agile Principles - continued\n",
    "\n",
    "7. The final product is the primary measure of progress.\n",
    "8. Agile processes promote sustainable development. All stakeholders should be able to maintain a constant pace indefinitely.\n",
    "9. Continuous attention to technical excellence and good design enhances agility.\n",
    "10. Simplicity — the art of maximizing the amount of work not done — is essential.\n",
    "11. The best architectures, requirements, and designs emerge from self-organizing teams.\n",
    "12. At regular intervals, the team reflects on how to become more effective, then tunes and adjusts its behavior accordingly."
   ]
  },
  {
   "cell_type": "markdown",
   "id": "6b87633a",
   "metadata": {
    "slideshow": {
     "slide_type": "slide"
    }
   },
   "source": [
    "## Agile Key Components\n",
    "\n",
    "- **User stories:** high-level definition of a work request\n",
    "- **Sprints:** work iterations (2 weeks)\n",
    "- **Daily stand-up meetings:** coordination (15 minutes)\n",
    "- **Agile board:** track progress\n",
    "- **Backlog:** user stories needing to be done\n",
    "- **Special roles:** Scrum master, product owner"
   ]
  },
  {
   "cell_type": "markdown",
   "id": "eb87544a",
   "metadata": {
    "slideshow": {
     "slide_type": "slide"
    }
   },
   "source": [
    "## Agile Team Member Characteristics\n",
    "\n",
    "- **Cross-functional:** general experience outside their core area of expertise\n",
    "- **Adaptable:** adapt to work on different areas depending on team needs\n",
    "- **Curious:** ask questions, learn new things\n",
    "- **Entrepreneurial:** doesn't wait to be told what to do; see a need - fill a need\n",
    "- **Team-oriented:** prioritize team success\n",
    "- **Committed to excellence:** don't settle for average; produce best work"
   ]
  },
  {
   "cell_type": "markdown",
   "id": "936f27b7",
   "metadata": {
    "slideshow": {
     "slide_type": "slide"
    }
   },
   "source": [
    "## Agile Steps\n",
    "\n",
    "1. **Project planning:** understand the project end goal\n",
    "2. **Product roadmap creation:** create user stories and add them to the backlog\n",
    "3. **Release planning:** what user stories are estimated for each sprint\n",
    "4. **Sprint planning:** before each sprint begins, decide which user stories will be accomplished by which pair during that sprint\n",
    "5. **Daily stand-ups:** say what you accomplished the day before, what you are working on now, and if there are any roadblocks\n",
    "6. **Sprint review and retrospective:** at the end of each sprint, review and celebrate accomplishments and reflect on what went well and needs improvement"
   ]
  },
  {
   "cell_type": "markdown",
   "id": "671e105d",
   "metadata": {
    "slideshow": {
     "slide_type": "slide"
    }
   },
   "source": [
    "## Homework\n",
    "\n",
    "Take the following course: https://www.coursera.org/learn/agile-development-and-scrum\n",
    "- just watch the videos and read the readings. You don't need to take the quizzes\n",
    "\n",
    "**Optional:** If you want to learn even more about agile, including how to become an agile project manager, take the following course (25 hours): https://www.coursera.org/learn/agile-project-management\n",
    "\n",
    "Need help?\n",
    "- https://calendly.com/dallanq/help"
   ]
  },
  {
   "cell_type": "markdown",
   "id": "3d1475ca",
   "metadata": {
    "slideshow": {
     "slide_type": "slide"
    }
   },
   "source": [
    "## Transition from learn --> apply what you've learned!\n",
    "\n",
    "We are now two months into the six month internship - about a third of the way.  Congratulations for making it this far!\n",
    "\n",
    "Up to this point you've focused on learning basic things to help you be a productive software developer. For the next six week you will apply the skills and tools that you've learned to a real-world software project."
   ]
  }
 ],
 "metadata": {
  "celltoolbar": "Slideshow",
  "kernelspec": {
   "display_name": "PathwayInternshipPresentations",
   "language": "python",
   "name": "pathwayinternshippresentations"
  },
  "language_info": {
   "codemirror_mode": {
    "name": "ipython",
    "version": 3
   },
   "file_extension": ".py",
   "mimetype": "text/x-python",
   "name": "python",
   "nbconvert_exporter": "python",
   "pygments_lexer": "ipython3",
   "version": "3.11.4"
  }
 },
 "nbformat": 4,
 "nbformat_minor": 5
}
