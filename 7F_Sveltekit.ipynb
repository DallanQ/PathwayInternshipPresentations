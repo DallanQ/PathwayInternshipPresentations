{
 "cells": [
  {
   "cell_type": "markdown",
   "id": "086f9c5e",
   "metadata": {
    "slideshow": {
     "slide_type": "slide"
    }
   },
   "source": [
    "# Week 7 (Front-End) - SvelteKit\n",
    "\n",
    "Last week you learned about **Svelte**. This week you will learn about **Sveltekit**, which makes it easy to create more-complex Svelte applications with multiple routes."
   ]
  },
  {
   "cell_type": "markdown",
   "id": "5fde5d14",
   "metadata": {
    "slideshow": {
     "slide_type": "slide"
    }
   },
   "source": [
    "## Sveltekit tutorials by Joy of Code\n",
    "\n",
    "* Day 1-5: https://www.youtube.com/playlist?list=PLA9WiRZ-IS_zfHpxmztJQLeBISsQkh9-M"
   ]
  },
  {
   "cell_type": "markdown",
   "id": "e4b179dd",
   "metadata": {
    "slideshow": {
     "slide_type": "slide"
    }
   },
   "source": [
    "## Homework\n",
    "\n",
    "\n",
    "For this week's homework during the week, go to the online tutorial at https://learn.svelte.dev and complete **Part 3: Basic Sveltekit** and also **Part 4: Advanced Sveltekit**"
   ]
  }
 ],
 "metadata": {
  "celltoolbar": "Slideshow",
  "kernelspec": {
   "display_name": "PathwayInternshipPresentations",
   "language": "python",
   "name": "pathwayinternshippresentations"
  },
  "language_info": {
   "codemirror_mode": {
    "name": "ipython",
    "version": 3
   },
   "file_extension": ".py",
   "mimetype": "text/x-python",
   "name": "python",
   "nbconvert_exporter": "python",
   "pygments_lexer": "ipython3",
   "version": "3.11.4"
  }
 },
 "nbformat": 4,
 "nbformat_minor": 5
}
