{
 "cells": [
  {
   "cell_type": "markdown",
   "id": "086f9c5e",
   "metadata": {
    "slideshow": {
     "slide_type": "slide"
    }
   },
   "source": [
    "# Week 9 (Front-End) - Sveltekit Personal Project\n",
    "\n",
    "This week you will learn how to use Sveltekit to create your own personal blog."
   ]
  },
  {
   "cell_type": "markdown",
   "id": "ef440651",
   "metadata": {
    "slideshow": {
     "slide_type": "slide"
    }
   },
   "source": [
    "## Day 1+2: Sveltekit blog\n",
    "\n",
    "We will review the following:\n",
    "- https://www.youtube.com/watch?v=RhScu3uqGd0\n",
    "- https://joyofcode.xyz/sveltekit-markdown-blog"
   ]
  },
  {
   "cell_type": "markdown",
   "id": "b93cd0d5",
   "metadata": {
    "slideshow": {
     "slide_type": "slide"
    }
   },
   "source": [
    "## Day 3+4: Work on your blog\n",
    "\n",
    "Enhance your blog. Play around with it and make it look wonderful! This is a chance to show off what you've learned about Svelte and Sveltekit."
   ]
  },
  {
   "cell_type": "markdown",
   "id": "4ddf6309",
   "metadata": {
    "slideshow": {
     "slide_type": "slide"
    }
   },
   "source": [
    "## Day 5: Show off your blog!\n",
    "\n",
    "Looking forward to seeing your presentations!"
   ]
  },
  {
   "cell_type": "markdown",
   "id": "a1c97213",
   "metadata": {
    "slideshow": {
     "slide_type": "slide"
    }
   },
   "source": [
    "## Homework\n",
    "\n",
    "The homework for this week is to work on your personal blog.\n",
    "\n",
    "Need help?\n",
    "- https://calendly.com/dallanq/help"
   ]
  },
  {
   "cell_type": "markdown",
   "id": "19ab8989",
   "metadata": {
    "slideshow": {
     "slide_type": "slide"
    }
   },
   "source": [
    "## Optional\n",
    "\n",
    "- **PicoCSS** CSS is hard. There are dozens of frameworks out there to try to make CSS easier. Pico CSS is not the most popular. But it is among the simplest.\n",
    "  - Watch https://www.youtube.com/watch?v=-n84EMKIXQM\n",
    "  - Review https://picocss.com/"
   ]
  }
 ],
 "metadata": {
  "celltoolbar": "Slideshow",
  "kernelspec": {
   "display_name": "PathwayInternshipPresentations",
   "language": "python",
   "name": "pathwayinternshippresentations"
  },
  "language_info": {
   "codemirror_mode": {
    "name": "ipython",
    "version": 3
   },
   "file_extension": ".py",
   "mimetype": "text/x-python",
   "name": "python",
   "nbconvert_exporter": "python",
   "pygments_lexer": "ipython3",
   "version": "3.11.4"
  }
 },
 "nbformat": 4,
 "nbformat_minor": 5
}
