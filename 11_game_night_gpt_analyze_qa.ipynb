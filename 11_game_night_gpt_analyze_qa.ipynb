{
 "cells": [
  {
   "cell_type": "markdown",
   "id": "46fcc21b8bb3dafa",
   "metadata": {
    "collapsed": false,
    "jupyter": {
     "outputs_hidden": false
    }
   },
   "source": [
    "# Exploratory Data Analysis on Q&A\n",
    "\n",
    "- Read a qa file\n",
    "- Clean it\n",
    "- Analyze questions and clean them\n",
    "- Get embeddings\n",
    "- Identify and remove near-duplicates\n",
    "- Cluster questions\n",
    "- Keep one question from each cluster "
   ]
  },
  {
   "cell_type": "code",
   "execution_count": 1,
   "id": "fd71a78410f1cb00",
   "metadata": {
    "ExecuteTime": {
     "end_time": "2024-05-13T13:03:42.227950320Z",
     "start_time": "2024-05-13T13:03:42.173442566Z"
    },
    "collapsed": false,
    "jupyter": {
     "outputs_hidden": false
    }
   },
   "outputs": [],
   "source": [
    "%load_ext dotenv\n",
    "%dotenv"
   ]
  },
  {
   "cell_type": "code",
   "execution_count": 2,
   "id": "9feeb6ee92d9dd2c",
   "metadata": {
    "ExecuteTime": {
     "end_time": "2024-05-13T13:34:03.511855819Z",
     "start_time": "2024-05-13T13:34:02.909928972Z"
    },
    "collapsed": false,
    "jupyter": {
     "outputs_hidden": false
    }
   },
   "outputs": [],
   "source": [
    "import matplotlib.pyplot as plt\n",
    "import numpy as np\n",
    "from openai import OpenAI\n",
    "import pandas as pd\n",
    "from plotly.offline import init_notebook_mode, iplot\n",
    "import plotly.express as px\n",
    "from scipy.cluster.hierarchy import dendrogram\n",
    "from sklearn.cluster import AgglomerativeClustering, KMeans\n",
    "import umap"
   ]
  },
  {
   "cell_type": "code",
   "execution_count": 3,
   "id": "5f0b6f825cd5034e",
   "metadata": {
    "ExecuteTime": {
     "end_time": "2024-05-13T12:11:56.532860795Z",
     "start_time": "2024-05-13T12:11:56.488167949Z"
    },
    "collapsed": false,
    "jupyter": {
     "outputs_hidden": false
    }
   },
   "outputs": [],
   "source": [
    "in_filename = 'data/sleeping_gods_qa.tsv' \n",
    "n_sample_questions = 200"
   ]
  },
  {
   "cell_type": "code",
   "execution_count": 4,
   "id": "eeff775e-d5c6-4630-bfe5-32e6753462c3",
   "metadata": {},
   "outputs": [
    {
     "data": {
      "text/html": [
       "        <script type=\"text/javascript\">\n",
       "        window.PlotlyConfig = {MathJaxConfig: 'local'};\n",
       "        if (window.MathJax && window.MathJax.Hub && window.MathJax.Hub.Config) {window.MathJax.Hub.Config({SVG: {font: \"STIX-Web\"}});}\n",
       "        if (typeof require !== 'undefined') {\n",
       "        require.undef(\"plotly\");\n",
       "        requirejs.config({\n",
       "            paths: {\n",
       "                'plotly': ['https://cdn.plot.ly/plotly-2.32.0.min']\n",
       "            }\n",
       "        });\n",
       "        require(['plotly'], function(Plotly) {\n",
       "            window._Plotly = Plotly;\n",
       "        });\n",
       "        }\n",
       "        </script>\n",
       "        "
      ]
     },
     "metadata": {},
     "output_type": "display_data"
    }
   ],
   "source": [
    "# init plotly\n",
    "init_notebook_mode(connected=True)"
   ]
  },
  {
   "cell_type": "code",
   "execution_count": 6,
   "id": "8290cadf-eb3d-4df7-9a9c-cb2f06f95c9e",
   "metadata": {},
   "outputs": [],
   "source": [
    "qa_df = pd.read_csv(in_filename, sep='\\t', na_filter=False)"
   ]
  },
  {
   "cell_type": "code",
   "execution_count": 7,
   "id": "9afa19ee02eeadd0",
   "metadata": {
    "ExecuteTime": {
     "end_time": "2024-05-13T12:26:01.079367193Z",
     "start_time": "2024-05-13T12:26:01.074401781Z"
    },
    "collapsed": false,
    "jupyter": {
     "outputs_hidden": false
    }
   },
   "outputs": [
    {
     "data": {
      "text/html": [
       "<div>\n",
       "<style scoped>\n",
       "    .dataframe tbody tr th:only-of-type {\n",
       "        vertical-align: middle;\n",
       "    }\n",
       "\n",
       "    .dataframe tbody tr th {\n",
       "        vertical-align: top;\n",
       "    }\n",
       "\n",
       "    .dataframe thead th {\n",
       "        text-align: right;\n",
       "    }\n",
       "</style>\n",
       "<table border=\"1\" class=\"dataframe\">\n",
       "  <thead>\n",
       "    <tr style=\"text-align: right;\">\n",
       "      <th></th>\n",
       "      <th>url</th>\n",
       "      <th>question</th>\n",
       "      <th>answer</th>\n",
       "      <th>manual quote</th>\n",
       "    </tr>\n",
       "  </thead>\n",
       "  <tbody>\n",
       "    <tr>\n",
       "      <th>0</th>\n",
       "      <td>https://boardgamegeek.com/thread/3271748/i-hav...</td>\n",
       "      <td>Can you place 4 damage in a square shaped patt...</td>\n",
       "      <td>4 damage in a square is ok. Place the first on...</td>\n",
       "      <td></td>\n",
       "    </tr>\n",
       "    <tr>\n",
       "      <th>1</th>\n",
       "      <td></td>\n",
       "      <td>Can you do partial damage to an enemy heart sy...</td>\n",
       "      <td>It's all or nothing.</td>\n",
       "      <td></td>\n",
       "    </tr>\n",
       "    <tr>\n",
       "      <th>2</th>\n",
       "      <td></td>\n",
       "      <td>Square is ok because one damage is placed next...</td>\n",
       "      <td>A T is allowed. Its even used as a specific ex...</td>\n",
       "      <td></td>\n",
       "    </tr>\n",
       "    <tr>\n",
       "      <th>3</th>\n",
       "      <td>https://boardgamegeek.com/thread/3269600/trave...</td>\n",
       "      <td>When travelling to new page, does movement sto...</td>\n",
       "      <td>You can continue moving.</td>\n",
       "      <td></td>\n",
       "    </tr>\n",
       "    <tr>\n",
       "      <th>4</th>\n",
       "      <td>https://boardgamegeek.com/thread/3266861/audri...</td>\n",
       "      <td>But why does it say that \"Audrie's 2nd crew bo...</td>\n",
       "      <td>Some of the crew abilities can be used in comb...</td>\n",
       "      <td></td>\n",
       "    </tr>\n",
       "    <tr>\n",
       "      <th>5</th>\n",
       "      <td>https://boardgamegeek.com/thread/3260955/when-...</td>\n",
       "      <td>When does the fight start?</td>\n",
       "      <td>You can do it up until you look at the enemy c...</td>\n",
       "      <td></td>\n",
       "    </tr>\n",
       "    <tr>\n",
       "      <th>6</th>\n",
       "      <td>https://boardgamegeek.com/thread/3254605/disca...</td>\n",
       "      <td>Can you discard cards during any challenge to ...</td>\n",
       "      <td>Yes, any player may discard any number of abil...</td>\n",
       "      <td></td>\n",
       "    </tr>\n",
       "    <tr>\n",
       "      <th>7</th>\n",
       "      <td>https://boardgamegeek.com/thread/3253107/zombi...</td>\n",
       "      <td>So assuming I have $5, I can purchase all 15 f...</td>\n",
       "      <td>Your interpretation sounds right to me, especi...</td>\n",
       "      <td></td>\n",
       "    </tr>\n",
       "    <tr>\n",
       "      <th>8</th>\n",
       "      <td>https://boardgamegeek.com/thread/3250276/when-...</td>\n",
       "      <td>When doing a challenge, can I not use a crew m...</td>\n",
       "      <td>You can choose to have no crew members partici...</td>\n",
       "      <td></td>\n",
       "    </tr>\n",
       "    <tr>\n",
       "      <th>9</th>\n",
       "      <td></td>\n",
       "      <td>Can anyone share the damage incurred in case ...</td>\n",
       "      <td>−X health: You must take crew damage. Damage m...</td>\n",
       "      <td></td>\n",
       "    </tr>\n",
       "  </tbody>\n",
       "</table>\n",
       "</div>"
      ],
      "text/plain": [
       "                                                 url  \\\n",
       "0  https://boardgamegeek.com/thread/3271748/i-hav...   \n",
       "1                                                      \n",
       "2                                                      \n",
       "3  https://boardgamegeek.com/thread/3269600/trave...   \n",
       "4  https://boardgamegeek.com/thread/3266861/audri...   \n",
       "5  https://boardgamegeek.com/thread/3260955/when-...   \n",
       "6  https://boardgamegeek.com/thread/3254605/disca...   \n",
       "7  https://boardgamegeek.com/thread/3253107/zombi...   \n",
       "8  https://boardgamegeek.com/thread/3250276/when-...   \n",
       "9                                                      \n",
       "\n",
       "                                            question  \\\n",
       "0  Can you place 4 damage in a square shaped patt...   \n",
       "1  Can you do partial damage to an enemy heart sy...   \n",
       "2  Square is ok because one damage is placed next...   \n",
       "3  When travelling to new page, does movement sto...   \n",
       "4  But why does it say that \"Audrie's 2nd crew bo...   \n",
       "5                         When does the fight start?   \n",
       "6  Can you discard cards during any challenge to ...   \n",
       "7  So assuming I have $5, I can purchase all 15 f...   \n",
       "8  When doing a challenge, can I not use a crew m...   \n",
       "9   Can anyone share the damage incurred in case ...   \n",
       "\n",
       "                                              answer manual quote  \n",
       "0  4 damage in a square is ok. Place the first on...               \n",
       "1                               It's all or nothing.               \n",
       "2  A T is allowed. Its even used as a specific ex...               \n",
       "3                           You can continue moving.               \n",
       "4  Some of the crew abilities can be used in comb...               \n",
       "5  You can do it up until you look at the enemy c...               \n",
       "6  Yes, any player may discard any number of abil...               \n",
       "7  Your interpretation sounds right to me, especi...               \n",
       "8  You can choose to have no crew members partici...               \n",
       "9  −X health: You must take crew damage. Damage m...               "
      ]
     },
     "execution_count": 7,
     "metadata": {},
     "output_type": "execute_result"
    }
   ],
   "source": [
    "# show the first 10 rows\n",
    "qa_df.head(10)"
   ]
  },
  {
   "cell_type": "code",
   "execution_count": 8,
   "id": "2d4fa4433c4d0209",
   "metadata": {
    "ExecuteTime": {
     "end_time": "2024-05-13T12:26:02.828443550Z",
     "start_time": "2024-05-13T12:26:02.818572863Z"
    },
    "collapsed": false,
    "jupyter": {
     "outputs_hidden": false
    }
   },
   "outputs": [
    {
     "data": {
      "text/html": [
       "<div>\n",
       "<style scoped>\n",
       "    .dataframe tbody tr th:only-of-type {\n",
       "        vertical-align: middle;\n",
       "    }\n",
       "\n",
       "    .dataframe tbody tr th {\n",
       "        vertical-align: top;\n",
       "    }\n",
       "\n",
       "    .dataframe thead th {\n",
       "        text-align: right;\n",
       "    }\n",
       "</style>\n",
       "<table border=\"1\" class=\"dataframe\">\n",
       "  <thead>\n",
       "    <tr style=\"text-align: right;\">\n",
       "      <th></th>\n",
       "      <th>url</th>\n",
       "      <th>question</th>\n",
       "      <th>answer</th>\n",
       "      <th>manual quote</th>\n",
       "    </tr>\n",
       "  </thead>\n",
       "  <tbody>\n",
       "    <tr>\n",
       "      <th>0</th>\n",
       "      <td>https://boardgamegeek.com/thread/3271748/i-hav...</td>\n",
       "      <td>Can you place 4 damage in a square shaped patt...</td>\n",
       "      <td>4 damage in a square is ok. Place the first on...</td>\n",
       "      <td></td>\n",
       "    </tr>\n",
       "    <tr>\n",
       "      <th>1</th>\n",
       "      <td>https://boardgamegeek.com/thread/3271748/i-hav...</td>\n",
       "      <td>Can you do partial damage to an enemy heart sy...</td>\n",
       "      <td>It's all or nothing.</td>\n",
       "      <td></td>\n",
       "    </tr>\n",
       "    <tr>\n",
       "      <th>2</th>\n",
       "      <td>https://boardgamegeek.com/thread/3271748/i-hav...</td>\n",
       "      <td>Square is ok because one damage is placed next...</td>\n",
       "      <td>A T is allowed. Its even used as a specific ex...</td>\n",
       "      <td></td>\n",
       "    </tr>\n",
       "    <tr>\n",
       "      <th>3</th>\n",
       "      <td>https://boardgamegeek.com/thread/3269600/trave...</td>\n",
       "      <td>When travelling to new page, does movement sto...</td>\n",
       "      <td>You can continue moving.</td>\n",
       "      <td></td>\n",
       "    </tr>\n",
       "    <tr>\n",
       "      <th>4</th>\n",
       "      <td>https://boardgamegeek.com/thread/3266861/audri...</td>\n",
       "      <td>But why does it say that \"Audrie's 2nd crew bo...</td>\n",
       "      <td>Some of the crew abilities can be used in comb...</td>\n",
       "      <td></td>\n",
       "    </tr>\n",
       "    <tr>\n",
       "      <th>5</th>\n",
       "      <td>https://boardgamegeek.com/thread/3260955/when-...</td>\n",
       "      <td>When does the fight start?</td>\n",
       "      <td>You can do it up until you look at the enemy c...</td>\n",
       "      <td></td>\n",
       "    </tr>\n",
       "    <tr>\n",
       "      <th>6</th>\n",
       "      <td>https://boardgamegeek.com/thread/3254605/disca...</td>\n",
       "      <td>Can you discard cards during any challenge to ...</td>\n",
       "      <td>Yes, any player may discard any number of abil...</td>\n",
       "      <td></td>\n",
       "    </tr>\n",
       "    <tr>\n",
       "      <th>7</th>\n",
       "      <td>https://boardgamegeek.com/thread/3253107/zombi...</td>\n",
       "      <td>So assuming I have $5, I can purchase all 15 f...</td>\n",
       "      <td>Your interpretation sounds right to me, especi...</td>\n",
       "      <td></td>\n",
       "    </tr>\n",
       "    <tr>\n",
       "      <th>8</th>\n",
       "      <td>https://boardgamegeek.com/thread/3250276/when-...</td>\n",
       "      <td>When doing a challenge, can I not use a crew m...</td>\n",
       "      <td>You can choose to have no crew members partici...</td>\n",
       "      <td></td>\n",
       "    </tr>\n",
       "    <tr>\n",
       "      <th>9</th>\n",
       "      <td>https://boardgamegeek.com/thread/3250276/when-...</td>\n",
       "      <td>Can anyone share the damage incurred in case ...</td>\n",
       "      <td>−X health: You must take crew damage. Damage m...</td>\n",
       "      <td></td>\n",
       "    </tr>\n",
       "  </tbody>\n",
       "</table>\n",
       "</div>"
      ],
      "text/plain": [
       "                                                 url  \\\n",
       "0  https://boardgamegeek.com/thread/3271748/i-hav...   \n",
       "1  https://boardgamegeek.com/thread/3271748/i-hav...   \n",
       "2  https://boardgamegeek.com/thread/3271748/i-hav...   \n",
       "3  https://boardgamegeek.com/thread/3269600/trave...   \n",
       "4  https://boardgamegeek.com/thread/3266861/audri...   \n",
       "5  https://boardgamegeek.com/thread/3260955/when-...   \n",
       "6  https://boardgamegeek.com/thread/3254605/disca...   \n",
       "7  https://boardgamegeek.com/thread/3253107/zombi...   \n",
       "8  https://boardgamegeek.com/thread/3250276/when-...   \n",
       "9  https://boardgamegeek.com/thread/3250276/when-...   \n",
       "\n",
       "                                            question  \\\n",
       "0  Can you place 4 damage in a square shaped patt...   \n",
       "1  Can you do partial damage to an enemy heart sy...   \n",
       "2  Square is ok because one damage is placed next...   \n",
       "3  When travelling to new page, does movement sto...   \n",
       "4  But why does it say that \"Audrie's 2nd crew bo...   \n",
       "5                         When does the fight start?   \n",
       "6  Can you discard cards during any challenge to ...   \n",
       "7  So assuming I have $5, I can purchase all 15 f...   \n",
       "8  When doing a challenge, can I not use a crew m...   \n",
       "9   Can anyone share the damage incurred in case ...   \n",
       "\n",
       "                                              answer manual quote  \n",
       "0  4 damage in a square is ok. Place the first on...               \n",
       "1                               It's all or nothing.               \n",
       "2  A T is allowed. Its even used as a specific ex...               \n",
       "3                           You can continue moving.               \n",
       "4  Some of the crew abilities can be used in comb...               \n",
       "5  You can do it up until you look at the enemy c...               \n",
       "6  Yes, any player may discard any number of abil...               \n",
       "7  Your interpretation sounds right to me, especi...               \n",
       "8  You can choose to have no crew members partici...               \n",
       "9  −X health: You must take crew damage. Damage m...               "
      ]
     },
     "execution_count": 8,
     "metadata": {},
     "output_type": "execute_result"
    }
   ],
   "source": [
    "# fill missing url values from the row above\n",
    "qa_df['url'] = qa_df['url'].replace('', pd.NA)\n",
    "qa_df['url'] = qa_df['url'].ffill()\n",
    "qa_df.head(10)"
   ]
  },
  {
   "cell_type": "code",
   "execution_count": 41,
   "id": "288943502792caa6",
   "metadata": {
    "ExecuteTime": {
     "end_time": "2024-05-13T12:26:19.888707072Z",
     "start_time": "2024-05-13T12:26:19.868034344Z"
    },
    "collapsed": false,
    "jupyter": {
     "outputs_hidden": false
    }
   },
   "outputs": [
    {
     "name": "stdout",
     "output_type": "stream",
     "text": [
      "588\n",
      "(588, 4)\n",
      "13\n"
     ]
    }
   ],
   "source": [
    "# show the total number of qa pairs, and the number of pairs with a manual quote\n",
    "print(len(qa_df))\n",
    "print(qa_df.shape)\n",
    "print(len(qa_df[qa_df['manual quote'] != '']))"
   ]
  },
  {
   "cell_type": "code",
   "execution_count": 43,
   "id": "ad430ea1-f285-4e6a-bae8-eeeda3578461",
   "metadata": {},
   "outputs": [
    {
     "data": {
      "text/plain": [
       "0      False\n",
       "1      False\n",
       "2      False\n",
       "3      False\n",
       "4      False\n",
       "       ...  \n",
       "583     True\n",
       "584    False\n",
       "585    False\n",
       "586    False\n",
       "587    False\n",
       "Name: manual quote, Length: 588, dtype: bool"
      ]
     },
     "execution_count": 43,
     "metadata": {},
     "output_type": "execute_result"
    }
   ],
   "source": [
    "# fancy indexing\n",
    "non_empty_manual_quote = qa_df['manual quote'] != ''\n",
    "non_empty_manual_quote"
   ]
  },
  {
   "cell_type": "code",
   "execution_count": 44,
   "id": "64cb4dd6fb3211cf",
   "metadata": {
    "ExecuteTime": {
     "end_time": "2024-05-13T12:26:21.844940622Z",
     "start_time": "2024-05-13T12:26:21.832648692Z"
    },
    "collapsed": false,
    "jupyter": {
     "outputs_hidden": false
    }
   },
   "outputs": [
    {
     "data": {
      "text/html": [
       "<div>\n",
       "<style scoped>\n",
       "    .dataframe tbody tr th:only-of-type {\n",
       "        vertical-align: middle;\n",
       "    }\n",
       "\n",
       "    .dataframe tbody tr th {\n",
       "        vertical-align: top;\n",
       "    }\n",
       "\n",
       "    .dataframe thead th {\n",
       "        text-align: right;\n",
       "    }\n",
       "</style>\n",
       "<table border=\"1\" class=\"dataframe\">\n",
       "  <thead>\n",
       "    <tr style=\"text-align: right;\">\n",
       "      <th></th>\n",
       "      <th>url</th>\n",
       "      <th>question</th>\n",
       "      <th>answer</th>\n",
       "      <th>manual quote</th>\n",
       "    </tr>\n",
       "  </thead>\n",
       "  <tbody>\n",
       "    <tr>\n",
       "      <th>18</th>\n",
       "      <td>https://boardgamegeek.com/thread/3248418/if-i-...</td>\n",
       "      <td>If I equip a weapon to my crew, can I equip ot...</td>\n",
       "      <td>according to rulebook p.29 - not in combat\"You...</td>\n",
       "      <td>You can equip this to a crew member (or give i...</td>\n",
       "    </tr>\n",
       "    <tr>\n",
       "      <th>24</th>\n",
       "      <td>https://boardgamegeek.com/thread/3222657/ship-...</td>\n",
       "      <td>Ship Action: Can I gain command points (CP) th...</td>\n",
       "      <td>The rulebook says \"Ship action effects can be ...</td>\n",
       "      <td>Ship action effects can be applied in any orde...</td>\n",
       "    </tr>\n",
       "    <tr>\n",
       "      <th>33</th>\n",
       "      <td>https://boardgamegeek.com/thread/3205199/are-t...</td>\n",
       "      <td>Are the rings considered a line?</td>\n",
       "      <td>Assuming you mean the ring binder of the map b...</td>\n",
       "      <td>Regions are separated by dotted lines, land, t...</td>\n",
       "    </tr>\n",
       "    <tr>\n",
       "      <th>83</th>\n",
       "      <td>https://boardgamegeek.com/thread/3070941/did-w...</td>\n",
       "      <td>Did we win or lose this combat?</td>\n",
       "      <td>Page 22 (upper left) of the rule book: \"Enemy ...</td>\n",
       "      <td>Enemy Health: Each heart must be covered to de...</td>\n",
       "    </tr>\n",
       "    <tr>\n",
       "      <th>126</th>\n",
       "      <td>https://boardgamegeek.com/thread/3012276/do-di...</td>\n",
       "      <td>Do discarded ability cards go to the bottom of...</td>\n",
       "      <td>Rulebook, p. 10 under Ship Action: \"If the abi...</td>\n",
       "      <td>If the ability deck runs out, shuffle the disc...</td>\n",
       "    </tr>\n",
       "    <tr>\n",
       "      <th>169</th>\n",
       "      <td>https://boardgamegeek.com/thread/2960501/travel</td>\n",
       "      <td>Can effects that change the chance to hit be u...</td>\n",
       "      <td>Yes: From page 23: “After you draw, you may us...</td>\n",
       "      <td>“After you draw, you may use adventure card an...</td>\n",
       "    </tr>\n",
       "    <tr>\n",
       "      <th>172</th>\n",
       "      <td>https://boardgamegeek.com/thread/2960501/travel</td>\n",
       "      <td>Will the Sea Serpent token follow us even if w...</td>\n",
       "      <td>It will follow you wherever you go. Page 12:  ...</td>\n",
       "      <td>“ Hunting Serpent Special Rule: For this event...</td>\n",
       "    </tr>\n",
       "    <tr>\n",
       "      <th>470</th>\n",
       "      <td>https://boardgamegeek.com/thread/2605775/syner...</td>\n",
       "      <td>Do synergy tokens stay on character cards afte...</td>\n",
       "      <td>No.Pg 25 of the main rulebook, \"At the start o...</td>\n",
       "      <td>At the start of each battle, make sure that ea...</td>\n",
       "    </tr>\n",
       "    <tr>\n",
       "      <th>498</th>\n",
       "      <td>https://boardgamegeek.com/thread/2598711/can-y...</td>\n",
       "      <td>Can you however cook right before combat. So a...</td>\n",
       "      <td>Yes, you can cook right before combat (or righ...</td>\n",
       "      <td>Again page 18, \"You can, however, cook recipes...</td>\n",
       "    </tr>\n",
       "    <tr>\n",
       "      <th>510</th>\n",
       "      <td>https://boardgamegeek.com/thread/2597321/chall...</td>\n",
       "      <td>Can you only add skill to your own crew member...</td>\n",
       "      <td>You can pay command to equip ability cards to ...</td>\n",
       "      <td>You may spend command at any time, even on oth...</td>\n",
       "    </tr>\n",
       "    <tr>\n",
       "      <th>530</th>\n",
       "      <td>https://boardgamegeek.com/thread/2574093/ship-...</td>\n",
       "      <td>Before the ship action I have one command left...</td>\n",
       "      <td>On page 10 of the rulebook it states \"Ship act...</td>\n",
       "      <td>Ship action effects can be applied in any order.</td>\n",
       "    </tr>\n",
       "    <tr>\n",
       "      <th>565</th>\n",
       "      <td>https://boardgamegeek.com/thread/2535700/weake...</td>\n",
       "      <td>I haven't played much yet. How do you remove s...</td>\n",
       "      <td>The rulebook mentions statuses can be removed ...</td>\n",
       "      <td>Remove Status: This can be used to remove stat...</td>\n",
       "    </tr>\n",
       "    <tr>\n",
       "      <th>583</th>\n",
       "      <td>https://boardgamegeek.com/thread/2379921/rulebook</td>\n",
       "      <td>Should specify if we can add cards after the r...</td>\n",
       "      <td>Yes, you can. It's mentioned on p.13 \"Next, dr...</td>\n",
       "      <td>Next, draw fate. If you used a crew member, ad...</td>\n",
       "    </tr>\n",
       "  </tbody>\n",
       "</table>\n",
       "</div>"
      ],
      "text/plain": [
       "                                                   url  \\\n",
       "18   https://boardgamegeek.com/thread/3248418/if-i-...   \n",
       "24   https://boardgamegeek.com/thread/3222657/ship-...   \n",
       "33   https://boardgamegeek.com/thread/3205199/are-t...   \n",
       "83   https://boardgamegeek.com/thread/3070941/did-w...   \n",
       "126  https://boardgamegeek.com/thread/3012276/do-di...   \n",
       "169    https://boardgamegeek.com/thread/2960501/travel   \n",
       "172    https://boardgamegeek.com/thread/2960501/travel   \n",
       "470  https://boardgamegeek.com/thread/2605775/syner...   \n",
       "498  https://boardgamegeek.com/thread/2598711/can-y...   \n",
       "510  https://boardgamegeek.com/thread/2597321/chall...   \n",
       "530  https://boardgamegeek.com/thread/2574093/ship-...   \n",
       "565  https://boardgamegeek.com/thread/2535700/weake...   \n",
       "583  https://boardgamegeek.com/thread/2379921/rulebook   \n",
       "\n",
       "                                              question  \\\n",
       "18   If I equip a weapon to my crew, can I equip ot...   \n",
       "24   Ship Action: Can I gain command points (CP) th...   \n",
       "33                    Are the rings considered a line?   \n",
       "83                     Did we win or lose this combat?   \n",
       "126  Do discarded ability cards go to the bottom of...   \n",
       "169  Can effects that change the chance to hit be u...   \n",
       "172  Will the Sea Serpent token follow us even if w...   \n",
       "470  Do synergy tokens stay on character cards afte...   \n",
       "498  Can you however cook right before combat. So a...   \n",
       "510  Can you only add skill to your own crew member...   \n",
       "530  Before the ship action I have one command left...   \n",
       "565  I haven't played much yet. How do you remove s...   \n",
       "583  Should specify if we can add cards after the r...   \n",
       "\n",
       "                                                answer  \\\n",
       "18   according to rulebook p.29 - not in combat\"You...   \n",
       "24   The rulebook says \"Ship action effects can be ...   \n",
       "33   Assuming you mean the ring binder of the map b...   \n",
       "83   Page 22 (upper left) of the rule book: \"Enemy ...   \n",
       "126  Rulebook, p. 10 under Ship Action: \"If the abi...   \n",
       "169  Yes: From page 23: “After you draw, you may us...   \n",
       "172  It will follow you wherever you go. Page 12:  ...   \n",
       "470  No.Pg 25 of the main rulebook, \"At the start o...   \n",
       "498  Yes, you can cook right before combat (or righ...   \n",
       "510  You can pay command to equip ability cards to ...   \n",
       "530  On page 10 of the rulebook it states \"Ship act...   \n",
       "565  The rulebook mentions statuses can be removed ...   \n",
       "583  Yes, you can. It's mentioned on p.13 \"Next, dr...   \n",
       "\n",
       "                                          manual quote  \n",
       "18   You can equip this to a crew member (or give i...  \n",
       "24   Ship action effects can be applied in any orde...  \n",
       "33   Regions are separated by dotted lines, land, t...  \n",
       "83   Enemy Health: Each heart must be covered to de...  \n",
       "126  If the ability deck runs out, shuffle the disc...  \n",
       "169  “After you draw, you may use adventure card an...  \n",
       "172  “ Hunting Serpent Special Rule: For this event...  \n",
       "470  At the start of each battle, make sure that ea...  \n",
       "498  Again page 18, \"You can, however, cook recipes...  \n",
       "510  You may spend command at any time, even on oth...  \n",
       "530   Ship action effects can be applied in any order.  \n",
       "565  Remove Status: This can be used to remove stat...  \n",
       "583  Next, draw fate. If you used a crew member, ad...  "
      ]
     },
     "execution_count": 44,
     "metadata": {},
     "output_type": "execute_result"
    }
   ],
   "source": [
    "# show all rows with a manual quote\n",
    "qa_df[non_empty_manual_quote]"
   ]
  },
  {
   "cell_type": "markdown",
   "id": "eea00e279de0224c",
   "metadata": {
    "collapsed": false,
    "jupyter": {
     "outputs_hidden": false
    }
   },
   "source": [
    "## Analyze Questions"
   ]
  },
  {
   "cell_type": "code",
   "execution_count": 11,
   "id": "8615f659c1050172",
   "metadata": {
    "ExecuteTime": {
     "end_time": "2024-05-13T12:27:40.880807664Z",
     "start_time": "2024-05-13T12:27:40.837234832Z"
    },
    "collapsed": false,
    "jupyter": {
     "outputs_hidden": false
    }
   },
   "outputs": [
    {
     "data": {
      "text/html": [
       "<div>\n",
       "<style scoped>\n",
       "    .dataframe tbody tr th:only-of-type {\n",
       "        vertical-align: middle;\n",
       "    }\n",
       "\n",
       "    .dataframe tbody tr th {\n",
       "        vertical-align: top;\n",
       "    }\n",
       "\n",
       "    .dataframe thead th {\n",
       "        text-align: right;\n",
       "    }\n",
       "</style>\n",
       "<table border=\"1\" class=\"dataframe\">\n",
       "  <thead>\n",
       "    <tr style=\"text-align: right;\">\n",
       "      <th></th>\n",
       "      <th>question</th>\n",
       "    </tr>\n",
       "  </thead>\n",
       "  <tbody>\n",
       "    <tr>\n",
       "      <th>0</th>\n",
       "      <td>Can you place 4 damage in a square shaped patt...</td>\n",
       "    </tr>\n",
       "    <tr>\n",
       "      <th>1</th>\n",
       "      <td>Can you do partial damage to an enemy heart sy...</td>\n",
       "    </tr>\n",
       "    <tr>\n",
       "      <th>2</th>\n",
       "      <td>Square is ok because one damage is placed next...</td>\n",
       "    </tr>\n",
       "    <tr>\n",
       "      <th>3</th>\n",
       "      <td>When travelling to new page, does movement sto...</td>\n",
       "    </tr>\n",
       "    <tr>\n",
       "      <th>4</th>\n",
       "      <td>But why does it say that \"Audrie's 2nd crew bo...</td>\n",
       "    </tr>\n",
       "  </tbody>\n",
       "</table>\n",
       "</div>"
      ],
      "text/plain": [
       "                                            question\n",
       "0  Can you place 4 damage in a square shaped patt...\n",
       "1  Can you do partial damage to an enemy heart sy...\n",
       "2  Square is ok because one damage is placed next...\n",
       "3  When travelling to new page, does movement sto...\n",
       "4  But why does it say that \"Audrie's 2nd crew bo..."
      ]
     },
     "execution_count": 11,
     "metadata": {},
     "output_type": "execute_result"
    }
   ],
   "source": [
    "# get only questions into a separate dataframe\n",
    "q_df = qa_df[['question']]\n",
    "q_df.head()"
   ]
  },
  {
   "cell_type": "code",
   "execution_count": 12,
   "id": "249fe2d87fc433de",
   "metadata": {
    "ExecuteTime": {
     "end_time": "2024-05-13T12:29:14.417102662Z",
     "start_time": "2024-05-13T12:29:14.370036645Z"
    },
    "collapsed": false,
    "jupyter": {
     "outputs_hidden": false
    }
   },
   "outputs": [
    {
     "name": "stdout",
     "output_type": "stream",
     "text": [
      "582\n"
     ]
    }
   ],
   "source": [
    "# remove duplicates (shouldn't be many)\n",
    "q_df = q_df.drop_duplicates()\n",
    "print(len(q_df))"
   ]
  },
  {
   "cell_type": "code",
   "execution_count": 13,
   "id": "4b1a7b62295497f9",
   "metadata": {
    "ExecuteTime": {
     "end_time": "2024-05-13T12:31:35.694500175Z",
     "start_time": "2024-05-13T12:31:35.638877787Z"
    },
    "collapsed": false,
    "jupyter": {
     "outputs_hidden": false
    }
   },
   "outputs": [
    {
     "data": {
      "text/html": [
       "<div>\n",
       "<style scoped>\n",
       "    .dataframe tbody tr th:only-of-type {\n",
       "        vertical-align: middle;\n",
       "    }\n",
       "\n",
       "    .dataframe tbody tr th {\n",
       "        vertical-align: top;\n",
       "    }\n",
       "\n",
       "    .dataframe thead th {\n",
       "        text-align: right;\n",
       "    }\n",
       "</style>\n",
       "<table border=\"1\" class=\"dataframe\">\n",
       "  <thead>\n",
       "    <tr style=\"text-align: right;\">\n",
       "      <th></th>\n",
       "      <th>question</th>\n",
       "      <th>word_count</th>\n",
       "    </tr>\n",
       "  </thead>\n",
       "  <tbody>\n",
       "    <tr>\n",
       "      <th>0</th>\n",
       "      <td>Can you place 4 damage in a square shaped patt...</td>\n",
       "      <td>21</td>\n",
       "    </tr>\n",
       "    <tr>\n",
       "      <th>1</th>\n",
       "      <td>Can you do partial damage to an enemy heart sy...</td>\n",
       "      <td>20</td>\n",
       "    </tr>\n",
       "    <tr>\n",
       "      <th>2</th>\n",
       "      <td>Square is ok because one damage is placed next...</td>\n",
       "      <td>41</td>\n",
       "    </tr>\n",
       "    <tr>\n",
       "      <th>3</th>\n",
       "      <td>When travelling to new page, does movement sto...</td>\n",
       "      <td>25</td>\n",
       "    </tr>\n",
       "    <tr>\n",
       "      <th>4</th>\n",
       "      <td>But why does it say that \"Audrie's 2nd crew bo...</td>\n",
       "      <td>14</td>\n",
       "    </tr>\n",
       "  </tbody>\n",
       "</table>\n",
       "</div>"
      ],
      "text/plain": [
       "                                            question  word_count\n",
       "0  Can you place 4 damage in a square shaped patt...          21\n",
       "1  Can you do partial damage to an enemy heart sy...          20\n",
       "2  Square is ok because one damage is placed next...          41\n",
       "3  When travelling to new page, does movement sto...          25\n",
       "4  But why does it say that \"Audrie's 2nd crew bo...          14"
      ]
     },
     "execution_count": 13,
     "metadata": {},
     "output_type": "execute_result"
    }
   ],
   "source": [
    "# count the number of words in the question\n",
    "q_df['word_count'] = q_df['question'].apply(lambda q: len(str(q).split()))\n",
    "q_df.head()"
   ]
  },
  {
   "cell_type": "code",
   "execution_count": 14,
   "id": "937f8042b849cc8a",
   "metadata": {
    "ExecuteTime": {
     "end_time": "2024-05-13T12:35:35.416346525Z",
     "start_time": "2024-05-13T12:35:35.271197092Z"
    },
    "collapsed": false,
    "jupyter": {
     "outputs_hidden": false
    }
   },
   "outputs": [
    {
     "data": {
      "image/png": "[encoded data removed]",
      "text/plain": [
       "<Figure size 640x480 with 1 Axes>"
      ]
     },
     "metadata": {},
     "output_type": "display_data"
    }
   ],
   "source": [
    "# plot the word counts\n",
    "q_df['word_count'].plot(kind='hist', bins=40, edgecolor='black')\n",
    "# Adding labels and title\n",
    "plt.xlabel('Word Count')\n",
    "plt.ylabel('Frequency')\n",
    "plt.title('Histogram of Word Count')\n",
    "# Show the plot\n",
    "plt.show()"
   ]
  },
  {
   "cell_type": "code",
   "execution_count": 15,
   "id": "23b9652c83ab0fa9",
   "metadata": {
    "ExecuteTime": {
     "end_time": "2024-05-13T12:37:06.984120048Z",
     "start_time": "2024-05-13T12:37:06.939539274Z"
    },
    "collapsed": false,
    "jupyter": {
     "outputs_hidden": false
    }
   },
   "outputs": [
    {
     "name": "stdout",
     "output_type": "stream",
     "text": [
      "23\n"
     ]
    },
    {
     "data": {
      "text/html": [
       "<div>\n",
       "<style scoped>\n",
       "    .dataframe tbody tr th:only-of-type {\n",
       "        vertical-align: middle;\n",
       "    }\n",
       "\n",
       "    .dataframe tbody tr th {\n",
       "        vertical-align: top;\n",
       "    }\n",
       "\n",
       "    .dataframe thead th {\n",
       "        text-align: right;\n",
       "    }\n",
       "</style>\n",
       "<table border=\"1\" class=\"dataframe\">\n",
       "  <thead>\n",
       "    <tr style=\"text-align: right;\">\n",
       "      <th></th>\n",
       "      <th>question</th>\n",
       "      <th>word_count</th>\n",
       "    </tr>\n",
       "  </thead>\n",
       "  <tbody>\n",
       "    <tr>\n",
       "      <th>5</th>\n",
       "      <td>When does the fight start?</td>\n",
       "      <td>5</td>\n",
       "    </tr>\n",
       "    <tr>\n",
       "      <th>32</th>\n",
       "      <td>Where does the captain go?</td>\n",
       "      <td>5</td>\n",
       "    </tr>\n",
       "    <tr>\n",
       "      <th>49</th>\n",
       "      <td>Final scoring, which cards?</td>\n",
       "      <td>4</td>\n",
       "    </tr>\n",
       "    <tr>\n",
       "      <th>66</th>\n",
       "      <td>Frightened to 0-health character?</td>\n",
       "      <td>4</td>\n",
       "    </tr>\n",
       "    <tr>\n",
       "      <th>88</th>\n",
       "      <td>Artifacts - what for.</td>\n",
       "      <td>4</td>\n",
       "    </tr>\n",
       "    <tr>\n",
       "      <th>151</th>\n",
       "      <td>Do characters die in battle?</td>\n",
       "      <td>5</td>\n",
       "    </tr>\n",
       "    <tr>\n",
       "      <th>152</th>\n",
       "      <td>Can I play solo?</td>\n",
       "      <td>4</td>\n",
       "    </tr>\n",
       "    <tr>\n",
       "      <th>164</th>\n",
       "      <td>Is there an official ruling/FAQ?</td>\n",
       "      <td>5</td>\n",
       "    </tr>\n",
       "    <tr>\n",
       "      <th>179</th>\n",
       "      <td>Fate Symbols on Ship board?</td>\n",
       "      <td>5</td>\n",
       "    </tr>\n",
       "    <tr>\n",
       "      <th>222</th>\n",
       "      <td>What are the coin values?</td>\n",
       "      <td>5</td>\n",
       "    </tr>\n",
       "    <tr>\n",
       "      <th>234</th>\n",
       "      <td>When can you move equipment?</td>\n",
       "      <td>5</td>\n",
       "    </tr>\n",
       "    <tr>\n",
       "      <th>257</th>\n",
       "      <td>What would have happened then?</td>\n",
       "      <td>5</td>\n",
       "    </tr>\n",
       "    <tr>\n",
       "      <th>267</th>\n",
       "      <td>Does everyone have the keyword?</td>\n",
       "      <td>5</td>\n",
       "    </tr>\n",
       "    <tr>\n",
       "      <th>295</th>\n",
       "      <td>Combat token placement?</td>\n",
       "      <td>3</td>\n",
       "    </tr>\n",
       "    <tr>\n",
       "      <th>432</th>\n",
       "      <td>Are status tokens limited?</td>\n",
       "      <td>4</td>\n",
       "    </tr>\n",
       "    <tr>\n",
       "      <th>436</th>\n",
       "      <td>Playable with 5 players?</td>\n",
       "      <td>4</td>\n",
       "    </tr>\n",
       "    <tr>\n",
       "      <th>449</th>\n",
       "      <td></td>\n",
       "      <td>0</td>\n",
       "    </tr>\n",
       "    <tr>\n",
       "      <th>479</th>\n",
       "      <td>Is command limited?</td>\n",
       "      <td>3</td>\n",
       "    </tr>\n",
       "    <tr>\n",
       "      <th>494</th>\n",
       "      <td>What rooms for ship damage?</td>\n",
       "      <td>5</td>\n",
       "    </tr>\n",
       "    <tr>\n",
       "      <th>496</th>\n",
       "      <td>How is ship damage determined?</td>\n",
       "      <td>5</td>\n",
       "    </tr>\n",
       "    <tr>\n",
       "      <th>501</th>\n",
       "      <td>Does Venom Damage Redistribute</td>\n",
       "      <td>4</td>\n",
       "    </tr>\n",
       "    <tr>\n",
       "      <th>516</th>\n",
       "      <td>Combat: What does level mean?</td>\n",
       "      <td>5</td>\n",
       "    </tr>\n",
       "    <tr>\n",
       "      <th>518</th>\n",
       "      <td>Can you flee combat?</td>\n",
       "      <td>4</td>\n",
       "    </tr>\n",
       "  </tbody>\n",
       "</table>\n",
       "</div>"
      ],
      "text/plain": [
       "                              question  word_count\n",
       "5           When does the fight start?           5\n",
       "32          Where does the captain go?           5\n",
       "49         Final scoring, which cards?           4\n",
       "66   Frightened to 0-health character?           4\n",
       "88               Artifacts - what for.           4\n",
       "151       Do characters die in battle?           5\n",
       "152                   Can I play solo?           4\n",
       "164   Is there an official ruling/FAQ?           5\n",
       "179        Fate Symbols on Ship board?           5\n",
       "222          What are the coin values?           5\n",
       "234       When can you move equipment?           5\n",
       "257     What would have happened then?           5\n",
       "267    Does everyone have the keyword?           5\n",
       "295            Combat token placement?           3\n",
       "432         Are status tokens limited?           4\n",
       "436           Playable with 5 players?           4\n",
       "449                                              0\n",
       "479                Is command limited?           3\n",
       "494        What rooms for ship damage?           5\n",
       "496     How is ship damage determined?           5\n",
       "501     Does Venom Damage Redistribute           4\n",
       "516      Combat: What does level mean?           5\n",
       "518               Can you flee combat?           4"
      ]
     },
     "execution_count": 15,
     "metadata": {},
     "output_type": "execute_result"
    }
   ],
   "source": [
    "# review short questions\n",
    "short_df = q_df[q_df['word_count'] <= 5]\n",
    "print(len(short_df))\n",
    "short_df"
   ]
  },
  {
   "cell_type": "code",
   "execution_count": 16,
   "id": "ca49533d780ac181",
   "metadata": {
    "ExecuteTime": {
     "end_time": "2024-05-13T12:38:12.921232154Z",
     "start_time": "2024-05-13T12:38:12.873276538Z"
    },
    "collapsed": false,
    "jupyter": {
     "outputs_hidden": false
    }
   },
   "outputs": [
    {
     "name": "stdout",
     "output_type": "stream",
     "text": [
      "1\n"
     ]
    },
    {
     "data": {
      "text/html": [
       "<div>\n",
       "<style scoped>\n",
       "    .dataframe tbody tr th:only-of-type {\n",
       "        vertical-align: middle;\n",
       "    }\n",
       "\n",
       "    .dataframe tbody tr th {\n",
       "        vertical-align: top;\n",
       "    }\n",
       "\n",
       "    .dataframe thead th {\n",
       "        text-align: right;\n",
       "    }\n",
       "</style>\n",
       "<table border=\"1\" class=\"dataframe\">\n",
       "  <thead>\n",
       "    <tr style=\"text-align: right;\">\n",
       "      <th></th>\n",
       "      <th>question</th>\n",
       "      <th>word_count</th>\n",
       "    </tr>\n",
       "  </thead>\n",
       "  <tbody>\n",
       "    <tr>\n",
       "      <th>449</th>\n",
       "      <td></td>\n",
       "      <td>0</td>\n",
       "    </tr>\n",
       "  </tbody>\n",
       "</table>\n",
       "</div>"
      ],
      "text/plain": [
       "    question  word_count\n",
       "449                    0"
      ]
     },
     "execution_count": 16,
     "metadata": {},
     "output_type": "execute_result"
    }
   ],
   "source": [
    "short_df = q_df[q_df['word_count'] < 3]\n",
    "print(len(short_df))\n",
    "short_df"
   ]
  },
  {
   "cell_type": "code",
   "execution_count": 17,
   "id": "f68b0f1c70ccaaaf",
   "metadata": {
    "ExecuteTime": {
     "end_time": "2024-05-13T12:38:52.924921366Z",
     "start_time": "2024-05-13T12:38:52.880722282Z"
    },
    "collapsed": false,
    "jupyter": {
     "outputs_hidden": false
    }
   },
   "outputs": [
    {
     "name": "stdout",
     "output_type": "stream",
     "text": [
      "5\n"
     ]
    },
    {
     "data": {
      "text/html": [
       "<div>\n",
       "<style scoped>\n",
       "    .dataframe tbody tr th:only-of-type {\n",
       "        vertical-align: middle;\n",
       "    }\n",
       "\n",
       "    .dataframe tbody tr th {\n",
       "        vertical-align: top;\n",
       "    }\n",
       "\n",
       "    .dataframe thead th {\n",
       "        text-align: right;\n",
       "    }\n",
       "</style>\n",
       "<table border=\"1\" class=\"dataframe\">\n",
       "  <thead>\n",
       "    <tr style=\"text-align: right;\">\n",
       "      <th></th>\n",
       "      <th>question</th>\n",
       "      <th>word_count</th>\n",
       "    </tr>\n",
       "  </thead>\n",
       "  <tbody>\n",
       "    <tr>\n",
       "      <th>155</th>\n",
       "      <td>It seems there are some numbered locations tha...</td>\n",
       "      <td>133</td>\n",
       "    </tr>\n",
       "    <tr>\n",
       "      <th>220</th>\n",
       "      <td>In the pictured example Player 2 has the above...</td>\n",
       "      <td>117</td>\n",
       "    </tr>\n",
       "    <tr>\n",
       "      <th>265</th>\n",
       "      <td>Thank you, I don't think I explained my questi...</td>\n",
       "      <td>121</td>\n",
       "    </tr>\n",
       "    <tr>\n",
       "      <th>306</th>\n",
       "      <td>Let’s say I got an ability card with perceptio...</td>\n",
       "      <td>107</td>\n",
       "    </tr>\n",
       "    <tr>\n",
       "      <th>473</th>\n",
       "      <td>Which of these statements is correct:A) Since ...</td>\n",
       "      <td>100</td>\n",
       "    </tr>\n",
       "  </tbody>\n",
       "</table>\n",
       "</div>"
      ],
      "text/plain": [
       "                                              question  word_count\n",
       "155  It seems there are some numbered locations tha...         133\n",
       "220  In the pictured example Player 2 has the above...         117\n",
       "265  Thank you, I don't think I explained my questi...         121\n",
       "306  Let’s say I got an ability card with perceptio...         107\n",
       "473  Which of these statements is correct:A) Since ...         100"
      ]
     },
     "execution_count": 17,
     "metadata": {},
     "output_type": "execute_result"
    }
   ],
   "source": [
    "# review long questions\n",
    "long_df = q_df[q_df['word_count'] >= 100]\n",
    "print(len(long_df))\n",
    "long_df"
   ]
  },
  {
   "cell_type": "code",
   "execution_count": 18,
   "id": "f735d88f34790433",
   "metadata": {
    "ExecuteTime": {
     "end_time": "2024-05-13T12:42:50.894567456Z",
     "start_time": "2024-05-13T12:42:50.879151692Z"
    },
    "collapsed": false,
    "jupyter": {
     "outputs_hidden": false
    }
   },
   "outputs": [
    {
     "name": "stdout",
     "output_type": "stream",
     "text": [
      "133\n",
      "It seems there are some numbered locations that you can visit again and again. I'm wondering if I'm missing something or if there is something missing with the translation of the game (I have the french edition) because sometimes it doesn't make sense. For instance: on location 6 (p14 of the map book): You find a recently abandonned camp you can either loot or wait for the camper to come back. First time I went there, I waited, the group came back and they were mad at me and I run away with a coin. If I go there a second time, nothing tells me that something has changed. I can just do the same thing again or choose the other option, and the same groupe come back again? That's a bit weird\n",
      "\n",
      "117\n",
      "In the pictured example Player 2 has the above Marco and he has a Cunning ability card equipped. If player 1 is captain and a Cunning skill challenge is encountered, Player 2 wishes to participate as well with Marco. We understand you expend one command token to participate in a challenge if you not the captain AND every participating character will get a fatigue token. The question I want to know is do we spend an extra command token to utilize the 2nd Cunning equipped to Marco so he can contribute 2 Cunning to the challenge or because the equipped ability card has already been equipped, no additional command tokens need to be used? Thanks in Advance.\n",
      "\n",
      "121\n",
      "Thank you, I don't think I explained my question very well though - on the left hand side it has a column that says 'achievements' then on the right there's a column that says 'totems' - if a card is in the achievement column is it a totem as well? Why is it not in the totem column? And additional question do you get all the cards in the achievement column for the new campaign or just the unlocks that you got from the totems and endings? And if it's not a totem and you don't start with the cards why is the column there and they're just not another adventure card? I don't understand what the achievement column is basically.\n",
      "\n",
      "107\n",
      "Let’s say I got an ability card with perception skill which gives you +2 accuracy (or +2 defense) when you discard it.If I’m playing with captain and I discard this equipped card to get +2 accuracy in combat, then can I get 1 plus damage as well? On the rule book it says ‘you may discard 1 equipped when you attack with this weapon’ but I’m not sure if it means I should discard the card when I’m dealing the damage or I can discard it anytime in a combat round. Also Am i allowed to discard equipped card more than 1 (2cards) at the same time?\n",
      "\n",
      "100\n",
      "Which of these statements is correct:A) Since all the damage must go to one crew member, I could choose Audrie, apply 1 damage token and ignore the rest. (I know this isn't correct but it is a logical possibility from the wording above).B) I assign one damage to Audrie and give 6 damage to Rafael.C) I am forced to choose Rafael because only he has the capacity to absorb 7 damage tokens (since all damage must be assigned to a single crew member).I think that (B) is the correct answer but I want to make sure my interpretation is correct.\n",
      "\n"
     ]
    }
   ],
   "source": [
    "for q, count in zip(long_df['question'], long_df['word_count']):\n",
    "    print(count)\n",
    "    print(q)\n",
    "    print()"
   ]
  },
  {
   "cell_type": "code",
   "execution_count": 19,
   "id": "6e912ca1656167ad",
   "metadata": {
    "ExecuteTime": {
     "end_time": "2024-05-13T12:44:28.892608295Z",
     "start_time": "2024-05-13T12:44:28.849186401Z"
    },
    "collapsed": false,
    "jupyter": {
     "outputs_hidden": false
    }
   },
   "outputs": [
    {
     "data": {
      "text/plain": [
       "581"
      ]
     },
     "execution_count": 19,
     "metadata": {},
     "output_type": "execute_result"
    }
   ],
   "source": [
    "# remove short questions\n",
    "q_df = q_df[q_df['word_count'] >= 3]\n",
    "len(q_df)"
   ]
  },
  {
   "cell_type": "markdown",
   "id": "80493ee5976aab53",
   "metadata": {
    "collapsed": false,
    "jupyter": {
     "outputs_hidden": false
    }
   },
   "source": [
    "## Embeddings"
   ]
  },
  {
   "cell_type": "code",
   "execution_count": 20,
   "id": "ffdffa93-8c5e-4ceb-b98b-69cb4294a8f7",
   "metadata": {},
   "outputs": [],
   "source": [
    "embed_filename = in_filename[:-4]+'-embed.tsv'"
   ]
  },
  {
   "cell_type": "code",
   "execution_count": 48,
   "id": "943fd53e62cc86c5",
   "metadata": {
    "ExecuteTime": {
     "end_time": "2024-05-13T13:05:48.771098591Z",
     "start_time": "2024-05-13T13:03:56.789401673Z"
    },
    "collapsed": false,
    "jupyter": {
     "outputs_hidden": false
    }
   },
   "outputs": [],
   "source": [
    "# get embeddings by calling openai\n",
    "client = OpenAI()\n",
    "\n",
    "def get_embedding(text, model='text-embedding-3-large'):\n",
    "    text = text.replace('\\n', ' ')\n",
    "    return client.embeddings.create(input=[text], model=model).data[0].embedding\n",
    "\n",
    "q_df['embeddings'] = q_df['question'].apply(lambda q: get_embedding(str(q)))"
   ]
  },
  {
   "cell_type": "code",
   "execution_count": 49,
   "id": "c458d974fc585a5",
   "metadata": {
    "ExecuteTime": {
     "end_time": "2024-05-13T13:06:21.490716704Z",
     "start_time": "2024-05-13T13:06:20.082060605Z"
    },
    "collapsed": false,
    "jupyter": {
     "outputs_hidden": false
    }
   },
   "outputs": [],
   "source": [
    "# save them \n",
    "q_df.to_csv(embed_filename, index=False, sep='\\t')"
   ]
  },
  {
   "cell_type": "code",
   "execution_count": 46,
   "id": "53f0f348e5a59576",
   "metadata": {
    "ExecuteTime": {
     "end_time": "2024-05-13T13:44:35.870357811Z",
     "start_time": "2024-05-13T13:44:31.990659679Z"
    },
    "collapsed": false,
    "jupyter": {
     "outputs_hidden": false
    }
   },
   "outputs": [
    {
     "data": {
      "text/html": [
       "<div>\n",
       "<style scoped>\n",
       "    .dataframe tbody tr th:only-of-type {\n",
       "        vertical-align: middle;\n",
       "    }\n",
       "\n",
       "    .dataframe tbody tr th {\n",
       "        vertical-align: top;\n",
       "    }\n",
       "\n",
       "    .dataframe thead th {\n",
       "        text-align: right;\n",
       "    }\n",
       "</style>\n",
       "<table border=\"1\" class=\"dataframe\">\n",
       "  <thead>\n",
       "    <tr style=\"text-align: right;\">\n",
       "      <th></th>\n",
       "      <th>question</th>\n",
       "      <th>word_count</th>\n",
       "      <th>embeddings</th>\n",
       "    </tr>\n",
       "  </thead>\n",
       "  <tbody>\n",
       "    <tr>\n",
       "      <th>0</th>\n",
       "      <td>Can you place 4 damage in a square shaped patt...</td>\n",
       "      <td>21</td>\n",
       "      <td>[-0.01589909940958023, -0.006159243639558554, ...</td>\n",
       "    </tr>\n",
       "    <tr>\n",
       "      <th>1</th>\n",
       "      <td>Can you do partial damage to an enemy heart sy...</td>\n",
       "      <td>20</td>\n",
       "      <td>[0.004627369809895754, -0.005235826596617699, ...</td>\n",
       "    </tr>\n",
       "    <tr>\n",
       "      <th>2</th>\n",
       "      <td>Square is ok because one damage is placed next...</td>\n",
       "      <td>41</td>\n",
       "      <td>[-0.019245339557528496, -0.006209223065525293,...</td>\n",
       "    </tr>\n",
       "    <tr>\n",
       "      <th>3</th>\n",
       "      <td>When travelling to new page, does movement sto...</td>\n",
       "      <td>25</td>\n",
       "      <td>[-0.021373728290200233, -0.022455552592873573,...</td>\n",
       "    </tr>\n",
       "    <tr>\n",
       "      <th>4</th>\n",
       "      <td>But why does it say that \"Audrie's 2nd crew bo...</td>\n",
       "      <td>14</td>\n",
       "      <td>[-0.005988049320876598, -0.002402470912784338,...</td>\n",
       "    </tr>\n",
       "  </tbody>\n",
       "</table>\n",
       "</div>"
      ],
      "text/plain": [
       "                                            question  word_count  \\\n",
       "0  Can you place 4 damage in a square shaped patt...          21   \n",
       "1  Can you do partial damage to an enemy heart sy...          20   \n",
       "2  Square is ok because one damage is placed next...          41   \n",
       "3  When travelling to new page, does movement sto...          25   \n",
       "4  But why does it say that \"Audrie's 2nd crew bo...          14   \n",
       "\n",
       "                                          embeddings  \n",
       "0  [-0.01589909940958023, -0.006159243639558554, ...  \n",
       "1  [0.004627369809895754, -0.005235826596617699, ...  \n",
       "2  [-0.019245339557528496, -0.006209223065525293,...  \n",
       "3  [-0.021373728290200233, -0.022455552592873573,...  \n",
       "4  [-0.005988049320876598, -0.002402470912784338,...  "
      ]
     },
     "execution_count": 46,
     "metadata": {},
     "output_type": "execute_result"
    }
   ],
   "source": [
    "# read them back in, and use eval to convert embeddings into a numpy array\n",
    "# do this to make sure we saved the embeddings correctly\n",
    "q_df = pd.read_csv(embed_filename, sep='\\t')\n",
    "q_df['embeddings'] = q_df.embeddings.apply(eval)\n",
    "q_df.head()"
   ]
  },
  {
   "cell_type": "markdown",
   "id": "dc4d19b00607b942",
   "metadata": {
    "collapsed": false,
    "jupyter": {
     "outputs_hidden": false
    }
   },
   "source": [
    "## Remove near-duplicates\n",
    "\n",
    "Do this by clustering the embeddings using hierarchal agglomerative clustering and visualize the results to determine a cut-off "
   ]
  },
  {
   "cell_type": "code",
   "execution_count": 47,
   "id": "f4d119e7-5255-4401-813d-8b492b816862",
   "metadata": {},
   "outputs": [
    {
     "name": "stdout",
     "output_type": "stream",
     "text": [
      "(581, 3072)\n"
     ]
    }
   ],
   "source": [
    "# convert question embeddings to a single numpy array\n",
    "X = np.array(q_df['embeddings'].tolist())\n",
    "print(X.shape)"
   ]
  },
  {
   "cell_type": "code",
   "execution_count": 48,
   "id": "4f50da76d1fbfd47",
   "metadata": {
    "ExecuteTime": {
     "end_time": "2024-05-13T13:49:33.198023433Z",
     "start_time": "2024-05-13T13:49:33.136330372Z"
    },
    "collapsed": false,
    "jupyter": {
     "outputs_hidden": false
    }
   },
   "outputs": [],
   "source": [
    "# remove questions that are more-similar than this distance threshold\n",
    "near_dup_threshold = 0.65"
   ]
  },
  {
   "cell_type": "code",
   "execution_count": 24,
   "id": "e84bb828d9518b6c",
   "metadata": {
    "ExecuteTime": {
     "end_time": "2024-05-13T13:48:28.742361756Z",
     "start_time": "2024-05-13T13:48:28.531829768Z"
    },
    "collapsed": false,
    "jupyter": {
     "outputs_hidden": false
    }
   },
   "outputs": [],
   "source": [
    "# compute the full tree by setting distance_threshold=0\n",
    "model = AgglomerativeClustering(distance_threshold=0, n_clusters=None)\n",
    "model = model.fit(X)"
   ]
  },
  {
   "cell_type": "code",
   "execution_count": 25,
   "id": "4b3b6a547a4bce7",
   "metadata": {
    "ExecuteTime": {
     "end_time": "2024-05-13T13:54:15.677070364Z",
     "start_time": "2024-05-13T13:54:15.624145774Z"
    },
    "collapsed": false,
    "jupyter": {
     "outputs_hidden": false
    }
   },
   "outputs": [],
   "source": [
    "# define plot_dendogram function \n",
    "# copied from https://scikit-learn.org/stable/auto_examples/cluster/plot_agglomerative_dendrogram.html\n",
    "# and modified slightly\n",
    "\n",
    "def plot_dendrogram(model, **kwargs):\n",
    "    # Create linkage matrix and then plot the dendrogram\n",
    "    \n",
    "    # create the counts of samples under each node\n",
    "    counts = np.zeros(model.children_.shape[0])\n",
    "    n_samples = len(model.labels_)\n",
    "    for i, merge in enumerate(model.children_):\n",
    "        current_count = 0\n",
    "        for child_idx in merge:\n",
    "            if child_idx < n_samples:\n",
    "                current_count += 1  # leaf node\n",
    "            else:\n",
    "                current_count += counts[child_idx - n_samples]\n",
    "            counts[i] = current_count\n",
    "            \n",
    "    linkage_matrix = np.column_stack(\n",
    "        [model.children_, model.distances_, counts]\n",
    "    ).astype(float)\n",
    "    \n",
    "    # Plot the corresponding dendrogram)\n",
    "    dendrogram(linkage_matrix, **kwargs)"
   ]
  },
  {
   "cell_type": "code",
   "execution_count": null,
   "id": "9514acb883f8439b",
   "metadata": {
    "ExecuteTime": {
     "end_time": "2024-05-13T13:54:58.807327408Z",
     "start_time": "2024-05-13T13:54:49.571923617Z"
    },
    "scrolled": true
   },
   "outputs": [],
   "source": [
    "# plot the clusters - image not shown in notebook because github can't display it\n",
    "plt.figure(figsize=(10,100))\n",
    "plt.title('Similar Questions')\n",
    "plot_dendrogram(\n",
    "    model, \n",
    "    truncate_mode=None, \n",
    "    color_threshold=near_dup_threshold, \n",
    "    orientation='left', \n",
    "    labels=q_df['question'].tolist()\n",
    ")\n",
    "plt.yticks(fontsize=12)\n",
    "plt.show()"
   ]
  },
  {
   "cell_type": "code",
   "execution_count": 49,
   "id": "efa20d8f808e95f0",
   "metadata": {
    "collapsed": false,
    "jupyter": {
     "outputs_hidden": false
    }
   },
   "outputs": [
    {
     "name": "stdout",
     "output_type": "stream",
     "text": [
      "562\n"
     ]
    }
   ],
   "source": [
    "# cluster the sentences\n",
    "model = AgglomerativeClustering(distance_threshold=near_dup_threshold, n_clusters=None)\n",
    "# generate the clusters\n",
    "q_df['cluster'] = model.fit_predict(X)\n",
    "# print the number of clusters\n",
    "print(model.n_clusters_)"
   ]
  },
  {
   "cell_type": "code",
   "execution_count": 50,
   "id": "553f174b-b8cd-40a6-a4bd-65aadbafeaba",
   "metadata": {},
   "outputs": [
    {
     "data": {
      "text/html": [
       "<div>\n",
       "<style scoped>\n",
       "    .dataframe tbody tr th:only-of-type {\n",
       "        vertical-align: middle;\n",
       "    }\n",
       "\n",
       "    .dataframe tbody tr th {\n",
       "        vertical-align: top;\n",
       "    }\n",
       "\n",
       "    .dataframe thead th {\n",
       "        text-align: right;\n",
       "    }\n",
       "</style>\n",
       "<table border=\"1\" class=\"dataframe\">\n",
       "  <thead>\n",
       "    <tr style=\"text-align: right;\">\n",
       "      <th></th>\n",
       "      <th>question</th>\n",
       "      <th>word_count</th>\n",
       "      <th>embeddings</th>\n",
       "      <th>cluster</th>\n",
       "    </tr>\n",
       "  </thead>\n",
       "  <tbody>\n",
       "    <tr>\n",
       "      <th>0</th>\n",
       "      <td>Can you place 4 damage in a square shaped patt...</td>\n",
       "      <td>21</td>\n",
       "      <td>[-0.01589909940958023, -0.006159243639558554, ...</td>\n",
       "      <td>10</td>\n",
       "    </tr>\n",
       "    <tr>\n",
       "      <th>1</th>\n",
       "      <td>Can you do partial damage to an enemy heart sy...</td>\n",
       "      <td>20</td>\n",
       "      <td>[0.004627369809895754, -0.005235826596617699, ...</td>\n",
       "      <td>439</td>\n",
       "    </tr>\n",
       "    <tr>\n",
       "      <th>2</th>\n",
       "      <td>Square is ok because one damage is placed next...</td>\n",
       "      <td>41</td>\n",
       "      <td>[-0.019245339557528496, -0.006209223065525293,...</td>\n",
       "      <td>10</td>\n",
       "    </tr>\n",
       "    <tr>\n",
       "      <th>3</th>\n",
       "      <td>When travelling to new page, does movement sto...</td>\n",
       "      <td>25</td>\n",
       "      <td>[-0.021373728290200233, -0.022455552592873573,...</td>\n",
       "      <td>449</td>\n",
       "    </tr>\n",
       "    <tr>\n",
       "      <th>4</th>\n",
       "      <td>But why does it say that \"Audrie's 2nd crew bo...</td>\n",
       "      <td>14</td>\n",
       "      <td>[-0.005988049320876598, -0.002402470912784338,...</td>\n",
       "      <td>507</td>\n",
       "    </tr>\n",
       "    <tr>\n",
       "      <th>5</th>\n",
       "      <td>When does the fight start?</td>\n",
       "      <td>5</td>\n",
       "      <td>[-0.0003593567234929651, -0.03567568585276604,...</td>\n",
       "      <td>325</td>\n",
       "    </tr>\n",
       "    <tr>\n",
       "      <th>6</th>\n",
       "      <td>Can you discard cards during any challenge to ...</td>\n",
       "      <td>11</td>\n",
       "      <td>[-0.016855496913194656, -0.027753189206123352,...</td>\n",
       "      <td>557</td>\n",
       "    </tr>\n",
       "    <tr>\n",
       "      <th>7</th>\n",
       "      <td>So assuming I have $5, I can purchase all 15 f...</td>\n",
       "      <td>29</td>\n",
       "      <td>[-0.014904678799211979, 0.016938546672463417, ...</td>\n",
       "      <td>471</td>\n",
       "    </tr>\n",
       "    <tr>\n",
       "      <th>8</th>\n",
       "      <td>When doing a challenge, can I not use a crew m...</td>\n",
       "      <td>11</td>\n",
       "      <td>[-0.03352489694952965, -0.028948942199349403, ...</td>\n",
       "      <td>12</td>\n",
       "    </tr>\n",
       "    <tr>\n",
       "      <th>9</th>\n",
       "      <td>Can anyone share the damage incurred in case ...</td>\n",
       "      <td>10</td>\n",
       "      <td>[-0.03843124955892563, 0.031494200229644775, -...</td>\n",
       "      <td>331</td>\n",
       "    </tr>\n",
       "  </tbody>\n",
       "</table>\n",
       "</div>"
      ],
      "text/plain": [
       "                                            question  word_count  \\\n",
       "0  Can you place 4 damage in a square shaped patt...          21   \n",
       "1  Can you do partial damage to an enemy heart sy...          20   \n",
       "2  Square is ok because one damage is placed next...          41   \n",
       "3  When travelling to new page, does movement sto...          25   \n",
       "4  But why does it say that \"Audrie's 2nd crew bo...          14   \n",
       "5                         When does the fight start?           5   \n",
       "6  Can you discard cards during any challenge to ...          11   \n",
       "7  So assuming I have $5, I can purchase all 15 f...          29   \n",
       "8  When doing a challenge, can I not use a crew m...          11   \n",
       "9   Can anyone share the damage incurred in case ...          10   \n",
       "\n",
       "                                          embeddings  cluster  \n",
       "0  [-0.01589909940958023, -0.006159243639558554, ...       10  \n",
       "1  [0.004627369809895754, -0.005235826596617699, ...      439  \n",
       "2  [-0.019245339557528496, -0.006209223065525293,...       10  \n",
       "3  [-0.021373728290200233, -0.022455552592873573,...      449  \n",
       "4  [-0.005988049320876598, -0.002402470912784338,...      507  \n",
       "5  [-0.0003593567234929651, -0.03567568585276604,...      325  \n",
       "6  [-0.016855496913194656, -0.027753189206123352,...      557  \n",
       "7  [-0.014904678799211979, 0.016938546672463417, ...      471  \n",
       "8  [-0.03352489694952965, -0.028948942199349403, ...       12  \n",
       "9  [-0.03843124955892563, 0.031494200229644775, -...      331  "
      ]
     },
     "execution_count": 50,
     "metadata": {},
     "output_type": "execute_result"
    }
   ],
   "source": [
    "q_df.head(10)"
   ]
  },
  {
   "cell_type": "code",
   "execution_count": 27,
   "id": "3744b17b-c9f6-44a2-88f8-669b4062f595",
   "metadata": {},
   "outputs": [
    {
     "name": "stdout",
     "output_type": "stream",
     "text": [
      "Can you place 4 damage in a square shaped pattern? Or would one of these placements be diagonally and not allowed?\n",
      "Square is ok because one damage is placed next to previous and not diagonally, but now I wonder if 4 damage could be placed as a T shape? After all every damage is next to another but definitely not from previous...\n",
      "---\n",
      "When doing a challenge, can I not use a crew member?\n",
      "Can you do the challenge without choosing any crew member to participate in it?\n",
      "---\n",
      "After the ability card is drawn to determine fate for a CHALLENGE can any crew member, including those that have not participated in the challenge originally, spend a command token on an equipped ability card to boost the fate number by 1 if the symbol matches the challenge type?\n",
      "If no participating crew have an ability card with cunning can a non participating crew member spend 1 command on an equipped ability card to boost the fate draw by 1?\n",
      "---\n",
      "Can you activate abilities on other player's Crew or Crew Ability Cards?\n",
      "Activating another player’s crew ability with my command?\n",
      "---\n",
      "Can the non-active player use abilities (both on crew board and equipped ability cards) when it's not their turn (separate from using crew skill icons for a challenge by spending a command point). If so, is there any restrictions on this? During combat? During a challenge?\n",
      "During the active player's turn, could the non-active player use command-activated effects of ability cards equipped by his crew members?\n",
      "---\n",
      "Is there a limit to how many Level cards I can equip with the same character?\n",
      "Can a character have more than one level card equipped?\n",
      "---\n",
      "Can a crew member have the same ability card equipped twice?\n",
      "Can I equip a single crew member with two identical ability cards? For example, can one crew member have two Bandages cards?\n",
      "---\n",
      "What happens when a single crew member has no health left?\n",
      "If a crew member loses all health, does he or she die?\n",
      "---\n",
      "Final Score:\"Gain 2 points per adventure card\" What happenend with the Market Cards? Scoring 2 points or zero points?\n",
      "In calculating the \"Final Score\" is says: Gain 2 points per adventure card. We did not count our plethora of Market Cards in our final score, as they were not labeled as \"Adventure Cards.\" Should they count?\n",
      "---\n",
      "One thing I do not understand is that it specifically tells you to discard 6 cards from the event deck AFTER you build the new deck, which means pretty much \"discard all mild event cards\". Why don't the rules just say to discard the mild event cards when creating a new deck of 18 cards? Am I missing something here?\n",
      "When we finish the event deck and read the proper paragraph in the story book, it says to create a new event deck. Elsewhere in the rules, it says to discard 6 event cards. I'm confused about this. Since there are normally six mild event cards on top, if I have to discard six, why would I even bother shuffling the mild event cards?  Why doesn't the storybook say anything about discarding six cards?  On the 3rd time through, do I discard 12 cards?  What exactly is the proper procedure for re-preparing the event deck?\n",
      "---\n",
      "During a challenge, is it only crew members who are assigned to the task (and got fatigued) who can use their starting abilities (or equipped ones) to help swing the outcome after the fate draw, or can any crew member use their abilities effects to help so long as they pay the command cost?\n",
      " Crew members with 2 fatigue cannot participate to a challenge. But can we use crew abilities or equipped ability cards of the exhausted crew members to alter the outcomes of the fate draw?\n",
      "---\n",
      "Small thing with wording, but I have a question about the Port Inn Action. Seems like it would apply to all crew members in the game, but do the benefits of the Port Inn Action (\"each crew member restores 2 health and removes 1 fatigue) apply to all crew members or only the current player's crew members?\n",
      "When visiting a Port as an Action, you can visit the Inn, pay 4 coins and “each crew member restores 2 health and removes 1 fatigue”. Is this limited to the active player’s crew members, or do all 9 crew receive the benefit?\n",
      "---\n",
      "If I'm doing the ship action Bridge: can I take the Command, then spend it on an adventure card ability, then finish the Bridge action by returning the Command to the supply?\n",
      "Can I spend Command tokens on things such as Adventure cards in the middle of resolving a Ship Action? For example, when performing the Bridge Action - can I draw my ability card from it, use Gloria to draw two more, THEN perform the rest of the Bridge Action, removing the command token from Gloria?\n",
      "---\n",
      "Can you use a crew member's ability if they are knocked out by damage?\n",
      "can I utilize a crew members board ability when they themselves are passed out?\n",
      "---\n",
      "Does a crew member have to be participating in the challenge in order to use their crew ability?\n",
      "During a challenge can inactive players use crew abilities; even if they did not spend a command token to allow their crew to participate originally?\n",
      "---\n",
      "Does this mean you can ONLY discard one equipped savvy card to deal +1 damage?\n",
      "Or could you potentially discard two equipped savvy cards to deal +2 damage?\n",
      "---\n",
      "Can you discard cards from hand to gain the extra damage?\n",
      "Does the rulebook allow discarding two cards for two extra damage?\n",
      "---\n",
      "The Refine ability lets me spend 1 command to repair the ship. Since I don’t put spent command on ability cards, I can always repair the ship as much as I want, at any time, as long as I have 1 command to spend. Is that right?\n",
      "The Refine ability let’s you spend a command to repair a ship damage. Can you do this as many times as you want? Or once per turn? Or does the command go on the ability card and then get cleared similar to adventure cards?\n",
      "---\n",
      "Let's say for example Rafael has a synergy token on Sofi's board.If Rafael is then reduced to 0 health, does his synergy token remain available to use on Sofi's board? Or is it removed from play?\n",
      "Now let's say Rafael still has his synergy token on his own board.If he then misses an attack and is reduced to 0 health by the counterattack, then places a damage token on a space with a synergy symbol - do I still get to place Rafael's synergy token on another character board?\n",
      "---\n"
     ]
    }
   ],
   "source": [
    "# Display rows grouped by cluster\n",
    "for cluster_id in q_df['cluster'].unique():\n",
    "    rows = q_df[q_df['cluster'] == cluster_id]\n",
    "    if len(rows) > 1:\n",
    "        for q in rows['question']:\n",
    "            print(q)\n",
    "        print('---')"
   ]
  },
  {
   "cell_type": "code",
   "execution_count": 28,
   "id": "c771a522-c70d-4e6e-b64e-90e15ecb224e",
   "metadata": {},
   "outputs": [
    {
     "name": "stdout",
     "output_type": "stream",
     "text": [
      "562\n"
     ]
    },
    {
     "data": {
      "text/html": [
       "<div>\n",
       "<style scoped>\n",
       "    .dataframe tbody tr th:only-of-type {\n",
       "        vertical-align: middle;\n",
       "    }\n",
       "\n",
       "    .dataframe tbody tr th {\n",
       "        vertical-align: top;\n",
       "    }\n",
       "\n",
       "    .dataframe thead th {\n",
       "        text-align: right;\n",
       "    }\n",
       "</style>\n",
       "<table border=\"1\" class=\"dataframe\">\n",
       "  <thead>\n",
       "    <tr style=\"text-align: right;\">\n",
       "      <th></th>\n",
       "      <th>question</th>\n",
       "      <th>word_count</th>\n",
       "      <th>embeddings</th>\n",
       "    </tr>\n",
       "  </thead>\n",
       "  <tbody>\n",
       "    <tr>\n",
       "      <th>0</th>\n",
       "      <td>During a challenge, is it only crew members wh...</td>\n",
       "      <td>54</td>\n",
       "      <td>[-0.015484137460589409, -0.015149465762078762,...</td>\n",
       "    </tr>\n",
       "    <tr>\n",
       "      <th>1</th>\n",
       "      <td>Can the non-active player use abilities (both ...</td>\n",
       "      <td>46</td>\n",
       "      <td>[-0.029526829719543457, -0.0025611373130232096...</td>\n",
       "    </tr>\n",
       "    <tr>\n",
       "      <th>2</th>\n",
       "      <td>Does this mean you can ONLY discard one equipp...</td>\n",
       "      <td>15</td>\n",
       "      <td>[-0.05306801199913025, 0.015507620759308338, -...</td>\n",
       "    </tr>\n",
       "    <tr>\n",
       "      <th>3</th>\n",
       "      <td>can I utilize a crew members board ability whe...</td>\n",
       "      <td>14</td>\n",
       "      <td>[-0.03547801077365875, 0.006648222915828228, -...</td>\n",
       "    </tr>\n",
       "    <tr>\n",
       "      <th>4</th>\n",
       "      <td>Can I spend Command tokens on things such as A...</td>\n",
       "      <td>55</td>\n",
       "      <td>[-0.009858371689915657, 0.0055838157422840595,...</td>\n",
       "    </tr>\n",
       "  </tbody>\n",
       "</table>\n",
       "</div>"
      ],
      "text/plain": [
       "                                            question  word_count  \\\n",
       "0  During a challenge, is it only crew members wh...          54   \n",
       "1  Can the non-active player use abilities (both ...          46   \n",
       "2  Does this mean you can ONLY discard one equipp...          15   \n",
       "3  can I utilize a crew members board ability whe...          14   \n",
       "4  Can I spend Command tokens on things such as A...          55   \n",
       "\n",
       "                                          embeddings  \n",
       "0  [-0.015484137460589409, -0.015149465762078762,...  \n",
       "1  [-0.029526829719543457, -0.0025611373130232096...  \n",
       "2  [-0.05306801199913025, 0.015507620759308338, -...  \n",
       "3  [-0.03547801077365875, 0.006648222915828228, -...  \n",
       "4  [-0.009858371689915657, 0.0055838157422840595,...  "
      ]
     },
     "execution_count": 28,
     "metadata": {},
     "output_type": "execute_result"
    }
   ],
   "source": [
    "# Keep the longest question for each cluster\n",
    "def find_longest_in_cluster(df):\n",
    "    longest_ix = df['question'].str.len().idxmax()\n",
    "    return df.loc[longest_ix]\n",
    "\n",
    "q_df = q_df.groupby('cluster').apply(find_longest_in_cluster, include_groups=False).reset_index(drop=True)\n",
    "print(len(q_df))\n",
    "q_df.head()"
   ]
  },
  {
   "cell_type": "markdown",
   "id": "013f1ddd-7cc0-4521-a7bf-05348ac0fa4a",
   "metadata": {},
   "source": [
    "## Save the de-duplicated questions"
   ]
  },
  {
   "cell_type": "code",
   "execution_count": 29,
   "id": "475516eb-cc94-4526-84f1-c235da4c87c2",
   "metadata": {},
   "outputs": [],
   "source": [
    "dedup_filename = in_filename[:-4]+'-dedup.tsv'"
   ]
  },
  {
   "cell_type": "code",
   "execution_count": 67,
   "id": "e08629db-161d-41c2-9dec-119293945eac",
   "metadata": {},
   "outputs": [],
   "source": [
    "# save them \n",
    "q_df.to_csv(dedup_filename, index=False, sep='\\t')"
   ]
  },
  {
   "cell_type": "code",
   "execution_count": 30,
   "id": "b79d04e7-dba0-465e-9d74-f8bae75e0f86",
   "metadata": {},
   "outputs": [
    {
     "name": "stdout",
     "output_type": "stream",
     "text": [
      "562\n"
     ]
    },
    {
     "data": {
      "text/html": [
       "<div>\n",
       "<style scoped>\n",
       "    .dataframe tbody tr th:only-of-type {\n",
       "        vertical-align: middle;\n",
       "    }\n",
       "\n",
       "    .dataframe tbody tr th {\n",
       "        vertical-align: top;\n",
       "    }\n",
       "\n",
       "    .dataframe thead th {\n",
       "        text-align: right;\n",
       "    }\n",
       "</style>\n",
       "<table border=\"1\" class=\"dataframe\">\n",
       "  <thead>\n",
       "    <tr style=\"text-align: right;\">\n",
       "      <th></th>\n",
       "      <th>question</th>\n",
       "      <th>word_count</th>\n",
       "      <th>embeddings</th>\n",
       "    </tr>\n",
       "  </thead>\n",
       "  <tbody>\n",
       "    <tr>\n",
       "      <th>0</th>\n",
       "      <td>During a challenge, is it only crew members wh...</td>\n",
       "      <td>54</td>\n",
       "      <td>[-0.015484137460589409, -0.015149465762078762,...</td>\n",
       "    </tr>\n",
       "    <tr>\n",
       "      <th>1</th>\n",
       "      <td>Can the non-active player use abilities (both ...</td>\n",
       "      <td>46</td>\n",
       "      <td>[-0.029526829719543457, -0.0025611373130232096...</td>\n",
       "    </tr>\n",
       "    <tr>\n",
       "      <th>2</th>\n",
       "      <td>Does this mean you can ONLY discard one equipp...</td>\n",
       "      <td>15</td>\n",
       "      <td>[-0.05306801199913025, 0.015507620759308338, -...</td>\n",
       "    </tr>\n",
       "    <tr>\n",
       "      <th>3</th>\n",
       "      <td>can I utilize a crew members board ability whe...</td>\n",
       "      <td>14</td>\n",
       "      <td>[-0.03547801077365875, 0.006648222915828228, -...</td>\n",
       "    </tr>\n",
       "    <tr>\n",
       "      <th>4</th>\n",
       "      <td>Can I spend Command tokens on things such as A...</td>\n",
       "      <td>55</td>\n",
       "      <td>[-0.009858371689915657, 0.0055838157422840595,...</td>\n",
       "    </tr>\n",
       "  </tbody>\n",
       "</table>\n",
       "</div>"
      ],
      "text/plain": [
       "                                            question  word_count  \\\n",
       "0  During a challenge, is it only crew members wh...          54   \n",
       "1  Can the non-active player use abilities (both ...          46   \n",
       "2  Does this mean you can ONLY discard one equipp...          15   \n",
       "3  can I utilize a crew members board ability whe...          14   \n",
       "4  Can I spend Command tokens on things such as A...          55   \n",
       "\n",
       "                                          embeddings  \n",
       "0  [-0.015484137460589409, -0.015149465762078762,...  \n",
       "1  [-0.029526829719543457, -0.0025611373130232096...  \n",
       "2  [-0.05306801199913025, 0.015507620759308338, -...  \n",
       "3  [-0.03547801077365875, 0.006648222915828228, -...  \n",
       "4  [-0.009858371689915657, 0.0055838157422840595,...  "
      ]
     },
     "execution_count": 30,
     "metadata": {},
     "output_type": "execute_result"
    }
   ],
   "source": [
    "# read them back in, and use eval to convert embeddings into a numpy array\n",
    "# do this to make sure we saved the embeddings correctly\n",
    "q_df = pd.read_csv(dedup_filename, sep='\\t')\n",
    "q_df['embeddings'] = q_df.embeddings.apply(eval)\n",
    "print(len(q_df))\n",
    "q_df.head()"
   ]
  },
  {
   "cell_type": "markdown",
   "id": "85d7f184-8b01-45ca-b14d-4d805a17ba8a",
   "metadata": {},
   "source": [
    "## Cluster the questions\n",
    "\n",
    "- Merge the answers back into the questions\n",
    "- Reduce the embedding dimensions\n",
    "- Create 200 clusters\n",
    "- Visualize the clusters\n",
    "- Choose a representative question from each cluster"
   ]
  },
  {
   "cell_type": "code",
   "execution_count": 73,
   "id": "2857e28e-fb20-410b-8286-132b228f0112",
   "metadata": {},
   "outputs": [
    {
     "name": "stdout",
     "output_type": "stream",
     "text": [
      "(581, 7)\n"
     ]
    },
    {
     "data": {
      "text/html": [
       "<div>\n",
       "<style scoped>\n",
       "    .dataframe tbody tr th:only-of-type {\n",
       "        vertical-align: middle;\n",
       "    }\n",
       "\n",
       "    .dataframe tbody tr th {\n",
       "        vertical-align: top;\n",
       "    }\n",
       "\n",
       "    .dataframe thead th {\n",
       "        text-align: right;\n",
       "    }\n",
       "</style>\n",
       "<table border=\"1\" class=\"dataframe\">\n",
       "  <thead>\n",
       "    <tr style=\"text-align: right;\">\n",
       "      <th></th>\n",
       "      <th>question</th>\n",
       "      <th>word_count</th>\n",
       "      <th>embeddings</th>\n",
       "      <th>cluster</th>\n",
       "      <th>url</th>\n",
       "      <th>answer</th>\n",
       "      <th>manual quote</th>\n",
       "    </tr>\n",
       "  </thead>\n",
       "  <tbody>\n",
       "    <tr>\n",
       "      <th>0</th>\n",
       "      <td>Can you place 4 damage in a square shaped patt...</td>\n",
       "      <td>21</td>\n",
       "      <td>[-0.01589909940958023, -0.006159243639558554, ...</td>\n",
       "      <td>10</td>\n",
       "      <td>https://boardgamegeek.com/thread/3271748/i-hav...</td>\n",
       "      <td>4 damage in a square is ok. Place the first on...</td>\n",
       "      <td></td>\n",
       "    </tr>\n",
       "    <tr>\n",
       "      <th>1</th>\n",
       "      <td>Can you do partial damage to an enemy heart sy...</td>\n",
       "      <td>20</td>\n",
       "      <td>[0.004627369809895754, -0.005235826596617699, ...</td>\n",
       "      <td>439</td>\n",
       "      <td>https://boardgamegeek.com/thread/3271748/i-hav...</td>\n",
       "      <td>It's all or nothing.</td>\n",
       "      <td></td>\n",
       "    </tr>\n",
       "    <tr>\n",
       "      <th>2</th>\n",
       "      <td>Square is ok because one damage is placed next...</td>\n",
       "      <td>41</td>\n",
       "      <td>[-0.019245339557528496, -0.006209223065525293,...</td>\n",
       "      <td>10</td>\n",
       "      <td>https://boardgamegeek.com/thread/3271748/i-hav...</td>\n",
       "      <td>A T is allowed. Its even used as a specific ex...</td>\n",
       "      <td></td>\n",
       "    </tr>\n",
       "    <tr>\n",
       "      <th>3</th>\n",
       "      <td>When travelling to new page, does movement sto...</td>\n",
       "      <td>25</td>\n",
       "      <td>[-0.021373728290200233, -0.022455552592873573,...</td>\n",
       "      <td>449</td>\n",
       "      <td>https://boardgamegeek.com/thread/3269600/trave...</td>\n",
       "      <td>You can continue moving.</td>\n",
       "      <td></td>\n",
       "    </tr>\n",
       "    <tr>\n",
       "      <th>4</th>\n",
       "      <td>But why does it say that \"Audrie's 2nd crew bo...</td>\n",
       "      <td>14</td>\n",
       "      <td>[-0.005988049320876598, -0.002402470912784338,...</td>\n",
       "      <td>507</td>\n",
       "      <td>https://boardgamegeek.com/thread/3266861/audri...</td>\n",
       "      <td>Some of the crew abilities can be used in comb...</td>\n",
       "      <td></td>\n",
       "    </tr>\n",
       "  </tbody>\n",
       "</table>\n",
       "</div>"
      ],
      "text/plain": [
       "                                            question  word_count  \\\n",
       "0  Can you place 4 damage in a square shaped patt...          21   \n",
       "1  Can you do partial damage to an enemy heart sy...          20   \n",
       "2  Square is ok because one damage is placed next...          41   \n",
       "3  When travelling to new page, does movement sto...          25   \n",
       "4  But why does it say that \"Audrie's 2nd crew bo...          14   \n",
       "\n",
       "                                          embeddings  cluster  \\\n",
       "0  [-0.01589909940958023, -0.006159243639558554, ...       10   \n",
       "1  [0.004627369809895754, -0.005235826596617699, ...      439   \n",
       "2  [-0.019245339557528496, -0.006209223065525293,...       10   \n",
       "3  [-0.021373728290200233, -0.022455552592873573,...      449   \n",
       "4  [-0.005988049320876598, -0.002402470912784338,...      507   \n",
       "\n",
       "                                                 url  \\\n",
       "0  https://boardgamegeek.com/thread/3271748/i-hav...   \n",
       "1  https://boardgamegeek.com/thread/3271748/i-hav...   \n",
       "2  https://boardgamegeek.com/thread/3271748/i-hav...   \n",
       "3  https://boardgamegeek.com/thread/3269600/trave...   \n",
       "4  https://boardgamegeek.com/thread/3266861/audri...   \n",
       "\n",
       "                                              answer manual quote  \n",
       "0  4 damage in a square is ok. Place the first on...               \n",
       "1                               It's all or nothing.               \n",
       "2  A T is allowed. Its even used as a specific ex...               \n",
       "3                           You can continue moving.               \n",
       "4  Some of the crew abilities can be used in comb...               "
      ]
     },
     "execution_count": 73,
     "metadata": {},
     "output_type": "execute_result"
    }
   ],
   "source": [
    "# merge q_df with the original qa_df\n",
    "merged_df = pd.merge(\n",
    "    q_df, \n",
    "    qa_df.drop_duplicates(subset=['question']), \n",
    "    on='question', \n",
    "    how='left',\n",
    ")\n",
    "print(merged_df.shape)\n",
    "merged_df.head()"
   ]
  },
  {
   "cell_type": "code",
   "execution_count": 74,
   "id": "63e12e34-2f5f-47e2-a82e-7283bf50db2c",
   "metadata": {},
   "outputs": [
    {
     "data": {
      "text/plain": [
       "(581, 2)"
      ]
     },
     "execution_count": 74,
     "metadata": {},
     "output_type": "execute_result"
    }
   ],
   "source": [
    "# reduce embeddings to 2 dimensions\n",
    "embeddings = np.array(merged_df['embeddings'].tolist())\n",
    "\n",
    "umap_model = umap.UMAP(n_components=2, random_state=42, n_jobs=1)\n",
    "\n",
    "# Fit and transform the embeddings to 2D\n",
    "reduced_embeddings = umap_model.fit_transform(embeddings)\n",
    "reduced_embeddings.shape"
   ]
  },
  {
   "cell_type": "code",
   "execution_count": 75,
   "id": "032be912-6816-43a4-be7f-fc5ba35590d7",
   "metadata": {},
   "outputs": [],
   "source": [
    "# cluster embeddings using kmeans\n",
    "kmeans = KMeans(n_clusters=n_sample_questions, random_state=42)\n",
    "\n",
    "# Fit the model to the embeddings and add the cluster labels to the DataFrame\n",
    "merged_df['cluster'] = kmeans.fit_predict(embeddings)"
   ]
  },
  {
   "cell_type": "markdown",
   "id": "c07edcd6-ced8-4cc1-b334-cf798c3f2752",
   "metadata": {},
   "source": [
    "### Visualize clusters"
   ]
  },
  {
   "cell_type": "code",
   "execution_count": 76,
   "id": "14e87d98-90f8-44fa-a3f9-36d7a3cbf4ae",
   "metadata": {},
   "outputs": [
    {
     "data": {
      "text/html": [
       "<div>\n",
       "<style scoped>\n",
       "    .dataframe tbody tr th:only-of-type {\n",
       "        vertical-align: middle;\n",
       "    }\n",
       "\n",
       "    .dataframe tbody tr th {\n",
       "        vertical-align: top;\n",
       "    }\n",
       "\n",
       "    .dataframe thead th {\n",
       "        text-align: right;\n",
       "    }\n",
       "</style>\n",
       "<table border=\"1\" class=\"dataframe\">\n",
       "  <thead>\n",
       "    <tr style=\"text-align: right;\">\n",
       "      <th></th>\n",
       "      <th>question</th>\n",
       "      <th>word_count</th>\n",
       "      <th>embeddings</th>\n",
       "      <th>cluster</th>\n",
       "      <th>url</th>\n",
       "      <th>answer</th>\n",
       "      <th>manual quote</th>\n",
       "      <th>X</th>\n",
       "      <th>Y</th>\n",
       "    </tr>\n",
       "  </thead>\n",
       "  <tbody>\n",
       "    <tr>\n",
       "      <th>0</th>\n",
       "      <td>Can you place 4 damage in a square shaped patt...</td>\n",
       "      <td>21</td>\n",
       "      <td>[-0.01589909940958023, -0.006159243639558554, ...</td>\n",
       "      <td>30</td>\n",
       "      <td>https://boardgamegeek.com/thread/3271748/i-hav...</td>\n",
       "      <td>4 damage in a square is ok. Place the first on...</td>\n",
       "      <td></td>\n",
       "      <td>13.967593</td>\n",
       "      <td>9.107926</td>\n",
       "    </tr>\n",
       "    <tr>\n",
       "      <th>1</th>\n",
       "      <td>Can you do partial damage to an enemy heart sy...</td>\n",
       "      <td>20</td>\n",
       "      <td>[0.004627369809895754, -0.005235826596617699, ...</td>\n",
       "      <td>36</td>\n",
       "      <td>https://boardgamegeek.com/thread/3271748/i-hav...</td>\n",
       "      <td>It's all or nothing.</td>\n",
       "      <td></td>\n",
       "      <td>14.316022</td>\n",
       "      <td>9.021166</td>\n",
       "    </tr>\n",
       "    <tr>\n",
       "      <th>2</th>\n",
       "      <td>Square is ok because one damage is placed next...</td>\n",
       "      <td>41</td>\n",
       "      <td>[-0.019245339557528496, -0.006209223065525293,...</td>\n",
       "      <td>30</td>\n",
       "      <td>https://boardgamegeek.com/thread/3271748/i-hav...</td>\n",
       "      <td>A T is allowed. Its even used as a specific ex...</td>\n",
       "      <td></td>\n",
       "      <td>13.946939</td>\n",
       "      <td>9.082804</td>\n",
       "    </tr>\n",
       "    <tr>\n",
       "      <th>3</th>\n",
       "      <td>When travelling to new page, does movement sto...</td>\n",
       "      <td>25</td>\n",
       "      <td>[-0.021373728290200233, -0.022455552592873573,...</td>\n",
       "      <td>94</td>\n",
       "      <td>https://boardgamegeek.com/thread/3269600/trave...</td>\n",
       "      <td>You can continue moving.</td>\n",
       "      <td></td>\n",
       "      <td>10.186301</td>\n",
       "      <td>11.202894</td>\n",
       "    </tr>\n",
       "    <tr>\n",
       "      <th>4</th>\n",
       "      <td>But why does it say that \"Audrie's 2nd crew bo...</td>\n",
       "      <td>14</td>\n",
       "      <td>[-0.005988049320876598, -0.002402470912784338,...</td>\n",
       "      <td>98</td>\n",
       "      <td>https://boardgamegeek.com/thread/3266861/audri...</td>\n",
       "      <td>Some of the crew abilities can be used in comb...</td>\n",
       "      <td></td>\n",
       "      <td>13.541139</td>\n",
       "      <td>13.919561</td>\n",
       "    </tr>\n",
       "  </tbody>\n",
       "</table>\n",
       "</div>"
      ],
      "text/plain": [
       "                                            question  word_count  \\\n",
       "0  Can you place 4 damage in a square shaped patt...          21   \n",
       "1  Can you do partial damage to an enemy heart sy...          20   \n",
       "2  Square is ok because one damage is placed next...          41   \n",
       "3  When travelling to new page, does movement sto...          25   \n",
       "4  But why does it say that \"Audrie's 2nd crew bo...          14   \n",
       "\n",
       "                                          embeddings  cluster  \\\n",
       "0  [-0.01589909940958023, -0.006159243639558554, ...       30   \n",
       "1  [0.004627369809895754, -0.005235826596617699, ...       36   \n",
       "2  [-0.019245339557528496, -0.006209223065525293,...       30   \n",
       "3  [-0.021373728290200233, -0.022455552592873573,...       94   \n",
       "4  [-0.005988049320876598, -0.002402470912784338,...       98   \n",
       "\n",
       "                                                 url  \\\n",
       "0  https://boardgamegeek.com/thread/3271748/i-hav...   \n",
       "1  https://boardgamegeek.com/thread/3271748/i-hav...   \n",
       "2  https://boardgamegeek.com/thread/3271748/i-hav...   \n",
       "3  https://boardgamegeek.com/thread/3269600/trave...   \n",
       "4  https://boardgamegeek.com/thread/3266861/audri...   \n",
       "\n",
       "                                              answer manual quote          X  \\\n",
       "0  4 damage in a square is ok. Place the first on...               13.967593   \n",
       "1                               It's all or nothing.               14.316022   \n",
       "2  A T is allowed. Its even used as a specific ex...               13.946939   \n",
       "3                           You can continue moving.               10.186301   \n",
       "4  Some of the crew abilities can be used in comb...               13.541139   \n",
       "\n",
       "           Y  \n",
       "0   9.107926  \n",
       "1   9.021166  \n",
       "2   9.082804  \n",
       "3  11.202894  \n",
       "4  13.919561  "
      ]
     },
     "execution_count": 76,
     "metadata": {},
     "output_type": "execute_result"
    }
   ],
   "source": [
    "# Convert reduced embeddings to a DataFrame\n",
    "reduced_embeddings_df = pd.DataFrame(reduced_embeddings, columns=['X', 'Y'])\n",
    "\n",
    "# Add reduced embeddings and cluster labels to the DataFrame\n",
    "merged_df = pd.concat([merged_df, reduced_embeddings_df], axis=1)\n",
    "merged_df.head()"
   ]
  },
  {
   "cell_type": "code",
   "execution_count": 77,
   "id": "ab2a8f9e-d7a2-483b-8661-74d027285480",
   "metadata": {},
   "outputs": [
    {
     "data": {
      "application/vnd.plotly.v1+json": {
       "config": {
        "plotlyServerURL": "https://plot.ly"
       },
       "data": [
        {
         "customdata": [
          [
           "Can you place 4 damage in a square shaped pattern? Or would one of these placements be diagonally and not allowed?",
           30
          ],
          [
           "Can you do partial damage to an enemy heart symbol of more than value 1, or is all or nothing?",
           36
          ],
          [
           "Square is ok because one damage is placed next to previous and not diagonally, but now I wonder if 4 damage could be placed as a T shape? After all every damage is next to another but definitely not from previous...",
           30
          ],
          [
           "When travelling to new page, does movement stop automatically on the new page or can I continue to move if I have more movement left?",
           94
          ],
          [
           "But why does it say that \"Audrie's 2nd crew board ability gives +1 block\"?",
           98
          ],
          [
           "When does the fight start?",
           135
          ],
          [
           "Can you discard cards during any challenge to increase your success?",
           59
          ],
          [
           "So assuming I have $5, I can purchase all 15 food tokens? This seems absurdly powerful, no matter the 50% chance of gaining weakened. Am I misreading this card?",
           181
          ],
          [
           "When doing a challenge, can I not use a crew member?",
           84
          ],
          [
           " Can anyone share the damage incurred in case of failure?",
           134
          ],
          [
           "And when I do a challenge using a crew member, if I fail, do I have to take all the damage to that crew member?",
           2
          ],
          [
           "Do you give all the damage to one designated crew member and move on to the next crew member, or do you split the damage up little by little?",
           114
          ],
          [
           "When I do an ability test, can I look at the cards already used in advance, calculate the success probability more, and then draw the ability cards?",
           38
          ],
          [
           "When my crew completes 4 attacks and the enemy attacks, can I distribute the damage and status ailments to any crew member? Or will I get to split it among the crew members who participated in the battle this round?",
           114
          ],
          [
           "You spent one of two action actions to explore the port and progress through the story related to it. And do I have to spend one more action to take a port-related action (such as resting) at that port?",
           9
          ],
          [
           "Do crew members who attack using combat markers in battle get fatigue tokens?",
           20
          ],
          [
           "If the enemy counterattacks after failing to attack, you can deal 1 damage to the enemy again. Even if the attack is successful, will the enemy counterattack and then deal 1 damage to the enemy again?",
           40
          ],
          [
           "Keywords are needed when searching. Is it okay to record the keywords needed for that area in the navigation log?",
           80
          ],
          [
           "If I equip a weapon to my crew, can I equip other crew members with that weapon whenever I want?",
           15
          ],
          [
           "Is use of Totem cards an action?",
           150
          ],
          [
           "Halfway through a combat one player had both of their characters go to zero health. What happens when we start a new combat round? Do their combat tokens just get wasted?",
           6
          ],
          [
           "Command tokens can be spent to use an equipped ability card. But that only makes sense if the team member has at least one life point left, right?",
           5
          ],
          [
           "Combat round end ability on level card: 1 defense. Does this apply to the team or only to this team member? And only if this team member has been damaged?",
           98
          ],
          [
           "Does each wing symbol on an enemy card prevent a hit if no ranged weapon is used? Or is the number of wings irrelevant?",
           41
          ],
          [
           "Ship Action: Can I gain command points (CP) then immediately spend them before removing them? i.e. Quarters > Gain 3 CP (solo play) > immediately spend CP on adventure cards > Remove CP from the cards",
           58
          ],
          [
           "Can a crew member equip multiple Level Cards?",
           42
          ],
          [
           "Can I use Artifacts as coins?",
           3
          ],
          [
           "Can I use my crew member abilities during combat turn of another player? Or generally during a turn of another player?",
           88
          ],
          [
           "  Is the player able to keep activating the same adventure card if there is already command token on it, by placing more command tokens each time?",
           5
          ],
          [
           "If an ability card requires an activation token to use (say to give +1 damage), I'm assuming it can be activated as many times as you have command tokens, as each token to activate ability card goes back to supply right?",
           5
          ],
          [
           "Can a person without a ranged weapon that does a damage of 1, still destroy the wings of a flying enemy? Or does it just void the entire attack?",
           41
          ],
          [
           "For the level up cards that trigger when certain things happen (use the bridge, explore, etc), do they trigger when any player does this, or only the player who controls the crewmember? For example if player 1 controls Laurent and Laurent has the level card that grants a command when using the bridge, what if player 2 visits the bridge?",
           74
          ],
          [
           "Where does the captain go?",
           48
          ],
          [
           "Are the rings considered a line?",
           145
          ],
          [
           "If, during a battle, I manage to slay some of the enemies but then I lose, if I will go back to that battle in the future, does it mean that the enemies I have killed don’t take part in the battle anymore, or are they revived and I have to kill them one more time?",
           154
          ],
          [
           "How One is owning quest cards? If i complete or lose quests do I loose the keyword?",
           43
          ],
          [
           "When we lose a challenge, who gets the damage?",
           2
          ],
          [
           "The manual tells me, that first the participating team members get damage. So, when do non-participants get damage?",
           114
          ],
          [
           "So what happens if we fail combat and everyone dies?",
           76
          ],
          [
           "can someone have more than one level card or just one per character (so if already had one they would discard it to replace with new one)",
           8
          ],
          [
           "an ability card can be equipped at any time except middle of combat or challenge. So does that imply that the combat or challenge process has started and then can’t be equipped? Or if we say see that we're fighting a particular monster or challenge, but before we actually begin the process of assigning characters or drawing fate etc, we can still equip ability card.",
           12
          ],
          [
           "when using command, if my partner has a character who’s attacking, can I spend command on my characters boards to help benefit him? Like I can spend say two command to give their character +1 accuracy or extra damage? And same thing using adventure cards (if I have more command than them I can say pay a command to do a card that will benefit them)?",
           4
          ],
          [
           "when discarding an equipped ability for +1 in combat, there was an ability strength card that had as text when discard for combat add 1 damage. Would this be in addition to the modifier on player board? So Raphael discards strength ability for +1 normally. In this situation would it have given 2 (1 for discard and 1 from card text)?",
           52
          ],
          [
           "what if in 5) card was different, giving some passive effect. Would that effect still work for this one attack when discarding this card?",
           52
          ],
          [
           "The german rules after finishing the event deck say: \"after drawing the last card of the event deck, the active player ends his turn.\" That would mean he skips the action phase completely. Is this true or is it an errata?",
           91
          ],
          [
           "Did you use defense on the characters that took part in combat?",
           123
          ],
          [
           "What happens to the event discard pile at the end of the first age?",
           122
          ],
          [
           "What happens to any 'ongoing' events at the end of the first age?",
           122
          ],
          [
           "What six cards am I supposed to discard? ",
           106
          ],
          [
           "Final scoring, which cards?",
           14
          ],
          [
           "If you fail the cunning challenge, what happens?",
           76
          ],
          [
           "Can you do the challenge without choosing any crew member to participate in it?",
           84
          ],
          [
           "What happens if no crew member participates in the challenge?",
           84
          ],
          [
           "Challenge phase -  can a non active player (who doesn’t acquire a fatigue token) play use his/her equipped card ability?",
           12
          ],
          [
           "How to deal with results of a challenge if no character assigned",
           65
          ],
          [
           "If you're referring to the hearts in the grid with a number in it, what does that mean?",
           63
          ],
          [
           "should I also put back the completed missions?",
           111
          ],
          [
           "According to the rules of the game, a command token may be spent at any time. This should also apply to the time of the combat, right?",
           34
          ],
          [
           "Would it then be allowed to activate the adventure card \"Stone of Blood\" immediately before the outbreak of combat in order to cover a field on an opponent card?",
           129
          ],
          [
           "When giving unused combat action tokens, who gets the token back at the start of the next round?",
           6
          ],
          [
           "Exhausted event decks after “era 1”, what happens after?",
           86
          ],
          [
           "Should you write down keywords even if it doesn't make thematic sense?",
           184
          ],
          [
           "Is it normal in video games to find something that needs a specific item or keyword to progress?",
           161
          ],
          [
           "For the IRON example, is the door made of iron or is it the key?",
           143
          ],
          [
           "Does synergy carry over between combat?",
           127
          ],
          [
           "What happens when it comes to your turn but all the crew members you are controlling are defeated?  Do you take your turn like normal and then just have no crew members available to handle anything that comes up?",
           89
          ],
          [
           "Frightened to 0-health character?",
           95
          ],
          [
           "Characters with 0 health & synergy?",
           95
          ],
          [
           "When you go through the event deck the first/second time...?",
           11
          ],
          [
           "Is this how you play it out? My scenario: Player A starts their turn. They take a ship action, they draw the last event card and resolve it, they take their two actions (Travel, Explore, Port, Market). Player B starts their turn. They take a ship action, they read/resolve story 1 (since there are no event cards here), they take their two actions",
           91
          ],
          [
           "For the Galley Ship action, it states :\"you may discard exactly 1 ability card from your hand to remove 1 fatigue from any crew member\".Does \"any crew member\" includes crew members controlled by other players ?",
           118
          ],
          [
           "Which crew board abilities can help in challenges?",
           57
          ],
          [
           "After the ability card is drawn to determine fate for a CHALLENGE can any crew member, including those that have not participated in the challenge originally, spend a command token on an equipped ability card to boost the fate number by 1 if the symbol matches the challenge type?",
           19
          ],
          [
           "Do symbols on equipped ability cards automatically get added to the fate count or must they spend a command token on the equipped ability card/discarded to the supply to add them?",
           19
          ],
          [
           "If no participating crew have an ability card with cunning can a non participating crew member spend 1 command on an equipped ability card to boost the fate draw by 1?",
           19
          ],
          [
           "Can I still use a weapon if it makes me gain a status effect I already have?",
           183
          ],
          [
           "Ship Actions - can ship actions be activated in any order (e.g. draw card, retrieve tokens, get tokens).",
           58
          ],
          [
           "Travel - can you travel using a crew member of another player?",
           73
          ],
          [
           "Can another player discard Craft Ability Cards from their hand to boost the total?",
           52
          ],
          [
           "Can you activate abilities on other player's Crew or Crew Ability Cards?",
           116
          ],
          [
           "So during combat, when I use a Combat Token, it's effectively my turn, and we can't use any abilities on another player's Crew? And other players couldn't spend a Command to do so (like they can with Challenges)?",
           88
          ],
          [
           "In general, do I have to place tokens adjacent to the last one placed (1-2, 2-3 etc.) OR can I place tokens as long as they are adjacent to ANY one token placed this attack (first, second, third, fourth etc.)?",
           21
          ],
          [
           "Can the non-active player use abilities (both on crew board and equipped ability cards) when it's not their turn (separate from using crew skill icons for a challenge by spending a command point). If so, is there any restrictions on this? During combat? During a challenge?",
           88
          ],
          [
           "Did we win or lose this combat?",
           148
          ],
          [
           "Are you forced to spend artifacts as coins?",
           3
          ],
          [
           "To confirm, the number of achievements is cumulative over sequential campaigns, right?  That is, if I'm correct, one doesn't need to have acquired/completed 22 totems in one game to unlock 173.",
           141
          ],
          [
           "What to do when placing tokens already covered?",
           21
          ],
          [
           "Can I equip an ability to another crew member once equipped?",
           15
          ],
          [
           "Artifacts - what for.",
           108
          ],
          [
           "How do you handle the search tokens pile please ?",
           104
          ],
          [
           "Who can be targeted by some Ability Card abilities?",
           116
          ],
          [
           "Anyone with an English copy who can check what the text on the ability card \"Careful Aim\" says?",
           119
          ],
          [
           "Strange Illness event - Does it apply if the 1 is rerolled?",
           166
          ],
          [
           "For \"Gain quest 155\", is the quest completed?",
           111
          ],
          [
           "Discard this equipped card to skip an event card - Skip the effects of the card, or do not draw an event card?",
           113
          ],
          [
           "On what occasions does a character get a fatigue token?",
           20
          ],
          [
           "Have I read this incorrectly? It appears to be a clear contradiction. Are you able to have more than one crew member participate in Action: Travel or not? It states in bold you can only choose one then on the next page gives an example of participating 2. Apologies if I have misinterpreted or misread this. Thanks a lot!",
           73
          ],
          [
           "The rule book says \"traveling to the page as indicated by the blue arrow \"But how about the arrows where there isn't a number ?",
           115
          ],
          [
           "Ability cards: I can only hold 3 in my hand but only 2 equipped? does it mean I can have the maximum number of 5 ability cards in my possession? (2 equipped, 3 unequipped) or just 3? (2 equipped, only 1 unequipped)",
           96
          ],
          [
           "Can I swap an equipped Ability card with one that is unequipped in my hand?",
           96
          ],
          [
           "Can I sell unused Ability cards or just discard them? either way, do I shuffle them back in the Ability card deck?",
           171
          ],
          [
           "Are Ability/Adventure cards a 1 time use? or are they reusable?",
           37
          ],
          [
           "Is there a limit to how many Level cards I can equip with the same character?",
           8
          ],
          [
           "If I can't swap equipped Abilities, can I at least discard them? (let's say I would like another Ability from my hand instead)",
           96
          ],
          [
           "When I discard an Ability card from my hand to get +1 for a challenge, does it matter if I use a different challenge icon on the Ability card then the challenge I'm currently doing? (like discarding a Strength Ability card in a Cunning challenge)",
           59
          ],
          [
           "Can I discard more than 1 Ability card for the same challenge?",
           59
          ],
          [
           "Where do I put the Event card after I'm done with it? is there a discard pile?",
           35
          ],
          [
           "Are recipes reusable? or are only a 1 time use?",
           37
          ],
          [
           "Can damage from an adventure card be distributed in a non-adjacent manner, or does it follow the rules for damage done by players?",
           129
          ],
          [
           "What is a \"command card\"? Or does it mean \"command token\"? In regards to the ability cards, do we just get dealt one randomly... or???????",
           5
          ],
          [
           "Where do they go? Back to the adventure deck? What stops you from going back and getting that again?",
           11
          ],
          [
           "When can I cook a recipe?",
           78
          ],
          [
           "What to keep for next campaign? [Minor SPOILERS]",
           46
          ],
          [
           "Stamina Level Card of Odessa. What does it mean?",
           112
          ],
          [
           "There is a level card (I believe for Marco) that allows you to substitute one ingredient when cooking a recipe. So once you have that, you can use a meat in a non-meat recipe.",
           174
          ],
          [
           "When in a combat you have done your 4 attacks and then is the monsters' turn to attack, who do they attack? Who gets the damage?",
           13
          ],
          [
           "If the event deck runs out while discarding, what should be done?",
           86
          ],
          [
           "Can a crew member have the same ability card equipped twice?",
           42
          ],
          [
           "When a card asks you for a challenge and for it you do an action, does that mean it has to be one of the two ship actions? Or can you do that challenge at any time?",
           22
          ],
          [
           "For items that give block (such as the serpent scale vest in the rulebook), does the item give that block bonus for one hit?  Or for the entire combat?  I realize it's \"temporary,\" but I'm not sure how temporary.",
           18
          ],
          [
           "Using multiple crew abilities allowed or just one at a time?",
           7
          ],
          [
           "When using the Stone of Blood, does the bonus damage have to be placed continuously with other damage or can it go anywhere on a monster card?",
           129
          ],
          [
           "Can Stone of Blood (45) be combined with an attack that does 1 damage to cover a heart worth 2?",
           129
          ],
          [
           "in comabt - can I use other member abilities?",
           88
          ],
          [
           "Why do you get less command tokens if playing with fewer players.",
           34
          ],
          [
           "Solo Play - Command Tokens - do they accumulate.",
           34
          ],
          [
           "Do discarded ability cards go to the bottom of the gate deck?",
           171
          ],
          [
           "What happens when a single crew member has no health left?",
           89
          ],
          [
           "Which brings up another question...do we keep the totem cards we found in previous campaigns for the next?",
           141
          ],
          [
           "Can you keep repeating explore triggers to gain the same resource over and over? Also, can there be \"negative\" numbers?",
           71
          ],
          [
           "Paying fatigue when a crew member is specifically named in a challenge?",
           57
          ],
          [
           "Final Score:\"Gain 2 points per adventure card\" What happenend with the Market Cards? Scoring 2 points or zero points?",
           14
          ],
          [
           "Do you have to use 1 command token per low morale!",
           34
          ],
          [
           "Does venom activate outside of combat as well",
           67
          ],
          [
           "If untreated, will venom continue to -1 health on each players turn OUTSIDE of combat?",
           67
          ],
          [
           "When I place a command token on a character ability to activate it, how long does that stay active?",
           185
          ],
          [
           "If they have a vest with a block ability that takes 1 command to activate, how long does it stay active after I assign a command token to it?",
           185
          ],
          [
           "Does it only work once in combat, or does it stay active until that combat is over?",
           18
          ],
          [
           "Also, having venom in a solo game kinda sucks right, as every turn its one damage i assume.",
           67
          ],
          [
           "If I’m playing 2 player.. and i am the active player, can i send this damage over to one of player 2’s characters?",
           40
          ],
          [
           "Can I use adventure card fate abilities here as well? Can I spend a command token on gear to redraw fate instead?",
           39
          ],
          [
           "what is the correct way to place tokens?",
           21
          ],
          [
           "If a crew member has 2 fatigue (in my case only 1 token on it) should I remove the fatigue token, or simply revert it to the blank side?",
           69
          ],
          [
           "Equipment: Armors should be equipped into a crew member or captain, or are available as generic option as cooking recipes?",
           15
          ],
          [
           "Equipment: Weapons can be changed before each combat or once they have been attached to a crew member, they should stay there?",
           15
          ],
          [
           "Combat: During a combat, after give the synergy token to another crew member, is it mandatory to consume this token after attack or could be kept without using the advantage provided by it, but without returning it?",
           189
          ],
          [
           "But weapons have to be equipped to a character, haven't they?",
           186
          ],
          [
           "Are permanent level cards removed after the set of 18 is done?",
           77
          ],
          [
           "After the 18 levels of one of the 3 runs, one needs to discard the pile of level cards and create a new stack of 6 mild/normal/heavy cards. If there are still permanent level cards (like \"gain a ship damage on every Fate 1 unless you solve a Strength 8\"), will these be removed as well?",
           77
          ],
          [
           "When attacking an enemy with wings, with a regular weapon (not ranged); if I decide to apply the damage to the wing first, does the +1 defence for the enemy still apply? E.g. I can do 3 damage to an enemy with a regular (not ranged) weapon. Does the wing still require 2 damage?",
           41
          ],
          [
           "Do all ability cards always have to be equipped before you can use the effect?",
           186
          ],
          [
           "Do characters die in battle?",
           76
          ],
          [
           "Can I play solo?",
           93
          ],
          [
           "So I play with all the crew members. Why I use fewer ability cards? It’s written on the rules?",
           116
          ],
          [
           "If my weapon says when used gain low morale, does this apply to the weapon holder and the weapon is unusable if they have low morale, or can the low morale be given to a different crew member when using the weapon?",
           15
          ],
          [
           "It seems there are some numbered locations that you can visit again and again. I'm wondering if I'm missing something or if there is something missing with the translation of the game (I have the french edition) because sometimes it doesn't make sense. For instance: on location 6 (p14 of the map book): You find a recently abandonned camp you can either loot or wait for the camper to come back. First time I went there, I waited, the group came back and they were mad at me and I run away with a coin. If I go there a second time, nothing tells me that something has changed. I can just do the same thing again or choose the other option, and the same groupe come back again? That's a bit weird",
           71
          ],
          [
           "What happens to defeated enemies when all crew is down to 0 health",
           89
          ],
          [
           "After going thru the 18 event cards, the story rules say to discard all equipped ability cards. Do you shuffle the ability deck at that point?",
           171
          ],
          [
           "After playing through a campaign (54 event cards), do my crew members get to keep their level cards for the next campaign?",
           46
          ],
          [
           "I'm still unclear on when I can use the printed skill symbols to assist in a challenge. If another crew makes a strength challenge, can Rafael add in his strength point after fate has been drawn?",
           19
          ],
          [
           "What means the + before the accuracy number on the crew weapons?",
           133
          ],
          [
           "Can I add starting weapon accuracy and accuracy of added weapons or added ability cards together?",
           192
          ],
          [
           "Just to understand your comment about \"discarding some ability cards you might have wanted to play\" -- I'm supposed to draw cards from the top of the shuffled ability deck, right? Not play cards from my hand?",
           171
          ],
          [
           "Is there an official ruling/FAQ?",
           45
          ],
          [
           "The rules said: Draw 1 ability card and gain the specified number of command tokens. It seemed to me that it was about the specified number on the ability card, but now I understand it isn't..",
           5
          ],
          [
           "When reading events, if it calls for a test or something does it work same way as a challenge? Like someone is picked and fatigued and other people can add more if they wish, etc?",
           180
          ],
          [
           "If you use the last cube and fight the last monster in play, but he isn't dead, Did he attack twice? One time for reaction and one time for end round?",
           131
          ],
          [
           "If you can move up to 3 spaces with your travel action. Can you move 1 space, do your second action in that space then move after that another 2 spaces?",
           72
          ],
          [
           "Can effects that change the chance to hit be used after you reveal fate?",
           79
          ],
          [
           "Can any player pay the command to activate character board abilities, or only the controlling player?",
           47
          ],
          [
           "When changing pages, can you pick any space on the new page on the entering side, or do you need to “line up” with your exit from the previous page?",
           94
          ],
          [
           "Will the Sea Serpent token follow us even if we move to a new page? Across multiple pages? What if we use an effect to arrive at a new space but not by “travel”?",
           175
          ],
          [
           "When you are asked to draw fate, do you place this card on the ability/fate discard pile, or when you have not yet reached the hand limit of 3 you can keep it in your personal supply?",
           38
          ],
          [
           "Do low morale tokens actually matter when playing solo? I can’t see a point in them",
           197
          ],
          [
           "Can you use adventure cards and crew abilities if they have command tokens on them?",
           39
          ],
          [
           "If I have a weakend token on one of my cre members, is it only that crew member that has -2 to skills or if I was to do a challenge and used say 3 crew members not including the one with the weakend token on i would have a -2 Asking because unless that crew member with the token had atleast 2 ability cards with the same skill attached to them you would technically always be at 0 ?",
           194
          ],
          [
           "What does the symbol on a character's board next to their damage mean?",
           100
          ],
          [
           "Can I use command from a crew ability that is not participating on an attack to give accuracy or even more damage to the attack?",
           7
          ],
          [
           "Fate Symbols on Ship board?",
           79
          ],
          [
           "In order to cover a square, is it enough one damage for all except for hearts with numbers?",
           36
          ],
          [
           "Can Kasumi’ synergy token (+1 damage) be used when missing the target? That is, after the counterattack, can I deal 2 damages?",
           25
          ],
          [
           "Why would I cover empty spaces? I don't get why it would help since we cannot skip spaces. It doesn't help with adjacency for another hit right?",
           10
          ],
          [
           "I think Rafael has one level up card that allows him to only have to place 1 damage on his initial target and then he can place the rest on an adjacent enemy. This way, you can use an enemy with low defense to land the hit, and roll over damage into an enemy with a high defense.",
           153
          ],
          [
           "To travel we need to do a craft challenge. It's I can choose only one crew member for that test. Is that a regular difference among other action and types of challenges in the game? Do I need to memorize these differences?",
           73
          ],
          [
           "Also the negative effects always have to go on a character that participated on the challenge? Or can I give to someone else?",
           180
          ],
          [
           "If I'm not successful on a test I receive the penalty. But I still proceed normally with the instructions right? Or in the case of travel on a hazard place, for example, I would still move there right?",
           53
          ],
          [
           "The Travel section in the rules state:” You may also discard ability cards with craft symbols from your hand to add 1 per card to the total.”",
           193
          ],
          [
           "Certain negative ongoing events in Sleeping Gods state on their cards that \"as an action\" one may attempt a certain challenge (e.g., a STRENGTH 7 check) to remove the event.Does this mean that you can try using up one of your two actions at the final part of your turn to attempt this challenge and remove the event? Or, does it mean you can attempt the challenge once per turn at will on your turn (without using up either of your usual two actions) to try and get rid of the event?",
           22
          ],
          [
           "Ignore a hazard after the check?",
           53
          ],
          [
           "Should this item be used as part of the Travel action, or can it be used any time assuming it does not cost an action?",
           72
          ],
          [
           "My second query was whether it is considered an action or not.",
           22
          ],
          [
           "When a crew ability is doing two actions, e.g. removing a status token + recovering one health, as in the following picture, can those be applied to different crew members?",
           24
          ],
          [
           "If I am defeated in normal mode, I should discard 6 cards from the event deck. If after discarding a few cards (less than 6), I run out of event cards, should I read paragraph 1 and afterwards continue discarding cards up to 6, or should I shuffle the event deck, discard up to six, finish my turn and then read paragraph 1?",
           106
          ],
          [
           "One thing I do not understand is that it specifically tells you to discard 6 cards from the event deck AFTER you build the new deck, which means pretty much \"discard all mild event cards\". Why don't the rules just say to discard the mild event cards when creating a new deck of 18 cards? Am I missing something here?",
           106
          ],
          [
           "Does this only activate when the player controlling Laurent goes to the bridge?",
           74
          ],
          [
           "If during a combat round my fate is only 1-2, and I thereby miss, do I still get to hit for one damage, or is that considered an attack and therefore nullified by Frightened?",
           109
          ],
          [
           "If on Action 1 I explore a location and receive some reward, can I simply explore the same location for Action 2 and receive the same reward? And do it again on a subsequent turn (perhaps the very next one)? If yes, is that even true in a case where there are no complexities like keywords or challenges, and therefore the outcome is guaranteed to be the same? Rules seem to permit this, thought it doesn't seem logical.",
           9
          ],
          [
           "Can I equip a single crew member with two identical ability cards? For example, can one crew member have two Bandages cards?",
           42
          ],
          [
           "I have obtained a search token in the Deck (ship action). What does this search token mean?",
           104
          ],
          [
           "Which test? I did not performed any test. I was just in the ship action (deck).",
           53
          ],
          [
           "During a challenge, is it only crew members who are assigned to the task (and got fatigued) who can use their starting abilities (or equipped ones) to help swing the outcome after the fate draw, or can any crew member use their abilities effects to help so long as they pay the command cost?",
           57
          ],
          [
           "FOOD - One of the adventure cards shown, Alexei, says we can trade food for meat. What is food?",
           101
          ],
          [
           "When does Combat or a Challenge start?",
           22
          ],
          [
           "When doing a Travel action, do you have to complete hazard challenges if you are only passing through the area i.e. your Craft challenge lets you move 2 regions, landing you in a hazard-free region, but passing through a region with a hazard?",
           53
          ],
          [
           "Where is it stated in the rule book that there's a hand limit?",
           140
          ],
          [
           "Does Gloria’s ability let you draw 2 cards on a fate draw, or draw 2 cards into your hand?",
           169
          ],
          [
           "Herbalist: restores 6 health total or per crew member?",
           81
          ],
          [
           "Could someone please explain how step 3 of \"attack and counterattack\" works?",
           130
          ],
          [
           "Then why does it say \"you may use adventure card\" abilities that add to accuracy after the draw?",
           38
          ],
          [
           "Does it cost command to use the captain during a challenge?",
           57
          ],
          [
           "Is there anything in the rules that stop you from farming a location that gives you resources?",
           66
          ],
          [
           "Can ability cards be traded among players?",
           96
          ],
          [
           "During a turn, can a non-turn player pay the command token cost to activate one of the shared adventure cards?",
           4
          ],
          [
           "Can you use the equipped, repair action ability card more than once a turn assuming you can pay the cost?",
           5
          ],
          [
           "Does the captain having low morale make any difference?",
           197
          ],
          [
           "Can you choose to do less than the designated amount of damage?",
           32
          ],
          [
           "If I am attacking with the captain, can I use Kannan’s equipped ability card “focus” to add +3 accuracy to the captain’s date card draw? Or can only Kannan use “focus”?",
           19
          ],
          [
           "Can you change the number of players mid campaign? If so, how?",
           0
          ],
          [
           "Discard 1 ability card from hand? Or from one of their characters? What happens if there are no cards in that player’s hand to discard?",
           23
          ],
          [
           "In the pictured example Player 2 has the above Marco and he has a Cunning ability card equipped. If player 1 is captain and a Cunning skill challenge is encountered, Player 2 wishes to participate as well with Marco. We understand you expend one command token to participate in a challenge if you not the captain AND every participating character will get a fatigue token. The question I want to know is do we spend an extra command token to utilize the 2nd Cunning equipped to Marco so he can contribute 2 Cunning to the challenge or because the equipped ability card has already been equipped, no additional command tokens need to be used? Thanks in Advance.",
           19
          ],
          [
           "Player 1 is the captain and has encountered a Cunning challenge. Player 2 has no characters with any Cunning skills so he does not wish to use any characters but he does have a Cunning ability card in hand he wishes to discard during the \"Alter Fate\" step to help influence the total skill number for the challenge. Does Player 2 need to spend a command token in this scenario? My guess is no as the command token is only spent during the \"Gather Crew\" step.",
           19
          ],
          [
           "What are the coin values?",
           177
          ],
          [
           "It was my first instinct also, but it does matter if you even run out of coins as they are limited I believe? Although I think the chance of running out is low?",
           92
          ],
          [
           "During combat, can you discard an equipped item with a command token?",
           113
          ],
          [
           "During another players turns challenge, if you simply discard a card to boost the value without using one of your character, do you still spend a command token?",
           19
          ],
          [
           "What is the significance of the combat token?",
           21
          ],
          [
           "Character abilities/equipment can be used by anyone?",
           125
          ],
          [
           "Does this mean to take the synergy token from one crew member, regardless of using them to fight, and place it on another crew member where it is available to be activated?",
           189
          ],
          [
           "Can you do this outside of combat to set this up ahead of time, or only once combat has commenced?",
           18
          ],
          [
           "Can you give the synergy to a crew who has already hit 0 to bring them back, or must this be on a crew at the time they hit 0 in order to activate?",
           189
          ],
          [
           "Do I take a normal ship action prior to reading paragraph 1.2 since I'm just coming back from death and technically starting a new turn?",
           91
          ],
          [
           "Since I was instructed to discard 6 event deck cards going back to when I was defeated, and still have 3 cards to remove due to that fact, do those remaining 3 discards stack with the 6 I will need to discard from failing combat during paragraph 1.2?",
           106
          ],
          [
           "If I take an explore action as my first action to explore a number on the map, I find that number in the storybook and read the text and make whatever choices it asks me to do. That's easy enough. However, sometimes the story branches out and ultimately sends me back to step one where I started reading. When that happens, am I free to choose another branch and explore without using a second exploration action? Or would it count as my second action of the turn should I decide to read another branch?",
           9
          ],
          [
           "When can you move equipment?",
           137
          ],
          [
           "I see that the \"Flapjacks\" card has an ability to remove 3 x health tokens and 3 x fatigue tokens from a crew member. My question is, can I split that to heal one character while removing fatigue from another? Or does the card collectively apply to only one crew member?",
           24
          ],
          [
           "If I take a travel action and I'm rewarded with two ship moves, am I allowed to stop in the first region and take an explore action before moving into the second region?",
           72
          ],
          [
           "Mac's +1 to fate to fate draw - can this be used during other players' or crew members' fate draws during combat?",
           1
          ],
          [
           "Can Kasumi's redraw after 1 be applied to another crew member you control?",
           176
          ],
          [
           "Can we come back to 63 with a new explore action and make the choice to return to 63.2 knowing we have the keyword ABSYMAL?",
           117
          ],
          [
           "Small thing with wording, but I have a question about the Port Inn Action. Seems like it would apply to all crew members in the game, but do the benefits of the Port Inn Action (\"each crew member restores 2 health and removes 1 fatigue) apply to all crew members or only the current player's crew members?",
           118
          ],
          [
           "Where is this \"discard all equipped ability cards\" rule documented? I don't see it anywhere in the rule book.",
           23
          ],
          [
           "At the end of our ordeal, we were instructed to place Laurent back in game box. Will we get him back again at the start of the second run?",
           158
          ],
          [
           "Is it correct that for the craft challenge performed during the travel action, you can use at most one crew member?",
           73
          ],
          [
           "Are any or all of these intended to be deviations from the normal challenge procedure?",
           56
          ],
          [
           "So in every other respect, it's just like a regular challenge?",
           56
          ],
          [
           "Does this mean I can choose to use only 3 of my 4 combat action tokens, when there are still enemies that are alive?",
           16
          ],
          [
           "Can I assign my personal command tokens to another players crew member in order to activate their crew abilities or cards, or are players only able to assign command tokens on their OWN crew members/cards?",
           116
          ],
          [
           "When using adventure/market cards to heal or remove fatigue, can this be split amongst players and or crew members, or is it only for the player placing the command token on the card.",
           24
          ],
          [
           "How do I assign damage in instances like this, where there has not been a challenge?",
           65
          ],
          [
           "What do I do with completed event cards? Do I just have a discard pile of them? When I create the event deck the second (and third times) do I shuffle each time, or do the exact same order?",
           35
          ],
          [
           "Brenna said in other threads that it can be to any character, not just the ones you control.",
           47
          ],
          [
           "Am I the only one struggling with this rule book? I feel like there a lot of things missing. Or maybe I just suck at finding them.",
           99
          ],
          [
           "So basically if I get defeated while playing normal mode and go back to port; should i keep the recurring event cards like the sea serpent / leak ones or they get discarded?",
           77
          ],
          [
           "Possible to re-gain a completed quest?",
           111
          ],
          [
           "What would have happened then?",
           152
          ],
          [
           "This is also covered in the rules for Quest Cards:",
           193
          ],
          [
           "How to re-prepare the event deck",
           106
          ],
          [
           "When we finish the event deck and read the proper paragraph in the story book, it says to create a new event deck. Elsewhere in the rules, it says to discard 6 event cards. I'm confused about this. Since there are normally six mild event cards on top, if I have to discard six, why would I even bother shuffling the mild event cards?  Why doesn't the storybook say anything about discarding six cards?  On the 3rd time through, do I discard 12 cards?  What exactly is the proper procedure for re-preparing the event deck?",
           106
          ],
          [
           "Is there a list of enemy abilities and their descriptions? I can't seem to find anything in the rules.",
           146
          ],
          [
           "What are the implications of shuffling the Search Tokens each time players save/restore?",
           104
          ],
          [
           "What is the suggested house rule for handling market cards?",
           14
          ],
          [
           "Is it a totem or an achievement or both?",
           150
          ],
          [
           "Thank you, I don't think I explained my question very well though - on the left hand side it has a column that says 'achievements' then on the right there's a column that says 'totems' - if a card is in the achievement column is it a totem as well? Why is it not in the totem column? And additional question do you get all the cards in the achievement column for the new campaign or just the unlocks that you got from the totems and endings? And if it's not a totem and you don't start with the cards why is the column there and they're just not another adventure card? I don't understand what the achievement column is basically.",
           141
          ],
          [
           "So if I unlock a Totem, do I have the totem card when I start a new campaign? and if so, how do I know that when I gain a quest that would give me that totem card again? I would get nothing for my effort",
           141
          ],
          [
           "Does everyone have the keyword?",
           87
          ],
          [
           "Can one player pay command tokens to boost another player's turn in combat?",
           4
          ],
          [
           "You're probably talking about activating adventure cards that provide extra aim or shields? Yes, I believe you can pay command to activate that during another player's combat turn.",
           4
          ],
          [
           "Order of play after first event shuffle",
           11
          ],
          [
           "Can u have as many level cards as u want in each character?",
           8
          ],
          [
           "Does this mean I can sell four items of the same type (like 4 Status Tokens) or do I have to sell one item of different types (like 1 Material + 1 Artifact + 1 Food)?",
           66
          ],
          [
           "Moreover, since I can’t find a rule that prevents you to explore the same location twice in one turn, is it possible to explore location 29 twice in the same turn in order to sell more than four items (obviously Status Tokens) for coins?",
           66
          ],
          [
           "When you first explore 174, if you have keyword FOAM, do you go to a different paragraph?",
           75
          ],
          [
           "When do adventure cards become refreshed?",
           37
          ],
          [
           "In which case, when are the command tokens removed?",
           97
          ],
          [
           "Is the campaign the default game mode?",
           102
          ],
          [
           "When it comes to note-taking how much do you write down?",
           184
          ],
          [
           "Is there a different game mode in the Tides of Ruin expansion?",
           102
          ],
          [
           "Is the map provided in the game searchable?",
           164
          ],
          [
           "What happens on brutal mode if you are defeated?",
           76
          ],
          [
           "Question about activating Sofi Odessa's crew abilities during combat",
           88
          ],
          [
           "Am I right in thinking then that if one player has a glut of command tokens, they should just spend one to take someone else's combat action token just in case an ability like this could be useful?",
           5
          ],
          [
           "Each time when I use up a deck of event cards should I return them to the box?",
           11
          ],
          [
           "When I prepare the new deck should I randomly draw from the rest of 36 cards or from the 54 cards? And second time, should I just use the rest of 18 cards?",
           11
          ],
          [
           "Can I spend command in the middle of a ship action",
           58
          ],
          [
           "What to do if ship has all but 1 damage spot left open?",
           61
          ],
          [
           "Is the effect of recipe or other adventure cards lasting?",
           37
          ],
          [
           "When you explore, and you read a paragraph from the book, sometimes it's a challenge, so you have to choose one or more characters to participate and give them fatigue tokens. If there's negative effects, they get some and then you can give damage to the rest of the crew.Sometimes though there's no challenge connected to an attribute, just a choice to make, do I have to choose a character to participate again and give them fatigue tokens? In which case this character gets the negative effects /rewards?",
           180
          ],
          [
           "The rules for this card (pg. 12) states that \"as an action\" you can fight it. Does this refer to one of the 2 Actions available at the end of your turn? Or is it a Challenge?",
           22
          ],
          [
           "Do you count unlocked Quest cards?",
           28
          ],
          [
           "Some have them, most don't.  What are they (if the answer isn't a spoiler of some kind)?",
           132
          ],
          [
           "Hey, i have to clarify one thing before going on to play solo: I need to make a challenge and choose two of my crew members. They’ll get their fatigue tokens. I am able to activate one (or two, or three…) of my other crew members (not participating) „crew member ability“ right? Without getting a further fatigue token or paying a further command token (except the command token costs from the ability card.) Sorry if that was already answered somewhere else. I searched for it but didnt find the exact „setting“.",
           57
          ],
          [
           "If I'm doing the ship action Bridge: can I take the Command, then spend it on an adventure card ability, then finish the Bridge action by returning the Command to the supply?",
           58
          ],
          [
           "Combat token placement?",
           21
          ],
          [
           "Does this mean the crew members I control, or any member on the table?",
           118
          ],
          [
           "Specifically Challenges and applying status tokens. It says \"your\", but since other players can contribute characters to a challenge by spending a command, I assume they can also be the target of a status token. Bigger question is if no characters participate in the challenge and a status token needs to be placed, can it go on another player's character?",
           19
          ],
          [
           "Means, 2 of my available skills were not active? Which of them is chosen by me? Or are they depending on my current necessary skills like savvy in my actual challenge?",
           162
          ],
          [
           "But how long is the Cloak of Ulo active?",
           82
          ],
          [
           "If we use Odessa two times in the same fight, does it continue to be active?",
           18
          ],
          [
           "So the Cloak of Ulo only works as a one time block?",
           82
          ],
          [
           "On that same thought, like in combat does as much damage as possible have to be placed on a single character and any overflow all onto a single other character, etc.?",
           114
          ],
          [
           "Can you use a crew member's ability if they are knocked out by damage?",
           116
          ],
          [
           "Can fate abilities be used in combat?",
           79
          ],
          [
           "If the active player decides to Travel, and the non-active player agrees to have Audrie participate in the craft challenge, does the non-active player need to pay 1 command, as would be the case in a normal (i.e., non-Travel) challenge?",
           73
          ],
          [
           "Let’s say I got an ability card with perception skill which gives you +2 accuracy (or +2 defense) when you discard it.If I’m playing with captain and I discard this equipped card to get +2 accuracy in combat, then can I get 1 plus damage as well? On the rule book it says ‘you may discard 1 equipped when you attack with this weapon’ but I’m not sure if it means I should discard the card when I’m dealing the damage or I can discard it anytime in a combat round. Also Am i allowed to discard equipped card more than 1 (2cards) at the same time?",
           17
          ],
          [
           "Can I pay 2 command to travel only 1 distance?",
           199
          ],
          [
           "Do ongoing cards leave the play area when the event card deck runs out?",
           86
          ],
          [
           "Are you allowed to split your travel action with an explore action?",
           72
          ],
          [
           "Does this mean that Mac is unavailable, not on the ship, can’t help during combat, etc, until the crew goes to this cabin and gets her?",
           48
          ],
          [
           "On the rule book it says I can do splash damage as long as I deal half of damage to the monster that I targeted.So what does it mean half of damage?Is it the amount of damage (quantity of enemy’s heart) or just damage token that I’m supposed to put on the enemy card?",
           36
          ],
          [
           "Can I piggyback a question on this?  Can you place a counter on a \"blank\" space on the targeted enemy, to give you the half damage you need, to splash some to an adjacent enemy?",
           128
          ],
          [
           "can level cards be counted as skill?",
           8
          ],
          [
           "Can any player pay for adventure cards?",
           139
          ],
          [
           "Are there any exceptions to which cards can be shared among players?",
           139
          ],
          [
           "So, if you succeed, do not restore crew health, is that correct?",
           16
          ],
          [
           "It also doesn't say anything about status effects, so do not remove status effects, correct?",
           168
          ],
          [
           "So in theory, instead of placing two fatigue tokens, I can just flip one over. I am just thinking to save space on the character boards.",
           69
          ],
          [
           "Besides drawing ability card and gain command tokens, does the bridge action allow player to return all command tokens from any 1 of 9 crew, b. return 1 command tokens from all 9 crewc. return all command tokens from all 9 crew . do other (please specify)",
           58
          ],
          [
           "When asked to place all totems you have into the slabs that means all totems found IN THIS SPECIFIC RUN-THROUGH - CAMPAIGN, right? NOT all you have found in previous campaigns too (and marked as achievements)?",
           141
          ],
          [
           "How many spaces do I need to move with the ship in order to reach location 103 from location 12?",
           149
          ],
          [
           "Can ability cards be discarded from hand (voluntarily without discard text)?",
           96
          ],
          [
           "can I utilize a crew members board ability when they themselves are passed out?",
           116
          ],
          [
           "And I can use Marcos’ board ability to heal another person correct, meaning it doesn’t have to be Marco I heal?",
           190
          ],
          [
           "We just lost. All our characters maxed out in combat. What do we do? I can't find it anywhere..",
           76
          ],
          [
           "Does uncovering end of round abilities (Regen) cause them to trigger?",
           29
          ],
          [
           "Sea serpent event: does attempting the challenge take an action? Are you sure?  I thought that Events happened BEFORE the Action phase and were separate?",
           124
          ],
          [
           "Are you sure?  I thought that Events happened BEFORE the Action phase and were separate?",
           124
          ],
          [
           "Can an ability card be equipped during a ship action? Specifically after gaining command, but before gaining a new ability card?",
           58
          ],
          [
           "What order are enemies supposed to be arranged?",
           33
          ],
          [
           "Can you put a status token on a crew member that’s dead? Or exhausted already?",
           27
          ],
          [
           "Do crew block and +1 damage abilities only apply to themselves, or to other crew?",
           98
          ],
          [
           "Does monster and explorer token get reset if you visit the same place again?",
           71
          ],
          [
           "> Also, just to be sure, you do not gain additional damage by considering the symbols on the character, right ?",
           100
          ],
          [
           "Who can use command to activate shared adventure cards during battle?",
           139
          ],
          [
           "can adventure cards that do damage be activated between the attack and counterattack of a combat. For example, monster has three health remaining. My attack does 2 damage. Can I or another player spend command to activate an adventure card for an extra damage to kill the monster before the counterattack occurs?",
           4
          ],
          [
           "When can people spend command tokens and on what?",
           34
          ],
          [
           "What are the restrictions around spending command tokens on abilities attached to equipped ability cards?",
           34
          ],
          [
           "When/if the ability card deck is emptied, is the discard pile reshuffled into a new deck?",
           171
          ],
          [
           "Can I only use the ability if I draw 4 tokens (3 plus the \"extra\")? Or can I draw 1 token and stop an then draw the \"extra\" one?",
           5
          ],
          [
           "When you complete a task for a passenger, what happens to the adventure card depicting them?",
           35
          ],
          [
           "Out of curiosity, was this quest acquired on a Tides of Ruin expansion map?",
           102
          ],
          [
           "One of the threads here mentioned the \"Official Solo Rules\".  I can't find anything similar anywhere. About the only thing I stumbled across was a discussion where someone preferred playing solo as if they were two players each with 4 crew. As far as I can tell playing solo just means starting with one command token and with a single hand of cards, still with a hand-size limit of three.. Are there any specific special solo rules?",
           93
          ],
          [
           "What is the main cost of repeated spaces like this?",
           195
          ],
          [
           "If a crew member loses all health, does he or she die?",
           89
          ],
          [
           "So, does everyone heal 6 damage, or is it 6 health in total, among the crew?",
           81
          ],
          [
           "And to be honest, I'm not sure what all the errata are.  Is there a link for the complete errata?",
           160
          ],
          [
           "Say I attack with the captain who has another crewmember's +1 damage synergy token. I miss. Therefore, I take the counterattack from the monster and then normally am allowed to deal one damage. Can I use the synergy token to add damage, even though I missed?",
           25
          ],
          [
           "How do you place combat damage on enemies?",
           163
          ],
          [
           "When i go to the healer? Does the healer remove status tokens as well?",
           182
          ],
          [
           "Is there a limit to the number of level cards a character can have? Or can they, assuming you accumulate enough xp, get all of their level cards and benefit from them all at once?",
           8
          ],
          [
           "Can any player spend command to activate an adventure card like Scoundrel's Gear to give +2 cunning during a challenge, or is only the active player allowed to do that?",
           139
          ],
          [
           "Can you explore the same location multiple times?",
           71
          ],
          [
           "Is there a 'minimum' price in the market? That is, do the 1-cost items become free due to the discount, or are they a minimum of 1 coin each?",
           136
          ],
          [
           "Does a crew member have to be participating in the challenge in order to use their crew ability?",
           57
          ],
          [
           "What happens when you are instructed to lose food but your supply is lower than the amount you are told to lose?",
           50
          ],
          [
           "With Rotten Supplies, if we have 0 food going in, are we allowed to \"throw out 0 food\" and carry on with no downsides?",
           50
          ],
          [
           "From the Event rule section, what happens if you don't have two foods to discard for an ongoing event like Rotten Supplies?",
           50
          ],
          [
           "Are the two foods necessary to remove the card cumulative?",
           138
          ],
          [
           "What are the types of ongoing events?",
           156
          ],
          [
           "Would Discarding Surprise Strike while equipped to Kasumi when dealing damage allow for +2 damage?",
           52
          ],
          [
           "Can I use the top ability of the crewmember board and an ability on a skill card which I add to this crew member or can I use e.g. both, the Skills and the Ability on the board?",
           7
          ],
          [
           "Can you use abilities on characters not participating?",
           116
          ],
          [
           "Do you only get to use abilities on equipped ability cards if you also participate by taking the fatigue?",
           57
          ],
          [
           "Is it legal to use Mac's World Lore ability without choosing anyone to participate in the challenge?",
           165
          ],
          [
           "Does the 'Redraw Fate if 1' ability on Kasumi's Crew Board apply only if the active player controls Kasumi?",
           176
          ],
          [
           "Any chance we remove status effects after character defeat, just like injuries and fatigue?",
           85
          ],
          [
           "Now that we're talking splash damage; do you place the enemy cards from left to right in numeric order at the beginning of combat, or do you get to choose how to place them?",
           33
          ],
          [
           "What about crew board ability and equipped ability cards?",
           39
          ],
          [
           "Is it possible for a player’s character, for example Mac, to have two grey combat cubes during a round of combat?",
           120
          ],
          [
           "Does this mean you can ONLY discard one equipped savvy card to deal +1 damage?",
           17
          ],
          [
           "Or could you potentially discard two equipped savvy cards to deal +2 damage?",
           17
          ],
          [
           "If it said 'you may discard an equipped card' rather than '1 equipped card', would the interpretation be different?",
           113
          ],
          [
           "What is the limit of discarding cards for extra damage?",
           52
          ],
          [
           "Can you discard cards from hand to gain the extra damage?",
           52
          ],
          [
           "In the rule book it says to apply any damage you find when you use the deck. Does this also apply to the low morale token with the coin? Or do you only apply damage? ",
           51
          ],
          [
           "Can you assign damage to any character from a end of round monster counterattack?",
           13
          ],
          [
           "Can a active captain  pick who will get the hit from each monster?",
           13
          ],
          [
           "When does the event deck \"reshuffle\"?",
           86
          ],
          [
           "Who exactly is involved in combat?",
           125
          ],
          [
           "I assume this card has to be equipped, correct?",
           186
          ],
          [
           "Is there any reason to hope that my ongoing events go away after resetting the event deck? Or do I still have to deal with them?",
           11
          ],
          [
           "Can you use the 'Protect' level-ability card of Rafael only once per combat or multiple times?",
           153
          ],
          [
           "How many times can a crew member attack in one combat round?",
           7
          ],
          [
           "Where to put status gained from an Event Card?",
           35
          ],
          [
           "Some ability cards like 'Cleaning' have the craft skill symbol and an instant effect of removing one low morale. I assume 'instant effect' means that the effect triggers when equipped but then the card only serves as another craft skill symbol. Correct?",
           107
          ],
          [
           "Can you help me understand this card? Can I instantly do the challenge and discard it? When you do the action, is the effect of the card active? I mean when I do the 6 savvy and I draw fate for the final result, should I gain -1 health and 1 weakened? Is this action replaces the one of the two actions I have to do on my turn?",
           22
          ],
          [
           "Can I use multiples of a crew ability?",
           7
          ],
          [
           "When I drawn ability card for purely a fate check, do I add the card to my hand or discard it when done? I see nothing about discarding, but I’m not convinced I keep it either.",
           38
          ],
          [
           "What should we do if instructed to gain a status, but all the matching tokens are already on your crew?",
           27
          ],
          [
           "When is \"the Middle of Combat\" for Ability Card Purposes?",
           12
          ],
          [
           "When can I cook a recipe? In the middle of a noncombat challenge? In the middle of an exploration before making a choice? After reading text?",
           78
          ],
          [
           "What is the intended design of World Wisdom?",
           60
          ],
          [
           "A crew member attacks, misses, then resolves damage first due to the Rapid Strike ability. During the damage resolution, I discard Rapid Strike to get +1 damage. Does the damage still get applied first?",
           147
          ],
          [
           "When level cards are equipped to crew members, do these \"count\" as additional values when performing challenges? Like a level card with a savvy icon for Laurent - would that mean when performing a savvy challenge with Laurent I have +2 (+1 from his mat and +1 from the level card)?",
           42
          ],
          [
           "To get rid of the Serpent, it says: \"Action: Perform a Strength 7 Challenge (...)\" Does this mean this takes a full actual 'Action', i.e. replacing one usual action amongst the 'Travel/Explore/Market/Harbour'?",
           22
          ],
          [
           "Has this been confirmed somewhere by the designer? It makes sense in theory, but the rules don't say anything about your 2 turn \"actions\" being open to anything other than the 4 ones on the ship board.",
           126
          ],
          [
           "Normally, when you are defeated you mark a defeat, remove all damage and go to the nearest port.What happens after you fail story one, except remove all damage? Do you also mark a defeat and move to port?",
           16
          ],
          [
           "When it says restore health, that does include status tokens?",
           182
          ],
          [
           "When the rulebook says \"any crew member\" (e.g. removing Fatigue in the Galley, removing damage in the Sick Bay), should I assume it always means \"even crewmembers controlled by another player\", unless specified? Or are there any big exceptions to this?",
           118
          ],
          [
           "For example, can I buy weapons and equip them to crewmembers I don't control? What about the Inn? does it heal all crewmembers, or just the ones I control? etc.",
           15
          ],
          [
           "Can I spend Command tokens on things such as Adventure cards in the middle of resolving a Ship Action? For example, when performing the Bridge Action - can I draw my ability card from it, use Gloria to draw two more, THEN perform the rest of the Bridge Action, removing the command token from Gloria?",
           58
          ],
          [
           "Travel Example 3 seems to indicate that you can move off the edge of a page as long as you're at an edge with a numbered blue arrow - fair enough. You don't have to be in the actual region that contains the arrow, just in one of the regions of that edge. Is this interpretation correct?",
           115
          ],
          [
           "If i gain 1 fatigue, i take one fatigue token with the blank side up. If i gain second fatigue i flip my already blank token. From now on does this count that i have two fatigue tokens, so i can no longer participate in challenges? Or does the rulebook means \"two physical cardboard tokens\", so 1 flipped, and 1 blank (3 fatigue) and then i cannot participate in challenges?",
           69
          ],
          [
           "Is this true? If my crew is at max fatigue, the ability bonuses to challenges are essentially free?",
           20
          ],
          [
           "Can you equip an ability card with gained command and then take a new card?",
           96
          ],
          [
           "Defeated enemies, are they removed, can they regen?",
           154
          ],
          [
           "For future campaigns, does this mean I unlock all the Quest cards before 15...? So in this table, do I get only cards 176-177, or am I able to get all cards listed below 16...?",
           28
          ],
          [
           "With Alzarrian Cook Book, would I be able to use cake for 1 command and no grain, to remove 2 low morale and remove 2 fatigue?",
           26
          ],
          [
           "What does ‘while exploring’ mean in Outdoor Cooking Set?",
           170
          ],
          [
           "By having these 3 items, does it mean that by one command I can use Cook Book, and without using grain, cure 2 hearts and remove 2 low morale, 2 fatigue? Likewise use Spicy Gumbo, for any 2 food, to cure 5 hearts and remove 3 fatigue?",
           26
          ],
          [
           "For 1 command and no ingredients, I can remove 1 fatigue and cure 4 hearts! Is this so...? And, can these be done on any character or it needs to be on one character?",
           26
          ],
          [
           "Can you only enter from page 16?",
           49
          ],
          [
           "When you unlock cards at the end of a campaign, do you count all totems from previous playthroughs or just the ones in the playthrough you just completed?",
           141
          ],
          [
           "During a challenge can inactive players use crew abilities; even if they did not spend a command token to allow their crew to participate originally?",
           19
          ],
          [
           "Is there one crew ability you can use on other crew mates?",
           116
          ],
          [
           "Can you use combat abilities or Kasumi's +1 fate ability to help other crew members?",
           176
          ],
          [
           "Activating another player’s crew ability with my command?",
           116
          ],
          [
           "If the Storybook tells you (for example) that in the future you are allowed access to the village and villagers whenever you wish, would that apply to a new Campaign as well?",
           46
          ],
          [
           "Are you allowed to search for a Totem you found in a previous Campaign if its ability is worth going after (assuming you obtain the correct keyword first)?",
           31
          ],
          [
           "Are you allowed to keep anything from your old Campaign after it has been completed successfully (other than the earned Endings) when you are ready to start a new Campaign?",
           46
          ],
          [
           "Can a character have more than one level card equipped?",
           8
          ],
          [
           "Are you allowed to read all the choices before you decide which one(s) you wish to select?",
           90
          ],
          [
           "When an event Deck is depleted and it's the next person's turn, instead of drawing an event card, you turn to entry 1 in the storybook. Does that person first get to take a ship action?",
           91
          ],
          [
           "Is the sequence of completing a person's turn then turning to entry 1 stated anywhere in the rulebook?",
           91
          ],
          [
           "How is the gameplay sequence after the event deck is depleted?",
           86
          ],
          [
           "Can the non-active player use crew abilities on the crew members he controls to help out the active player?",
           116
          ],
          [
           "During the active player's turn, could the non-active player use command-activated effects of ability cards equipped by his crew members?",
           116
          ],
          [
           "Can a player use the Redraw Fate if 1 crew ability if he is the non-active player and the active player draws a fate 1 card?",
           1
          ],
          [
           "Are status tokens limited?",
           196
          ],
          [
           "The card (Fish Bone Spear) is a weapon. Unlike the other weapon cards, it is not mentioned on it the word 'Weapon'. Probably because it is also a totem. Should I still equip it to a crew member the moment I get it?Thanks.",
           186
          ],
          [
           "Aside from the introductory game, i.e. in the future campaigns - are we meant to start the campaign with Quests 1 and 2 as well?",
           46
          ],
          [
           "Is there any official denomination for what the bigger coins stand for?",
           55
          ],
          [
           "Playable with 5 players?",
           0
          ],
          [
           "Does this ability stack? Every time we cook do we flip 2 fate cards?",
           38
          ],
          [
           "Can I use command to redraw fate (on the Gear adventure card for example) on another players skill check / attack? If they were out of command for instance. We have been playing that you can't and I'm not 100%. I guess the same question for a characters (Kasumi's) crew board? Can her re-draw fate ability be used on another players turn?",
           1
          ],
          [
           "what does a defense symbol on an adventure card mean? Can I spend that card's command cost when one of my crewmates is being hit to negate that much damage?",
           39
          ],
          [
           "Can you discard an adventure card?",
           59
          ],
          [
           "If you want to do splash damage against an enemy with resist, does that resist apply?",
           128
          ],
          [
           "Can you discard two matching equipped ability cards for two extra damage?",
           52
          ],
          [
           "Can you use a card's ability and then also discard it for an additional effect?",
           52
          ],
          [
           "Does the rulebook allow discarding two cards for two extra damage?",
           52
          ],
          [
           "Do you do any damage when you miss a flying enemy with a non-ranged weapon?",
           109
          ],
          [
           "Simply when does that second fatigue token take effect, on the second attack or after the second attack? IOW does the second attack result in a -1 damage or every attack after that second attack?",
           69
          ],
          [
           "when you utilize Laurent's ability to increase his accuracy how long does it last?",
           18
          ],
          [
           "Does a dead enemy still count as adjacent?",
           29
          ],
          [
           "Are \"Market Cards\" treated as \"Adventure Cards\" in every way?",
           14
          ],
          [
           "In calculating the \"Final Score\" is says: Gain 2 points per adventure card. We did not count our plethora of Market Cards in our final score, as they were not labeled as \"Adventure Cards.\" Should they count?",
           14
          ],
          [
           "Can buying cheaper Market Cards instead of more expensive ones affect my final score?",
           14
          ],
          [
           "What about the armour with block that you can buy - does that affect all attacks?",
           62
          ],
          [
           "How does the bandage ability card work? Do you just use it any time and discard? Or can you use it an unlimited number of times?",
           107
          ],
          [
           "What does \"first strike,\" mean on an enemy and where is this in the rulebook?",
           159
          ],
          [
           "When you go through the Event Card deck for the first time, and after taking the step indicated, you replace the Event Card deck, right? When you do that, do you retrieve all the event cards from the box, reshuffle, and pick 6-6-6 per the rules? Or do you use the same 18 cards for the second and third runthroughs?",
           11
          ],
          [
           "Where do \"Search\" icons come from?",
           110
          ],
          [
           "I lost a quest. Based on my choices we chose a different path and didn't complete it. I was told \"lose quest XX\". Does this quest go in the discard box or back in the deck of quest cards? If it goes in the discard box, I'll get a point for it at the end of the campaign which seems off, but if I put it back in the deck could I possibly regain that quest?",
           172
          ],
          [
           "But if I did not accomplished the quest, why should it add points to my score at the end?",
           172
          ],
          [
           "If the active player, who controls said character, pays 1 COMMAND on \"Flapjacks\" (it's a starting card), will I get the bonus included under that power?",
           47
          ],
          [
           "Does the captains synergy token let you place all damage for that attack diagonally or just 1 damage diagonally?",
           25
          ],
          [
           "How does this card work? It is an ability card that says, \"When you use the Deck, draw fate, if 4+, gain 1 meat.\" Does this mean if I use gloria for 2 ability cards, I use this for each draw? Do I draw 2 everytime I use the deck whether it be for a draw, challenge, or combat?",
           169
          ],
          [
           "Is the \"General Crew Board Ability Rules\" section only for crew board abilities, or does it apply to Ability Cards abilities as well?",
           116
          ],
          [
           "If Crew Board Ability Rules don't apply to Ability Cards, then can you use cards like \"Treat\" to remove status from other characters?",
           116
          ],
          [
           "Does this mean that cards like Bold Attempt that allow Fate Redraw can only be used when that character it is equipped on draws fate, or can it be used when any character or player draws fate?",
           1
          ],
          [
           "With the Gate Stone (Adventure Card 38), it says “Move to Any Port”.  Does this include any port in the game including ports that I have not visited yet?",
           157
          ],
          [
           "So why do we need to discard our ability cards?",
           23
          ],
          [
           "Why does our crew get weaker?",
           89
          ],
          [
           "The search token with a coin and a low morale. Do you gain or lose the morale. I assume gain, but then why would you ever select that one?",
           155
          ],
          [
           "Do synergy tokens stay on character cards after the combat in which they were placed?",
           127
          ],
          [
           "During an explore action, the excerpt said \"if keyword X turn to entry Y\" AND \"if keyword Z turn to entry V\"...we have both keywords...do we get to choose which keyword we want to turn to, or is it first keyword listed takes priority?",
           9
          ],
          [
           "Shoot! We played it where we could pick which keyword we wanted to use, since we had both (and the one seemed bad). But hindsight, that does make sense to start from top down. Ugh, well now I feel like we missed out on something or altered the game...we are a few turns after that explore action and seems it'll be a hassle to revert back. Think it'll be okay to go forward, or should we revert back?",
           117
          ],
          [
           "Which of these statements is correct:A) Since all the damage must go to one crew member, I could choose Audrie, apply 1 damage token and ignore the rest. (I know this isn't correct but it is a logical possibility from the wording above).B) I assign one damage to Audrie and give 6 damage to Rafael.C) I am forced to choose Rafael because only he has the capacity to absorb 7 damage tokens (since all damage must be assigned to a single crew member).I think that (B) is the correct answer but I want to make sure my interpretation is correct.",
           179
          ],
          [
           "For the end of round damage, it's the active player that assigns damage and can assign it to any crew member, including other player's crew members - does that sound correct?",
           114
          ],
          [
           "Why is the body empty? Does that mean I can still put a damage on there in order to get to an adjacent spot?",
           10
          ],
          [
           "Is it okay to put damage on a totally empty spot (without a caption) or is that against the rules?",
           10
          ],
          [
           "Added the Dungeons into the mix with my 3rd campaign, like them a lot, just to clarify there are 3 actions:1. Move2. Explore3. CampEach player gets 3 actions, so when playing solo it seems like there is no reason to break it down to 3 actions per round since the rules do not say that the actions have to be different.  Thus just move and explore until the characters need a rest and then camp.Hope I was playing this correctly.",
           72
          ],
          [
           "Is command limited?",
           187
          ],
          [
           "Say for example I chose not to fatigue a character for a perception skill test of 6 and draw a 5 fate card. Am I allowed to activate an adventure card (like Bigfoot the Dog) to gain that final perception and pass the test?",
           38
          ],
          [
           "How much of the fail/success criteria of an option should be read before making a decision?",
           64
          ],
          [
           "In the case of needing coins for a trade, how many coins do you need to choose the option?",
           177
          ],
          [
           "Are you allowed to read ahead before making a choice in the game?",
           90
          ],
          [
           "Just learning the game and going through the walkthrough. I drew the event card ‘Maintenance’ which would allow to repair 1 ship damage. In such a case as not having damage is it okay to bypass resolving the event? This makes me wonder if other cards would have similar situations where they would make no difference if you were to attempt it. Can you ignore cards in such circumstances?",
           167
          ],
          [
           "Can combat abilities, like +1 accuracy or damage, ONLY be used if the character whose board they're on is the active combat participant, or can you spend command tokens to bolster others?",
           47
          ],
          [
           "Can I run away if I'm doomed?",
           142
          ],
          [
           "If I choose to, can I cycle between the same 2 ship locations turn after turn (provided, of course, the locations aren't fully damaged)?",
           53
          ],
          [
           "What if you can't place the last attack damage?",
           163
          ],
          [
           "When dealing splash damage, if you do 2 damage to a 2 heart, can you then put 2 damage (across two boxes) to another enemy?",
           128
          ],
          [
           "A crew member attacks, and just barely hits because of the Sharp Eye ability (+1 accuracy). While resolving damage, I discard Sharp Eye for +1 damage, but now the attack wouldn’t hit. Does damage still occur?",
           147
          ],
          [
           "Overwork ability (once per turn, gain 1 low morale to redraw fate): does the low morale need to go on the crew with the Overwork ability?",
           1
          ],
          [
           "There’s an ability Power Strike (perception) that is different from Power Strike (strength). For the perception version of the ability, it says you can pay 1 command to get +1 damage when this crew member hits. How does it work?",
           98
          ],
          [
           "The Refine ability lets me spend 1 command to repair the ship. Since I don’t put spent command on ability cards, I can always repair the ship as much as I want, at any time, as long as I have 1 command to spend. Is that right?",
           167
          ],
          [
           "What rooms for ship damage?",
           61
          ],
          [
           "When you spend command to activate an ability card, where does that token go?",
           5
          ],
          [
           "How is ship damage determined?",
           61
          ],
          [
           "Can you use Recipes in Combat",
           54
          ],
          [
           "Can you however cook right before combat. So a combat is happening, but you haven't started it yet. Can you cook then?",
           78
          ],
          [
           "The Refine ability let’s you spend a command to repair a ship damage. Can you do this as many times as you want? Or once per turn? Or does the command go on the ability card and then get cleared similar to adventure cards?",
           167
          ],
          [
           "It appears there are other ability cards that have spend command as well, so the general question is how exactly this works.",
           34
          ],
          [
           "Does Venom Damage Redistribute",
           67
          ],
          [
           "If crew member has zero health and poisoned, will the poison go away or does it stay.?",
           89
          ],
          [
           "If a character with Gregory's synergy token takes more damage than they have remaining health, does the excess damage go elsewhere and then you heal two, or do you heal two and then excess damage continues going on that character?  Thanks!",
           40
          ],
          [
           "When an enemy has a double or triple heart, do you need to do 2 damage in one hit to cover it or can you place one damage and have another player place the 2nd damage on their turn?",
           36
          ],
          [
           "If there is a damage token in the middle of the enemy card and I wanted to place 3 damage...can I place damage to the right and left of the middle square and then one damage is nullified because of the middle square already containing damage?",
           30
          ],
          [
           "Can I put a damage token on an empty space?",
           10
          ],
          [
           "When placing splash damage, must it be adjacent to damage places on the target?",
           128
          ],
          [
           "Equipping An Ability Card To Crew Members - Which Ones?",
           42
          ],
          [
           "Must a crew member be assigned to a challenge to allow a player to discard a card to add skill to the total fate draw?",
           57
          ],
          [
           "Can you only add skill to your own crew members, or any crew members?",
           98
          ],
          [
           "If you can't lose the X, can you still pick that option and just gain the 1 fatigue. Or if you can't pay the cost, you can't pick that option?",
           178
          ],
          [
           "When card such as “vegetable pie” says remove status, does that mean one status or all status or one status on all or all status on one crew member?",
           24
          ],
          [
           "After going through the event deck once (and reading the story), do you go through the same stack of events for the 2nd and 3rd times, or use 18 new events for each time through?",
           11
          ],
          [
           "At the end of the combat round, after the monsters each deal their damage and any end of round (hourglass) attacks, do the monsters stay there for the next monster encounter, or do the monsters go back to the monster pile?",
           144
          ],
          [
           "So, then the grey combat cubes are gathered again, and given out to the players again, so on and so forth until the monsters are destroyed or the players die, right?",
           120
          ],
          [
           "Combat: What does level mean?",
           105
          ],
          [
           "Do I have to do map challenges when passing through?",
           164
          ],
          [
           "Can you flee combat?",
           142
          ],
          [
           "We ran across the thunderstorm on the first map, and we're not sure exactly how we go about challenging it. Does the player whose turn it is activate a person for the challenge? Can you just draw a fate card, and use that number for the challenge, without using a person?",
           22
          ],
          [
           "Artifact tokens: What is their use?",
           108
          ],
          [
           "what actually triggers the end of a campaign?",
           46
          ],
          [
           "If an enemy has the “adjacent regen” power, does that regenerate one health on each adjacent monster (on both sides) for each box that has that keyword? Or does the box on the left only regenerate the enemy on the left, and the box on the right only regenerate the enemy on the right?",
           29
          ],
          [
           "If a monster gets killed, but adjacent monster triggers the \"Regenerate adjacent\" ability, does it revive the killed monster? Does the revived monster also deal damage to the player characters?",
           29
          ],
          [
           "Can’t find this in the rulebook or BGG. When setting up combat, are you free to line up the enemies in any order, or do they have to go in the order listed in the story book?",
           33
          ],
          [
           "When an enemy makes its counter attack and does damage to the character that attacked the enemy, if there is extra damage does the active player choose one of their other characters to take the rest of the damage? If so, can the other character use their block to reduce some of that damage.",
           40
          ],
          [
           "When you heal players back up that only removes damage and not fatigue or status effects? For example if you were defeated from all players losing all of their health you need to heal everyone back to full health and remove all fatigue markers, but do you remove status effects?",
           85
          ],
          [
           "When visiting a Port as an Action, you can visit the Inn, pay 4 coins and “each crew member restores 2 health and removes 1 fatigue”. Is this limited to the active player’s crew members, or do all 9 crew receive the benefit?",
           118
          ],
          [
           "Can you choose to just flip a card and not add your accuracy bonus like you do in challenges?",
           59
          ],
          [
           "I guess since you choose which weapon to use when you have more than one, you can always pick the one with lower accuracy bonus?",
           188
          ],
          [
           "Before the ship action I have one command left in the pool. I place the worker on the bridge to draw 2 command and place all used command back in the pool. Is this action draw 2 then return all or is it a simultaneous action?",
           58
          ],
          [
           "Just wanted to clarify: I add the total number of Totems found and Endings achieved to reach a figure (for example 11). Then do I get all of the unlocked quest cards that correspond to the checked boxes up to and including 11? So if I reached eleven, would I get Quest cards 171-172, 169-170, 168 and 174? Or only 174?",
           28
          ],
          [
           "I assume an instant effect on an ability card like the healing from a bandage is immediate on equipping it to the character only and cannot be used again.Am I right?",
           107
          ],
          [
           "Can a crew member have multiple synergy tokens on their crew board?",
           7
          ],
          [
           "When moving the ship and entering a space showing a hazard (skill test) in the first space you move to, can you still move to a second space afterwards?",
           53
          ],
          [
           "After having placed command tokens on a crew board to do the top ability, can you still do the bottom ability later, or do you need to remove all command first?",
           39
          ],
          [
           "Any player can discard a card from their hand to give +1 of the corresponding skill during a challenge, even if it's not that player's turn and even if his characters are not involved in the challenge?",
           59
          ],
          [
           "If you attack 2 enemies with a single attack (placing connecting cubes on the squares of 2 enemy cards), only the one you hit first will counterattack you immediately afterwards (provided that it didn't die)?",
           198
          ],
          [
           "How and when does the game give command tokens to players?",
           34
          ],
          [
           "Is there a player aid sheet in the box?",
           146
          ],
          [
           "Do credits from previous achievements carry over in subsequent campaigns?",
           46
          ],
          [
           "Design-wise, if a monster card had two hourglass symbols, would it go twice in the monster attack phase?",
           131
          ],
          [
           "What are the numbers on some of the heart-symbols on enemycards are for?",
           100
          ],
          [
           "Can you help me where to find this in the rulesbook, please?",
           99
          ],
          [
           "Let's say a counterattack (not end of round attack) reduces a character to 0 health, but there is still leftover damage to assign. If I assign that damage to a character with access to block greater than 0, can I use that block to reduce the damage taken by this character at this point?",
           40
          ],
          [
           "Let's say for example Rafael has a synergy token on Sofi's board.If Rafael is then reduced to 0 health, does his synergy token remain available to use on Sofi's board? Or is it removed from play?",
           83
          ],
          [
           "Now let's say Rafael still has his synergy token on his own board.If he then misses an attack and is reduced to 0 health by the counterattack, then places a damage token on a space with a synergy symbol - do I still get to place Rafael's synergy token on another character board?",
           83
          ],
          [
           "If we were absolutely desperate for some quick cash, are we able to cash them in for the 2 coins, or are we obligated to keep them to use at a specified time?",
           103
          ],
          [
           "The rules for defeat only say to remove all crew damage and fatigue. Does this mean in normal mode I am meant to leave status tokens and command tokens in place when I resume?",
           16
          ],
          [
           "If player 1 purchases a weapon from the market, can player 2 equip the weapon onto one of their crew instead?",
           15
          ],
          [
           "If one of the crew from player 1 has a weapon, can they just pass that weapon onto another crew member or other player's crew member at no extra cost (i.e., spending command) or is that just not allowed at all once equipped?",
           15
          ],
          [
           "Can players swap crew members during their turn between players?",
           88
          ],
          [
           "What are the differences in playing with two players?",
           93
          ],
          [
           "All spend command tokens go directly back to supply except for crew abilities and adventure cards, correct?",
           39
          ],
          [
           "In Peril, can a single character fight with more than one weapon or add cards from hand during combat?",
           125
          ],
          [
           "Are Adventure cards shared by all characters in Peril?",
           139
          ],
          [
           "In combat, can every character use the same weapon?",
           125
          ],
          [
           "Is Fatigue added to any character that does a challenge, but not combat?",
           20
          ],
          [
           "If I miss and then take the counterattack damage I am still able to do 1 damage correct?",
           25
          ],
          [
           "Does anyone know what the arrow icon on weapons like Twine’s Harpoon and Owens’ Derringer mean?",
           70
          ],
          [
           "If a card just says \"discard this card to...\" rather than \"discard this equipped card to...\" can it simple be discarded from your hand directly to trigger the effect?",
           113
          ],
          [
           "When using the bridge action from the ship board do you have to remove all command tokens from all character boards, ability and adventure cards? or can you decide which to leave.",
           39
          ],
          [
           "Hello.If there is a Hazard in the first space I enter, can I travel more than 1 space after I resolve the challenge, no matter if I win or lose it ?",
           53
          ],
          [
           "Is this errata from where the  crew members have multiple skill points? And if not, how does it works?",
           7
          ],
          [
           "What if I have no equipped strength ability card ? Is my total -1 ?",
           194
          ],
          [
           "I haven't played much yet. How do you remove status effects? Do you have to find it in the game or is it a rule I've missed?",
           85
          ],
          [
           "If I get a venom token in a combat, do this crew member lose 1 health in the next combat round or in the next turn. Or more exactly, is a next combat round also a next turn?",
           67
          ],
          [
           "Even if I control that character he loses 1 health in other players turns, right?",
           40
          ],
          [
           "If I attack two opponents with a splash attack, do they counterattack both, or only the one I have choosen to attack?",
           198
          ],
          [
           "What does remove 1 fatigue mean?",
           85
          ],
          [
           "how does a command token get removed from that section so you can use it again?",
           97
          ],
          [
           "Do you add all block values for a total Block of 3? Or do you only use the block of the equipped weapon for a total of 1?",
           68
          ],
          [
           "I’m still not clear on the end of round attack. So you can’t block that at all?",
           13
          ],
          [
           "I'm still confused. Could You clarify? Block from equipment cards adds to a block from weapons or no?",
           68
          ],
          [
           "Is finding Shen the game end condition?",
           44
          ],
          [
           "What should I do after finding Shen?",
           44
          ],
          [
           "Does the weakened effect happen to all characters or just one?",
           194
          ],
          [
           "Should a fate card  always be drawn for every challenge?",
           38
          ],
          [
           " Crew members with 2 fatigue cannot participate to a challenge. But can we use crew abilities or equipped ability cards of the exhausted crew members to alter the outcomes of the fate draw?",
           57
          ],
          [
           "Just to clarify, if the Captain has 2 Strength (including equipped abilities), I only get the +2 Strength if I put a fatigue on the Captain. But, if the Captain has the equipped ability Bold Attempt (discard to redraw fate), I could still use the ability even if the Captain did not spend fatigue to participate in the challenge, right? Also, if I did spend fatigue and the Captain gave +2 Strength, and then I discarded Bold Attempt to redraw fate, then now the Captain only contributes +1 Strength, right?",
           57
          ],
          [
           " If I decide to don‘t use a crew member in a challenge, I draw a fate. Can I decide after the fate to use a crew member?",
           1
          ],
          [
           "If no crew member was chosen to fatigue and the challenge is failed, how is it determined which crew member suffers the consequences?",
           2
          ],
          [
           "Not seeing a clarification on when to remove. Is it instantly, after that event is played, or end of turn?",
           191
          ],
          [
           "Should specify if we can add cards after the result of the draw or not (ex. if I draw a 3 fate card may I still discard a Ability card to make it 4?)",
           38
          ],
          [
           "Just starting a new campaign for the first time. If no one is assigned, then who loses health?",
           89
          ],
          [
           "In Above and Below, did you know the numbers needed to succeed?",
           173
          ],
          [
           "How is the skill number requirement handled in Sleeping Gods?",
           121
          ],
          [
           "Is it possible to do challenges / search over and over again? What's stopping you from doing the same action over and over again?",
           151
          ]
         ],
         "hovertemplate": "question=%{customdata[0]}<br>cluster=%{marker.color}<extra></extra>",
         "legendgroup": "",
         "marker": {
          "color": [
           30,
           36,
           30,
           94,
           98,
           135,
           59,
           181,
           84,
           134,
           2,
           114,
           38,
           114,
           9,
           20,
           40,
           80,
           15,
           150,
           6,
           5,
           98,
           41,
           58,
           42,
           3,
           88,
           5,
           5,
           41,
           74,
           48,
           145,
           154,
           43,
           2,
           114,
           76,
           8,
           12,
           4,
           52,
           52,
           91,
           123,
           122,
           122,
           106,
           14,
           76,
           84,
           84,
           12,
           65,
           63,
           111,
           34,
           129,
           6,
           86,
           184,
           161,
           143,
           127,
           89,
           95,
           95,
           11,
           91,
           118,
           57,
           19,
           19,
           19,
           183,
           58,
           73,
           52,
           116,
           88,
           21,
           88,
           148,
           3,
           141,
           21,
           15,
           108,
           104,
           116,
           119,
           166,
           111,
           113,
           20,
           73,
           115,
           96,
           96,
           171,
           37,
           8,
           96,
           59,
           59,
           35,
           37,
           129,
           5,
           11,
           78,
           46,
           112,
           174,
           13,
           86,
           42,
           22,
           18,
           7,
           129,
           129,
           88,
           34,
           34,
           171,
           89,
           141,
           71,
           57,
           14,
           34,
           67,
           67,
           185,
           185,
           18,
           67,
           40,
           39,
           21,
           69,
           15,
           15,
           189,
           186,
           77,
           77,
           41,
           186,
           76,
           93,
           116,
           15,
           71,
           89,
           171,
           46,
           19,
           133,
           192,
           171,
           45,
           5,
           180,
           131,
           72,
           79,
           47,
           94,
           175,
           38,
           197,
           39,
           194,
           100,
           7,
           79,
           36,
           25,
           10,
           153,
           73,
           180,
           53,
           193,
           22,
           53,
           72,
           22,
           24,
           106,
           106,
           74,
           109,
           9,
           42,
           104,
           53,
           57,
           101,
           22,
           53,
           140,
           169,
           81,
           130,
           38,
           57,
           66,
           96,
           4,
           5,
           197,
           32,
           19,
           0,
           23,
           19,
           19,
           177,
           92,
           113,
           19,
           21,
           125,
           189,
           18,
           189,
           91,
           106,
           9,
           137,
           24,
           72,
           1,
           176,
           117,
           118,
           23,
           158,
           73,
           56,
           56,
           16,
           116,
           24,
           65,
           35,
           47,
           99,
           77,
           111,
           152,
           193,
           106,
           106,
           146,
           104,
           14,
           150,
           141,
           141,
           87,
           4,
           4,
           11,
           8,
           66,
           66,
           75,
           37,
           97,
           102,
           184,
           102,
           164,
           76,
           88,
           5,
           11,
           11,
           58,
           61,
           37,
           180,
           22,
           28,
           132,
           57,
           58,
           21,
           118,
           19,
           162,
           82,
           18,
           82,
           114,
           116,
           79,
           73,
           17,
           199,
           86,
           72,
           48,
           36,
           128,
           8,
           139,
           139,
           16,
           168,
           69,
           58,
           141,
           149,
           96,
           116,
           190,
           76,
           29,
           124,
           124,
           58,
           33,
           27,
           98,
           71,
           100,
           139,
           4,
           34,
           34,
           171,
           5,
           35,
           102,
           93,
           195,
           89,
           81,
           160,
           25,
           163,
           182,
           8,
           139,
           71,
           136,
           57,
           50,
           50,
           50,
           138,
           156,
           52,
           7,
           116,
           57,
           165,
           176,
           85,
           33,
           39,
           120,
           17,
           17,
           113,
           52,
           52,
           51,
           13,
           13,
           86,
           125,
           186,
           11,
           153,
           7,
           35,
           107,
           22,
           7,
           38,
           27,
           12,
           78,
           60,
           147,
           42,
           22,
           126,
           16,
           182,
           118,
           15,
           58,
           115,
           69,
           20,
           96,
           154,
           28,
           26,
           170,
           26,
           26,
           49,
           141,
           19,
           116,
           176,
           116,
           46,
           31,
           46,
           8,
           90,
           91,
           91,
           86,
           116,
           116,
           1,
           196,
           186,
           46,
           55,
           0,
           38,
           1,
           39,
           59,
           128,
           52,
           52,
           52,
           109,
           69,
           18,
           29,
           14,
           14,
           14,
           62,
           107,
           159,
           11,
           110,
           172,
           172,
           47,
           25,
           169,
           116,
           116,
           1,
           157,
           23,
           89,
           155,
           127,
           9,
           117,
           179,
           114,
           10,
           10,
           72,
           187,
           38,
           64,
           177,
           90,
           167,
           47,
           142,
           53,
           163,
           128,
           147,
           1,
           98,
           167,
           61,
           5,
           61,
           54,
           78,
           167,
           34,
           67,
           89,
           40,
           36,
           30,
           10,
           128,
           42,
           57,
           98,
           178,
           24,
           11,
           144,
           120,
           105,
           164,
           142,
           22,
           108,
           46,
           29,
           29,
           33,
           40,
           85,
           118,
           59,
           188,
           58,
           28,
           107,
           7,
           53,
           39,
           59,
           198,
           34,
           146,
           46,
           131,
           100,
           99,
           40,
           83,
           83,
           103,
           16,
           15,
           15,
           88,
           93,
           39,
           125,
           139,
           125,
           20,
           25,
           70,
           113,
           39,
           53,
           7,
           194,
           85,
           67,
           40,
           198,
           85,
           97,
           68,
           13,
           68,
           44,
           44,
           194,
           38,
           57,
           57,
           1,
           2,
           191,
           38,
           89,
           173,
           121,
           151
          ],
          "coloraxis": "coloraxis",
          "symbol": "circle"
         },
         "mode": "markers",
         "name": "",
         "orientation": "v",
         "showlegend": false,
         "type": "scatter",
         "x": [
          13.967593,
          14.316022,
          13.946939,
          10.186301,
          13.541139,
          13.985683,
          11.367369,
          12.418211,
          14.135102,
          14.541259,
          14.720329,
          14.41491,
          11.762302,
          14.538227,
          10.350367,
          14.9292145,
          15.049294,
          9.396355,
          13.873899,
          10.180536,
          15.224376,
          12.65782,
          14.020388,
          14.803061,
          12.134487,
          12.98777,
          11.542176,
          13.768123,
          12.538948,
          12.52743,
          14.967282,
          13.079196,
          14.138096,
          13.764971,
          15.122536,
          8.934996,
          14.519015,
          14.5020895,
          14.895822,
          12.83652,
          12.626107,
          13.036589,
          11.885252,
          11.669183,
          9.621864,
          14.960753,
          9.344329,
          9.301003,
          10.180778,
          9.467452,
          14.666114,
          14.163301,
          14.656151,
          14.289835,
          14.443656,
          14.184469,
          8.768941,
          12.7752495,
          14.072903,
          14.950269,
          9.305294,
          9.380179,
          9.213703,
          9.202786,
          15.424212,
          14.889184,
          15.396243,
          15.51052,
          9.392431,
          10.368916,
          14.646463,
          13.884457,
          13.475489,
          12.544095,
          13.32556,
          13.405474,
          11.541894,
          13.706705,
          11.4509,
          13.865299,
          12.982488,
          13.588222,
          13.783041,
          14.685916,
          11.574505,
          8.743286,
          12.862822,
          13.761376,
          11.496047,
          12.532579,
          13.269907,
          12.848013,
          10.111329,
          8.819458,
          11.447036,
          14.97832,
          14.116889,
          10.127152,
          12.518117,
          12.24768,
          10.250691,
          10.509614,
          12.818622,
          11.772765,
          11.527396,
          11.489328,
          9.507936,
          11.048584,
          13.9744835,
          12.574383,
          9.325564,
          11.124122,
          8.585751,
          12.961168,
          11.200128,
          14.599656,
          9.389895,
          13.250834,
          10.895007,
          13.282798,
          13.92461,
          14.093981,
          14.186135,
          13.519805,
          12.505117,
          12.566979,
          10.16012,
          15.1974325,
          8.714478,
          9.882182,
          14.579158,
          9.478179,
          12.653546,
          14.920991,
          15.044416,
          12.743032,
          12.799341,
          13.239355,
          14.908076,
          14.596336,
          12.671071,
          12.715916,
          15.126401,
          13.745782,
          13.747233,
          15.590959,
          13.644932,
          9.523181,
          9.624297,
          14.959664,
          12.58215,
          15.162447,
          11.672105,
          12.855342,
          13.716197,
          9.686933,
          15.245285,
          9.834465,
          8.534476,
          13.474976,
          13.313796,
          13.2401495,
          10.260727,
          11.006549,
          12.492168,
          14.438364,
          14.751349,
          10.405921,
          12.590415,
          13.282387,
          10.043496,
          10.036117,
          12.213314,
          12.75113,
          12.745929,
          14.510665,
          14.334938,
          13.573608,
          12.539297,
          14.127436,
          15.2579155,
          13.720564,
          15.189831,
          13.996673,
          14.455807,
          10.424601,
          11.356047,
          10.56779,
          10.511194,
          10.596639,
          10.433794,
          14.697228,
          9.617871,
          9.616071,
          13.204753,
          15.220095,
          9.903721,
          13.247761,
          12.374268,
          12.177787,
          14.109203,
          11.030224,
          13.936051,
          10.472976,
          11.148813,
          12.239977,
          15.30975,
          14.84656,
          12.422999,
          13.670941,
          9.874315,
          11.960249,
          12.945715,
          12.140184,
          13.903404,
          14.703614,
          13.208304,
          11.535099,
          11.0839815,
          13.563265,
          13.420611,
          11.59418,
          11.548569,
          11.890935,
          13.267421,
          13.7719555,
          13.694306,
          15.7301855,
          13.505239,
          15.744684,
          10.348183,
          9.807638,
          10.0293665,
          13.670335,
          14.975719,
          10.349502,
          13.052021,
          12.974489,
          9.642015,
          14.867605,
          11.075758,
          8.971032,
          13.954067,
          14.097527,
          14.259437,
          12.744833,
          13.853087,
          14.897262,
          14.446575,
          9.38027,
          14.094759,
          10.958734,
          9.539543,
          8.767139,
          14.618789,
          9.115001,
          9.251442,
          9.491387,
          11.051653,
          12.490176,
          9.638875,
          8.883601,
          8.8467245,
          8.810188,
          9.247942,
          12.987699,
          13.060739,
          9.275947,
          12.855503,
          11.468968,
          9.962425,
          9.612874,
          10.00331,
          12.395504,
          8.5441675,
          9.498055,
          8.461038,
          9.448565,
          15.020871,
          13.854961,
          12.784255,
          9.394939,
          9.50227,
          11.87142,
          14.266738,
          10.444921,
          14.49796,
          10.778674,
          8.956399,
          9.034505,
          14.373329,
          11.962474,
          12.914052,
          14.562719,
          13.529051,
          13.850986,
          13.13354,
          13.270356,
          13.201289,
          14.413936,
          14.153471,
          12.731628,
          13.633163,
          11.864078,
          11.551846,
          9.2485695,
          10.299639,
          14.247706,
          14.193286,
          14.434309,
          12.883088,
          11.49155,
          11.50737,
          15.349225,
          15.742017,
          15.051289,
          11.984462,
          8.744644,
          10.503995,
          11.189146,
          14.017025,
          14.526082,
          14.948781,
          14.256674,
          10.493938,
          10.40927,
          12.0795355,
          13.671999,
          15.350935,
          14.043032,
          9.782112,
          14.432296,
          12.622391,
          14.173349,
          12.656812,
          12.571748,
          9.690945,
          12.426457,
          9.541867,
          8.6546135,
          11.682576,
          10.604752,
          15.231887,
          15.137277,
          10.93514,
          15.24474,
          14.419552,
          15.738581,
          12.927572,
          13.112516,
          9.795809,
          11.530853,
          14.012564,
          10.462451,
          10.466123,
          10.27305,
          11.345419,
          9.132243,
          11.874396,
          13.701578,
          13.601497,
          14.426052,
          13.576851,
          13.0288315,
          15.682731,
          13.719145,
          13.487607,
          14.921576,
          11.799631,
          11.800636,
          11.74933,
          11.630647,
          11.646663,
          12.913028,
          14.714178,
          14.544767,
          9.188998,
          14.159355,
          12.658611,
          9.212185,
          13.247009,
          13.965257,
          9.360504,
          12.276092,
          11.804213,
          13.944615,
          12.122664,
          15.282184,
          13.834365,
          11.08901,
          9.220869,
          15.366096,
          12.938221,
          10.580563,
          10.695609,
          15.0219145,
          15.616275,
          14.694258,
          14.002969,
          12.228001,
          10.175693,
          14.9428625,
          14.629142,
          12.334495,
          15.090626,
          8.74501,
          11.289212,
          10.850436,
          11.4023695,
          15.111615,
          10.05806,
          8.708618,
          13.880911,
          13.997915,
          13.100013,
          13.858966,
          8.675753,
          8.990129,
          8.596037,
          12.828788,
          10.209721,
          10.262347,
          10.486694,
          9.213207,
          13.837854,
          13.751965,
          12.906459,
          15.521585,
          13.666932,
          8.685803,
          11.589955,
          11.597049,
          12.176258,
          12.914088,
          12.92163,
          11.075763,
          14.535497,
          11.751582,
          11.4447,
          11.670882,
          15.018768,
          15.051214,
          13.132277,
          14.395299,
          9.759912,
          9.532383,
          9.537045,
          13.563074,
          12.084027,
          10.815205,
          9.391346,
          12.479641,
          8.94621,
          8.918436,
          13.109465,
          14.212625,
          12.161608,
          13.650952,
          14.344468,
          12.690621,
          10.25164,
          10.805531,
          15.031453,
          12.63244,
          15.597794,
          9.633457,
          9.5442,
          14.484393,
          14.350542,
          13.805286,
          13.742712,
          10.349626,
          12.038499,
          12.639959,
          10.246292,
          11.544252,
          10.303047,
          10.349744,
          13.124117,
          13.556051,
          10.338743,
          14.735989,
          14.320472,
          15.32204,
          13.687506,
          13.434289,
          12.177541,
          14.279864,
          12.555113,
          14.388587,
          11.2248955,
          11.250188,
          12.235954,
          12.484553,
          14.889676,
          15.357144,
          15.24074,
          14.29589,
          13.892197,
          13.633202,
          14.118837,
          13.166451,
          13.425302,
          14.007718,
          14.589375,
          15.050756,
          9.443723,
          14.770436,
          14.898867,
          14.061735,
          10.175985,
          13.562261,
          12.29764,
          11.790195,
          8.648106,
          14.223989,
          14.48961,
          13.57598,
          14.818012,
          15.738528,
          14.903937,
          11.728432,
          13.192108,
          11.82442,
          8.851867,
          12.322563,
          15.784462,
          10.42523,
          12.2007475,
          11.452364,
          14.733014,
          12.539928,
          11.032848,
          8.439195,
          14.79043,
          14.377452,
          10.936642,
          14.820087,
          15.465466,
          15.366986,
          11.498764,
          15.363769,
          13.9686575,
          13.933863,
          13.73774,
          11.568532,
          12.594633,
          12.368904,
          11.490321,
          13.578418,
          14.782891,
          15.168868,
          13.173259,
          11.531102,
          12.050554,
          10.374396,
          13.790171,
          12.534316,
          15.781761,
          15.089447,
          15.108894,
          14.744694,
          15.133593,
          12.386468,
          13.595096,
          14.536096,
          13.616143,
          8.916549,
          8.881006,
          14.873809,
          12.312286,
          14.287898,
          14.36067,
          13.774188,
          14.654327,
          9.601955,
          12.223063,
          15.195281,
          9.7936945,
          13.226007,
          9.965198
         ],
         "xaxis": "x",
         "y": [
          9.107926,
          9.021166,
          9.082804,
          11.202894,
          13.919561,
          11.174467,
          14.229546,
          12.089341,
          12.522093,
          11.119467,
          11.882898,
          10.620057,
          13.892664,
          10.540671,
          11.428416,
          12.632623,
          9.613543,
          11.287168,
          14.566947,
          12.023503,
          11.091407,
          11.679626,
          10.763097,
          8.986232,
          12.024657,
          14.878303,
          10.01005,
          13.5364275,
          12.042787,
          11.724941,
          9.1157,
          13.214026,
          11.784887,
          9.144783,
          11.222148,
          12.6311035,
          11.181927,
          10.764335,
          11.405284,
          15.1575575,
          13.943675,
          12.37726,
          14.816713,
          14.818791,
          13.644278,
          11.086944,
          14.281774,
          14.320368,
          14.299446,
          13.025541,
          11.590218,
          12.484018,
          12.052551,
          12.965271,
          12.050853,
          8.693891,
          12.617879,
          11.676956,
          9.625147,
          10.813028,
          14.26127,
          11.275693,
          11.374139,
          11.400333,
          10.532361,
          11.757677,
          11.213084,
          10.763902,
          14.314181,
          12.666191,
          13.507658,
          13.64339,
          12.778125,
          12.470052,
          12.8888855,
          14.371506,
          11.881292,
          13.354188,
          14.525171,
          13.551161,
          11.877925,
          9.352257,
          13.217927,
          11.239967,
          9.974311,
          11.9813595,
          9.803268,
          14.22705,
          10.147858,
          10.173669,
          13.764314,
          13.845667,
          13.876961,
          12.625339,
          14.792386,
          12.719804,
          13.202428,
          11.351796,
          14.424539,
          14.376669,
          14.456907,
          13.247959,
          15.099599,
          14.547618,
          14.323954,
          14.479804,
          14.299815,
          12.665427,
          9.472244,
          11.456145,
          13.161099,
          12.353536,
          12.137105,
          14.773936,
          12.67478,
          10.11541,
          14.273366,
          14.427059,
          12.276697,
          10.802449,
          13.843623,
          9.337241,
          9.308556,
          13.566277,
          11.154655,
          11.141543,
          14.506611,
          11.652899,
          12.04861,
          10.817409,
          12.429229,
          13.065529,
          10.855295,
          10.779968,
          10.775184,
          11.2467985,
          11.194215,
          11.12447,
          10.672829,
          10.105356,
          12.872989,
          9.912646,
          12.750044,
          14.699485,
          14.711839,
          10.405018,
          14.724672,
          13.85193,
          13.993866,
          9.094099,
          14.237483,
          11.18853,
          12.946885,
          14.0444355,
          12.048601,
          11.077621,
          11.48443,
          14.502654,
          12.232485,
          12.862519,
          14.0762615,
          14.294312,
          14.484294,
          13.445648,
          11.74231,
          12.481528,
          9.941152,
          11.262772,
          13.002988,
          12.930351,
          11.246011,
          11.404298,
          13.186598,
          10.72066,
          12.120122,
          12.3986635,
          8.827559,
          13.501151,
          12.695903,
          8.994472,
          9.52616,
          8.925073,
          10.00602,
          12.680829,
          12.348362,
          10.997831,
          14.36735,
          12.499998,
          10.955583,
          11.628464,
          12.0560055,
          13.525859,
          14.205719,
          14.351969,
          13.16639,
          9.387716,
          10.982424,
          14.457917,
          10.424157,
          10.671944,
          12.960081,
          12.898171,
          11.30228,
          11.011333,
          13.708107,
          13.172113,
          12.321529,
          9.664077,
          13.735858,
          12.575095,
          10.839566,
          14.204048,
          12.52209,
          12.254435,
          11.855862,
          9.394389,
          13.247416,
          13.012927,
          14.474609,
          12.740987,
          12.658992,
          9.9628935,
          9.888771,
          14.657527,
          12.603671,
          11.042784,
          14.428365,
          10.465454,
          11.282027,
          10.589636,
          12.724052,
          14.215259,
          11.302835,
          14.694069,
          13.229642,
          11.12313,
          12.997,
          13.220776,
          11.332417,
          13.405797,
          14.406504,
          12.93009,
          12.763237,
          12.177221,
          12.3134575,
          11.733029,
          13.439057,
          13.318635,
          11.034804,
          14.38378,
          13.848477,
          13.538543,
          13.902693,
          12.6221,
          11.562228,
          12.66429,
          14.415317,
          14.392279,
          13.560891,
          10.246947,
          13.104608,
          11.872336,
          11.855348,
          11.872097,
          11.344225,
          12.301643,
          12.303208,
          14.355012,
          15.171598,
          10.91725,
          10.89043,
          11.220413,
          13.301684,
          11.099964,
          12.220482,
          11.356287,
          12.427222,
          11.200647,
          11.488275,
          13.426802,
          11.731102,
          14.454737,
          14.508072,
          11.721199,
          10.591279,
          13.268414,
          12.608862,
          12.43364,
          12.489415,
          11.569939,
          12.8843975,
          11.854259,
          9.797823,
          13.633391,
          12.563981,
          13.832447,
          11.023626,
          11.269487,
          10.893552,
          9.887781,
          13.230339,
          12.892177,
          12.651696,
          14.76958,
          11.280254,
          14.24928,
          11.376554,
          11.813145,
          8.939142,
          9.313401,
          15.042731,
          13.4608965,
          13.718983,
          11.919395,
          12.153895,
          12.784143,
          11.851142,
          11.9456625,
          10.9485445,
          14.628543,
          13.398715,
          13.668647,
          11.315822,
          10.055977,
          12.409687,
          12.506803,
          12.292037,
          9.561389,
          12.369069,
          13.978291,
          10.960254,
          8.918768,
          13.079614,
          9.838522,
          11.249952,
          11.528214,
          14.496469,
          12.027326,
          13.315432,
          12.440663,
          12.937768,
          10.799488,
          11.699236,
          12.068824,
          13.51208,
          9.662372,
          9.304695,
          12.129298,
          15.229657,
          12.843618,
          10.772869,
          9.980844,
          13.055113,
          13.553141,
          13.446892,
          13.715979,
          12.626966,
          14.197095,
          15.021096,
          14.097309,
          13.329954,
          12.892919,
          13.054323,
          13.167903,
          12.053125,
          9.506338,
          14.120902,
          10.352061,
          14.919178,
          14.924178,
          14.8366585,
          14.983669,
          14.972526,
          10.406359,
          9.867052,
          10.265599,
          14.37094,
          11.233855,
          14.303363,
          14.221672,
          11.141921,
          13.856023,
          13.878685,
          14.019972,
          13.563221,
          13.910229,
          13.189056,
          12.32765,
          11.312931,
          12.162598,
          11.832674,
          9.418876,
          14.81304,
          12.418837,
          12.580811,
          11.719958,
          12.215766,
          13.575529,
          14.546628,
          11.965989,
          11.213956,
          12.752142,
          12.75505,
          14.080812,
          11.0673895,
          12.24767,
          12.465304,
          11.909903,
          12.437563,
          12.953905,
          11.456351,
          11.941575,
          12.908474,
          13.955829,
          13.283121,
          13.434331,
          12.039927,
          11.624489,
          12.106178,
          14.995186,
          11.7858925,
          12.816019,
          12.890075,
          14.080093,
          13.360457,
          13.233016,
          12.96433,
          12.270746,
          14.756971,
          12.372934,
          9.918966,
          13.035012,
          13.104073,
          13.116899,
          11.965672,
          14.284432,
          9.200692,
          14.935251,
          14.744348,
          15.050122,
          9.171501,
          12.695591,
          11.244884,
          9.772385,
          13.0295725,
          13.018638,
          13.052077,
          10.459025,
          13.608254,
          13.233439,
          14.475697,
          10.224046,
          12.749618,
          12.711615,
          12.689619,
          9.277307,
          13.230213,
          14.0723095,
          13.80177,
          13.115027,
          11.13564,
          14.511871,
          11.9045105,
          10.43343,
          10.362542,
          11.39273,
          11.501451,
          10.622649,
          10.6752825,
          8.899571,
          8.9837265,
          11.411914,
          11.204595,
          13.061828,
          11.786459,
          9.906884,
          11.768587,
          12.882797,
          12.339009,
          11.680378,
          10.903144,
          9.246966,
          9.106567,
          9.337355,
          12.289467,
          13.666981,
          11.900183,
          10.8232565,
          11.352284,
          10.845081,
          12.362608,
          12.2412405,
          11.894811,
          11.477396,
          10.657048,
          11.601275,
          9.9357605,
          9.111877,
          8.999776,
          8.968001,
          9.301793,
          14.2587805,
          12.894238,
          14.071204,
          12.852618,
          13.27635,
          14.4401245,
          10.150364,
          10.321509,
          11.344467,
          11.073503,
          11.665947,
          12.8722515,
          10.135512,
          12.170309,
          9.664358,
          9.865997,
          9.531736,
          9.871052,
          12.196563,
          13.419233,
          14.150271,
          14.362666,
          11.850899,
          12.232317,
          13.903815,
          10.422334,
          11.006893,
          11.931926,
          14.32945,
          9.657004,
          11.223068,
          13.472045,
          12.121336,
          9.775933,
          8.846875,
          13.491156,
          9.84154,
          10.1948185,
          9.94977,
          9.859728,
          12.0575075,
          14.6465,
          14.592951,
          13.625869,
          12.882668,
          11.645064,
          14.730757,
          13.625252,
          14.616494,
          12.728284,
          9.401378,
          9.9979515,
          14.831847,
          11.857656,
          10.91913,
          14.042799,
          14.437606,
          12.148208,
          10.8563795,
          10.7958145,
          9.593638,
          12.748073,
          11.075393,
          10.476769,
          9.958173,
          10.467162,
          12.808672,
          12.787163,
          12.097133,
          13.058178,
          12.913933,
          12.990998,
          12.773074,
          12.189389,
          13.754763,
          13.277185,
          11.286306,
          12.758473,
          13.555368,
          10.777637
         ],
         "yaxis": "y"
        }
       ],
       "layout": {
        "coloraxis": {
         "colorbar": {
          "title": {
           "text": "cluster"
          }
         },
         "colorscale": [
          [
           0,
           "#0d0887"
          ],
          [
           0.1111111111111111,
           "#46039f"
          ],
          [
           0.2222222222222222,
           "#7201a8"
          ],
          [
           0.3333333333333333,
           "#9c179e"
          ],
          [
           0.4444444444444444,
           "#bd3786"
          ],
          [
           0.5555555555555556,
           "#d8576b"
          ],
          [
           0.6666666666666666,
           "#ed7953"
          ],
          [
           0.7777777777777778,
           "#fb9f3a"
          ],
          [
           0.8888888888888888,
           "#fdca26"
          ],
          [
           1,
           "#f0f921"
          ]
         ]
        },
        "height": 1600,
        "legend": {
         "tracegroupgap": 0
        },
        "template": {
         "data": {
          "bar": [
           {
            "error_x": {
             "color": "#2a3f5f"
            },
            "error_y": {
             "color": "#2a3f5f"
            },
            "marker": {
             "line": {
              "color": "#E5ECF6",
              "width": 0.5
             },
             "pattern": {
              "fillmode": "overlay",
              "size": 10,
              "solidity": 0.2
             }
            },
            "type": "bar"
           }
          ],
          "barpolar": [
           {
            "marker": {
             "line": {
              "color": "#E5ECF6",
              "width": 0.5
             },
             "pattern": {
              "fillmode": "overlay",
              "size": 10,
              "solidity": 0.2
             }
            },
            "type": "barpolar"
           }
          ],
          "carpet": [
           {
            "aaxis": {
             "endlinecolor": "#2a3f5f",
             "gridcolor": "white",
             "linecolor": "white",
             "minorgridcolor": "white",
             "startlinecolor": "#2a3f5f"
            },
            "baxis": {
             "endlinecolor": "#2a3f5f",
             "gridcolor": "white",
             "linecolor": "white",
             "minorgridcolor": "white",
             "startlinecolor": "#2a3f5f"
            },
            "type": "carpet"
           }
          ],
          "choropleth": [
           {
            "colorbar": {
             "outlinewidth": 0,
             "ticks": ""
            },
            "type": "choropleth"
           }
          ],
          "contour": [
           {
            "colorbar": {
             "outlinewidth": 0,
             "ticks": ""
            },
            "colorscale": [
             [
              0,
              "#0d0887"
             ],
             [
              0.1111111111111111,
              "#46039f"
             ],
             [
              0.2222222222222222,
              "#7201a8"
             ],
             [
              0.3333333333333333,
              "#9c179e"
             ],
             [
              0.4444444444444444,
              "#bd3786"
             ],
             [
              0.5555555555555556,
              "#d8576b"
             ],
             [
              0.6666666666666666,
              "#ed7953"
             ],
             [
              0.7777777777777778,
              "#fb9f3a"
             ],
             [
              0.8888888888888888,
              "#fdca26"
             ],
             [
              1,
              "#f0f921"
             ]
            ],
            "type": "contour"
           }
          ],
          "contourcarpet": [
           {
            "colorbar": {
             "outlinewidth": 0,
             "ticks": ""
            },
            "type": "contourcarpet"
           }
          ],
          "heatmap": [
           {
            "colorbar": {
             "outlinewidth": 0,
             "ticks": ""
            },
            "colorscale": [
             [
              0,
              "#0d0887"
             ],
             [
              0.1111111111111111,
              "#46039f"
             ],
             [
              0.2222222222222222,
              "#7201a8"
             ],
             [
              0.3333333333333333,
              "#9c179e"
             ],
             [
              0.4444444444444444,
              "#bd3786"
             ],
             [
              0.5555555555555556,
              "#d8576b"
             ],
             [
              0.6666666666666666,
              "#ed7953"
             ],
             [
              0.7777777777777778,
              "#fb9f3a"
             ],
             [
              0.8888888888888888,
              "#fdca26"
             ],
             [
              1,
              "#f0f921"
             ]
            ],
            "type": "heatmap"
           }
          ],
          "heatmapgl": [
           {
            "colorbar": {
             "outlinewidth": 0,
             "ticks": ""
            },
            "colorscale": [
             [
              0,
              "#0d0887"
             ],
             [
              0.1111111111111111,
              "#46039f"
             ],
             [
              0.2222222222222222,
              "#7201a8"
             ],
             [
              0.3333333333333333,
              "#9c179e"
             ],
             [
              0.4444444444444444,
              "#bd3786"
             ],
             [
              0.5555555555555556,
              "#d8576b"
             ],
             [
              0.6666666666666666,
              "#ed7953"
             ],
             [
              0.7777777777777778,
              "#fb9f3a"
             ],
             [
              0.8888888888888888,
              "#fdca26"
             ],
             [
              1,
              "#f0f921"
             ]
            ],
            "type": "heatmapgl"
           }
          ],
          "histogram": [
           {
            "marker": {
             "pattern": {
              "fillmode": "overlay",
              "size": 10,
              "solidity": 0.2
             }
            },
            "type": "histogram"
           }
          ],
          "histogram2d": [
           {
            "colorbar": {
             "outlinewidth": 0,
             "ticks": ""
            },
            "colorscale": [
             [
              0,
              "#0d0887"
             ],
             [
              0.1111111111111111,
              "#46039f"
             ],
             [
              0.2222222222222222,
              "#7201a8"
             ],
             [
              0.3333333333333333,
              "#9c179e"
             ],
             [
              0.4444444444444444,
              "#bd3786"
             ],
             [
              0.5555555555555556,
              "#d8576b"
             ],
             [
              0.6666666666666666,
              "#ed7953"
             ],
             [
              0.7777777777777778,
              "#fb9f3a"
             ],
             [
              0.8888888888888888,
              "#fdca26"
             ],
             [
              1,
              "#f0f921"
             ]
            ],
            "type": "histogram2d"
           }
          ],
          "histogram2dcontour": [
           {
            "colorbar": {
             "outlinewidth": 0,
             "ticks": ""
            },
            "colorscale": [
             [
              0,
              "#0d0887"
             ],
             [
              0.1111111111111111,
              "#46039f"
             ],
             [
              0.2222222222222222,
              "#7201a8"
             ],
             [
              0.3333333333333333,
              "#9c179e"
             ],
             [
              0.4444444444444444,
              "#bd3786"
             ],
             [
              0.5555555555555556,
              "#d8576b"
             ],
             [
              0.6666666666666666,
              "#ed7953"
             ],
             [
              0.7777777777777778,
              "#fb9f3a"
             ],
             [
              0.8888888888888888,
              "#fdca26"
             ],
             [
              1,
              "#f0f921"
             ]
            ],
            "type": "histogram2dcontour"
           }
          ],
          "mesh3d": [
           {
            "colorbar": {
             "outlinewidth": 0,
             "ticks": ""
            },
            "type": "mesh3d"
           }
          ],
          "parcoords": [
           {
            "line": {
             "colorbar": {
              "outlinewidth": 0,
              "ticks": ""
             }
            },
            "type": "parcoords"
           }
          ],
          "pie": [
           {
            "automargin": true,
            "type": "pie"
           }
          ],
          "scatter": [
           {
            "fillpattern": {
             "fillmode": "overlay",
             "size": 10,
             "solidity": 0.2
            },
            "type": "scatter"
           }
          ],
          "scatter3d": [
           {
            "line": {
             "colorbar": {
              "outlinewidth": 0,
              "ticks": ""
             }
            },
            "marker": {
             "colorbar": {
              "outlinewidth": 0,
              "ticks": ""
             }
            },
            "type": "scatter3d"
           }
          ],
          "scattercarpet": [
           {
            "marker": {
             "colorbar": {
              "outlinewidth": 0,
              "ticks": ""
             }
            },
            "type": "scattercarpet"
           }
          ],
          "scattergeo": [
           {
            "marker": {
             "colorbar": {
              "outlinewidth": 0,
              "ticks": ""
             }
            },
            "type": "scattergeo"
           }
          ],
          "scattergl": [
           {
            "marker": {
             "colorbar": {
              "outlinewidth": 0,
              "ticks": ""
             }
            },
            "type": "scattergl"
           }
          ],
          "scattermapbox": [
           {
            "marker": {
             "colorbar": {
              "outlinewidth": 0,
              "ticks": ""
             }
            },
            "type": "scattermapbox"
           }
          ],
          "scatterpolar": [
           {
            "marker": {
             "colorbar": {
              "outlinewidth": 0,
              "ticks": ""
             }
            },
            "type": "scatterpolar"
           }
          ],
          "scatterpolargl": [
           {
            "marker": {
             "colorbar": {
              "outlinewidth": 0,
              "ticks": ""
             }
            },
            "type": "scatterpolargl"
           }
          ],
          "scatterternary": [
           {
            "marker": {
             "colorbar": {
              "outlinewidth": 0,
              "ticks": ""
             }
            },
            "type": "scatterternary"
           }
          ],
          "surface": [
           {
            "colorbar": {
             "outlinewidth": 0,
             "ticks": ""
            },
            "colorscale": [
             [
              0,
              "#0d0887"
             ],
             [
              0.1111111111111111,
              "#46039f"
             ],
             [
              0.2222222222222222,
              "#7201a8"
             ],
             [
              0.3333333333333333,
              "#9c179e"
             ],
             [
              0.4444444444444444,
              "#bd3786"
             ],
             [
              0.5555555555555556,
              "#d8576b"
             ],
             [
              0.6666666666666666,
              "#ed7953"
             ],
             [
              0.7777777777777778,
              "#fb9f3a"
             ],
             [
              0.8888888888888888,
              "#fdca26"
             ],
             [
              1,
              "#f0f921"
             ]
            ],
            "type": "surface"
           }
          ],
          "table": [
           {
            "cells": {
             "fill": {
              "color": "#EBF0F8"
             },
             "line": {
              "color": "white"
             }
            },
            "header": {
             "fill": {
              "color": "#C8D4E3"
             },
             "line": {
              "color": "white"
             }
            },
            "type": "table"
           }
          ]
         },
         "layout": {
          "annotationdefaults": {
           "arrowcolor": "#2a3f5f",
           "arrowhead": 0,
           "arrowwidth": 1
          },
          "autotypenumbers": "strict",
          "coloraxis": {
           "colorbar": {
            "outlinewidth": 0,
            "ticks": ""
           }
          },
          "colorscale": {
           "diverging": [
            [
             0,
             "#8e0152"
            ],
            [
             0.1,
             "#c51b7d"
            ],
            [
             0.2,
             "#de77ae"
            ],
            [
             0.3,
             "#f1b6da"
            ],
            [
             0.4,
             "#fde0ef"
            ],
            [
             0.5,
             "#f7f7f7"
            ],
            [
             0.6,
             "#e6f5d0"
            ],
            [
             0.7,
             "#b8e186"
            ],
            [
             0.8,
             "#7fbc41"
            ],
            [
             0.9,
             "#4d9221"
            ],
            [
             1,
             "#276419"
            ]
           ],
           "sequential": [
            [
             0,
             "#0d0887"
            ],
            [
             0.1111111111111111,
             "#46039f"
            ],
            [
             0.2222222222222222,
             "#7201a8"
            ],
            [
             0.3333333333333333,
             "#9c179e"
            ],
            [
             0.4444444444444444,
             "#bd3786"
            ],
            [
             0.5555555555555556,
             "#d8576b"
            ],
            [
             0.6666666666666666,
             "#ed7953"
            ],
            [
             0.7777777777777778,
             "#fb9f3a"
            ],
            [
             0.8888888888888888,
             "#fdca26"
            ],
            [
             1,
             "#f0f921"
            ]
           ],
           "sequentialminus": [
            [
             0,
             "#0d0887"
            ],
            [
             0.1111111111111111,
             "#46039f"
            ],
            [
             0.2222222222222222,
             "#7201a8"
            ],
            [
             0.3333333333333333,
             "#9c179e"
            ],
            [
             0.4444444444444444,
             "#bd3786"
            ],
            [
             0.5555555555555556,
             "#d8576b"
            ],
            [
             0.6666666666666666,
             "#ed7953"
            ],
            [
             0.7777777777777778,
             "#fb9f3a"
            ],
            [
             0.8888888888888888,
             "#fdca26"
            ],
            [
             1,
             "#f0f921"
            ]
           ]
          },
          "colorway": [
           "#636efa",
           "#EF553B",
           "#00cc96",
           "#ab63fa",
           "#FFA15A",
           "#19d3f3",
           "#FF6692",
           "#B6E880",
           "#FF97FF",
           "#FECB52"
          ],
          "font": {
           "color": "#2a3f5f"
          },
          "geo": {
           "bgcolor": "white",
           "lakecolor": "white",
           "landcolor": "#E5ECF6",
           "showlakes": true,
           "showland": true,
           "subunitcolor": "white"
          },
          "hoverlabel": {
           "align": "left"
          },
          "hovermode": "closest",
          "mapbox": {
           "style": "light"
          },
          "paper_bgcolor": "white",
          "plot_bgcolor": "#E5ECF6",
          "polar": {
           "angularaxis": {
            "gridcolor": "white",
            "linecolor": "white",
            "ticks": ""
           },
           "bgcolor": "#E5ECF6",
           "radialaxis": {
            "gridcolor": "white",
            "linecolor": "white",
            "ticks": ""
           }
          },
          "scene": {
           "xaxis": {
            "backgroundcolor": "#E5ECF6",
            "gridcolor": "white",
            "gridwidth": 2,
            "linecolor": "white",
            "showbackground": true,
            "ticks": "",
            "zerolinecolor": "white"
           },
           "yaxis": {
            "backgroundcolor": "#E5ECF6",
            "gridcolor": "white",
            "gridwidth": 2,
            "linecolor": "white",
            "showbackground": true,
            "ticks": "",
            "zerolinecolor": "white"
           },
           "zaxis": {
            "backgroundcolor": "#E5ECF6",
            "gridcolor": "white",
            "gridwidth": 2,
            "linecolor": "white",
            "showbackground": true,
            "ticks": "",
            "zerolinecolor": "white"
           }
          },
          "shapedefaults": {
           "line": {
            "color": "#2a3f5f"
           }
          },
          "ternary": {
           "aaxis": {
            "gridcolor": "white",
            "linecolor": "white",
            "ticks": ""
           },
           "baxis": {
            "gridcolor": "white",
            "linecolor": "white",
            "ticks": ""
           },
           "bgcolor": "#E5ECF6",
           "caxis": {
            "gridcolor": "white",
            "linecolor": "white",
            "ticks": ""
           }
          },
          "title": {
           "x": 0.05
          },
          "xaxis": {
           "automargin": true,
           "gridcolor": "white",
           "linecolor": "white",
           "ticks": "",
           "title": {
            "standoff": 15
           },
           "zerolinecolor": "white",
           "zerolinewidth": 2
          },
          "yaxis": {
           "automargin": true,
           "gridcolor": "white",
           "linecolor": "white",
           "ticks": "",
           "title": {
            "standoff": 15
           },
           "zerolinecolor": "white",
           "zerolinewidth": 2
          }
         }
        },
        "title": {
         "text": "UMAP Reduced Embeddings with K-Means Clustering"
        },
        "width": 1600,
        "xaxis": {
         "anchor": "y",
         "autorange": true,
         "domain": [
          0,
          1
         ],
         "range": [
          8.006846268126289,
          16.21681073187371
         ],
         "title": {
          "text": "X"
         },
         "type": "linear"
        },
        "yaxis": {
         "anchor": "x",
         "autorange": true,
         "domain": [
          0,
          1
         ],
         "range": [
          8.309358525777254,
          15.614189474222746
         ],
         "title": {
          "text": "Y"
         },
         "type": "linear"
        }
       }
      },
      "image/png": "[encoded data removed]",
      "text/html": [
       "<div>                            <div id=\"4258c358-b51d-41c9-afe2-500861925d66\" class=\"plotly-graph-div\" style=\"height:1600px; width:1600px;\"></div>            <script type=\"text/javascript\">                require([\"plotly\"], function(Plotly) {                    window.PLOTLYENV=window.PLOTLYENV || {};                                    if (document.getElementById(\"4258c358-b51d-41c9-afe2-500861925d66\")) {                    Plotly.newPlot(                        \"4258c358-b51d-41c9-afe2-500861925d66\",                        [{\"customdata\":[[\"Can you place 4 damage in a square shaped pattern? Or would one of these placements be diagonally and not allowed?\",30],[\"Can you do partial damage to an enemy heart symbol of more than value 1, or is all or nothing?\",36],[\"Square is ok because one damage is placed next to previous and not diagonally, but now I wonder if 4 damage could be placed as a T shape? After all every damage is next to another but definitely not from previous...\",30],[\"When travelling to new page, does movement stop automatically on the new page or can I continue to move if I have more movement left?\",94],[\"But why does it say that \\\"Audrie's 2nd crew board ability gives +1 block\\\"?\",98],[\"When does the fight start?\",135],[\"Can you discard cards during any challenge to increase your success?\",59],[\"So assuming I have $5, I can purchase all 15 food tokens? This seems absurdly powerful, no matter the 50% chance of gaining weakened. Am I misreading this card?\",181],[\"When doing a challenge, can I not use a crew member?\",84],[\" Can anyone share the damage incurred in case of failure?\",134],[\"And when I do a challenge using a crew member, if I fail, do I have to take all the damage to that crew member?\",2],[\"Do you give all the damage to one designated crew member and move on to the next crew member, or do you split the damage up little by little?\",114],[\"When I do an ability test, can I look at the cards already used in advance, calculate the success probability more, and then draw the ability cards?\",38],[\"When my crew completes 4 attacks and the enemy attacks, can I distribute the damage and status ailments to any crew member? Or will I get to split it among the crew members who participated in the battle this round?\",114],[\"You spent one of two action actions to explore the port and progress through the story related to it. And do I have to spend one more action to take a port-related action (such as resting) at that port?\",9],[\"Do crew members who attack using combat markers in battle get fatigue tokens?\",20],[\"If the enemy counterattacks after failing to attack, you can deal 1 damage to the enemy again. Even if the attack is successful, will the enemy counterattack and then deal 1 damage to the enemy again?\",40],[\"Keywords are needed when searching. Is it okay to record the keywords needed for that area in the navigation log?\",80],[\"If I equip a weapon to my crew, can I equip other crew members with that weapon whenever I want?\",15],[\"Is use of Totem cards an action?\",150],[\"Halfway through a combat one player had both of their characters go to zero health. What happens when we start a new combat round? Do their combat tokens just get wasted?\",6],[\"Command tokens can be spent to use an equipped ability card. But that only makes sense if the team member has at least one life point left, right?\",5],[\"Combat round end ability on level card: 1 defense. Does this apply to the team or only to this team member? And only if this team member has been damaged?\",98],[\"Does each wing symbol on an enemy card prevent a hit if no ranged weapon is used? Or is the number of wings irrelevant?\",41],[\"Ship Action: Can I gain command points (CP) then immediately spend them before removing them? i.e. Quarters \\u003e Gain 3 CP (solo play) \\u003e immediately spend CP on adventure cards \\u003e Remove CP from the cards\",58],[\"Can a crew member equip multiple Level Cards?\",42],[\"Can I use Artifacts as coins?\",3],[\"Can I use my crew member abilities during combat turn of another player? Or generally during a turn of another player?\",88],[\"  Is the player able to keep activating the same adventure card if there is already command token on it, by placing more command tokens each time?\",5],[\"If an ability card requires an activation token to use (say to give +1 damage), I'm assuming it can be activated as many times as you have command tokens, as each token to activate ability card goes back to supply right?\",5],[\"Can a person without a ranged weapon that does a damage of 1, still destroy the wings of a flying enemy? Or does it just void the entire attack?\",41],[\"For the level up cards that trigger when certain things happen (use the bridge, explore, etc), do they trigger when any player does this, or only the player who controls the crewmember? For example if player 1 controls Laurent and Laurent has the level card that grants a command when using the bridge, what if player 2 visits the bridge?\",74],[\"Where does the captain go?\",48],[\"Are the rings considered a line?\",145],[\"If, during a battle, I manage to slay some of the enemies but then I lose, if I will go back to that battle in the future, does it mean that the enemies I have killed don’t take part in the battle anymore, or are they revived and I have to kill them one more time?\",154],[\"How One is owning quest cards? If i complete or lose quests do I loose the keyword?\",43],[\"When we lose a challenge, who gets the damage?\",2],[\"The manual tells me, that first the participating team members get damage. So, when do non-participants get damage?\",114],[\"So what happens if we fail combat and everyone dies?\",76],[\"can someone have more than one level card or just one per character (so if already had one they would discard it to replace with new one)\",8],[\"an ability card can be equipped at any time except middle of combat or challenge. So does that imply that the combat or challenge process has started and then can’t be equipped? Or if we say see that we're fighting a particular monster or challenge, but before we actually begin the process of assigning characters or drawing fate etc, we can still equip ability card.\",12],[\"when using command, if my partner has a character who’s attacking, can I spend command on my characters boards to help benefit him? Like I can spend say two command to give their character +1 accuracy or extra damage? And same thing using adventure cards (if I have more command than them I can say pay a command to do a card that will benefit them)?\",4],[\"when discarding an equipped ability for +1 in combat, there was an ability strength card that had as text when discard for combat add 1 damage. Would this be in addition to the modifier on player board? So Raphael discards strength ability for +1 normally. In this situation would it have given 2 (1 for discard and 1 from card text)?\",52],[\"what if in 5) card was different, giving some passive effect. Would that effect still work for this one attack when discarding this card?\",52],[\"The german rules after finishing the event deck say: \\\"after drawing the last card of the event deck, the active player ends his turn.\\\" That would mean he skips the action phase completely. Is this true or is it an errata?\",91],[\"Did you use defense on the characters that took part in combat?\",123],[\"What happens to the event discard pile at the end of the first age?\",122],[\"What happens to any 'ongoing' events at the end of the first age?\",122],[\"What six cards am I supposed to discard? \",106],[\"Final scoring, which cards?\",14],[\"If you fail the cunning challenge, what happens?\",76],[\"Can you do the challenge without choosing any crew member to participate in it?\",84],[\"What happens if no crew member participates in the challenge?\",84],[\"Challenge phase -  can a non active player (who doesn’t acquire a fatigue token) play use his\\u002fher equipped card ability?\",12],[\"How to deal with results of a challenge if no character assigned\",65],[\"If you're referring to the hearts in the grid with a number in it, what does that mean?\",63],[\"should I also put back the completed missions?\",111],[\"According to the rules of the game, a command token may be spent at any time. This should also apply to the time of the combat, right?\",34],[\"Would it then be allowed to activate the adventure card \\\"Stone of Blood\\\" immediately before the outbreak of combat in order to cover a field on an opponent card?\",129],[\"When giving unused combat action tokens, who gets the token back at the start of the next round?\",6],[\"Exhausted event decks after “era 1”, what happens after?\",86],[\"Should you write down keywords even if it doesn't make thematic sense?\",184],[\"Is it normal in video games to find something that needs a specific item or keyword to progress?\",161],[\"For the IRON example, is the door made of iron or is it the key?\",143],[\"Does synergy carry over between combat?\",127],[\"What happens when it comes to your turn but all the crew members you are controlling are defeated?  Do you take your turn like normal and then just have no crew members available to handle anything that comes up?\",89],[\"Frightened to 0-health character?\",95],[\"Characters with 0 health & synergy?\",95],[\"When you go through the event deck the first\\u002fsecond time...?\",11],[\"Is this how you play it out? My scenario: Player A starts their turn. They take a ship action, they draw the last event card and resolve it, they take their two actions (Travel, Explore, Port, Market). Player B starts their turn. They take a ship action, they read\\u002fresolve story 1 (since there are no event cards here), they take their two actions\",91],[\"For the Galley Ship action, it states :\\\"you may discard exactly 1 ability card from your hand to remove 1 fatigue from any crew member\\\".Does \\\"any crew member\\\" includes crew members controlled by other players ?\",118],[\"Which crew board abilities can help in challenges?\",57],[\"After the ability card is drawn to determine fate for a CHALLENGE can any crew member, including those that have not participated in the challenge originally, spend a command token on an equipped ability card to boost the fate number by 1 if the symbol matches the challenge type?\",19],[\"Do symbols on equipped ability cards automatically get added to the fate count or must they spend a command token on the equipped ability card\\u002fdiscarded to the supply to add them?\",19],[\"If no participating crew have an ability card with cunning can a non participating crew member spend 1 command on an equipped ability card to boost the fate draw by 1?\",19],[\"Can I still use a weapon if it makes me gain a status effect I already have?\",183],[\"Ship Actions - can ship actions be activated in any order (e.g. draw card, retrieve tokens, get tokens).\",58],[\"Travel - can you travel using a crew member of another player?\",73],[\"Can another player discard Craft Ability Cards from their hand to boost the total?\",52],[\"Can you activate abilities on other player's Crew or Crew Ability Cards?\",116],[\"So during combat, when I use a Combat Token, it's effectively my turn, and we can't use any abilities on another player's Crew? And other players couldn't spend a Command to do so (like they can with Challenges)?\",88],[\"In general, do I have to place tokens adjacent to the last one placed (1-2, 2-3 etc.) OR can I place tokens as long as they are adjacent to ANY one token placed this attack (first, second, third, fourth etc.)?\",21],[\"Can the non-active player use abilities (both on crew board and equipped ability cards) when it's not their turn (separate from using crew skill icons for a challenge by spending a command point). If so, is there any restrictions on this? During combat? During a challenge?\",88],[\"Did we win or lose this combat?\",148],[\"Are you forced to spend artifacts as coins?\",3],[\"To confirm, the number of achievements is cumulative over sequential campaigns, right?  That is, if I'm correct, one doesn't need to have acquired\\u002fcompleted 22 totems in one game to unlock 173.\",141],[\"What to do when placing tokens already covered?\",21],[\"Can I equip an ability to another crew member once equipped?\",15],[\"Artifacts - what for.\",108],[\"How do you handle the search tokens pile please ?\",104],[\"Who can be targeted by some Ability Card abilities?\",116],[\"Anyone with an English copy who can check what the text on the ability card \\\"Careful Aim\\\" says?\",119],[\"Strange Illness event - Does it apply if the 1 is rerolled?\",166],[\"For \\\"Gain quest 155\\\", is the quest completed?\",111],[\"Discard this equipped card to skip an event card - Skip the effects of the card, or do not draw an event card?\",113],[\"On what occasions does a character get a fatigue token?\",20],[\"Have I read this incorrectly? It appears to be a clear contradiction. Are you able to have more than one crew member participate in Action: Travel or not? It states in bold you can only choose one then on the next page gives an example of participating 2. Apologies if I have misinterpreted or misread this. Thanks a lot!\",73],[\"The rule book says \\\"traveling to the page as indicated by the blue arrow \\\"But how about the arrows where there isn't a number ?\",115],[\"Ability cards: I can only hold 3 in my hand but only 2 equipped? does it mean I can have the maximum number of 5 ability cards in my possession? (2 equipped, 3 unequipped) or just 3? (2 equipped, only 1 unequipped)\",96],[\"Can I swap an equipped Ability card with one that is unequipped in my hand?\",96],[\"Can I sell unused Ability cards or just discard them? either way, do I shuffle them back in the Ability card deck?\",171],[\"Are Ability\\u002fAdventure cards a 1 time use? or are they reusable?\",37],[\"Is there a limit to how many Level cards I can equip with the same character?\",8],[\"If I can't swap equipped Abilities, can I at least discard them? (let's say I would like another Ability from my hand instead)\",96],[\"When I discard an Ability card from my hand to get +1 for a challenge, does it matter if I use a different challenge icon on the Ability card then the challenge I'm currently doing? (like discarding a Strength Ability card in a Cunning challenge)\",59],[\"Can I discard more than 1 Ability card for the same challenge?\",59],[\"Where do I put the Event card after I'm done with it? is there a discard pile?\",35],[\"Are recipes reusable? or are only a 1 time use?\",37],[\"Can damage from an adventure card be distributed in a non-adjacent manner, or does it follow the rules for damage done by players?\",129],[\"What is a \\\"command card\\\"? Or does it mean \\\"command token\\\"? In regards to the ability cards, do we just get dealt one randomly... or???????\",5],[\"Where do they go? Back to the adventure deck? What stops you from going back and getting that again?\",11],[\"When can I cook a recipe?\",78],[\"What to keep for next campaign? [Minor SPOILERS]\",46],[\"Stamina Level Card of Odessa. What does it mean?\",112],[\"There is a level card (I believe for Marco) that allows you to substitute one ingredient when cooking a recipe. So once you have that, you can use a meat in a non-meat recipe.\",174],[\"When in a combat you have done your 4 attacks and then is the monsters' turn to attack, who do they attack? Who gets the damage?\",13],[\"If the event deck runs out while discarding, what should be done?\",86],[\"Can a crew member have the same ability card equipped twice?\",42],[\"When a card asks you for a challenge and for it you do an action, does that mean it has to be one of the two ship actions? Or can you do that challenge at any time?\",22],[\"For items that give block (such as the serpent scale vest in the rulebook), does the item give that block bonus for one hit?  Or for the entire combat?  I realize it's \\\"temporary,\\\" but I'm not sure how temporary.\",18],[\"Using multiple crew abilities allowed or just one at a time?\",7],[\"When using the Stone of Blood, does the bonus damage have to be placed continuously with other damage or can it go anywhere on a monster card?\",129],[\"Can Stone of Blood (45) be combined with an attack that does 1 damage to cover a heart worth 2?\",129],[\"in comabt - can I use other member abilities?\",88],[\"Why do you get less command tokens if playing with fewer players.\",34],[\"Solo Play - Command Tokens - do they accumulate.\",34],[\"Do discarded ability cards go to the bottom of the gate deck?\",171],[\"What happens when a single crew member has no health left?\",89],[\"Which brings up another question...do we keep the totem cards we found in previous campaigns for the next?\",141],[\"Can you keep repeating explore triggers to gain the same resource over and over? Also, can there be \\\"negative\\\" numbers?\",71],[\"Paying fatigue when a crew member is specifically named in a challenge?\",57],[\"Final Score:\\\"Gain 2 points per adventure card\\\" What happenend with the Market Cards? Scoring 2 points or zero points?\",14],[\"Do you have to use 1 command token per low morale!\",34],[\"Does venom activate outside of combat as well\",67],[\"If untreated, will venom continue to -1 health on each players turn OUTSIDE of combat?\",67],[\"When I place a command token on a character ability to activate it, how long does that stay active?\",185],[\"If they have a vest with a block ability that takes 1 command to activate, how long does it stay active after I assign a command token to it?\",185],[\"Does it only work once in combat, or does it stay active until that combat is over?\",18],[\"Also, having venom in a solo game kinda sucks right, as every turn its one damage i assume.\",67],[\"If I’m playing 2 player.. and i am the active player, can i send this damage over to one of player 2’s characters?\",40],[\"Can I use adventure card fate abilities here as well? Can I spend a command token on gear to redraw fate instead?\",39],[\"what is the correct way to place tokens?\",21],[\"If a crew member has 2 fatigue (in my case only 1 token on it) should I remove the fatigue token, or simply revert it to the blank side?\",69],[\"Equipment: Armors should be equipped into a crew member or captain, or are available as generic option as cooking recipes?\",15],[\"Equipment: Weapons can be changed before each combat or once they have been attached to a crew member, they should stay there?\",15],[\"Combat: During a combat, after give the synergy token to another crew member, is it mandatory to consume this token after attack or could be kept without using the advantage provided by it, but without returning it?\",189],[\"But weapons have to be equipped to a character, haven't they?\",186],[\"Are permanent level cards removed after the set of 18 is done?\",77],[\"After the 18 levels of one of the 3 runs, one needs to discard the pile of level cards and create a new stack of 6 mild\\u002fnormal\\u002fheavy cards. If there are still permanent level cards (like \\\"gain a ship damage on every Fate 1 unless you solve a Strength 8\\\"), will these be removed as well?\",77],[\"When attacking an enemy with wings, with a regular weapon (not ranged); if I decide to apply the damage to the wing first, does the +1 defence for the enemy still apply? E.g. I can do 3 damage to an enemy with a regular (not ranged) weapon. Does the wing still require 2 damage?\",41],[\"Do all ability cards always have to be equipped before you can use the effect?\",186],[\"Do characters die in battle?\",76],[\"Can I play solo?\",93],[\"So I play with all the crew members. Why I use fewer ability cards? It’s written on the rules?\",116],[\"If my weapon says when used gain low morale, does this apply to the weapon holder and the weapon is unusable if they have low morale, or can the low morale be given to a different crew member when using the weapon?\",15],[\"It seems there are some numbered locations that you can visit again and again. I'm wondering if I'm missing something or if there is something missing with the translation of the game (I have the french edition) because sometimes it doesn't make sense. For instance: on location 6 (p14 of the map book): You find a recently abandonned camp you can either loot or wait for the camper to come back. First time I went there, I waited, the group came back and they were mad at me and I run away with a coin. If I go there a second time, nothing tells me that something has changed. I can just do the same thing again or choose the other option, and the same groupe come back again? That's a bit weird\",71],[\"What happens to defeated enemies when all crew is down to 0 health\",89],[\"After going thru the 18 event cards, the story rules say to discard all equipped ability cards. Do you shuffle the ability deck at that point?\",171],[\"After playing through a campaign (54 event cards), do my crew members get to keep their level cards for the next campaign?\",46],[\"I'm still unclear on when I can use the printed skill symbols to assist in a challenge. If another crew makes a strength challenge, can Rafael add in his strength point after fate has been drawn?\",19],[\"What means the + before the accuracy number on the crew weapons?\",133],[\"Can I add starting weapon accuracy and accuracy of added weapons or added ability cards together?\",192],[\"Just to understand your comment about \\\"discarding some ability cards you might have wanted to play\\\" -- I'm supposed to draw cards from the top of the shuffled ability deck, right? Not play cards from my hand?\",171],[\"Is there an official ruling\\u002fFAQ?\",45],[\"The rules said: Draw 1 ability card and gain the specified number of command tokens. It seemed to me that it was about the specified number on the ability card, but now I understand it isn't..\",5],[\"When reading events, if it calls for a test or something does it work same way as a challenge? Like someone is picked and fatigued and other people can add more if they wish, etc?\",180],[\"If you use the last cube and fight the last monster in play, but he isn't dead, Did he attack twice? One time for reaction and one time for end round?\",131],[\"If you can move up to 3 spaces with your travel action. Can you move 1 space, do your second action in that space then move after that another 2 spaces?\",72],[\"Can effects that change the chance to hit be used after you reveal fate?\",79],[\"Can any player pay the command to activate character board abilities, or only the controlling player?\",47],[\"When changing pages, can you pick any space on the new page on the entering side, or do you need to “line up” with your exit from the previous page?\",94],[\"Will the Sea Serpent token follow us even if we move to a new page? Across multiple pages? What if we use an effect to arrive at a new space but not by “travel”?\",175],[\"When you are asked to draw fate, do you place this card on the ability\\u002ffate discard pile, or when you have not yet reached the hand limit of 3 you can keep it in your personal supply?\",38],[\"Do low morale tokens actually matter when playing solo? I can’t see a point in them\",197],[\"Can you use adventure cards and crew abilities if they have command tokens on them?\",39],[\"If I have a weakend token on one of my cre members, is it only that crew member that has -2 to skills or if I was to do a challenge and used say 3 crew members not including the one with the weakend token on i would have a -2 Asking because unless that crew member with the token had atleast 2 ability cards with the same skill attached to them you would technically always be at 0 ?\",194],[\"What does the symbol on a character's board next to their damage mean?\",100],[\"Can I use command from a crew ability that is not participating on an attack to give accuracy or even more damage to the attack?\",7],[\"Fate Symbols on Ship board?\",79],[\"In order to cover a square, is it enough one damage for all except for hearts with numbers?\",36],[\"Can Kasumi’ synergy token (+1 damage) be used when missing the target? That is, after the counterattack, can I deal 2 damages?\",25],[\"Why would I cover empty spaces? I don't get why it would help since we cannot skip spaces. It doesn't help with adjacency for another hit right?\",10],[\"I think Rafael has one level up card that allows him to only have to place 1 damage on his initial target and then he can place the rest on an adjacent enemy. This way, you can use an enemy with low defense to land the hit, and roll over damage into an enemy with a high defense.\",153],[\"To travel we need to do a craft challenge. It's I can choose only one crew member for that test. Is that a regular difference among other action and types of challenges in the game? Do I need to memorize these differences?\",73],[\"Also the negative effects always have to go on a character that participated on the challenge? Or can I give to someone else?\",180],[\"If I'm not successful on a test I receive the penalty. But I still proceed normally with the instructions right? Or in the case of travel on a hazard place, for example, I would still move there right?\",53],[\"The Travel section in the rules state:” You may also discard ability cards with craft symbols from your hand to add 1 per card to the total.”\",193],[\"Certain negative ongoing events in Sleeping Gods state on their cards that \\\"as an action\\\" one may attempt a certain challenge (e.g., a STRENGTH 7 check) to remove the event.Does this mean that you can try using up one of your two actions at the final part of your turn to attempt this challenge and remove the event? Or, does it mean you can attempt the challenge once per turn at will on your turn (without using up either of your usual two actions) to try and get rid of the event?\",22],[\"Ignore a hazard after the check?\",53],[\"Should this item be used as part of the Travel action, or can it be used any time assuming it does not cost an action?\",72],[\"My second query was whether it is considered an action or not.\",22],[\"When a crew ability is doing two actions, e.g. removing a status token + recovering one health, as in the following picture, can those be applied to different crew members?\",24],[\"If I am defeated in normal mode, I should discard 6 cards from the event deck. If after discarding a few cards (less than 6), I run out of event cards, should I read paragraph 1 and afterwards continue discarding cards up to 6, or should I shuffle the event deck, discard up to six, finish my turn and then read paragraph 1?\",106],[\"One thing I do not understand is that it specifically tells you to discard 6 cards from the event deck AFTER you build the new deck, which means pretty much \\\"discard all mild event cards\\\". Why don't the rules just say to discard the mild event cards when creating a new deck of 18 cards? Am I missing something here?\",106],[\"Does this only activate when the player controlling Laurent goes to the bridge?\",74],[\"If during a combat round my fate is only 1-2, and I thereby miss, do I still get to hit for one damage, or is that considered an attack and therefore nullified by Frightened?\",109],[\"If on Action 1 I explore a location and receive some reward, can I simply explore the same location for Action 2 and receive the same reward? And do it again on a subsequent turn (perhaps the very next one)? If yes, is that even true in a case where there are no complexities like keywords or challenges, and therefore the outcome is guaranteed to be the same? Rules seem to permit this, thought it doesn't seem logical.\",9],[\"Can I equip a single crew member with two identical ability cards? For example, can one crew member have two Bandages cards?\",42],[\"I have obtained a search token in the Deck (ship action). What does this search token mean?\",104],[\"Which test? I did not performed any test. I was just in the ship action (deck).\",53],[\"During a challenge, is it only crew members who are assigned to the task (and got fatigued) who can use their starting abilities (or equipped ones) to help swing the outcome after the fate draw, or can any crew member use their abilities effects to help so long as they pay the command cost?\",57],[\"FOOD - One of the adventure cards shown, Alexei, says we can trade food for meat. What is food?\",101],[\"When does Combat or a Challenge start?\",22],[\"When doing a Travel action, do you have to complete hazard challenges if you are only passing through the area i.e. your Craft challenge lets you move 2 regions, landing you in a hazard-free region, but passing through a region with a hazard?\",53],[\"Where is it stated in the rule book that there's a hand limit?\",140],[\"Does Gloria’s ability let you draw 2 cards on a fate draw, or draw 2 cards into your hand?\",169],[\"Herbalist: restores 6 health total or per crew member?\",81],[\"Could someone please explain how step 3 of \\\"attack and counterattack\\\" works?\",130],[\"Then why does it say \\\"you may use adventure card\\\" abilities that add to accuracy after the draw?\",38],[\"Does it cost command to use the captain during a challenge?\",57],[\"Is there anything in the rules that stop you from farming a location that gives you resources?\",66],[\"Can ability cards be traded among players?\",96],[\"During a turn, can a non-turn player pay the command token cost to activate one of the shared adventure cards?\",4],[\"Can you use the equipped, repair action ability card more than once a turn assuming you can pay the cost?\",5],[\"Does the captain having low morale make any difference?\",197],[\"Can you choose to do less than the designated amount of damage?\",32],[\"If I am attacking with the captain, can I use Kannan’s equipped ability card “focus” to add +3 accuracy to the captain’s date card draw? Or can only Kannan use “focus”?\",19],[\"Can you change the number of players mid campaign? If so, how?\",0],[\"Discard 1 ability card from hand? Or from one of their characters? What happens if there are no cards in that player’s hand to discard?\",23],[\"In the pictured example Player 2 has the above Marco and he has a Cunning ability card equipped. If player 1 is captain and a Cunning skill challenge is encountered, Player 2 wishes to participate as well with Marco. We understand you expend one command token to participate in a challenge if you not the captain AND every participating character will get a fatigue token. The question I want to know is do we spend an extra command token to utilize the 2nd Cunning equipped to Marco so he can contribute 2 Cunning to the challenge or because the equipped ability card has already been equipped, no additional command tokens need to be used? Thanks in Advance.\",19],[\"Player 1 is the captain and has encountered a Cunning challenge. Player 2 has no characters with any Cunning skills so he does not wish to use any characters but he does have a Cunning ability card in hand he wishes to discard during the \\\"Alter Fate\\\" step to help influence the total skill number for the challenge. Does Player 2 need to spend a command token in this scenario? My guess is no as the command token is only spent during the \\\"Gather Crew\\\" step.\",19],[\"What are the coin values?\",177],[\"It was my first instinct also, but it does matter if you even run out of coins as they are limited I believe? Although I think the chance of running out is low?\",92],[\"During combat, can you discard an equipped item with a command token?\",113],[\"During another players turns challenge, if you simply discard a card to boost the value without using one of your character, do you still spend a command token?\",19],[\"What is the significance of the combat token?\",21],[\"Character abilities\\u002fequipment can be used by anyone?\",125],[\"Does this mean to take the synergy token from one crew member, regardless of using them to fight, and place it on another crew member where it is available to be activated?\",189],[\"Can you do this outside of combat to set this up ahead of time, or only once combat has commenced?\",18],[\"Can you give the synergy to a crew who has already hit 0 to bring them back, or must this be on a crew at the time they hit 0 in order to activate?\",189],[\"Do I take a normal ship action prior to reading paragraph 1.2 since I'm just coming back from death and technically starting a new turn?\",91],[\"Since I was instructed to discard 6 event deck cards going back to when I was defeated, and still have 3 cards to remove due to that fact, do those remaining 3 discards stack with the 6 I will need to discard from failing combat during paragraph 1.2?\",106],[\"If I take an explore action as my first action to explore a number on the map, I find that number in the storybook and read the text and make whatever choices it asks me to do. That's easy enough. However, sometimes the story branches out and ultimately sends me back to step one where I started reading. When that happens, am I free to choose another branch and explore without using a second exploration action? Or would it count as my second action of the turn should I decide to read another branch?\",9],[\"When can you move equipment?\",137],[\"I see that the \\\"Flapjacks\\\" card has an ability to remove 3 x health tokens and 3 x fatigue tokens from a crew member. My question is, can I split that to heal one character while removing fatigue from another? Or does the card collectively apply to only one crew member?\",24],[\"If I take a travel action and I'm rewarded with two ship moves, am I allowed to stop in the first region and take an explore action before moving into the second region?\",72],[\"Mac's +1 to fate to fate draw - can this be used during other players' or crew members' fate draws during combat?\",1],[\"Can Kasumi's redraw after 1 be applied to another crew member you control?\",176],[\"Can we come back to 63 with a new explore action and make the choice to return to 63.2 knowing we have the keyword ABSYMAL?\",117],[\"Small thing with wording, but I have a question about the Port Inn Action. Seems like it would apply to all crew members in the game, but do the benefits of the Port Inn Action (\\\"each crew member restores 2 health and removes 1 fatigue) apply to all crew members or only the current player's crew members?\",118],[\"Where is this \\\"discard all equipped ability cards\\\" rule documented? I don't see it anywhere in the rule book.\",23],[\"At the end of our ordeal, we were instructed to place Laurent back in game box. Will we get him back again at the start of the second run?\",158],[\"Is it correct that for the craft challenge performed during the travel action, you can use at most one crew member?\",73],[\"Are any or all of these intended to be deviations from the normal challenge procedure?\",56],[\"So in every other respect, it's just like a regular challenge?\",56],[\"Does this mean I can choose to use only 3 of my 4 combat action tokens, when there are still enemies that are alive?\",16],[\"Can I assign my personal command tokens to another players crew member in order to activate their crew abilities or cards, or are players only able to assign command tokens on their OWN crew members\\u002fcards?\",116],[\"When using adventure\\u002fmarket cards to heal or remove fatigue, can this be split amongst players and or crew members, or is it only for the player placing the command token on the card.\",24],[\"How do I assign damage in instances like this, where there has not been a challenge?\",65],[\"What do I do with completed event cards? Do I just have a discard pile of them? When I create the event deck the second (and third times) do I shuffle each time, or do the exact same order?\",35],[\"Brenna said in other threads that it can be to any character, not just the ones you control.\",47],[\"Am I the only one struggling with this rule book? I feel like there a lot of things missing. Or maybe I just suck at finding them.\",99],[\"So basically if I get defeated while playing normal mode and go back to port; should i keep the recurring event cards like the sea serpent \\u002f leak ones or they get discarded?\",77],[\"Possible to re-gain a completed quest?\",111],[\"What would have happened then?\",152],[\"This is also covered in the rules for Quest Cards:\",193],[\"How to re-prepare the event deck\",106],[\"When we finish the event deck and read the proper paragraph in the story book, it says to create a new event deck. Elsewhere in the rules, it says to discard 6 event cards. I'm confused about this. Since there are normally six mild event cards on top, if I have to discard six, why would I even bother shuffling the mild event cards?  Why doesn't the storybook say anything about discarding six cards?  On the 3rd time through, do I discard 12 cards?  What exactly is the proper procedure for re-preparing the event deck?\",106],[\"Is there a list of enemy abilities and their descriptions? I can't seem to find anything in the rules.\",146],[\"What are the implications of shuffling the Search Tokens each time players save\\u002frestore?\",104],[\"What is the suggested house rule for handling market cards?\",14],[\"Is it a totem or an achievement or both?\",150],[\"Thank you, I don't think I explained my question very well though - on the left hand side it has a column that says 'achievements' then on the right there's a column that says 'totems' - if a card is in the achievement column is it a totem as well? Why is it not in the totem column? And additional question do you get all the cards in the achievement column for the new campaign or just the unlocks that you got from the totems and endings? And if it's not a totem and you don't start with the cards why is the column there and they're just not another adventure card? I don't understand what the achievement column is basically.\",141],[\"So if I unlock a Totem, do I have the totem card when I start a new campaign? and if so, how do I know that when I gain a quest that would give me that totem card again? I would get nothing for my effort\",141],[\"Does everyone have the keyword?\",87],[\"Can one player pay command tokens to boost another player's turn in combat?\",4],[\"You're probably talking about activating adventure cards that provide extra aim or shields? Yes, I believe you can pay command to activate that during another player's combat turn.\",4],[\"Order of play after first event shuffle\",11],[\"Can u have as many level cards as u want in each character?\",8],[\"Does this mean I can sell four items of the same type (like 4 Status Tokens) or do I have to sell one item of different types (like 1 Material + 1 Artifact + 1 Food)?\",66],[\"Moreover, since I can’t find a rule that prevents you to explore the same location twice in one turn, is it possible to explore location 29 twice in the same turn in order to sell more than four items (obviously Status Tokens) for coins?\",66],[\"When you first explore 174, if you have keyword FOAM, do you go to a different paragraph?\",75],[\"When do adventure cards become refreshed?\",37],[\"In which case, when are the command tokens removed?\",97],[\"Is the campaign the default game mode?\",102],[\"When it comes to note-taking how much do you write down?\",184],[\"Is there a different game mode in the Tides of Ruin expansion?\",102],[\"Is the map provided in the game searchable?\",164],[\"What happens on brutal mode if you are defeated?\",76],[\"Question about activating Sofi Odessa's crew abilities during combat\",88],[\"Am I right in thinking then that if one player has a glut of command tokens, they should just spend one to take someone else's combat action token just in case an ability like this could be useful?\",5],[\"Each time when I use up a deck of event cards should I return them to the box?\",11],[\"When I prepare the new deck should I randomly draw from the rest of 36 cards or from the 54 cards? And second time, should I just use the rest of 18 cards?\",11],[\"Can I spend command in the middle of a ship action\",58],[\"What to do if ship has all but 1 damage spot left open?\",61],[\"Is the effect of recipe or other adventure cards lasting?\",37],[\"When you explore, and you read a paragraph from the book, sometimes it's a challenge, so you have to choose one or more characters to participate and give them fatigue tokens. If there's negative effects, they get some and then you can give damage to the rest of the crew.Sometimes though there's no challenge connected to an attribute, just a choice to make, do I have to choose a character to participate again and give them fatigue tokens? In which case this character gets the negative effects \\u002frewards?\",180],[\"The rules for this card (pg. 12) states that \\\"as an action\\\" you can fight it. Does this refer to one of the 2 Actions available at the end of your turn? Or is it a Challenge?\",22],[\"Do you count unlocked Quest cards?\",28],[\"Some have them, most don't.  What are they (if the answer isn't a spoiler of some kind)?\",132],[\"Hey, i have to clarify one thing before going on to play solo: I need to make a challenge and choose two of my crew members. They’ll get their fatigue tokens. I am able to activate one (or two, or three…) of my other crew members (not participating) „crew member ability“ right? Without getting a further fatigue token or paying a further command token (except the command token costs from the ability card.) Sorry if that was already answered somewhere else. I searched for it but didnt find the exact „setting“.\",57],[\"If I'm doing the ship action Bridge: can I take the Command, then spend it on an adventure card ability, then finish the Bridge action by returning the Command to the supply?\",58],[\"Combat token placement?\",21],[\"Does this mean the crew members I control, or any member on the table?\",118],[\"Specifically Challenges and applying status tokens. It says \\\"your\\\", but since other players can contribute characters to a challenge by spending a command, I assume they can also be the target of a status token. Bigger question is if no characters participate in the challenge and a status token needs to be placed, can it go on another player's character?\",19],[\"Means, 2 of my available skills were not active? Which of them is chosen by me? Or are they depending on my current necessary skills like savvy in my actual challenge?\",162],[\"But how long is the Cloak of Ulo active?\",82],[\"If we use Odessa two times in the same fight, does it continue to be active?\",18],[\"So the Cloak of Ulo only works as a one time block?\",82],[\"On that same thought, like in combat does as much damage as possible have to be placed on a single character and any overflow all onto a single other character, etc.?\",114],[\"Can you use a crew member's ability if they are knocked out by damage?\",116],[\"Can fate abilities be used in combat?\",79],[\"If the active player decides to Travel, and the non-active player agrees to have Audrie participate in the craft challenge, does the non-active player need to pay 1 command, as would be the case in a normal (i.e., non-Travel) challenge?\",73],[\"Let’s say I got an ability card with perception skill which gives you +2 accuracy (or +2 defense) when you discard it.If I’m playing with captain and I discard this equipped card to get +2 accuracy in combat, then can I get 1 plus damage as well? On the rule book it says ‘you may discard 1 equipped when you attack with this weapon’ but I’m not sure if it means I should discard the card when I’m dealing the damage or I can discard it anytime in a combat round. Also Am i allowed to discard equipped card more than 1 (2cards) at the same time?\",17],[\"Can I pay 2 command to travel only 1 distance?\",199],[\"Do ongoing cards leave the play area when the event card deck runs out?\",86],[\"Are you allowed to split your travel action with an explore action?\",72],[\"Does this mean that Mac is unavailable, not on the ship, can’t help during combat, etc, until the crew goes to this cabin and gets her?\",48],[\"On the rule book it says I can do splash damage as long as I deal half of damage to the monster that I targeted.So what does it mean half of damage?Is it the amount of damage (quantity of enemy’s heart) or just damage token that I’m supposed to put on the enemy card?\",36],[\"Can I piggyback a question on this?  Can you place a counter on a \\\"blank\\\" space on the targeted enemy, to give you the half damage you need, to splash some to an adjacent enemy?\",128],[\"can level cards be counted as skill?\",8],[\"Can any player pay for adventure cards?\",139],[\"Are there any exceptions to which cards can be shared among players?\",139],[\"So, if you succeed, do not restore crew health, is that correct?\",16],[\"It also doesn't say anything about status effects, so do not remove status effects, correct?\",168],[\"So in theory, instead of placing two fatigue tokens, I can just flip one over. I am just thinking to save space on the character boards.\",69],[\"Besides drawing ability card and gain command tokens, does the bridge action allow player to return all command tokens from any 1 of 9 crew, b. return 1 command tokens from all 9 crewc. return all command tokens from all 9 crew . do other (please specify)\",58],[\"When asked to place all totems you have into the slabs that means all totems found IN THIS SPECIFIC RUN-THROUGH - CAMPAIGN, right? NOT all you have found in previous campaigns too (and marked as achievements)?\",141],[\"How many spaces do I need to move with the ship in order to reach location 103 from location 12?\",149],[\"Can ability cards be discarded from hand (voluntarily without discard text)?\",96],[\"can I utilize a crew members board ability when they themselves are passed out?\",116],[\"And I can use Marcos’ board ability to heal another person correct, meaning it doesn’t have to be Marco I heal?\",190],[\"We just lost. All our characters maxed out in combat. What do we do? I can't find it anywhere..\",76],[\"Does uncovering end of round abilities (Regen) cause them to trigger?\",29],[\"Sea serpent event: does attempting the challenge take an action? Are you sure?  I thought that Events happened BEFORE the Action phase and were separate?\",124],[\"Are you sure?  I thought that Events happened BEFORE the Action phase and were separate?\",124],[\"Can an ability card be equipped during a ship action? Specifically after gaining command, but before gaining a new ability card?\",58],[\"What order are enemies supposed to be arranged?\",33],[\"Can you put a status token on a crew member that’s dead? Or exhausted already?\",27],[\"Do crew block and +1 damage abilities only apply to themselves, or to other crew?\",98],[\"Does monster and explorer token get reset if you visit the same place again?\",71],[\"\\u003e Also, just to be sure, you do not gain additional damage by considering the symbols on the character, right ?\",100],[\"Who can use command to activate shared adventure cards during battle?\",139],[\"can adventure cards that do damage be activated between the attack and counterattack of a combat. For example, monster has three health remaining. My attack does 2 damage. Can I or another player spend command to activate an adventure card for an extra damage to kill the monster before the counterattack occurs?\",4],[\"When can people spend command tokens and on what?\",34],[\"What are the restrictions around spending command tokens on abilities attached to equipped ability cards?\",34],[\"When\\u002fif the ability card deck is emptied, is the discard pile reshuffled into a new deck?\",171],[\"Can I only use the ability if I draw 4 tokens (3 plus the \\\"extra\\\")? Or can I draw 1 token and stop an then draw the \\\"extra\\\" one?\",5],[\"When you complete a task for a passenger, what happens to the adventure card depicting them?\",35],[\"Out of curiosity, was this quest acquired on a Tides of Ruin expansion map?\",102],[\"One of the threads here mentioned the \\\"Official Solo Rules\\\".  I can't find anything similar anywhere. About the only thing I stumbled across was a discussion where someone preferred playing solo as if they were two players each with 4 crew. As far as I can tell playing solo just means starting with one command token and with a single hand of cards, still with a hand-size limit of three.. Are there any specific special solo rules?\",93],[\"What is the main cost of repeated spaces like this?\",195],[\"If a crew member loses all health, does he or she die?\",89],[\"So, does everyone heal 6 damage, or is it 6 health in total, among the crew?\",81],[\"And to be honest, I'm not sure what all the errata are.  Is there a link for the complete errata?\",160],[\"Say I attack with the captain who has another crewmember's +1 damage synergy token. I miss. Therefore, I take the counterattack from the monster and then normally am allowed to deal one damage. Can I use the synergy token to add damage, even though I missed?\",25],[\"How do you place combat damage on enemies?\",163],[\"When i go to the healer? Does the healer remove status tokens as well?\",182],[\"Is there a limit to the number of level cards a character can have? Or can they, assuming you accumulate enough xp, get all of their level cards and benefit from them all at once?\",8],[\"Can any player spend command to activate an adventure card like Scoundrel's Gear to give +2 cunning during a challenge, or is only the active player allowed to do that?\",139],[\"Can you explore the same location multiple times?\",71],[\"Is there a 'minimum' price in the market? That is, do the 1-cost items become free due to the discount, or are they a minimum of 1 coin each?\",136],[\"Does a crew member have to be participating in the challenge in order to use their crew ability?\",57],[\"What happens when you are instructed to lose food but your supply is lower than the amount you are told to lose?\",50],[\"With Rotten Supplies, if we have 0 food going in, are we allowed to \\\"throw out 0 food\\\" and carry on with no downsides?\",50],[\"From the Event rule section, what happens if you don't have two foods to discard for an ongoing event like Rotten Supplies?\",50],[\"Are the two foods necessary to remove the card cumulative?\",138],[\"What are the types of ongoing events?\",156],[\"Would Discarding Surprise Strike while equipped to Kasumi when dealing damage allow for +2 damage?\",52],[\"Can I use the top ability of the crewmember board and an ability on a skill card which I add to this crew member or can I use e.g. both, the Skills and the Ability on the board?\",7],[\"Can you use abilities on characters not participating?\",116],[\"Do you only get to use abilities on equipped ability cards if you also participate by taking the fatigue?\",57],[\"Is it legal to use Mac's World Lore ability without choosing anyone to participate in the challenge?\",165],[\"Does the 'Redraw Fate if 1' ability on Kasumi's Crew Board apply only if the active player controls Kasumi?\",176],[\"Any chance we remove status effects after character defeat, just like injuries and fatigue?\",85],[\"Now that we're talking splash damage; do you place the enemy cards from left to right in numeric order at the beginning of combat, or do you get to choose how to place them?\",33],[\"What about crew board ability and equipped ability cards?\",39],[\"Is it possible for a player’s character, for example Mac, to have two grey combat cubes during a round of combat?\",120],[\"Does this mean you can ONLY discard one equipped savvy card to deal +1 damage?\",17],[\"Or could you potentially discard two equipped savvy cards to deal +2 damage?\",17],[\"If it said 'you may discard an equipped card' rather than '1 equipped card', would the interpretation be different?\",113],[\"What is the limit of discarding cards for extra damage?\",52],[\"Can you discard cards from hand to gain the extra damage?\",52],[\"In the rule book it says to apply any damage you find when you use the deck. Does this also apply to the low morale token with the coin? Or do you only apply damage? \",51],[\"Can you assign damage to any character from a end of round monster counterattack?\",13],[\"Can a active captain  pick who will get the hit from each monster?\",13],[\"When does the event deck \\\"reshuffle\\\"?\",86],[\"Who exactly is involved in combat?\",125],[\"I assume this card has to be equipped, correct?\",186],[\"Is there any reason to hope that my ongoing events go away after resetting the event deck? Or do I still have to deal with them?\",11],[\"Can you use the 'Protect' level-ability card of Rafael only once per combat or multiple times?\",153],[\"How many times can a crew member attack in one combat round?\",7],[\"Where to put status gained from an Event Card?\",35],[\"Some ability cards like 'Cleaning' have the craft skill symbol and an instant effect of removing one low morale. I assume 'instant effect' means that the effect triggers when equipped but then the card only serves as another craft skill symbol. Correct?\",107],[\"Can you help me understand this card? Can I instantly do the challenge and discard it? When you do the action, is the effect of the card active? I mean when I do the 6 savvy and I draw fate for the final result, should I gain -1 health and 1 weakened? Is this action replaces the one of the two actions I have to do on my turn?\",22],[\"Can I use multiples of a crew ability?\",7],[\"When I drawn ability card for purely a fate check, do I add the card to my hand or discard it when done? I see nothing about discarding, but I’m not convinced I keep it either.\",38],[\"What should we do if instructed to gain a status, but all the matching tokens are already on your crew?\",27],[\"When is \\\"the Middle of Combat\\\" for Ability Card Purposes?\",12],[\"When can I cook a recipe? In the middle of a noncombat challenge? In the middle of an exploration before making a choice? After reading text?\",78],[\"What is the intended design of World Wisdom?\",60],[\"A crew member attacks, misses, then resolves damage first due to the Rapid Strike ability. During the damage resolution, I discard Rapid Strike to get +1 damage. Does the damage still get applied first?\",147],[\"When level cards are equipped to crew members, do these \\\"count\\\" as additional values when performing challenges? Like a level card with a savvy icon for Laurent - would that mean when performing a savvy challenge with Laurent I have +2 (+1 from his mat and +1 from the level card)?\",42],[\"To get rid of the Serpent, it says: \\\"Action: Perform a Strength 7 Challenge (...)\\\" Does this mean this takes a full actual 'Action', i.e. replacing one usual action amongst the 'Travel\\u002fExplore\\u002fMarket\\u002fHarbour'?\",22],[\"Has this been confirmed somewhere by the designer? It makes sense in theory, but the rules don't say anything about your 2 turn \\\"actions\\\" being open to anything other than the 4 ones on the ship board.\",126],[\"Normally, when you are defeated you mark a defeat, remove all damage and go to the nearest port.What happens after you fail story one, except remove all damage? Do you also mark a defeat and move to port?\",16],[\"When it says restore health, that does include status tokens?\",182],[\"When the rulebook says \\\"any crew member\\\" (e.g. removing Fatigue in the Galley, removing damage in the Sick Bay), should I assume it always means \\\"even crewmembers controlled by another player\\\", unless specified? Or are there any big exceptions to this?\",118],[\"For example, can I buy weapons and equip them to crewmembers I don't control? What about the Inn? does it heal all crewmembers, or just the ones I control? etc.\",15],[\"Can I spend Command tokens on things such as Adventure cards in the middle of resolving a Ship Action? For example, when performing the Bridge Action - can I draw my ability card from it, use Gloria to draw two more, THEN perform the rest of the Bridge Action, removing the command token from Gloria?\",58],[\"Travel Example 3 seems to indicate that you can move off the edge of a page as long as you're at an edge with a numbered blue arrow - fair enough. You don't have to be in the actual region that contains the arrow, just in one of the regions of that edge. Is this interpretation correct?\",115],[\"If i gain 1 fatigue, i take one fatigue token with the blank side up. If i gain second fatigue i flip my already blank token. From now on does this count that i have two fatigue tokens, so i can no longer participate in challenges? Or does the rulebook means \\\"two physical cardboard tokens\\\", so 1 flipped, and 1 blank (3 fatigue) and then i cannot participate in challenges?\",69],[\"Is this true? If my crew is at max fatigue, the ability bonuses to challenges are essentially free?\",20],[\"Can you equip an ability card with gained command and then take a new card?\",96],[\"Defeated enemies, are they removed, can they regen?\",154],[\"For future campaigns, does this mean I unlock all the Quest cards before 15...? So in this table, do I get only cards 176-177, or am I able to get all cards listed below 16...?\",28],[\"With Alzarrian Cook Book, would I be able to use cake for 1 command and no grain, to remove 2 low morale and remove 2 fatigue?\",26],[\"What does ‘while exploring’ mean in Outdoor Cooking Set?\",170],[\"By having these 3 items, does it mean that by one command I can use Cook Book, and without using grain, cure 2 hearts and remove 2 low morale, 2 fatigue? Likewise use Spicy Gumbo, for any 2 food, to cure 5 hearts and remove 3 fatigue?\",26],[\"For 1 command and no ingredients, I can remove 1 fatigue and cure 4 hearts! Is this so...? And, can these be done on any character or it needs to be on one character?\",26],[\"Can you only enter from page 16?\",49],[\"When you unlock cards at the end of a campaign, do you count all totems from previous playthroughs or just the ones in the playthrough you just completed?\",141],[\"During a challenge can inactive players use crew abilities; even if they did not spend a command token to allow their crew to participate originally?\",19],[\"Is there one crew ability you can use on other crew mates?\",116],[\"Can you use combat abilities or Kasumi's +1 fate ability to help other crew members?\",176],[\"Activating another player’s crew ability with my command?\",116],[\"If the Storybook tells you (for example) that in the future you are allowed access to the village and villagers whenever you wish, would that apply to a new Campaign as well?\",46],[\"Are you allowed to search for a Totem you found in a previous Campaign if its ability is worth going after (assuming you obtain the correct keyword first)?\",31],[\"Are you allowed to keep anything from your old Campaign after it has been completed successfully (other than the earned Endings) when you are ready to start a new Campaign?\",46],[\"Can a character have more than one level card equipped?\",8],[\"Are you allowed to read all the choices before you decide which one(s) you wish to select?\",90],[\"When an event Deck is depleted and it's the next person's turn, instead of drawing an event card, you turn to entry 1 in the storybook. Does that person first get to take a ship action?\",91],[\"Is the sequence of completing a person's turn then turning to entry 1 stated anywhere in the rulebook?\",91],[\"How is the gameplay sequence after the event deck is depleted?\",86],[\"Can the non-active player use crew abilities on the crew members he controls to help out the active player?\",116],[\"During the active player's turn, could the non-active player use command-activated effects of ability cards equipped by his crew members?\",116],[\"Can a player use the Redraw Fate if 1 crew ability if he is the non-active player and the active player draws a fate 1 card?\",1],[\"Are status tokens limited?\",196],[\"The card (Fish Bone Spear) is a weapon. Unlike the other weapon cards, it is not mentioned on it the word 'Weapon'. Probably because it is also a totem. Should I still equip it to a crew member the moment I get it?Thanks.\",186],[\"Aside from the introductory game, i.e. in the future campaigns - are we meant to start the campaign with Quests 1 and 2 as well?\",46],[\"Is there any official denomination for what the bigger coins stand for?\",55],[\"Playable with 5 players?\",0],[\"Does this ability stack? Every time we cook do we flip 2 fate cards?\",38],[\"Can I use command to redraw fate (on the Gear adventure card for example) on another players skill check \\u002f attack? If they were out of command for instance. We have been playing that you can't and I'm not 100%. I guess the same question for a characters (Kasumi's) crew board? Can her re-draw fate ability be used on another players turn?\",1],[\"what does a defense symbol on an adventure card mean? Can I spend that card's command cost when one of my crewmates is being hit to negate that much damage?\",39],[\"Can you discard an adventure card?\",59],[\"If you want to do splash damage against an enemy with resist, does that resist apply?\",128],[\"Can you discard two matching equipped ability cards for two extra damage?\",52],[\"Can you use a card's ability and then also discard it for an additional effect?\",52],[\"Does the rulebook allow discarding two cards for two extra damage?\",52],[\"Do you do any damage when you miss a flying enemy with a non-ranged weapon?\",109],[\"Simply when does that second fatigue token take effect, on the second attack or after the second attack? IOW does the second attack result in a -1 damage or every attack after that second attack?\",69],[\"when you utilize Laurent's ability to increase his accuracy how long does it last?\",18],[\"Does a dead enemy still count as adjacent?\",29],[\"Are \\\"Market Cards\\\" treated as \\\"Adventure Cards\\\" in every way?\",14],[\"In calculating the \\\"Final Score\\\" is says: Gain 2 points per adventure card. We did not count our plethora of Market Cards in our final score, as they were not labeled as \\\"Adventure Cards.\\\" Should they count?\",14],[\"Can buying cheaper Market Cards instead of more expensive ones affect my final score?\",14],[\"What about the armour with block that you can buy - does that affect all attacks?\",62],[\"How does the bandage ability card work? Do you just use it any time and discard? Or can you use it an unlimited number of times?\",107],[\"What does \\\"first strike,\\\" mean on an enemy and where is this in the rulebook?\",159],[\"When you go through the Event Card deck for the first time, and after taking the step indicated, you replace the Event Card deck, right? When you do that, do you retrieve all the event cards from the box, reshuffle, and pick 6-6-6 per the rules? Or do you use the same 18 cards for the second and third runthroughs?\",11],[\"Where do \\\"Search\\\" icons come from?\",110],[\"I lost a quest. Based on my choices we chose a different path and didn't complete it. I was told \\\"lose quest XX\\\". Does this quest go in the discard box or back in the deck of quest cards? If it goes in the discard box, I'll get a point for it at the end of the campaign which seems off, but if I put it back in the deck could I possibly regain that quest?\",172],[\"But if I did not accomplished the quest, why should it add points to my score at the end?\",172],[\"If the active player, who controls said character, pays 1 COMMAND on \\\"Flapjacks\\\" (it's a starting card), will I get the bonus included under that power?\",47],[\"Does the captains synergy token let you place all damage for that attack diagonally or just 1 damage diagonally?\",25],[\"How does this card work? It is an ability card that says, \\\"When you use the Deck, draw fate, if 4+, gain 1 meat.\\\" Does this mean if I use gloria for 2 ability cards, I use this for each draw? Do I draw 2 everytime I use the deck whether it be for a draw, challenge, or combat?\",169],[\"Is the \\\"General Crew Board Ability Rules\\\" section only for crew board abilities, or does it apply to Ability Cards abilities as well?\",116],[\"If Crew Board Ability Rules don't apply to Ability Cards, then can you use cards like \\\"Treat\\\" to remove status from other characters?\",116],[\"Does this mean that cards like Bold Attempt that allow Fate Redraw can only be used when that character it is equipped on draws fate, or can it be used when any character or player draws fate?\",1],[\"With the Gate Stone (Adventure Card 38), it says “Move to Any Port”.  Does this include any port in the game including ports that I have not visited yet?\",157],[\"So why do we need to discard our ability cards?\",23],[\"Why does our crew get weaker?\",89],[\"The search token with a coin and a low morale. Do you gain or lose the morale. I assume gain, but then why would you ever select that one?\",155],[\"Do synergy tokens stay on character cards after the combat in which they were placed?\",127],[\"During an explore action, the excerpt said \\\"if keyword X turn to entry Y\\\" AND \\\"if keyword Z turn to entry V\\\"...we have both keywords...do we get to choose which keyword we want to turn to, or is it first keyword listed takes priority?\",9],[\"Shoot! We played it where we could pick which keyword we wanted to use, since we had both (and the one seemed bad). But hindsight, that does make sense to start from top down. Ugh, well now I feel like we missed out on something or altered the game...we are a few turns after that explore action and seems it'll be a hassle to revert back. Think it'll be okay to go forward, or should we revert back?\",117],[\"Which of these statements is correct:A) Since all the damage must go to one crew member, I could choose Audrie, apply 1 damage token and ignore the rest. (I know this isn't correct but it is a logical possibility from the wording above).B) I assign one damage to Audrie and give 6 damage to Rafael.C) I am forced to choose Rafael because only he has the capacity to absorb 7 damage tokens (since all damage must be assigned to a single crew member).I think that (B) is the correct answer but I want to make sure my interpretation is correct.\",179],[\"For the end of round damage, it's the active player that assigns damage and can assign it to any crew member, including other player's crew members - does that sound correct?\",114],[\"Why is the body empty? Does that mean I can still put a damage on there in order to get to an adjacent spot?\",10],[\"Is it okay to put damage on a totally empty spot (without a caption) or is that against the rules?\",10],[\"Added the Dungeons into the mix with my 3rd campaign, like them a lot, just to clarify there are 3 actions:1. Move2. Explore3. CampEach player gets 3 actions, so when playing solo it seems like there is no reason to break it down to 3 actions per round since the rules do not say that the actions have to be different.  Thus just move and explore until the characters need a rest and then camp.Hope I was playing this correctly.\",72],[\"Is command limited?\",187],[\"Say for example I chose not to fatigue a character for a perception skill test of 6 and draw a 5 fate card. Am I allowed to activate an adventure card (like Bigfoot the Dog) to gain that final perception and pass the test?\",38],[\"How much of the fail\\u002fsuccess criteria of an option should be read before making a decision?\",64],[\"In the case of needing coins for a trade, how many coins do you need to choose the option?\",177],[\"Are you allowed to read ahead before making a choice in the game?\",90],[\"Just learning the game and going through the walkthrough. I drew the event card ‘Maintenance’ which would allow to repair 1 ship damage. In such a case as not having damage is it okay to bypass resolving the event? This makes me wonder if other cards would have similar situations where they would make no difference if you were to attempt it. Can you ignore cards in such circumstances?\",167],[\"Can combat abilities, like +1 accuracy or damage, ONLY be used if the character whose board they're on is the active combat participant, or can you spend command tokens to bolster others?\",47],[\"Can I run away if I'm doomed?\",142],[\"If I choose to, can I cycle between the same 2 ship locations turn after turn (provided, of course, the locations aren't fully damaged)?\",53],[\"What if you can't place the last attack damage?\",163],[\"When dealing splash damage, if you do 2 damage to a 2 heart, can you then put 2 damage (across two boxes) to another enemy?\",128],[\"A crew member attacks, and just barely hits because of the Sharp Eye ability (+1 accuracy). While resolving damage, I discard Sharp Eye for +1 damage, but now the attack wouldn’t hit. Does damage still occur?\",147],[\"Overwork ability (once per turn, gain 1 low morale to redraw fate): does the low morale need to go on the crew with the Overwork ability?\",1],[\"There’s an ability Power Strike (perception) that is different from Power Strike (strength). For the perception version of the ability, it says you can pay 1 command to get +1 damage when this crew member hits. How does it work?\",98],[\"The Refine ability lets me spend 1 command to repair the ship. Since I don’t put spent command on ability cards, I can always repair the ship as much as I want, at any time, as long as I have 1 command to spend. Is that right?\",167],[\"What rooms for ship damage?\",61],[\"When you spend command to activate an ability card, where does that token go?\",5],[\"How is ship damage determined?\",61],[\"Can you use Recipes in Combat\",54],[\"Can you however cook right before combat. So a combat is happening, but you haven't started it yet. Can you cook then?\",78],[\"The Refine ability let’s you spend a command to repair a ship damage. Can you do this as many times as you want? Or once per turn? Or does the command go on the ability card and then get cleared similar to adventure cards?\",167],[\"It appears there are other ability cards that have spend command as well, so the general question is how exactly this works.\",34],[\"Does Venom Damage Redistribute\",67],[\"If crew member has zero health and poisoned, will the poison go away or does it stay.?\",89],[\"If a character with Gregory's synergy token takes more damage than they have remaining health, does the excess damage go elsewhere and then you heal two, or do you heal two and then excess damage continues going on that character?  Thanks!\",40],[\"When an enemy has a double or triple heart, do you need to do 2 damage in one hit to cover it or can you place one damage and have another player place the 2nd damage on their turn?\",36],[\"If there is a damage token in the middle of the enemy card and I wanted to place 3 damage...can I place damage to the right and left of the middle square and then one damage is nullified because of the middle square already containing damage?\",30],[\"Can I put a damage token on an empty space?\",10],[\"When placing splash damage, must it be adjacent to damage places on the target?\",128],[\"Equipping An Ability Card To Crew Members - Which Ones?\",42],[\"Must a crew member be assigned to a challenge to allow a player to discard a card to add skill to the total fate draw?\",57],[\"Can you only add skill to your own crew members, or any crew members?\",98],[\"If you can't lose the X, can you still pick that option and just gain the 1 fatigue. Or if you can't pay the cost, you can't pick that option?\",178],[\"When card such as “vegetable pie” says remove status, does that mean one status or all status or one status on all or all status on one crew member?\",24],[\"After going through the event deck once (and reading the story), do you go through the same stack of events for the 2nd and 3rd times, or use 18 new events for each time through?\",11],[\"At the end of the combat round, after the monsters each deal their damage and any end of round (hourglass) attacks, do the monsters stay there for the next monster encounter, or do the monsters go back to the monster pile?\",144],[\"So, then the grey combat cubes are gathered again, and given out to the players again, so on and so forth until the monsters are destroyed or the players die, right?\",120],[\"Combat: What does level mean?\",105],[\"Do I have to do map challenges when passing through?\",164],[\"Can you flee combat?\",142],[\"We ran across the thunderstorm on the first map, and we're not sure exactly how we go about challenging it. Does the player whose turn it is activate a person for the challenge? Can you just draw a fate card, and use that number for the challenge, without using a person?\",22],[\"Artifact tokens: What is their use?\",108],[\"what actually triggers the end of a campaign?\",46],[\"If an enemy has the “adjacent regen” power, does that regenerate one health on each adjacent monster (on both sides) for each box that has that keyword? Or does the box on the left only regenerate the enemy on the left, and the box on the right only regenerate the enemy on the right?\",29],[\"If a monster gets killed, but adjacent monster triggers the \\\"Regenerate adjacent\\\" ability, does it revive the killed monster? Does the revived monster also deal damage to the player characters?\",29],[\"Can’t find this in the rulebook or BGG. When setting up combat, are you free to line up the enemies in any order, or do they have to go in the order listed in the story book?\",33],[\"When an enemy makes its counter attack and does damage to the character that attacked the enemy, if there is extra damage does the active player choose one of their other characters to take the rest of the damage? If so, can the other character use their block to reduce some of that damage.\",40],[\"When you heal players back up that only removes damage and not fatigue or status effects? For example if you were defeated from all players losing all of their health you need to heal everyone back to full health and remove all fatigue markers, but do you remove status effects?\",85],[\"When visiting a Port as an Action, you can visit the Inn, pay 4 coins and “each crew member restores 2 health and removes 1 fatigue”. Is this limited to the active player’s crew members, or do all 9 crew receive the benefit?\",118],[\"Can you choose to just flip a card and not add your accuracy bonus like you do in challenges?\",59],[\"I guess since you choose which weapon to use when you have more than one, you can always pick the one with lower accuracy bonus?\",188],[\"Before the ship action I have one command left in the pool. I place the worker on the bridge to draw 2 command and place all used command back in the pool. Is this action draw 2 then return all or is it a simultaneous action?\",58],[\"Just wanted to clarify: I add the total number of Totems found and Endings achieved to reach a figure (for example 11). Then do I get all of the unlocked quest cards that correspond to the checked boxes up to and including 11? So if I reached eleven, would I get Quest cards 171-172, 169-170, 168 and 174? Or only 174?\",28],[\"I assume an instant effect on an ability card like the healing from a bandage is immediate on equipping it to the character only and cannot be used again.Am I right?\",107],[\"Can a crew member have multiple synergy tokens on their crew board?\",7],[\"When moving the ship and entering a space showing a hazard (skill test) in the first space you move to, can you still move to a second space afterwards?\",53],[\"After having placed command tokens on a crew board to do the top ability, can you still do the bottom ability later, or do you need to remove all command first?\",39],[\"Any player can discard a card from their hand to give +1 of the corresponding skill during a challenge, even if it's not that player's turn and even if his characters are not involved in the challenge?\",59],[\"If you attack 2 enemies with a single attack (placing connecting cubes on the squares of 2 enemy cards), only the one you hit first will counterattack you immediately afterwards (provided that it didn't die)?\",198],[\"How and when does the game give command tokens to players?\",34],[\"Is there a player aid sheet in the box?\",146],[\"Do credits from previous achievements carry over in subsequent campaigns?\",46],[\"Design-wise, if a monster card had two hourglass symbols, would it go twice in the monster attack phase?\",131],[\"What are the numbers on some of the heart-symbols on enemycards are for?\",100],[\"Can you help me where to find this in the rulesbook, please?\",99],[\"Let's say a counterattack (not end of round attack) reduces a character to 0 health, but there is still leftover damage to assign. If I assign that damage to a character with access to block greater than 0, can I use that block to reduce the damage taken by this character at this point?\",40],[\"Let's say for example Rafael has a synergy token on Sofi's board.If Rafael is then reduced to 0 health, does his synergy token remain available to use on Sofi's board? Or is it removed from play?\",83],[\"Now let's say Rafael still has his synergy token on his own board.If he then misses an attack and is reduced to 0 health by the counterattack, then places a damage token on a space with a synergy symbol - do I still get to place Rafael's synergy token on another character board?\",83],[\"If we were absolutely desperate for some quick cash, are we able to cash them in for the 2 coins, or are we obligated to keep them to use at a specified time?\",103],[\"The rules for defeat only say to remove all crew damage and fatigue. Does this mean in normal mode I am meant to leave status tokens and command tokens in place when I resume?\",16],[\"If player 1 purchases a weapon from the market, can player 2 equip the weapon onto one of their crew instead?\",15],[\"If one of the crew from player 1 has a weapon, can they just pass that weapon onto another crew member or other player's crew member at no extra cost (i.e., spending command) or is that just not allowed at all once equipped?\",15],[\"Can players swap crew members during their turn between players?\",88],[\"What are the differences in playing with two players?\",93],[\"All spend command tokens go directly back to supply except for crew abilities and adventure cards, correct?\",39],[\"In Peril, can a single character fight with more than one weapon or add cards from hand during combat?\",125],[\"Are Adventure cards shared by all characters in Peril?\",139],[\"In combat, can every character use the same weapon?\",125],[\"Is Fatigue added to any character that does a challenge, but not combat?\",20],[\"If I miss and then take the counterattack damage I am still able to do 1 damage correct?\",25],[\"Does anyone know what the arrow icon on weapons like Twine’s Harpoon and Owens’ Derringer mean?\",70],[\"If a card just says \\\"discard this card to...\\\" rather than \\\"discard this equipped card to...\\\" can it simple be discarded from your hand directly to trigger the effect?\",113],[\"When using the bridge action from the ship board do you have to remove all command tokens from all character boards, ability and adventure cards? or can you decide which to leave.\",39],[\"Hello.If there is a Hazard in the first space I enter, can I travel more than 1 space after I resolve the challenge, no matter if I win or lose it ?\",53],[\"Is this errata from where the  crew members have multiple skill points? And if not, how does it works?\",7],[\"What if I have no equipped strength ability card ? Is my total -1 ?\",194],[\"I haven't played much yet. How do you remove status effects? Do you have to find it in the game or is it a rule I've missed?\",85],[\"If I get a venom token in a combat, do this crew member lose 1 health in the next combat round or in the next turn. Or more exactly, is a next combat round also a next turn?\",67],[\"Even if I control that character he loses 1 health in other players turns, right?\",40],[\"If I attack two opponents with a splash attack, do they counterattack both, or only the one I have choosen to attack?\",198],[\"What does remove 1 fatigue mean?\",85],[\"how does a command token get removed from that section so you can use it again?\",97],[\"Do you add all block values for a total Block of 3? Or do you only use the block of the equipped weapon for a total of 1?\",68],[\"I’m still not clear on the end of round attack. So you can’t block that at all?\",13],[\"I'm still confused. Could You clarify? Block from equipment cards adds to a block from weapons or no?\",68],[\"Is finding Shen the game end condition?\",44],[\"What should I do after finding Shen?\",44],[\"Does the weakened effect happen to all characters or just one?\",194],[\"Should a fate card  always be drawn for every challenge?\",38],[\" Crew members with 2 fatigue cannot participate to a challenge. But can we use crew abilities or equipped ability cards of the exhausted crew members to alter the outcomes of the fate draw?\",57],[\"Just to clarify, if the Captain has 2 Strength (including equipped abilities), I only get the +2 Strength if I put a fatigue on the Captain. But, if the Captain has the equipped ability Bold Attempt (discard to redraw fate), I could still use the ability even if the Captain did not spend fatigue to participate in the challenge, right? Also, if I did spend fatigue and the Captain gave +2 Strength, and then I discarded Bold Attempt to redraw fate, then now the Captain only contributes +1 Strength, right?\",57],[\" If I decide to don‘t use a crew member in a challenge, I draw a fate. Can I decide after the fate to use a crew member?\",1],[\"If no crew member was chosen to fatigue and the challenge is failed, how is it determined which crew member suffers the consequences?\",2],[\"Not seeing a clarification on when to remove. Is it instantly, after that event is played, or end of turn?\",191],[\"Should specify if we can add cards after the result of the draw or not (ex. if I draw a 3 fate card may I still discard a Ability card to make it 4?)\",38],[\"Just starting a new campaign for the first time. If no one is assigned, then who loses health?\",89],[\"In Above and Below, did you know the numbers needed to succeed?\",173],[\"How is the skill number requirement handled in Sleeping Gods?\",121],[\"Is it possible to do challenges \\u002f search over and over again? What's stopping you from doing the same action over and over again?\",151]],\"hovertemplate\":\"question=%{customdata[0]}\\u003cbr\\u003ecluster=%{marker.color}\\u003cextra\\u003e\\u003c\\u002fextra\\u003e\",\"legendgroup\":\"\",\"marker\":{\"color\":[30,36,30,94,98,135,59,181,84,134,2,114,38,114,9,20,40,80,15,150,6,5,98,41,58,42,3,88,5,5,41,74,48,145,154,43,2,114,76,8,12,4,52,52,91,123,122,122,106,14,76,84,84,12,65,63,111,34,129,6,86,184,161,143,127,89,95,95,11,91,118,57,19,19,19,183,58,73,52,116,88,21,88,148,3,141,21,15,108,104,116,119,166,111,113,20,73,115,96,96,171,37,8,96,59,59,35,37,129,5,11,78,46,112,174,13,86,42,22,18,7,129,129,88,34,34,171,89,141,71,57,14,34,67,67,185,185,18,67,40,39,21,69,15,15,189,186,77,77,41,186,76,93,116,15,71,89,171,46,19,133,192,171,45,5,180,131,72,79,47,94,175,38,197,39,194,100,7,79,36,25,10,153,73,180,53,193,22,53,72,22,24,106,106,74,109,9,42,104,53,57,101,22,53,140,169,81,130,38,57,66,96,4,5,197,32,19,0,23,19,19,177,92,113,19,21,125,189,18,189,91,106,9,137,24,72,1,176,117,118,23,158,73,56,56,16,116,24,65,35,47,99,77,111,152,193,106,106,146,104,14,150,141,141,87,4,4,11,8,66,66,75,37,97,102,184,102,164,76,88,5,11,11,58,61,37,180,22,28,132,57,58,21,118,19,162,82,18,82,114,116,79,73,17,199,86,72,48,36,128,8,139,139,16,168,69,58,141,149,96,116,190,76,29,124,124,58,33,27,98,71,100,139,4,34,34,171,5,35,102,93,195,89,81,160,25,163,182,8,139,71,136,57,50,50,50,138,156,52,7,116,57,165,176,85,33,39,120,17,17,113,52,52,51,13,13,86,125,186,11,153,7,35,107,22,7,38,27,12,78,60,147,42,22,126,16,182,118,15,58,115,69,20,96,154,28,26,170,26,26,49,141,19,116,176,116,46,31,46,8,90,91,91,86,116,116,1,196,186,46,55,0,38,1,39,59,128,52,52,52,109,69,18,29,14,14,14,62,107,159,11,110,172,172,47,25,169,116,116,1,157,23,89,155,127,9,117,179,114,10,10,72,187,38,64,177,90,167,47,142,53,163,128,147,1,98,167,61,5,61,54,78,167,34,67,89,40,36,30,10,128,42,57,98,178,24,11,144,120,105,164,142,22,108,46,29,29,33,40,85,118,59,188,58,28,107,7,53,39,59,198,34,146,46,131,100,99,40,83,83,103,16,15,15,88,93,39,125,139,125,20,25,70,113,39,53,7,194,85,67,40,198,85,97,68,13,68,44,44,194,38,57,57,1,2,191,38,89,173,121,151],\"coloraxis\":\"coloraxis\",\"symbol\":\"circle\"},\"mode\":\"markers\",\"name\":\"\",\"orientation\":\"v\",\"showlegend\":false,\"x\":[13.967593,14.316022,13.946939,10.186301,13.541139,13.985683,11.367369,12.418211,14.135102,14.541259,14.720329,14.41491,11.762302,14.538227,10.350367,14.9292145,15.049294,9.396355,13.873899,10.180536,15.224376,12.65782,14.020388,14.803061,12.134487,12.98777,11.542176,13.768123,12.538948,12.52743,14.967282,13.079196,14.138096,13.764971,15.122536,8.934996,14.519015,14.5020895,14.895822,12.83652,12.626107,13.036589,11.885252,11.669183,9.621864,14.960753,9.344329,9.301003,10.180778,9.467452,14.666114,14.163301,14.656151,14.289835,14.443656,14.184469,8.768941,12.7752495,14.072903,14.950269,9.305294,9.380179,9.213703,9.202786,15.424212,14.889184,15.396243,15.51052,9.392431,10.368916,14.646463,13.884457,13.475489,12.544095,13.32556,13.405474,11.541894,13.706705,11.4509,13.865299,12.982488,13.588222,13.783041,14.685916,11.574505,8.743286,12.862822,13.761376,11.496047,12.532579,13.269907,12.848013,10.111329,8.819458,11.447036,14.97832,14.116889,10.127152,12.518117,12.24768,10.250691,10.509614,12.818622,11.772765,11.527396,11.489328,9.507936,11.048584,13.9744835,12.574383,9.325564,11.124122,8.585751,12.961168,11.200128,14.599656,9.389895,13.250834,10.895007,13.282798,13.92461,14.093981,14.186135,13.519805,12.505117,12.566979,10.16012,15.1974325,8.714478,9.882182,14.579158,9.478179,12.653546,14.920991,15.044416,12.743032,12.799341,13.239355,14.908076,14.596336,12.671071,12.715916,15.126401,13.745782,13.747233,15.590959,13.644932,9.523181,9.624297,14.959664,12.58215,15.162447,11.672105,12.855342,13.716197,9.686933,15.245285,9.834465,8.534476,13.474976,13.313796,13.2401495,10.260727,11.006549,12.492168,14.438364,14.751349,10.405921,12.590415,13.282387,10.043496,10.036117,12.213314,12.75113,12.745929,14.510665,14.334938,13.573608,12.539297,14.127436,15.2579155,13.720564,15.189831,13.996673,14.455807,10.424601,11.356047,10.56779,10.511194,10.596639,10.433794,14.697228,9.617871,9.616071,13.204753,15.220095,9.903721,13.247761,12.374268,12.177787,14.109203,11.030224,13.936051,10.472976,11.148813,12.239977,15.30975,14.84656,12.422999,13.670941,9.874315,11.960249,12.945715,12.140184,13.903404,14.703614,13.208304,11.535099,11.0839815,13.563265,13.420611,11.59418,11.548569,11.890935,13.267421,13.7719555,13.694306,15.7301855,13.505239,15.744684,10.348183,9.807638,10.0293665,13.670335,14.975719,10.349502,13.052021,12.974489,9.642015,14.867605,11.075758,8.971032,13.954067,14.097527,14.259437,12.744833,13.853087,14.897262,14.446575,9.38027,14.094759,10.958734,9.539543,8.767139,14.618789,9.115001,9.251442,9.491387,11.051653,12.490176,9.638875,8.883601,8.8467245,8.810188,9.247942,12.987699,13.060739,9.275947,12.855503,11.468968,9.962425,9.612874,10.00331,12.395504,8.5441675,9.498055,8.461038,9.448565,15.020871,13.854961,12.784255,9.394939,9.50227,11.87142,14.266738,10.444921,14.49796,10.778674,8.956399,9.034505,14.373329,11.962474,12.914052,14.562719,13.529051,13.850986,13.13354,13.270356,13.201289,14.413936,14.153471,12.731628,13.633163,11.864078,11.551846,9.2485695,10.299639,14.247706,14.193286,14.434309,12.883088,11.49155,11.50737,15.349225,15.742017,15.051289,11.984462,8.744644,10.503995,11.189146,14.017025,14.526082,14.948781,14.256674,10.493938,10.40927,12.0795355,13.671999,15.350935,14.043032,9.782112,14.432296,12.622391,14.173349,12.656812,12.571748,9.690945,12.426457,9.541867,8.6546135,11.682576,10.604752,15.231887,15.137277,10.93514,15.24474,14.419552,15.738581,12.927572,13.112516,9.795809,11.530853,14.012564,10.462451,10.466123,10.27305,11.345419,9.132243,11.874396,13.701578,13.601497,14.426052,13.576851,13.0288315,15.682731,13.719145,13.487607,14.921576,11.799631,11.800636,11.74933,11.630647,11.646663,12.913028,14.714178,14.544767,9.188998,14.159355,12.658611,9.212185,13.247009,13.965257,9.360504,12.276092,11.804213,13.944615,12.122664,15.282184,13.834365,11.08901,9.220869,15.366096,12.938221,10.580563,10.695609,15.0219145,15.616275,14.694258,14.002969,12.228001,10.175693,14.9428625,14.629142,12.334495,15.090626,8.74501,11.289212,10.850436,11.4023695,15.111615,10.05806,8.708618,13.880911,13.997915,13.100013,13.858966,8.675753,8.990129,8.596037,12.828788,10.209721,10.262347,10.486694,9.213207,13.837854,13.751965,12.906459,15.521585,13.666932,8.685803,11.589955,11.597049,12.176258,12.914088,12.92163,11.075763,14.535497,11.751582,11.4447,11.670882,15.018768,15.051214,13.132277,14.395299,9.759912,9.532383,9.537045,13.563074,12.084027,10.815205,9.391346,12.479641,8.94621,8.918436,13.109465,14.212625,12.161608,13.650952,14.344468,12.690621,10.25164,10.805531,15.031453,12.63244,15.597794,9.633457,9.5442,14.484393,14.350542,13.805286,13.742712,10.349626,12.038499,12.639959,10.246292,11.544252,10.303047,10.349744,13.124117,13.556051,10.338743,14.735989,14.320472,15.32204,13.687506,13.434289,12.177541,14.279864,12.555113,14.388587,11.2248955,11.250188,12.235954,12.484553,14.889676,15.357144,15.24074,14.29589,13.892197,13.633202,14.118837,13.166451,13.425302,14.007718,14.589375,15.050756,9.443723,14.770436,14.898867,14.061735,10.175985,13.562261,12.29764,11.790195,8.648106,14.223989,14.48961,13.57598,14.818012,15.738528,14.903937,11.728432,13.192108,11.82442,8.851867,12.322563,15.784462,10.42523,12.2007475,11.452364,14.733014,12.539928,11.032848,8.439195,14.79043,14.377452,10.936642,14.820087,15.465466,15.366986,11.498764,15.363769,13.9686575,13.933863,13.73774,11.568532,12.594633,12.368904,11.490321,13.578418,14.782891,15.168868,13.173259,11.531102,12.050554,10.374396,13.790171,12.534316,15.781761,15.089447,15.108894,14.744694,15.133593,12.386468,13.595096,14.536096,13.616143,8.916549,8.881006,14.873809,12.312286,14.287898,14.36067,13.774188,14.654327,9.601955,12.223063,15.195281,9.7936945,13.226007,9.965198],\"xaxis\":\"x\",\"y\":[9.107926,9.021166,9.082804,11.202894,13.919561,11.174467,14.229546,12.089341,12.522093,11.119467,11.882898,10.620057,13.892664,10.540671,11.428416,12.632623,9.613543,11.287168,14.566947,12.023503,11.091407,11.679626,10.763097,8.986232,12.024657,14.878303,10.01005,13.5364275,12.042787,11.724941,9.1157,13.214026,11.784887,9.144783,11.222148,12.6311035,11.181927,10.764335,11.405284,15.1575575,13.943675,12.37726,14.816713,14.818791,13.644278,11.086944,14.281774,14.320368,14.299446,13.025541,11.590218,12.484018,12.052551,12.965271,12.050853,8.693891,12.617879,11.676956,9.625147,10.813028,14.26127,11.275693,11.374139,11.400333,10.532361,11.757677,11.213084,10.763902,14.314181,12.666191,13.507658,13.64339,12.778125,12.470052,12.8888855,14.371506,11.881292,13.354188,14.525171,13.551161,11.877925,9.352257,13.217927,11.239967,9.974311,11.9813595,9.803268,14.22705,10.147858,10.173669,13.764314,13.845667,13.876961,12.625339,14.792386,12.719804,13.202428,11.351796,14.424539,14.376669,14.456907,13.247959,15.099599,14.547618,14.323954,14.479804,14.299815,12.665427,9.472244,11.456145,13.161099,12.353536,12.137105,14.773936,12.67478,10.11541,14.273366,14.427059,12.276697,10.802449,13.843623,9.337241,9.308556,13.566277,11.154655,11.141543,14.506611,11.652899,12.04861,10.817409,12.429229,13.065529,10.855295,10.779968,10.775184,11.2467985,11.194215,11.12447,10.672829,10.105356,12.872989,9.912646,12.750044,14.699485,14.711839,10.405018,14.724672,13.85193,13.993866,9.094099,14.237483,11.18853,12.946885,14.0444355,12.048601,11.077621,11.48443,14.502654,12.232485,12.862519,14.0762615,14.294312,14.484294,13.445648,11.74231,12.481528,9.941152,11.262772,13.002988,12.930351,11.246011,11.404298,13.186598,10.72066,12.120122,12.3986635,8.827559,13.501151,12.695903,8.994472,9.52616,8.925073,10.00602,12.680829,12.348362,10.997831,14.36735,12.499998,10.955583,11.628464,12.0560055,13.525859,14.205719,14.351969,13.16639,9.387716,10.982424,14.457917,10.424157,10.671944,12.960081,12.898171,11.30228,11.011333,13.708107,13.172113,12.321529,9.664077,13.735858,12.575095,10.839566,14.204048,12.52209,12.254435,11.855862,9.394389,13.247416,13.012927,14.474609,12.740987,12.658992,9.9628935,9.888771,14.657527,12.603671,11.042784,14.428365,10.465454,11.282027,10.589636,12.724052,14.215259,11.302835,14.694069,13.229642,11.12313,12.997,13.220776,11.332417,13.405797,14.406504,12.93009,12.763237,12.177221,12.3134575,11.733029,13.439057,13.318635,11.034804,14.38378,13.848477,13.538543,13.902693,12.6221,11.562228,12.66429,14.415317,14.392279,13.560891,10.246947,13.104608,11.872336,11.855348,11.872097,11.344225,12.301643,12.303208,14.355012,15.171598,10.91725,10.89043,11.220413,13.301684,11.099964,12.220482,11.356287,12.427222,11.200647,11.488275,13.426802,11.731102,14.454737,14.508072,11.721199,10.591279,13.268414,12.608862,12.43364,12.489415,11.569939,12.8843975,11.854259,9.797823,13.633391,12.563981,13.832447,11.023626,11.269487,10.893552,9.887781,13.230339,12.892177,12.651696,14.76958,11.280254,14.24928,11.376554,11.813145,8.939142,9.313401,15.042731,13.4608965,13.718983,11.919395,12.153895,12.784143,11.851142,11.9456625,10.9485445,14.628543,13.398715,13.668647,11.315822,10.055977,12.409687,12.506803,12.292037,9.561389,12.369069,13.978291,10.960254,8.918768,13.079614,9.838522,11.249952,11.528214,14.496469,12.027326,13.315432,12.440663,12.937768,10.799488,11.699236,12.068824,13.51208,9.662372,9.304695,12.129298,15.229657,12.843618,10.772869,9.980844,13.055113,13.553141,13.446892,13.715979,12.626966,14.197095,15.021096,14.097309,13.329954,12.892919,13.054323,13.167903,12.053125,9.506338,14.120902,10.352061,14.919178,14.924178,14.8366585,14.983669,14.972526,10.406359,9.867052,10.265599,14.37094,11.233855,14.303363,14.221672,11.141921,13.856023,13.878685,14.019972,13.563221,13.910229,13.189056,12.32765,11.312931,12.162598,11.832674,9.418876,14.81304,12.418837,12.580811,11.719958,12.215766,13.575529,14.546628,11.965989,11.213956,12.752142,12.75505,14.080812,11.0673895,12.24767,12.465304,11.909903,12.437563,12.953905,11.456351,11.941575,12.908474,13.955829,13.283121,13.434331,12.039927,11.624489,12.106178,14.995186,11.7858925,12.816019,12.890075,14.080093,13.360457,13.233016,12.96433,12.270746,14.756971,12.372934,9.918966,13.035012,13.104073,13.116899,11.965672,14.284432,9.200692,14.935251,14.744348,15.050122,9.171501,12.695591,11.244884,9.772385,13.0295725,13.018638,13.052077,10.459025,13.608254,13.233439,14.475697,10.224046,12.749618,12.711615,12.689619,9.277307,13.230213,14.0723095,13.80177,13.115027,11.13564,14.511871,11.9045105,10.43343,10.362542,11.39273,11.501451,10.622649,10.6752825,8.899571,8.9837265,11.411914,11.204595,13.061828,11.786459,9.906884,11.768587,12.882797,12.339009,11.680378,10.903144,9.246966,9.106567,9.337355,12.289467,13.666981,11.900183,10.8232565,11.352284,10.845081,12.362608,12.2412405,11.894811,11.477396,10.657048,11.601275,9.9357605,9.111877,8.999776,8.968001,9.301793,14.2587805,12.894238,14.071204,12.852618,13.27635,14.4401245,10.150364,10.321509,11.344467,11.073503,11.665947,12.8722515,10.135512,12.170309,9.664358,9.865997,9.531736,9.871052,12.196563,13.419233,14.150271,14.362666,11.850899,12.232317,13.903815,10.422334,11.006893,11.931926,14.32945,9.657004,11.223068,13.472045,12.121336,9.775933,8.846875,13.491156,9.84154,10.1948185,9.94977,9.859728,12.0575075,14.6465,14.592951,13.625869,12.882668,11.645064,14.730757,13.625252,14.616494,12.728284,9.401378,9.9979515,14.831847,11.857656,10.91913,14.042799,14.437606,12.148208,10.8563795,10.7958145,9.593638,12.748073,11.075393,10.476769,9.958173,10.467162,12.808672,12.787163,12.097133,13.058178,12.913933,12.990998,12.773074,12.189389,13.754763,13.277185,11.286306,12.758473,13.555368,10.777637],\"yaxis\":\"y\",\"type\":\"scatter\"}],                        {\"template\":{\"data\":{\"histogram2dcontour\":[{\"type\":\"histogram2dcontour\",\"colorbar\":{\"outlinewidth\":0,\"ticks\":\"\"},\"colorscale\":[[0.0,\"#0d0887\"],[0.1111111111111111,\"#46039f\"],[0.2222222222222222,\"#7201a8\"],[0.3333333333333333,\"#9c179e\"],[0.4444444444444444,\"#bd3786\"],[0.5555555555555556,\"#d8576b\"],[0.6666666666666666,\"#ed7953\"],[0.7777777777777778,\"#fb9f3a\"],[0.8888888888888888,\"#fdca26\"],[1.0,\"#f0f921\"]]}],\"choropleth\":[{\"type\":\"choropleth\",\"colorbar\":{\"outlinewidth\":0,\"ticks\":\"\"}}],\"histogram2d\":[{\"type\":\"histogram2d\",\"colorbar\":{\"outlinewidth\":0,\"ticks\":\"\"},\"colorscale\":[[0.0,\"#0d0887\"],[0.1111111111111111,\"#46039f\"],[0.2222222222222222,\"#7201a8\"],[0.3333333333333333,\"#9c179e\"],[0.4444444444444444,\"#bd3786\"],[0.5555555555555556,\"#d8576b\"],[0.6666666666666666,\"#ed7953\"],[0.7777777777777778,\"#fb9f3a\"],[0.8888888888888888,\"#fdca26\"],[1.0,\"#f0f921\"]]}],\"heatmap\":[{\"type\":\"heatmap\",\"colorbar\":{\"outlinewidth\":0,\"ticks\":\"\"},\"colorscale\":[[0.0,\"#0d0887\"],[0.1111111111111111,\"#46039f\"],[0.2222222222222222,\"#7201a8\"],[0.3333333333333333,\"#9c179e\"],[0.4444444444444444,\"#bd3786\"],[0.5555555555555556,\"#d8576b\"],[0.6666666666666666,\"#ed7953\"],[0.7777777777777778,\"#fb9f3a\"],[0.8888888888888888,\"#fdca26\"],[1.0,\"#f0f921\"]]}],\"heatmapgl\":[{\"type\":\"heatmapgl\",\"colorbar\":{\"outlinewidth\":0,\"ticks\":\"\"},\"colorscale\":[[0.0,\"#0d0887\"],[0.1111111111111111,\"#46039f\"],[0.2222222222222222,\"#7201a8\"],[0.3333333333333333,\"#9c179e\"],[0.4444444444444444,\"#bd3786\"],[0.5555555555555556,\"#d8576b\"],[0.6666666666666666,\"#ed7953\"],[0.7777777777777778,\"#fb9f3a\"],[0.8888888888888888,\"#fdca26\"],[1.0,\"#f0f921\"]]}],\"contourcarpet\":[{\"type\":\"contourcarpet\",\"colorbar\":{\"outlinewidth\":0,\"ticks\":\"\"}}],\"contour\":[{\"type\":\"contour\",\"colorbar\":{\"outlinewidth\":0,\"ticks\":\"\"},\"colorscale\":[[0.0,\"#0d0887\"],[0.1111111111111111,\"#46039f\"],[0.2222222222222222,\"#7201a8\"],[0.3333333333333333,\"#9c179e\"],[0.4444444444444444,\"#bd3786\"],[0.5555555555555556,\"#d8576b\"],[0.6666666666666666,\"#ed7953\"],[0.7777777777777778,\"#fb9f3a\"],[0.8888888888888888,\"#fdca26\"],[1.0,\"#f0f921\"]]}],\"surface\":[{\"type\":\"surface\",\"colorbar\":{\"outlinewidth\":0,\"ticks\":\"\"},\"colorscale\":[[0.0,\"#0d0887\"],[0.1111111111111111,\"#46039f\"],[0.2222222222222222,\"#7201a8\"],[0.3333333333333333,\"#9c179e\"],[0.4444444444444444,\"#bd3786\"],[0.5555555555555556,\"#d8576b\"],[0.6666666666666666,\"#ed7953\"],[0.7777777777777778,\"#fb9f3a\"],[0.8888888888888888,\"#fdca26\"],[1.0,\"#f0f921\"]]}],\"mesh3d\":[{\"type\":\"mesh3d\",\"colorbar\":{\"outlinewidth\":0,\"ticks\":\"\"}}],\"scatter\":[{\"fillpattern\":{\"fillmode\":\"overlay\",\"size\":10,\"solidity\":0.2},\"type\":\"scatter\"}],\"parcoords\":[{\"type\":\"parcoords\",\"line\":{\"colorbar\":{\"outlinewidth\":0,\"ticks\":\"\"}}}],\"scatterpolargl\":[{\"type\":\"scatterpolargl\",\"marker\":{\"colorbar\":{\"outlinewidth\":0,\"ticks\":\"\"}}}],\"bar\":[{\"error_x\":{\"color\":\"#2a3f5f\"},\"error_y\":{\"color\":\"#2a3f5f\"},\"marker\":{\"line\":{\"color\":\"#E5ECF6\",\"width\":0.5},\"pattern\":{\"fillmode\":\"overlay\",\"size\":10,\"solidity\":0.2}},\"type\":\"bar\"}],\"scattergeo\":[{\"type\":\"scattergeo\",\"marker\":{\"colorbar\":{\"outlinewidth\":0,\"ticks\":\"\"}}}],\"scatterpolar\":[{\"type\":\"scatterpolar\",\"marker\":{\"colorbar\":{\"outlinewidth\":0,\"ticks\":\"\"}}}],\"histogram\":[{\"marker\":{\"pattern\":{\"fillmode\":\"overlay\",\"size\":10,\"solidity\":0.2}},\"type\":\"histogram\"}],\"scattergl\":[{\"type\":\"scattergl\",\"marker\":{\"colorbar\":{\"outlinewidth\":0,\"ticks\":\"\"}}}],\"scatter3d\":[{\"type\":\"scatter3d\",\"line\":{\"colorbar\":{\"outlinewidth\":0,\"ticks\":\"\"}},\"marker\":{\"colorbar\":{\"outlinewidth\":0,\"ticks\":\"\"}}}],\"scattermapbox\":[{\"type\":\"scattermapbox\",\"marker\":{\"colorbar\":{\"outlinewidth\":0,\"ticks\":\"\"}}}],\"scatterternary\":[{\"type\":\"scatterternary\",\"marker\":{\"colorbar\":{\"outlinewidth\":0,\"ticks\":\"\"}}}],\"scattercarpet\":[{\"type\":\"scattercarpet\",\"marker\":{\"colorbar\":{\"outlinewidth\":0,\"ticks\":\"\"}}}],\"carpet\":[{\"aaxis\":{\"endlinecolor\":\"#2a3f5f\",\"gridcolor\":\"white\",\"linecolor\":\"white\",\"minorgridcolor\":\"white\",\"startlinecolor\":\"#2a3f5f\"},\"baxis\":{\"endlinecolor\":\"#2a3f5f\",\"gridcolor\":\"white\",\"linecolor\":\"white\",\"minorgridcolor\":\"white\",\"startlinecolor\":\"#2a3f5f\"},\"type\":\"carpet\"}],\"table\":[{\"cells\":{\"fill\":{\"color\":\"#EBF0F8\"},\"line\":{\"color\":\"white\"}},\"header\":{\"fill\":{\"color\":\"#C8D4E3\"},\"line\":{\"color\":\"white\"}},\"type\":\"table\"}],\"barpolar\":[{\"marker\":{\"line\":{\"color\":\"#E5ECF6\",\"width\":0.5},\"pattern\":{\"fillmode\":\"overlay\",\"size\":10,\"solidity\":0.2}},\"type\":\"barpolar\"}],\"pie\":[{\"automargin\":true,\"type\":\"pie\"}]},\"layout\":{\"autotypenumbers\":\"strict\",\"colorway\":[\"#636efa\",\"#EF553B\",\"#00cc96\",\"#ab63fa\",\"#FFA15A\",\"#19d3f3\",\"#FF6692\",\"#B6E880\",\"#FF97FF\",\"#FECB52\"],\"font\":{\"color\":\"#2a3f5f\"},\"hovermode\":\"closest\",\"hoverlabel\":{\"align\":\"left\"},\"paper_bgcolor\":\"white\",\"plot_bgcolor\":\"#E5ECF6\",\"polar\":{\"bgcolor\":\"#E5ECF6\",\"angularaxis\":{\"gridcolor\":\"white\",\"linecolor\":\"white\",\"ticks\":\"\"},\"radialaxis\":{\"gridcolor\":\"white\",\"linecolor\":\"white\",\"ticks\":\"\"}},\"ternary\":{\"bgcolor\":\"#E5ECF6\",\"aaxis\":{\"gridcolor\":\"white\",\"linecolor\":\"white\",\"ticks\":\"\"},\"baxis\":{\"gridcolor\":\"white\",\"linecolor\":\"white\",\"ticks\":\"\"},\"caxis\":{\"gridcolor\":\"white\",\"linecolor\":\"white\",\"ticks\":\"\"}},\"coloraxis\":{\"colorbar\":{\"outlinewidth\":0,\"ticks\":\"\"}},\"colorscale\":{\"sequential\":[[0.0,\"#0d0887\"],[0.1111111111111111,\"#46039f\"],[0.2222222222222222,\"#7201a8\"],[0.3333333333333333,\"#9c179e\"],[0.4444444444444444,\"#bd3786\"],[0.5555555555555556,\"#d8576b\"],[0.6666666666666666,\"#ed7953\"],[0.7777777777777778,\"#fb9f3a\"],[0.8888888888888888,\"#fdca26\"],[1.0,\"#f0f921\"]],\"sequentialminus\":[[0.0,\"#0d0887\"],[0.1111111111111111,\"#46039f\"],[0.2222222222222222,\"#7201a8\"],[0.3333333333333333,\"#9c179e\"],[0.4444444444444444,\"#bd3786\"],[0.5555555555555556,\"#d8576b\"],[0.6666666666666666,\"#ed7953\"],[0.7777777777777778,\"#fb9f3a\"],[0.8888888888888888,\"#fdca26\"],[1.0,\"#f0f921\"]],\"diverging\":[[0,\"#8e0152\"],[0.1,\"#c51b7d\"],[0.2,\"#de77ae\"],[0.3,\"#f1b6da\"],[0.4,\"#fde0ef\"],[0.5,\"#f7f7f7\"],[0.6,\"#e6f5d0\"],[0.7,\"#b8e186\"],[0.8,\"#7fbc41\"],[0.9,\"#4d9221\"],[1,\"#276419\"]]},\"xaxis\":{\"gridcolor\":\"white\",\"linecolor\":\"white\",\"ticks\":\"\",\"title\":{\"standoff\":15},\"zerolinecolor\":\"white\",\"automargin\":true,\"zerolinewidth\":2},\"yaxis\":{\"gridcolor\":\"white\",\"linecolor\":\"white\",\"ticks\":\"\",\"title\":{\"standoff\":15},\"zerolinecolor\":\"white\",\"automargin\":true,\"zerolinewidth\":2},\"scene\":{\"xaxis\":{\"backgroundcolor\":\"#E5ECF6\",\"gridcolor\":\"white\",\"linecolor\":\"white\",\"showbackground\":true,\"ticks\":\"\",\"zerolinecolor\":\"white\",\"gridwidth\":2},\"yaxis\":{\"backgroundcolor\":\"#E5ECF6\",\"gridcolor\":\"white\",\"linecolor\":\"white\",\"showbackground\":true,\"ticks\":\"\",\"zerolinecolor\":\"white\",\"gridwidth\":2},\"zaxis\":{\"backgroundcolor\":\"#E5ECF6\",\"gridcolor\":\"white\",\"linecolor\":\"white\",\"showbackground\":true,\"ticks\":\"\",\"zerolinecolor\":\"white\",\"gridwidth\":2}},\"shapedefaults\":{\"line\":{\"color\":\"#2a3f5f\"}},\"annotationdefaults\":{\"arrowcolor\":\"#2a3f5f\",\"arrowhead\":0,\"arrowwidth\":1},\"geo\":{\"bgcolor\":\"white\",\"landcolor\":\"#E5ECF6\",\"subunitcolor\":\"white\",\"showland\":true,\"showlakes\":true,\"lakecolor\":\"white\"},\"title\":{\"x\":0.05},\"mapbox\":{\"style\":\"light\"}}},\"xaxis\":{\"anchor\":\"y\",\"domain\":[0.0,1.0],\"title\":{\"text\":\"X\"}},\"yaxis\":{\"anchor\":\"x\",\"domain\":[0.0,1.0],\"title\":{\"text\":\"Y\"}},\"coloraxis\":{\"colorbar\":{\"title\":{\"text\":\"cluster\"}},\"colorscale\":[[0.0,\"#0d0887\"],[0.1111111111111111,\"#46039f\"],[0.2222222222222222,\"#7201a8\"],[0.3333333333333333,\"#9c179e\"],[0.4444444444444444,\"#bd3786\"],[0.5555555555555556,\"#d8576b\"],[0.6666666666666666,\"#ed7953\"],[0.7777777777777778,\"#fb9f3a\"],[0.8888888888888888,\"#fdca26\"],[1.0,\"#f0f921\"]]},\"legend\":{\"tracegroupgap\":0},\"title\":{\"text\":\"UMAP Reduced Embeddings with K-Means Clustering\"},\"height\":1600,\"width\":1600},                        {\"responsive\": true}                    ).then(function(){\n",
       "                            \n",
       "var gd = document.getElementById('4258c358-b51d-41c9-afe2-500861925d66');\n",
       "var x = new MutationObserver(function (mutations, observer) {{\n",
       "        var display = window.getComputedStyle(gd).display;\n",
       "        if (!display || display === 'none') {{\n",
       "            console.log([gd, 'removed!']);\n",
       "            Plotly.purge(gd);\n",
       "            observer.disconnect();\n",
       "        }}\n",
       "}});\n",
       "\n",
       "// Listen for the removal of the full notebook cells\n",
       "var notebookContainer = gd.closest('#notebook-container');\n",
       "if (notebookContainer) {{\n",
       "    x.observe(notebookContainer, {childList: true});\n",
       "}}\n",
       "\n",
       "// Listen for the clearing of the current output cell\n",
       "var outputEl = gd.closest('.output');\n",
       "if (outputEl) {{\n",
       "    x.observe(outputEl, {childList: true});\n",
       "}}\n",
       "\n",
       "                        })                };                });            </script>        </div>"
      ]
     },
     "metadata": {},
     "output_type": "display_data"
    }
   ],
   "source": [
    "# Create a scatter plot with Plotly\n",
    "fig = px.scatter(\n",
    "    merged_df, x='X', y='Y',\n",
    "    color='cluster',\n",
    "    hover_data={'question': True, 'cluster': True, 'X': False, 'Y': False},\n",
    "    title='UMAP Reduced Embeddings with K-Means Clustering',\n",
    "    width=1600,\n",
    "    height=1600,\n",
    ")\n",
    "\n",
    "# Show the plot\n",
    "fig.show()"
   ]
  },
  {
   "cell_type": "markdown",
   "id": "54a5bb00-88c4-4f56-ab28-2f89af861216",
   "metadata": {},
   "source": [
    "## Write sample questions and answers"
   ]
  },
  {
   "cell_type": "code",
   "execution_count": 78,
   "id": "95d30639-5d60-4be8-9d77-119cdc5fbea0",
   "metadata": {},
   "outputs": [
    {
     "name": "stdout",
     "output_type": "stream",
     "text": [
      "(200, 4)\n",
      "12\n"
     ]
    },
    {
     "data": {
      "text/html": [
       "<div>\n",
       "<style scoped>\n",
       "    .dataframe tbody tr th:only-of-type {\n",
       "        vertical-align: middle;\n",
       "    }\n",
       "\n",
       "    .dataframe tbody tr th {\n",
       "        vertical-align: top;\n",
       "    }\n",
       "\n",
       "    .dataframe thead th {\n",
       "        text-align: right;\n",
       "    }\n",
       "</style>\n",
       "<table border=\"1\" class=\"dataframe\">\n",
       "  <thead>\n",
       "    <tr style=\"text-align: right;\">\n",
       "      <th></th>\n",
       "      <th>url</th>\n",
       "      <th>question</th>\n",
       "      <th>answer</th>\n",
       "      <th>manual quote</th>\n",
       "    </tr>\n",
       "  </thead>\n",
       "  <tbody>\n",
       "    <tr>\n",
       "      <th>0</th>\n",
       "      <td>https://boardgamegeek.com/thread/2622592/playa...</td>\n",
       "      <td>Playable with 5 players?</td>\n",
       "      <td>The ship actions are balanced for 1-4 players,...</td>\n",
       "      <td></td>\n",
       "    </tr>\n",
       "    <tr>\n",
       "      <th>1</th>\n",
       "      <td>https://boardgamegeek.com/thread/2855483/explo...</td>\n",
       "      <td>Mac's +1 to fate to fate draw - can this be us...</td>\n",
       "      <td>I use it for anyone participating in combat, b...</td>\n",
       "      <td></td>\n",
       "    </tr>\n",
       "    <tr>\n",
       "      <th>2</th>\n",
       "      <td>https://boardgamegeek.com/thread/3250276/when-...</td>\n",
       "      <td>And when I do a challenge using a crew member,...</td>\n",
       "      <td>Since no crew participated, damage goes to who...</td>\n",
       "      <td></td>\n",
       "    </tr>\n",
       "    <tr>\n",
       "      <th>3</th>\n",
       "      <td>https://boardgamegeek.com/thread/3067118/are-y...</td>\n",
       "      <td>Are you forced to spend artifacts as coins?</td>\n",
       "      <td>I would play it that If you only have artifact...</td>\n",
       "      <td></td>\n",
       "    </tr>\n",
       "    <tr>\n",
       "      <th>4</th>\n",
       "      <td>https://boardgamegeek.com/thread/2879442/a-bun...</td>\n",
       "      <td>During a turn, can a non-turn player pay the c...</td>\n",
       "      <td>Yes</td>\n",
       "      <td></td>\n",
       "    </tr>\n",
       "  </tbody>\n",
       "</table>\n",
       "</div>"
      ],
      "text/plain": [
       "                                                 url  \\\n",
       "0  https://boardgamegeek.com/thread/2622592/playa...   \n",
       "1  https://boardgamegeek.com/thread/2855483/explo...   \n",
       "2  https://boardgamegeek.com/thread/3250276/when-...   \n",
       "3  https://boardgamegeek.com/thread/3067118/are-y...   \n",
       "4  https://boardgamegeek.com/thread/2879442/a-bun...   \n",
       "\n",
       "                                            question  \\\n",
       "0                           Playable with 5 players?   \n",
       "1  Mac's +1 to fate to fate draw - can this be us...   \n",
       "2  And when I do a challenge using a crew member,...   \n",
       "3        Are you forced to spend artifacts as coins?   \n",
       "4  During a turn, can a non-turn player pay the c...   \n",
       "\n",
       "                                              answer manual quote  \n",
       "0  The ship actions are balanced for 1-4 players,...               \n",
       "1  I use it for anyone participating in combat, b...               \n",
       "2  Since no crew participated, damage goes to who...               \n",
       "3  I would play it that If you only have artifact...               \n",
       "4                                                Yes               "
      ]
     },
     "execution_count": 78,
     "metadata": {},
     "output_type": "execute_result"
    }
   ],
   "source": [
    "# randomly select 1 question from each cluster, preferring questions with manual quotes\n",
    "def select_one(df):\n",
    "    if (df['manual quote'] != '').any():\n",
    "        df = df[df['manual quote'] != '']\n",
    "    return df.sample(n=1, random_state=42)\n",
    "\n",
    "# Apply the function to each cluster group\n",
    "sample_df = merged_df.groupby('cluster').apply(select_one, include_groups=False).reset_index(drop=True)\n",
    "sample_df = sample_df[['url', 'question', 'answer', 'manual quote']]\n",
    "print(sample_df.shape)\n",
    "print(sample_df[sample_df['manual quote'] != ''].shape[0])\n",
    "sample_df.head()"
   ]
  },
  {
   "cell_type": "code",
   "execution_count": 79,
   "id": "8ac24a72-4f7a-421b-a3dc-f1d0fef1213c",
   "metadata": {},
   "outputs": [],
   "source": [
    "sample_filename = in_filename[:-4]+'-sample.tsv'"
   ]
  },
  {
   "cell_type": "code",
   "execution_count": 80,
   "id": "584112c1-37ce-4fb5-a1f5-c1c3e930a3aa",
   "metadata": {},
   "outputs": [],
   "source": [
    "# save them \n",
    "sample_df.to_csv(sample_filename, index=False, sep='\\t')"
   ]
  },
  {
   "cell_type": "code",
   "execution_count": 81,
   "id": "70bb4275-8022-4593-9e28-f8295e8646c4",
   "metadata": {},
   "outputs": [
    {
     "name": "stdout",
     "output_type": "stream",
     "text": [
      "(200, 4)\n"
     ]
    },
    {
     "data": {
      "text/html": [
       "<div>\n",
       "<style scoped>\n",
       "    .dataframe tbody tr th:only-of-type {\n",
       "        vertical-align: middle;\n",
       "    }\n",
       "\n",
       "    .dataframe tbody tr th {\n",
       "        vertical-align: top;\n",
       "    }\n",
       "\n",
       "    .dataframe thead th {\n",
       "        text-align: right;\n",
       "    }\n",
       "</style>\n",
       "<table border=\"1\" class=\"dataframe\">\n",
       "  <thead>\n",
       "    <tr style=\"text-align: right;\">\n",
       "      <th></th>\n",
       "      <th>url</th>\n",
       "      <th>question</th>\n",
       "      <th>answer</th>\n",
       "      <th>manual quote</th>\n",
       "    </tr>\n",
       "  </thead>\n",
       "  <tbody>\n",
       "    <tr>\n",
       "      <th>0</th>\n",
       "      <td>https://boardgamegeek.com/thread/2622592/playa...</td>\n",
       "      <td>Playable with 5 players?</td>\n",
       "      <td>The ship actions are balanced for 1-4 players,...</td>\n",
       "      <td></td>\n",
       "    </tr>\n",
       "    <tr>\n",
       "      <th>1</th>\n",
       "      <td>https://boardgamegeek.com/thread/2855483/explo...</td>\n",
       "      <td>Mac's +1 to fate to fate draw - can this be us...</td>\n",
       "      <td>I use it for anyone participating in combat, b...</td>\n",
       "      <td></td>\n",
       "    </tr>\n",
       "    <tr>\n",
       "      <th>2</th>\n",
       "      <td>https://boardgamegeek.com/thread/3250276/when-...</td>\n",
       "      <td>And when I do a challenge using a crew member,...</td>\n",
       "      <td>Since no crew participated, damage goes to who...</td>\n",
       "      <td></td>\n",
       "    </tr>\n",
       "    <tr>\n",
       "      <th>3</th>\n",
       "      <td>https://boardgamegeek.com/thread/3067118/are-y...</td>\n",
       "      <td>Are you forced to spend artifacts as coins?</td>\n",
       "      <td>I would play it that If you only have artifact...</td>\n",
       "      <td></td>\n",
       "    </tr>\n",
       "    <tr>\n",
       "      <th>4</th>\n",
       "      <td>https://boardgamegeek.com/thread/2879442/a-bun...</td>\n",
       "      <td>During a turn, can a non-turn player pay the c...</td>\n",
       "      <td>Yes</td>\n",
       "      <td></td>\n",
       "    </tr>\n",
       "  </tbody>\n",
       "</table>\n",
       "</div>"
      ],
      "text/plain": [
       "                                                 url  \\\n",
       "0  https://boardgamegeek.com/thread/2622592/playa...   \n",
       "1  https://boardgamegeek.com/thread/2855483/explo...   \n",
       "2  https://boardgamegeek.com/thread/3250276/when-...   \n",
       "3  https://boardgamegeek.com/thread/3067118/are-y...   \n",
       "4  https://boardgamegeek.com/thread/2879442/a-bun...   \n",
       "\n",
       "                                            question  \\\n",
       "0                           Playable with 5 players?   \n",
       "1  Mac's +1 to fate to fate draw - can this be us...   \n",
       "2  And when I do a challenge using a crew member,...   \n",
       "3        Are you forced to spend artifacts as coins?   \n",
       "4  During a turn, can a non-turn player pay the c...   \n",
       "\n",
       "                                              answer manual quote  \n",
       "0  The ship actions are balanced for 1-4 players,...               \n",
       "1  I use it for anyone participating in combat, b...               \n",
       "2  Since no crew participated, damage goes to who...               \n",
       "3  I would play it that If you only have artifact...               \n",
       "4                                                Yes               "
      ]
     },
     "execution_count": 81,
     "metadata": {},
     "output_type": "execute_result"
    }
   ],
   "source": [
    "# re-read to be sure saved\n",
    "sample_df = pd.read_csv(sample_filename, sep='\\t', na_filter=False)\n",
    "print(sample_df.shape)\n",
    "sample_df.head()"
   ]
  },
  {
   "cell_type": "code",
   "execution_count": null,
   "id": "41a2aa94-eba7-4026-91f7-fde3643d42ed",
   "metadata": {},
   "outputs": [],
   "source": []
  }
 ],
 "metadata": {
  "kernelspec": {
   "display_name": "Python 3 (ipykernel)",
   "language": "python",
   "name": "python3"
  },
  "language_info": {
   "codemirror_mode": {
    "name": "ipython",
    "version": 3
   },
   "file_extension": ".py",
   "mimetype": "text/x-python",
   "name": "python",
   "nbconvert_exporter": "python",
   "pygments_lexer": "ipython3",
   "version": "3.11.9"
  }
 },
 "nbformat": 4,
 "nbformat_minor": 5
}
