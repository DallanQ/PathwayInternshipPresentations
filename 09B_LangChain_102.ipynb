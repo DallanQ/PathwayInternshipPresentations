{
 "cells": [
  {
   "cell_type": "markdown",
   "id": "086f9c5e",
   "metadata": {
    "slideshow": {
     "slide_type": "slide"
    }
   },
   "source": [
    "# Week 8 (Back-End) - LangChain 102\n",
    "\n",
    "This week we will learn techniques for improving answers over the answers you get using the basic approaches covered last week. The ideas mentioned in the webinars below represent the current state-of-the-art in question-answering."
   ]
  },
  {
   "cell_type": "markdown",
   "id": "8f4f960f",
   "metadata": {
    "slideshow": {
     "slide_type": "slide"
    }
   },
   "source": [
    "## Day 1: LangChain Document Question-Answering Webinar\n",
    "\n",
    "- https://www.youtube.com/watch?v=ywT-5yKDtDg"
   ]
  },
  {
   "cell_type": "markdown",
   "id": "a32a121f",
   "metadata": {
    "slideshow": {
     "slide_type": "slide"
    }
   },
   "source": [
    "## Day 2: LangChain \"Hallucinations in Document Question-Answering\" Webinar\n",
    "\n",
    "- https://www.youtube.com/watch?v=QDsE6vYA82A"
   ]
  },
  {
   "cell_type": "markdown",
   "id": "989fe62f",
   "metadata": {
    "slideshow": {
     "slide_type": "slide"
    }
   },
   "source": [
    "## Day 3: LangChain Retrieval Webinar\n",
    "\n",
    "- https://www.youtube.com/watch?v=VrL7AbrY438"
   ]
  },
  {
   "cell_type": "markdown",
   "id": "8aab6fda",
   "metadata": {
    "slideshow": {
     "slide_type": "slide"
    }
   },
   "source": [
    "## Day 4: LangChain x Pinecone: Supercharging Llama-2 with RAG\n",
    "\n",
    "- https://www.youtube.com/watch?v=8Y0o2aBzfWg    "
   ]
  },
  {
   "cell_type": "markdown",
   "id": "366f2891",
   "metadata": {
    "slideshow": {
     "slide_type": "slide"
    }
   },
   "source": [
    "## Day 5: LangChain \"Advanced Retrieval\" Webinar\n",
    "\n",
    "- https://www.youtube.com/watch?v=DY3sT4yIezs"
   ]
  },
  {
   "cell_type": "markdown",
   "id": "99c2665e",
   "metadata": {
    "slideshow": {
     "slide_type": "slide"
    }
   },
   "source": [
    "## Homework\n",
    "\n",
    "- Complete Modules 4 and 5 in Crash Course on Python\n",
    "  - https://www.coursera.org/learn/python-crash-course?specialization=google-it-automation\n",
    "- Practice your Kata\n",
    "- Take notes on the techniques mentioned in the webinars.\n",
    "\n",
    "Need help?\n",
    "- https://calendly.com/dallanq/help"
   ]
  },
  {
   "cell_type": "markdown",
   "id": "1d4bcabb",
   "metadata": {
    "slideshow": {
     "slide_type": "slide"
    }
   },
   "source": [
    "## Optional\n",
    "\n",
    "  - Practical insights into using RAG QA for enterprise search https://landing.deepset.ai/thank-you-rag-qa-for-enterprise-search\n",
    "  - LangChain \"RAG Evaluation\" Webinar https://www.youtube.com/watch?v=fWC4VxolWAk\n",
    "  - LangChain \"Production Ingestion\" Webinar https://www.youtube.com/watch?v=-y8p7eAlg3o\n",
    "  - HyDE Embeddings https://python.langchain.com/docs/use_cases/question_answering/how_to/hyde\n",
    "  - Cite Sources https://python.langchain.com/docs/use_cases/question_answering/how_to/qa_citations\n",
    "  - Context-aware text splitting https://python.langchain.com/docs/use_cases/question_answering/how_to/document-context-aware-QA"
   ]
  }
 ],
 "metadata": {
  "celltoolbar": "Slideshow",
  "kernelspec": {
   "display_name": "PathwayInternshipPresentations",
   "language": "python",
   "name": "pathwayinternshippresentations"
  },
  "language_info": {
   "codemirror_mode": {
    "name": "ipython",
    "version": 3
   },
   "file_extension": ".py",
   "mimetype": "text/x-python",
   "name": "python",
   "nbconvert_exporter": "python",
   "pygments_lexer": "ipython3",
   "version": "3.11.4"
  }
 },
 "nbformat": 4,
 "nbformat_minor": 5
}
