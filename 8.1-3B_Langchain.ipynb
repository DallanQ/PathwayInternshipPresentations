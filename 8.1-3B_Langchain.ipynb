{
 "cells": [
  {
   "cell_type": "markdown",
   "id": "086f9c5e",
   "metadata": {
    "slideshow": {
     "slide_type": "slide"
    }
   },
   "source": [
    "# Week 8 (Back-End) - LangChain\n",
    "\n",
    "As developers we never build anything from scratch. We build on top of things that others have built, so we can get more done. The things we build on top of are called **frameworks**. There are dozens if not hundreds of popular frameworks that people build upon. This week we will learn about **LangChain**, a framework for creating applications that use LLMs.\n",
    "\n",
    "In addition, we will all learn about **Agile Development**"
   ]
  },
  {
   "cell_type": "markdown",
   "id": "a32a121f",
   "metadata": {
    "slideshow": {
     "slide_type": "slide"
    }
   },
   "source": [
    "## Day 1: Back-end development framework: LangChain\n",
    "\n",
    "Go to https://www.deeplearning.ai/short-courses/ and complete the following two courses\n",
    "- LangChain for LLM Application Development\n",
    "- LangChain: Chat with Your Data"
   ]
  },
  {
   "cell_type": "markdown",
   "id": "8aab6fda",
   "metadata": {
    "slideshow": {
     "slide_type": "slide"
    }
   },
   "source": [
    "## Day 2+3: James Briggs' course\n",
    "\n",
    "- https://www.youtube.com/playlist?list=PLIUOU7oqGTLieV9uTIFMm6_4PXg-hlN6F\n",
    "    - https://www.pinecone.io/learn/series/langchain/langchain-intro/\n",
    "    - https://github.com/pinecone-io/examples/tree/master/learn/generation/langchain/handbook\n",
    "    "
   ]
  }
 ],
 "metadata": {
  "celltoolbar": "Slideshow",
  "kernelspec": {
   "display_name": "PathwayInternshipPresentations",
   "language": "python",
   "name": "pathwayinternshippresentations"
  },
  "language_info": {
   "codemirror_mode": {
    "name": "ipython",
    "version": 3
   },
   "file_extension": ".py",
   "mimetype": "text/x-python",
   "name": "python",
   "nbconvert_exporter": "python",
   "pygments_lexer": "ipython3",
   "version": "3.11.4"
  }
 },
 "nbformat": 4,
 "nbformat_minor": 5
}
