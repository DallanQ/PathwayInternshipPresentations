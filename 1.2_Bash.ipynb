{
 "cells": [
  {
   "cell_type": "markdown",
   "id": "4cacbef1",
   "metadata": {
    "slideshow": {
     "slide_type": "slide"
    }
   },
   "source": [
    "# Week 1 day 2 - Tools of the trade: Bash\n",
    "\n",
    "Bash is the standard command shell for linux. There are others such as Zsh and Fish, but Bash is the standard one.\n",
    "\n",
    "You can do a lot with a GUI, but real programmers use the command line. 😆\n",
    "\n",
    "Once yoiu learn to use a command line, you can do more and it's faster."
   ]
  },
  {
   "cell_type": "markdown",
   "id": "359d966c",
   "metadata": {
    "slideshow": {
     "slide_type": "slide"
    }
   },
   "source": [
    "## Tools of the trade: apt\n",
    "\n",
    "We use `apt` to install programs and libraries in Ubuntu\n",
    "\n",
    "Install some libraries that the software we install later depends on. Note that it's zlib *one* g-dev, not zlib *the letter l* g-dev\n",
    "\n",
    "    sudo apt-get install make build-essential libssl-dev zlib1g-dev libbz2-dev libreadline-dev libsqlite3-dev wget curl llvm libncursesw5-dev xz-utils tk-dev libxml2-dev libxmlsec1-dev libffi-dev liblzma-dev"
   ]
  },
  {
   "cell_type": "markdown",
   "id": "ac784e34",
   "metadata": {
    "slideshow": {
     "slide_type": "slide"
    }
   },
   "source": [
    "## Tools of the trade: RTX\n",
    "\n",
    "RTX makes it possible to install different versions of Python and npm/nodejs in different projects. It is similar to asdf, nvm, or pyenv, but better. \n",
    "\n",
    "We need to install RTX from the RTX library. First, add the RTX library as an installation source\n",
    "\n",
    "    wget -qO - https://rtx.pub/gpg-key.pub | gpg --dearmor | sudo tee /usr/share/keyrings/rtx-archive-keyring.gpg 1> /dev/null\n",
    "    \n",
    "    echo \"deb [signed-by=/usr/share/keyrings/rtx-archive-keyring.gpg arch=amd64] https://rtx.pub/deb stable main\" | sudo tee /etc/apt/sources.list.d/rtx.list\n",
    "    \n",
    "    sudo apt update\n",
    "    \n",
    "Now we are ready to install RTX\n",
    "    \n",
    "    sudo apt install rtx"
   ]
  },
  {
   "cell_type": "markdown",
   "id": "8e459004",
   "metadata": {
    "slideshow": {
     "slide_type": "slide"
    }
   },
   "source": [
    "### Activate RTX\n",
    "\n",
    "The following will automatically activate RTX each time you open a new terminal window:\n",
    "    \n",
    "    echo 'eval \"$(/usr/bin/rtx activate bash)\"' >> ~/.bashrc\n",
    "    \n",
    "Verify RTX has been added to the end of your .bashrc (startup) file:\n",
    "\n",
    "    cat .bashrc"
   ]
  },
  {
   "cell_type": "markdown",
   "id": "eef05cc4",
   "metadata": {
    "slideshow": {
     "slide_type": "slide"
    }
   },
   "source": [
    "### Verify RTX has been installed correctly\n",
    "\n",
    "Open a new terminal window and enter the following to verify RTX\n",
    "\n",
    "    rtx doctor\n",
    "\n",
    "We will use RTX tomorrow."
   ]
  },
  {
   "cell_type": "markdown",
   "id": "7b6fed13",
   "metadata": {
    "slideshow": {
     "slide_type": "slide"
    }
   },
   "source": [
    "## Install the Fish shell\n",
    "\n",
    "[Fish](https://fishshell.com/), is very similar to bash, but nicer.\n",
    "\n",
    "To install fish\n",
    "\n",
    "    sudo apt install fish\n",
    "    \n",
    "Figure out where fish was installed\n",
    "\n",
    "    which fish\n",
    "\n",
    "Make fish your default command shell\n",
    "\n",
    "    sudo chsh -s <directory where fish is installed> <your linux username>\n",
    "    \n",
    "For example, I would type\n",
    "\n",
    "    sudo chsh -s /usr/bin/fish dallan"
   ]
  },
  {
   "cell_type": "markdown",
   "id": "46e53d64",
   "metadata": {
    "slideshow": {
     "slide_type": "slide"
    }
   },
   "source": [
    "### Activate RTX for the fish shell\n",
    "\n",
    "Make sure RTX is also activated for the fish shell\n",
    "\n",
    "    echo '/usr/bin/rtx activate fish | source' >> ~/.config/fish/config.fish"
   ]
  },
  {
   "cell_type": "markdown",
   "id": "2caffde5",
   "metadata": {
    "slideshow": {
     "slide_type": "slide"
    }
   },
   "source": [
    "### Use the fish shell\n",
    "\n",
    "Now open a new terminal window and close this one. \n",
    "\n",
    "You should see \"Welcome to fish\"\n",
    "\n",
    "If you ever want to switch back to bash\n",
    "\n",
    "    which bash\n",
    "    \n",
    "    sudo chsh -s <location where bash is installed> <your linux username>"
   ]
  },
  {
   "cell_type": "markdown",
   "id": "08d7c2b1",
   "metadata": {
    "slideshow": {
     "slide_type": "slide"
    }
   },
   "source": [
    "## Bonus - Tools of the trade: man\n",
    "\n",
    "Man is a command-line tool. It's short for manual, and it gives you a manual for using the other tools. For example, if I wanted to learn more about grep, I would enter:\n",
    "\n",
    "    man grep\n",
    "    \n",
    "which explains all the command-line options you can give to grep to make it search in different ways."
   ]
  },
  {
   "cell_type": "markdown",
   "id": "6ffcda89",
   "metadata": {
    "slideshow": {
     "slide_type": "slide"
    }
   },
   "source": [
    "## Bonus - Tools of the trade: tldr\n",
    "\n",
    "Sometimes the output from **man** is overwhelming. Often you just want to know the basics about a command. That's what **tldr** is for. It gives you a shortened form of the **man** output. **tldr** is not built into the command shell. You have to install it. It's a javascript program, so you have to install node first. The following commands cd to your home directory, install node version 18 globally, and use node (actually npm, the node package manager) to install tldr globally.\n",
    "\n",
    "    cd ~\n",
    "    rtx use -g node@18\n",
    "    npm install -g tldr\n",
    "    \n",
    "You can now use **tldr** to get a shorter explanation of grep\n",
    "\n",
    "    tldr grep"
   ]
  },
  {
   "cell_type": "markdown",
   "id": "3338c11b",
   "metadata": {
    "slideshow": {
     "slide_type": "slide"
    }
   },
   "source": [
    "## Homework\n",
    "\n",
    "Complete the following course on Bash. You only need to complete the first two modules:\n",
    "\n",
    "- Introduction to Linux\n",
    "- Introduction to Linux Commands\n",
    "\n",
    "https://www.coursera.org/learn/hands-on-introduction-to-linux-commands-and-shell-scripting \n",
    "\n",
    "The third module also contains helpful information, but you can do it later. \n",
    "\n",
    "If you run into problems doing the homework, it may be because you're using fish, not bash. If you do, switch back to bash while you work on the homework.\n",
    "\n",
    "Learn more about Fish\n",
    "\n",
    "https://fishshell.com/"
   ]
  }
 ],
 "metadata": {
  "celltoolbar": "Slideshow",
  "kernelspec": {
   "display_name": "PathwayInternshipPresentations",
   "language": "python",
   "name": "pathwayinternshippresentations"
  },
  "language_info": {
   "codemirror_mode": {
    "name": "ipython",
    "version": 3
   },
   "file_extension": ".py",
   "mimetype": "text/x-python",
   "name": "python",
   "nbconvert_exporter": "python",
   "pygments_lexer": "ipython3",
   "version": "3.11.4"
  }
 },
 "nbformat": 4,
 "nbformat_minor": 5
}
