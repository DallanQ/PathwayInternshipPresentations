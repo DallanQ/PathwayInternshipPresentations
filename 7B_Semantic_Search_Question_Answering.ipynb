{
 "cells": [
  {
   "cell_type": "markdown",
   "id": "357488f0",
   "metadata": {
    "slideshow": {
     "slide_type": "slide"
    }
   },
   "source": [
    "# Week 7 (Back-End) - Sementic Search and Question Answering\n",
    "\n",
    "This week we will learn how to use **Semantic Search** and **Retrieval Augmented Generation** to build **Question Answering** systems."
   ]
  },
  {
   "cell_type": "markdown",
   "id": "810be292",
   "metadata": {
    "slideshow": {
     "slide_type": "slide"
    }
   },
   "source": [
    "## Day 1: How dense and sparse vectors are used for search\n",
    "\n",
    "- https://www.youtube.com/watch?v=ziiF1eFM3_4\n",
    "    - https://www.pinecone.io/learn/semantic-search/#Vector-Similarity-Search\n",
    "    - https://github.com/pinecone-io/examples/blob/master/learn/experimental/semantic-search-intro/tfidf.ipynb\n",
    "    - https://github.com/pinecone-io/examples/blob/master/learn/experimental/semantic-search-intro/bm25.ipynb\n",
    "    - https://github.com/pinecone-io/examples/blob/master/learn/experimental/semantic-search-intro/sbert.ipynb\n",
    "- https://www.youtube.com/watch?v=bVZJ_O_-0RE\n",
    "    - https://www.pinecone.io/learn/series/nlp/dense-vector-embeddings-nlp/"
   ]
  },
  {
   "cell_type": "markdown",
   "id": "7035eaf5",
   "metadata": {
    "slideshow": {
     "slide_type": "slide"
    }
   },
   "source": [
    "## Day 2: Semantic search with dense embeddings\n",
    "\n",
    "- https://www.youtube.com/watch?v=ocxq84ocYi0\n",
    "    - https://github.com/pinecone-io/examples/blob/master/integrations/openai/semantic_search_openai.ipynb\n",
    "- Additional notebooks\n",
    "    - https://github.com/pinecone-io/examples/blob/master/learn/search/semantic-search/semantic-search.ipynb\n",
    "    - https://github.com/pinecone-io/examples/blob/master/learn/search/semantic-search/light-demo/light-demo.ipynb\n",
    "    - https://github.com/pinecone-io/examples/blob/master/learn/experimental/semantic-text-search/semantic-text-search.ipynb    "
   ]
  },
  {
   "cell_type": "markdown",
   "id": "6867137d",
   "metadata": {
    "slideshow": {
     "slide_type": "slide"
    }
   },
   "source": [
    "## Day 3: Introduction to Question Answering\n",
    "\n",
    "- https://www.youtube.com/watch?v=-td57YvJdHc\n",
    "    - https://www.pinecone.io/learn/series/nlp/question-answering/\n",
    "    - https://github.com/pinecone-io/examples/blob/master/learn/search/question-answering/extractive-question-answering.ipynb\n",
    "- https://www.youtube.com/watch?v=L8U-pm-vZ4c\n",
    "    - https://github.com/pinecone-io/examples/blob/master/learn/search/question-answering/abstractive-question-answering.ipynb\n",
    "- Prompt Engineering\n",
    "    - https://github.com/pinecone-io/examples/blob/master/learn/generation/prompt-engineering.ipynb"
   ]
  },
  {
   "cell_type": "markdown",
   "id": "2343ffc0",
   "metadata": {
    "slideshow": {
     "slide_type": "slide"
    }
   },
   "source": [
    "## Day 4: Deep-dive into Question Answering\n",
    "\n",
    "- https://www.youtube.com/watch?v=dRUIGgNBvVk\n",
    "    - https://github.com/pinecone-io/examples/blob/master/learn/generation/openai/openai-ml-qa/00-build-index.ipynb\n",
    "    - https://github.com/pinecone-io/examples/blob/master/learn/generation/openai/openai-ml-qa/01-making-queries.ipynb\n",
    "- https://www.youtube.com/watch?v=rrAChpbwygE\n",
    "    - https://www.pinecone.io/learn/openai-gen-qa/\n",
    "    - https://github.com/pinecone-io/examples/blob/master/learn/generation/openai/gen-qa-openai.ipynb"
   ]
  },
  {
   "cell_type": "markdown",
   "id": "e072e0c9",
   "metadata": {
    "slideshow": {
     "slide_type": "slide"
    }
   },
   "source": [
    "## Day 5: Evaluation Measure and Review\n",
    "\n",
    "- https://www.youtube.com/watch?v=BD9TkvEsKwM\n",
    "    - https://www.pinecone.io/learn/offline-evaluation/\n",
    "    - https://github.com/pinecone-io/examples/blob/master/learn/experimental/algos-and-libraries/offline-evaluation/offline-evaluation.ipynb\n",
    "  \n",
    "Review\n",
    "\n",
    "- https://www.deeplearning.ai/short-courses/large-language-models-semantic-search/"
   ]
  },
  {
   "cell_type": "markdown",
   "id": "10d32fd4",
   "metadata": {
    "slideshow": {
     "slide_type": "slide"
    }
   },
   "source": [
    "## Homework\n",
    "\n",
    "Run the notebooks on your own and make sure you understand what's going on."
   ]
  }
 ],
 "metadata": {
  "celltoolbar": "Slideshow",
  "kernelspec": {
   "display_name": "PathwayInternshipPresentations",
   "language": "python",
   "name": "pathwayinternshippresentations"
  },
  "language_info": {
   "codemirror_mode": {
    "name": "ipython",
    "version": 3
   },
   "file_extension": ".py",
   "mimetype": "text/x-python",
   "name": "python",
   "nbconvert_exporter": "python",
   "pygments_lexer": "ipython3",
   "version": "3.11.4"
  }
 },
 "nbformat": 4,
 "nbformat_minor": 5
}
