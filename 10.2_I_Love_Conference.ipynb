{
 "cells": [
  {
   "cell_type": "markdown",
   "id": "91b4d2c7",
   "metadata": {
    "slideshow": {
     "slide_type": "slide"
    }
   },
   "source": [
    "# Week 10 day 2 - Introducing I Love Conference\n",
    "\n",
    "We will adapt and build upon the source code to https://iloveconference.org for the group project starting next week.\n"
   ]
  },
  {
   "cell_type": "markdown",
   "id": "c61a842d",
   "metadata": {
    "slideshow": {
     "slide_type": "slide"
    }
   },
   "source": [
    "## Install the software\n",
    "\n",
    "- *Front-end:* https://github.com/iloveconference/client\n",
    "- *Back-end:* https://github.com/iloveconference/models and https://github.com/iloveconference/server\n",
    "\n",
    "**TBD** review vite and hypermodern python tooling"
   ]
  },
  {
   "cell_type": "markdown",
   "id": "962c7ef7",
   "metadata": {
    "slideshow": {
     "slide_type": "slide"
    }
   },
   "source": [
    "## Review the software\n",
    "\n",
    "We will review the code and go over how it works."
   ]
  },
  {
   "cell_type": "markdown",
   "id": "87fc4ae0",
   "metadata": {
    "slideshow": {
     "slide_type": "slide"
    }
   },
   "source": [
    "## Homework\n",
    "\n",
    "- Install the I Love Conference source code and get it to run on your own laptop.\n",
    "- Review the source code on your own to make sure you understand how it works."
   ]
  }
 ],
 "metadata": {
  "celltoolbar": "Slideshow",
  "kernelspec": {
   "display_name": "PathwayInternshipPresentations",
   "language": "python",
   "name": "pathwayinternshippresentations"
  },
  "language_info": {
   "codemirror_mode": {
    "name": "ipython",
    "version": 3
   },
   "file_extension": ".py",
   "mimetype": "text/x-python",
   "name": "python",
   "nbconvert_exporter": "python",
   "pygments_lexer": "ipython3",
   "version": "3.11.4"
  }
 },
 "nbformat": 4,
 "nbformat_minor": 5
}
