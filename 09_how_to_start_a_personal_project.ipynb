{
 "cells": [
  {
   "cell_type": "markdown",
   "id": "ffef0c6b-72c2-4ced-9f50-a72763881dd8",
   "metadata": {
    "editable": true,
    "jp-MarkdownHeadingCollapsed": true,
    "slideshow": {
     "slide_type": "slide"
    },
    "tags": []
   },
   "source": [
    "# Week 9 - How to get started creating a personal project\n",
    "\n",
    "The purpose of this week is to show you the steps I went through to start creating a personal project.\n",
    "\n",
    "You don't have to go through these steps. This is just how I did it."
   ]
  },
  {
   "cell_type": "markdown",
   "id": "b6c57dfd-fa65-4b11-8af3-5318f5066e2f",
   "metadata": {
    "editable": true,
    "jp-MarkdownHeadingCollapsed": true,
    "slideshow": {
     "slide_type": "slide"
    },
    "tags": []
   },
   "source": [
    "## Step 1. Think about something you're interested in\n",
    "\n",
    "I'm learning to play a new game, but it has a 40-page rule book!  \n",
    "\n",
    "https://www.dropbox.com/s/clrkysd28p6ecss/rule%20book_sleeping%20gods_ver%203.1%20%28post%20release%29.pdf?dl=0\n",
    "\n",
    "I want to create a retrieval-augmented generation (RAG) system that will answer questions I have about the rules of the game so I don't have to memorize the rule book."
   ]
  },
  {
   "cell_type": "markdown",
   "id": "e57f521f-9f15-4e13-b639-90511ae25d56",
   "metadata": {
    "editable": true,
    "jp-MarkdownHeadingCollapsed": true,
    "slideshow": {
     "slide_type": "slide"
    },
    "tags": []
   },
   "source": [
    "## Step 2. Find a project on HuggingFace Spaces that is similar to the one you want to create\n",
    "\n",
    "I found a project that answers questions based upon arxiv documents.\n",
    "\n",
    "https://huggingface.co/spaces/bishmoy/Arxiv-CS-RAG"
   ]
  },
  {
   "cell_type": "markdown",
   "id": "f5910dd7-fbc4-476e-a35d-256edaeba15f",
   "metadata": {
    "editable": true,
    "jp-MarkdownHeadingCollapsed": true,
    "slideshow": {
     "slide_type": "slide"
    },
    "tags": []
   },
   "source": [
    "## Step 3. Review the project's files\n",
    "\n",
    "Especially look at the tools that project uses.  From this project, I learned about a new tool called RAGatouille that is intended to make it easy to develop RAG systems.\n",
    "\n",
    "https://github.com/bclavie/RAGatouille/\n",
    "\n",
    "How do I learn about a new tool? Read the README and go through the getting-started tutorial.\n",
    "\n",
    "After spending time with RAGatouille I really like it, especially for simple RAG projects."
   ]
  },
  {
   "cell_type": "markdown",
   "id": "c8b7ef21-65f9-4795-b338-102f931c89f7",
   "metadata": {
    "editable": true,
    "jp-MarkdownHeadingCollapsed": true,
    "slideshow": {
     "slide_type": "slide"
    },
    "tags": []
   },
   "source": [
    "## Step 4. Use notebooks to explore options\n",
    "\n",
    "The Sleeping Gods rule book is a very complex PDF file. I knew I would need an advanced PDF parser in order to extract the text out of it. \n",
    "I'd heard about two advanced PDF parsers and I wanted to try both of them to see which would work better.\n",
    "\n",
    "- https://github.com/run-llama/llama_parse\n",
    "- https://github.com/Unstructured-IO/unstructured\n",
    "\n",
    "How did I hear about these parsers? I spend an hour or two a week trying to keep up with the latest developments. Spending some of your personal time to keep up is a good idea. Personally, I subscribe to a few newsfeeds, but others use Twitter, watch youtube videos, etc."
   ]
  },
  {
   "cell_type": "markdown",
   "id": "2d4359ae-40d6-4443-9ce7-7c22a4da8bdd",
   "metadata": {
    "editable": true,
    "jp-MarkdownHeadingCollapsed": true,
    "slideshow": {
     "slide_type": "slide"
    },
    "tags": []
   },
   "source": [
    "## Step 5. Become one with the data\n",
    "\n",
    "The next step is to learn as much as you can about the data. Explore. Don't be afraid to make mistakes. This step isn't about developing software; it's about understanding your data. \n",
    "\n",
    "https://github.com/DallanQ/gamenightgpt/blob/main/notebooks/10_create_index.ipynb\n",
    "\n",
    "After spending time reviewing the outputs of both llama_parse and Unstructured, I found out that the Unstructured PDF parser performed much better than the llama_parse parser."
   ]
  },
  {
   "cell_type": "markdown",
   "id": "ef8325f8-ef40-46a0-887f-8833138937b3",
   "metadata": {
    "editable": true,
    "jp-MarkdownHeadingCollapsed": true,
    "slideshow": {
     "slide_type": "slide"
    },
    "tags": []
   },
   "source": [
    "## Step 6. Create a minimum viable product (MVP)\n",
    "\n",
    "The next step is to test the feasibility of your solution: create something that addresses the highest-risk parts of the project to make sure your solution works. \n",
    "\n",
    "In my case the highest-risk part of the project was: can my simple solution actually correctly answer questions?\n",
    "\n",
    "You can turn my project into a HuggingFace space based upon Gradio later. This step is to make sure that your solution works.\n",
    "\n",
    "To keep this step simple, I created another notebook. \n",
    "\n",
    "https://github.com/DallanQ/gamenightgpt/blob/main/notebooks/20_answer_questions.ipynb"
   ]
  },
  {
   "cell_type": "markdown",
   "id": "1da64b15-372f-48e8-8916-6dd5051e2333",
   "metadata": {
    "editable": true,
    "jp-MarkdownHeadingCollapsed": true,
    "slideshow": {
     "slide_type": "slide"
    },
    "tags": []
   },
   "source": [
    "## Step 7. Create a Gradio project from your notebook and publish it to HuggingFace\n",
    "\n",
    "I haven't finished this step yet. That's for next week."
   ]
  },
  {
   "cell_type": "markdown",
   "id": "94713638-3ef6-4c78-bb88-314461079a30",
   "metadata": {
    "editable": true,
    "jp-MarkdownHeadingCollapsed": true,
    "slideshow": {
     "slide_type": "slide"
    },
    "tags": []
   },
   "source": [
    "## Questions?"
   ]
  },
  {
   "cell_type": "code",
   "execution_count": null,
   "id": "1299150b-424c-4132-8e57-c11498df2fe5",
   "metadata": {
    "editable": true,
    "slideshow": {
     "slide_type": ""
    },
    "tags": []
   },
   "outputs": [],
   "source": []
  }
 ],
 "metadata": {
  "kernelspec": {
   "display_name": "PathwayInternshipPresentations",
   "language": "python",
   "name": "pathwayinternshippresentations"
  },
  "language_info": {
   "codemirror_mode": {
    "name": "ipython",
    "version": 3
   },
   "file_extension": ".py",
   "mimetype": "text/x-python",
   "name": "python",
   "nbconvert_exporter": "python",
   "pygments_lexer": "ipython3",
   "version": "3.11.7"
  }
 },
 "nbformat": 4,
 "nbformat_minor": 5
}
