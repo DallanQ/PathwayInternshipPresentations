{
 "cells": [
  {
   "cell_type": "markdown",
   "id": "91b4d2c7",
   "metadata": {
    "slideshow": {
     "slide_type": "slide"
    }
   },
   "source": [
    "# Week 9 - I Love Conference\n",
    "\n",
    "This week we will make enhancements to https://iloveconference.org"
   ]
  },
  {
   "cell_type": "code",
   "execution_count": null,
   "id": "534af4e0",
   "metadata": {
    "slideshow": {
     "slide_type": "slide"
    }
   },
   "outputs": [],
   "source": [
    "## Life-long Learning - Pair Programming\n",
    "\n",
    "- "
   ]
  },
  {
   "cell_type": "markdown",
   "id": "11487dad",
   "metadata": {
    "slideshow": {
     "slide_type": "slide"
    }
   },
   "source": [
    "## Life-long Learning - Git workflow and Pair Programming\n",
    "\n",
    "When you work on a git project with others\n",
    "- First, create a new branch for your changes `git checkout -b <branch_name>`\n",
    "- Make your changes and commit them to the branch at at natural stopping points\n",
    "- When your changes are ready to be merged into the main branch `git push`\n",
    "    - `git push --set-upstream origin <branch_name>`\n",
    "- "
   ]
  },
  {
   "cell_type": "markdown",
   "id": "b0b587f9",
   "metadata": {
    "slideshow": {
     "slide_type": "slide"
    }
   },
   "source": [
    "## Life-Long Learning - Codeium\n",
    "\n",
    "- Install the Codeium extension into VS Code: https://codeium.com/vscode_tutorial\n",
    "- Go through the tutorial"
   ]
  },
  {
   "cell_type": "markdown",
   "id": "a84b3860",
   "metadata": {
    "slideshow": {
     "slide_type": "slide"
    }
   },
   "source": [
    "## Life-long Learning - Software Architecture\n",
    "\n",
    "How do we build programs without having them look something like this?\n",
    "\n",
    "<img src=\"architecture_mess.png\" width=\"600px\">"
   ]
  },
  {
   "cell_type": "markdown",
   "id": "71088257",
   "metadata": {
    "slideshow": {
     "slide_type": "slide"
    }
   },
   "source": [
    "### Program = Data + Statements\n",
    "\n",
    "Programs are essentially about two things:\n",
    "\n",
    "1. Data - information that is acted upon by programming statements\n",
    "2. Programming statements - things that act upon the data: create, read, update, or delete it (CRUD)"
   ]
  },
  {
   "cell_type": "markdown",
   "id": "24e51ea1",
   "metadata": {
    "slideshow": {
     "slide_type": "slide"
    }
   },
   "source": [
    "### Programming in the small and the large\n",
    "\n",
    "Programming in the small is what you do when you write kata's - use a handful statements to manipulate a handful of data elements so it looks the way you want it when the statements have completed running.\n",
    "\n",
    "Programming in the large is about growing programs from 10's of statements to 10's of thousands or even millions of statements. The challenge is to keep the program correct and easy to understand when it no longer fits on a single page."
   ]
  },
  {
   "cell_type": "markdown",
   "id": "addf4586",
   "metadata": {
    "slideshow": {
     "slide_type": "slide"
    }
   },
   "source": [
    "### Composition and Encapsulation\n",
    "\n",
    "As programs grow in size they can become extremely complex and difficult to understand and maintain. To manage complexity we use *Composition* and *Encapsulation* (among other things):\n",
    "\n",
    "* Data: \n",
    "  * Individual variables are composed into lists, sets, dictionaries, and (class) objects. \n",
    "  * You can even have lists of objects, dictionaries of sets, etc.\n",
    "\n",
    "* Statements:\n",
    "  * Individual statements are composed and encapsulated into functions.\n",
    "  * Functions are composed into modules or classes."
   ]
  },
  {
   "cell_type": "markdown",
   "id": "afc98d65",
   "metadata": {
    "slideshow": {
     "slide_type": "slide"
    }
   },
   "source": [
    "### Composition and Encapsulation - illustration\n",
    "\n",
    "Think of a large program like a marble chase composed of 100's of pieces. If you had to think about all of the pieces at once, it would be overwhelming. But you can break down the chase into a few large separate components:\n",
    "<table>\n",
    "    <tr>\n",
    "        <td>\n",
    "            <ol style=\"text-align: left\">\n",
    "                <li>a control knob that turns a crank</li>\n",
    "                <li>a large wheel that moves marbles up</li>\n",
    "                <li>a track that guides the marbles down a path</li>\n",
    "                <li>a staircase that marbles climb up</li> \n",
    "                <li>a second track that guides the marbles down a path</li>\n",
    "                <li>a spiral that marbles go around until they get to the bottom</li>\n",
    "            </ol>\n",
    "        </td>\n",
    "        <td>\n",
    "            <img src=\"marble_chase.jpeg\" width=\"300px\">\n",
    "        </td>\n",
    "    </tr>\n",
    "</table>\n",
    "Each component is composed of many pieces that each play a part in the component.\n",
    "By encapsulating the many pieces into a few large components, the marble chase is easier to think about and maintain."
   ]
  },
  {
   "cell_type": "markdown",
   "id": "12d436f9",
   "metadata": {
    "slideshow": {
     "slide_type": "slide"
    }
   },
   "source": [
    "### CUPID and SOLID\n",
    "\n",
    "Watch this video about CUPID: https://www.youtube.com/watch?v=KRLOCFDw5x4 or read this website: https://cupid.dev/ to learn some properties of well-written large programs.\n",
    "\n",
    "SOLID https://www.digitalocean.com/community/conceptual-articles/s-o-l-i-d-the-first-five-principles-of-object-oriented-design is another set of principles of software architecture. It is similar to CUPID with some differences. It is more common than CUPID, but I personally prefer CUPID."
   ]
  }
 ],
 "metadata": {
  "celltoolbar": "Slideshow",
  "kernelspec": {
   "display_name": "PathwayInternshipPresentations",
   "language": "python",
   "name": "pathwayinternshippresentations"
  },
  "language_info": {
   "codemirror_mode": {
    "name": "ipython",
    "version": 3
   },
   "file_extension": ".py",
   "mimetype": "text/x-python",
   "name": "python",
   "nbconvert_exporter": "python",
   "pygments_lexer": "ipython3",
   "version": "3.11.4"
  }
 },
 "nbformat": 4,
 "nbformat_minor": 5
}
