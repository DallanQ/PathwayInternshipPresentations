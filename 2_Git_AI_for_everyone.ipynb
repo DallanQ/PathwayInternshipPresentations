{
 "cells": [
  {
   "cell_type": "markdown",
   "id": "19ac4e4f",
   "metadata": {
    "slideshow": {
     "slide_type": "slide"
    }
   },
   "source": [
    "# Week 2 - Git and AI for Everyone\n",
    "\n",
    "This week is mostly on your own. You will learn about Git and AI.\n",
    "\n",
    "As you have questions, please ask on slack!"
   ]
  },
  {
   "cell_type": "markdown",
   "id": "a53b5f8c",
   "metadata": {
    "slideshow": {
     "slide_type": "slide"
    }
   },
   "source": [
    "# Git\n",
    "\n",
    "Git is how software developers manage their source code so multiple developers can work on the same project together without stepping on each other's toes.\n",
    "\n",
    "Complete the following course on Git this week\n",
    "\n",
    "https://www.coursera.org/learn/introduction-git-github?specialization=google-it-automation#modules "
   ]
  },
  {
   "cell_type": "markdown",
   "id": "fc323f3e",
   "metadata": {
    "slideshow": {
     "slide_type": "slide"
    }
   },
   "source": [
    "# AI for everyone\n",
    "\n",
    "AI is a hot topic right now. It will be good for you to learn more about it. AI will impact nearly everyone's lives in the future.\n",
    "\n",
    "Also complete the following course on AI this week\n",
    "\n",
    "https://www.deeplearning.ai/courses/ai-for-everyone/"
   ]
  }
 ],
 "metadata": {
  "celltoolbar": "Slideshow",
  "kernelspec": {
   "display_name": "PathwayInternshipPresentations",
   "language": "python",
   "name": "pathwayinternshippresentations"
  },
  "language_info": {
   "codemirror_mode": {
    "name": "ipython",
    "version": 3
   },
   "file_extension": ".py",
   "mimetype": "text/x-python",
   "name": "python",
   "nbconvert_exporter": "python",
   "pygments_lexer": "ipython3",
   "version": "3.11.4"
  }
 },
 "nbformat": 4,
 "nbformat_minor": 5
}
