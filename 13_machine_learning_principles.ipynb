{
 "cells": [
  {
   "cell_type": "code",
   "execution_count": 4,
   "id": "3ff26241-da91-454b-9c54-0448ffe40a26",
   "metadata": {
    "editable": true,
    "slideshow": {
     "slide_type": ""
    },
    "tags": []
   },
   "outputs": [],
   "source": [
    "import mermaid as md"
   ]
  },
  {
   "cell_type": "markdown",
   "id": "7850e820-9de3-42bc-8984-7d9160f04783",
   "metadata": {
    "editable": true,
    "slideshow": {
     "slide_type": "slide"
    },
    "tags": []
   },
   "source": [
    "# Machine Learning Principles\n",
    "\n",
    "We will learn about machine learning from 30,000 feet and see how machine-learning principles apply to modern AI systems.\n",
    "\n",
    "You will learn more about machine learning in the [Machine Learning](https://www.coursera.org/learn/machine-learning-with-python) course at Coursera next week."
   ]
  },
  {
   "cell_type": "markdown",
   "id": "539b6020-89e7-4c37-9455-92a36686e353",
   "metadata": {
    "editable": true,
    "slideshow": {
     "slide_type": "slide"
    },
    "tags": []
   },
   "source": [
    "## Transforming Inputs to Outputs\n",
    "\n",
    "Software development is mostly about writing functions that transform inputs to outputs.\n",
    "\n",
    "For example, given data in a birth record and data about one of your ancestors, write a function to return True if the birth record belongs to that ancestor.\n",
    "\n",
    "In traditional softawre development, you would write a sequence of carefully-crafted steps to return the correct result.\n",
    "\n",
    "In machine learning, you give a machine-learning algorithm a list of hundreds or thousands (or more) examples of input-output pairs, called **training data** and let the algorithm determine the correct output (called a **label**) given an input."
   ]
  },
  {
   "cell_type": "markdown",
   "id": "17d84580-b1a9-486c-9b86-936a98c89e5b",
   "metadata": {
    "editable": true,
    "slideshow": {
     "slide_type": "slide"
    },
    "tags": []
   },
   "source": [
    "## Machine-Learning Algorithms\n",
    "\n",
    "There are many different machine-learning algorithms to determine what to output given an input. Some learn floating-point weights, others learn rules, and others learn complex combinations of rules and weights.\n",
    "\n",
    "- Logistic Regression - weights\n",
    "- Decision trees - rules\n",
    "- XGBoost - rules + weights\n",
    "- Deep neural networks - weights + non-linear functions\n",
    "\n",
    "For example, a decision tree might learn that if the name, the year, and the place on the input birth record exactly matches the name, birth year, and birth place of the input ancestor, then the birth record belongs to that ancestor and the function should output True."
   ]
  },
  {
   "cell_type": "markdown",
   "id": "678d586b-71ab-446e-9b0a-49c60623b6ec",
   "metadata": {
    "editable": true,
    "slideshow": {
     "slide_type": "slide"
    },
    "tags": []
   },
   "source": [
    "## Parameters and Hyperparameters\n",
    "\n",
    "The rules, weights, etc. that a machine-learning algorithm learns from the input-output examples are called its **parameters**.\n",
    "\n",
    "But when faced with a function to write (like determining which records belong to which people in a tree), which algorithm do you choose? And each algorithm has several factors that govern how it behaves (for example, how deep can the learned decision tree be) - how can you determine the best combination of algorithm and governing factors?\n",
    "\n",
    "These governing factors are called **hypyerparameters**. They are not learned by the algorithm. You have to choose them up-front before the algorithm can learn its parameters."
   ]
  },
  {
   "cell_type": "markdown",
   "id": "d1b17dac-5804-4e46-9dfd-befadb688846",
   "metadata": {
    "editable": true,
    "slideshow": {
     "slide_type": "slide"
    },
    "tags": []
   },
   "source": [
    "## Model complexity\n",
    "\n",
    "The thing that is learned by a machine-learning algorithm - the thing that transforms the inputs into the outputs - is called a **model**.\n",
    "\n",
    "Models with more parameters (more weights or rules) can learn more-complex input to output transformation functions, which are able to match (*fit*) the example input-outputs better."
   ]
  },
  {
   "cell_type": "markdown",
   "id": "73fc86cd-35c3-4047-8fac-ab0cb45ba192",
   "metadata": {
    "editable": true,
    "slideshow": {
     "slide_type": "slide"
    },
    "tags": []
   },
   "source": [
    "## Decision Tree Example\n",
    "\n",
    "Suppose we have the following training data inputs + human-provided labels (outputs) (only a few are shown)\n",
    "\n",
    "| Person Name | Birth Date | Birth Place | Record Name | Record Date | Record Place | Page # | Human Label |\n",
    "|-------------|------------|-------------|------------|-------------|--------|-------------|---|\n",
    "| John Smith  | about 1883 | Illinois    | Jane Doe | July 1, 1883 | Chicago, Illinois | 1 | False |\n",
    "| John Smith  | about 1883 | Illinois    | John Smith | July 1, 1900 | Peru | 1 | False |\n",
    "| John Smith  | about 1883 | Illinois    | John Smith | July 1, 1883 | Chicago, Illinois | 1 | True |\n",
    "| John Doe    | about 1883 | Illinois    | John Doe   | July 1, 1883 | Chicago, Illinois | 2 | **False** |\n",
    "| Jane Doe    | about 1883 | Illinois    | Jane Doe   | July 1, 1883 | Chicago, Illinois | 1 | True |\n",
    "\n",
    "We hope the decision-tree algorithm learns something like the following:"
   ]
  },
  {
   "cell_type": "code",
   "execution_count": 14,
   "id": "a50415d1-bcf8-4328-8048-9c84cf0bdbf0",
   "metadata": {
    "editable": true,
    "slideshow": {
     "slide_type": "slide"
    },
    "tags": []
   },
   "outputs": [
    {
     "data": {
      "text/html": [
       "<svg id=\"mermaid-svg\" width=\"100%\" xmlns=\"http://www.w3.org/2000/svg\" style=\"max-width: 728.4375px;\" viewBox=\"-8 -8 728.4375 316.5078125\" role=\"graphics-document document\" aria-roledescription=\"flowchart-v2\" xmlns:xlink=\"http://www.w3.org/1999/xlink\"><style xmlns=\"http://www.w3.org/1999/xhtml\">@import url(\"https://cdnjs.cloudflare.com/ajax/libs/font-awesome/6.5.2/css/all.min.css\");</style><style>#mermaid-svg{font-family:\"trebuchet ms\",verdana,arial,sans-serif;font-size:16px;fill:#333;}#mermaid-svg .error-icon{fill:#552222;}#mermaid-svg .error-text{fill:#552222;stroke:#552222;}#mermaid-svg .edge-thickness-normal{stroke-width:2px;}#mermaid-svg .edge-thickness-thick{stroke-width:3.5px;}#mermaid-svg .edge-pattern-solid{stroke-dasharray:0;}#mermaid-svg .edge-pattern-dashed{stroke-dasharray:3;}#mermaid-svg .edge-pattern-dotted{stroke-dasharray:2;}#mermaid-svg .marker{fill:#333333;stroke:#333333;}#mermaid-svg .marker.cross{stroke:#333333;}#mermaid-svg svg{font-family:\"trebuchet ms\",verdana,arial,sans-serif;font-size:16px;}#mermaid-svg .label{font-family:\"trebuchet ms\",verdana,arial,sans-serif;color:#333;}#mermaid-svg .cluster-label text{fill:#333;}#mermaid-svg .cluster-label span,#mermaid-svg p{color:#333;}#mermaid-svg .label text,#mermaid-svg span,#mermaid-svg p{fill:#333;color:#333;}#mermaid-svg .node rect,#mermaid-svg .node circle,#mermaid-svg .node ellipse,#mermaid-svg .node polygon,#mermaid-svg .node path{fill:#ECECFF;stroke:#9370DB;stroke-width:1px;}#mermaid-svg .flowchart-label text{text-anchor:middle;}#mermaid-svg .node .katex path{fill:#000;stroke:#000;stroke-width:1px;}#mermaid-svg .node .label{text-align:center;}#mermaid-svg .node.clickable{cursor:pointer;}#mermaid-svg .arrowheadPath{fill:#333333;}#mermaid-svg .edgePath .path{stroke:#333333;stroke-width:2.0px;}#mermaid-svg .flowchart-link{stroke:#333333;fill:none;}#mermaid-svg .edgeLabel{background-color:#e8e8e8;text-align:center;}#mermaid-svg .edgeLabel rect{opacity:0.5;background-color:#e8e8e8;fill:#e8e8e8;}#mermaid-svg .labelBkg{background-color:rgba(232, 232, 232, 0.5);}#mermaid-svg .cluster rect{fill:#ffffde;stroke:#aaaa33;stroke-width:1px;}#mermaid-svg .cluster text{fill:#333;}#mermaid-svg .cluster span,#mermaid-svg p{color:#333;}#mermaid-svg div.mermaidTooltip{position:absolute;text-align:center;max-width:200px;padding:2px;font-family:\"trebuchet ms\",verdana,arial,sans-serif;font-size:12px;background:hsl(80, 100%, 96.2745098039%);border:1px solid #aaaa33;border-radius:2px;pointer-events:none;z-index:100;}#mermaid-svg .flowchartTitleText{text-anchor:middle;font-size:18px;fill:#333;}#mermaid-svg :root{--mermaid-font-family:\"trebuchet ms\",verdana,arial,sans-serif;}</style><g><marker id=\"mermaid-svg_flowchart-pointEnd\" class=\"marker flowchart\" viewBox=\"0 0 10 10\" refX=\"6\" refY=\"5\" markerUnits=\"userSpaceOnUse\" markerWidth=\"12\" markerHeight=\"12\" orient=\"auto\"><path d=\"M 0 0 L 10 5 L 0 10 z\" class=\"arrowMarkerPath\" style=\"stroke-width: 1; stroke-dasharray: 1, 0;\"/></marker><marker id=\"mermaid-svg_flowchart-pointStart\" class=\"marker flowchart\" viewBox=\"0 0 10 10\" refX=\"4.5\" refY=\"5\" markerUnits=\"userSpaceOnUse\" markerWidth=\"12\" markerHeight=\"12\" orient=\"auto\"><path d=\"M 0 5 L 10 10 L 10 0 z\" class=\"arrowMarkerPath\" style=\"stroke-width: 1; stroke-dasharray: 1, 0;\"/></marker><marker id=\"mermaid-svg_flowchart-circleEnd\" class=\"marker flowchart\" viewBox=\"0 0 10 10\" refX=\"11\" refY=\"5\" markerUnits=\"userSpaceOnUse\" markerWidth=\"11\" markerHeight=\"11\" orient=\"auto\"><circle cx=\"5\" cy=\"5\" r=\"5\" class=\"arrowMarkerPath\" style=\"stroke-width: 1; stroke-dasharray: 1, 0;\"/></marker><marker id=\"mermaid-svg_flowchart-circleStart\" class=\"marker flowchart\" viewBox=\"0 0 10 10\" refX=\"-1\" refY=\"5\" markerUnits=\"userSpaceOnUse\" markerWidth=\"11\" markerHeight=\"11\" orient=\"auto\"><circle cx=\"5\" cy=\"5\" r=\"5\" class=\"arrowMarkerPath\" style=\"stroke-width: 1; stroke-dasharray: 1, 0;\"/></marker><marker id=\"mermaid-svg_flowchart-crossEnd\" class=\"marker cross flowchart\" viewBox=\"0 0 11 11\" refX=\"12\" refY=\"5.2\" markerUnits=\"userSpaceOnUse\" markerWidth=\"11\" markerHeight=\"11\" orient=\"auto\"><path d=\"M 1,1 l 9,9 M 10,1 l -9,9\" class=\"arrowMarkerPath\" style=\"stroke-width: 2; stroke-dasharray: 1, 0;\"/></marker><marker id=\"mermaid-svg_flowchart-crossStart\" class=\"marker cross flowchart\" viewBox=\"0 0 11 11\" refX=\"-1\" refY=\"5.2\" markerUnits=\"userSpaceOnUse\" markerWidth=\"11\" markerHeight=\"11\" orient=\"auto\"><path d=\"M 1,1 l 9,9 M 10,1 l -9,9\" class=\"arrowMarkerPath\" style=\"stroke-width: 2; stroke-dasharray: 1, 0;\"/></marker><g class=\"root\"><g class=\"clusters\"/><g class=\"edgePaths\"><path d=\"M123.157,57.575L133.935,50.812C144.714,44.05,166.271,30.525,189.716,23.762C213.16,17,238.493,17,251.159,17L263.825,17\" id=\"L-C-D-0\" class=\" edge-thickness-normal edge-pattern-solid flowchart-link LS-C LE-D\" style=\"fill:none;\" marker-end=\"url(#mermaid-svg_flowchart-pointEnd)\"/><path d=\"M123.157,115.261L133.935,121.857C144.714,128.453,166.271,141.644,182.304,148.312C198.338,154.979,208.847,155.121,214.102,155.193L219.357,155.264\" id=\"L-C-E-0\" class=\" edge-thickness-normal edge-pattern-solid flowchart-link LS-C LE-E\" style=\"fill:none;\" marker-end=\"url(#mermaid-svg_flowchart-pointEnd)\"/><path d=\"M338.126,127.133L348.797,119.935C359.469,112.737,380.813,98.341,404.808,91.143C428.804,83.945,455.451,83.945,468.775,83.945L482.098,83.945\" id=\"L-E-F-0\" class=\" edge-thickness-normal edge-pattern-solid flowchart-link LS-E LE-F\" style=\"fill:none;\" marker-end=\"url(#mermaid-svg_flowchart-pointEnd)\"/><path d=\"M338.126,183.539L348.797,190.57C359.469,197.601,380.813,211.664,396.739,218.767C412.666,225.869,423.175,226.012,428.43,226.083L433.685,226.155\" id=\"L-E-G-0\" class=\" edge-thickness-normal edge-pattern-solid flowchart-link LS-E LE-G\" style=\"fill:none;\" marker-end=\"url(#mermaid-svg_flowchart-pointEnd)\"/><path d=\"M568.033,205.713L577.424,202.049C586.814,198.384,605.594,191.055,620.156,187.391C634.718,183.727,645.06,183.727,650.232,183.727L655.403,183.727\" id=\"L-G-H-0\" class=\" edge-thickness-normal edge-pattern-solid flowchart-link LS-G LE-H\" style=\"fill:none;\" marker-end=\"url(#mermaid-svg_flowchart-pointEnd)\"/><path d=\"M568.033,246.74L577.424,250.238C586.814,253.736,605.594,260.731,620.616,264.229C635.637,267.727,646.899,267.727,652.53,267.727L658.161,267.727\" id=\"L-G-I-0\" class=\" edge-thickness-normal edge-pattern-solid flowchart-link LS-G LE-I\" style=\"fill:none;\" marker-end=\"url(#mermaid-svg_flowchart-pointEnd)\"/></g><g class=\"edgeLabels\"><g class=\"edgeLabel\" transform=\"translate(187.828125, 17)\"><g class=\"label\" transform=\"translate(-9.3984375, -9.5)\"><foreignObject width=\"18.796875\" height=\"19\"><div xmlns=\"http://www.w3.org/1999/xhtml\" style=\"display: inline-block; white-space: nowrap;\"><span class=\"edgeLabel\">No</span></div></foreignObject></g></g><g class=\"edgeLabel\" transform=\"translate(187.828125, 154.8359375)\"><g class=\"label\" transform=\"translate(-11.328125, -9.5)\"><foreignObject width=\"22.65625\" height=\"19\"><div xmlns=\"http://www.w3.org/1999/xhtml\" style=\"display: inline-block; white-space: nowrap;\"><span class=\"edgeLabel\">Yes</span></div></foreignObject></g></g><g class=\"edgeLabel\" transform=\"translate(402.15625, 83.9453125)\"><g class=\"label\" transform=\"translate(-9.3984375, -9.5)\"><foreignObject width=\"18.796875\" height=\"19\"><div xmlns=\"http://www.w3.org/1999/xhtml\" style=\"display: inline-block; white-space: nowrap;\"><span class=\"edgeLabel\">No</span></div></foreignObject></g></g><g class=\"edgeLabel\" transform=\"translate(402.15625, 225.7265625)\"><g class=\"label\" transform=\"translate(-11.328125, -9.5)\"><foreignObject width=\"22.65625\" height=\"19\"><div xmlns=\"http://www.w3.org/1999/xhtml\" style=\"display: inline-block; white-space: nowrap;\"><span class=\"edgeLabel\">Yes</span></div></foreignObject></g></g><g class=\"edgeLabel\" transform=\"translate(624.375, 183.7265625)\"><g class=\"label\" transform=\"translate(-9.3984375, -9.5)\"><foreignObject width=\"18.796875\" height=\"19\"><div xmlns=\"http://www.w3.org/1999/xhtml\" style=\"display: inline-block; white-space: nowrap;\"><span class=\"edgeLabel\">No</span></div></foreignObject></g></g><g class=\"edgeLabel\" transform=\"translate(624.375, 267.7265625)\"><g class=\"label\" transform=\"translate(-11.328125, -9.5)\"><foreignObject width=\"22.65625\" height=\"19\"><div xmlns=\"http://www.w3.org/1999/xhtml\" style=\"display: inline-block; white-space: nowrap;\"><span class=\"edgeLabel\">Yes</span></div></foreignObject></g></g></g><g class=\"nodes\"><g class=\"node default default flowchart-label\" id=\"flowchart-C-0\" data-node=\"true\" data-id=\"C\" transform=\"translate(75.75, 85.91796875)\"><polygon points=\"75.75,0 151.5,-75.75 75.75,-151.5 0,-75.75\" class=\"label-container\" transform=\"translate(-75.75,75.75)\" style=\"\"/><g class=\"label\" style=\"\" transform=\"translate(-51.25, -9.5)\"><rect/><foreignObject width=\"102.5\" height=\"19\"><div xmlns=\"http://www.w3.org/1999/xhtml\" style=\"display: inline-block; white-space: nowrap;\"><span class=\"nodeLabel\">Names match?</span></div></foreignObject></g></g><g class=\"node default default flowchart-label\" id=\"flowchart-D-2\" data-node=\"true\" data-id=\"D\" transform=\"translate(294.9921875, 17)\"><rect class=\"basic label-container\" style=\"\" rx=\"0\" ry=\"0\" x=\"-25.8671875\" y=\"-17\" width=\"51.734375\" height=\"34\"/><g class=\"label\" style=\"\" transform=\"translate(-18.3671875, -9.5)\"><rect/><foreignObject width=\"36.734375\" height=\"19\"><div xmlns=\"http://www.w3.org/1999/xhtml\" style=\"display: inline-block; white-space: nowrap;\"><span class=\"nodeLabel\">False</span></div></foreignObject></g></g><g class=\"node default default flowchart-label\" id=\"flowchart-E-4\" data-node=\"true\" data-id=\"E\" transform=\"translate(294.9921875, 154.8359375)\"><polygon points=\"70.8359375,0 141.671875,-70.8359375 70.8359375,-141.671875 0,-70.8359375\" class=\"label-container\" transform=\"translate(-70.8359375,70.8359375)\" style=\"\"/><g class=\"label\" style=\"\" transform=\"translate(-46.3359375, -9.5)\"><rect/><foreignObject width=\"92.671875\" height=\"19\"><div xmlns=\"http://www.w3.org/1999/xhtml\" style=\"display: inline-block; white-space: nowrap;\"><span class=\"nodeLabel\">Years match?</span></div></foreignObject></g></g><g class=\"node default default flowchart-label\" id=\"flowchart-F-6\" data-node=\"true\" data-id=\"F\" transform=\"translate(513.265625, 83.9453125)\"><rect class=\"basic label-container\" style=\"\" rx=\"0\" ry=\"0\" x=\"-25.8671875\" y=\"-17\" width=\"51.734375\" height=\"34\"/><g class=\"label\" style=\"\" transform=\"translate(-18.3671875, -9.5)\"><rect/><foreignObject width=\"36.734375\" height=\"19\"><div xmlns=\"http://www.w3.org/1999/xhtml\" style=\"display: inline-block; white-space: nowrap;\"><span class=\"nodeLabel\">False</span></div></foreignObject></g></g><g class=\"node default default flowchart-label\" id=\"flowchart-G-8\" data-node=\"true\" data-id=\"G\" transform=\"translate(513.265625, 225.7265625)\"><polygon points=\"74.78125,0 149.5625,-74.78125 74.78125,-149.5625 0,-74.78125\" class=\"label-container\" transform=\"translate(-74.78125,74.78125)\" style=\"\"/><g class=\"label\" style=\"\" transform=\"translate(-50.28125, -9.5)\"><rect/><foreignObject width=\"100.5625\" height=\"19\"><div xmlns=\"http://www.w3.org/1999/xhtml\" style=\"display: inline-block; white-space: nowrap;\"><span class=\"nodeLabel\">Places match?</span></div></foreignObject></g></g><g class=\"node default default flowchart-label\" id=\"flowchart-H-10\" data-node=\"true\" data-id=\"H\" transform=\"translate(686.5703125, 183.7265625)\"><rect class=\"basic label-container\" style=\"\" rx=\"0\" ry=\"0\" x=\"-25.8671875\" y=\"-17\" width=\"51.734375\" height=\"34\"/><g class=\"label\" style=\"\" transform=\"translate(-18.3671875, -9.5)\"><rect/><foreignObject width=\"36.734375\" height=\"19\"><div xmlns=\"http://www.w3.org/1999/xhtml\" style=\"display: inline-block; white-space: nowrap;\"><span class=\"nodeLabel\">False</span></div></foreignObject></g></g><g class=\"node default default flowchart-label\" id=\"flowchart-I-12\" data-node=\"true\" data-id=\"I\" transform=\"translate(686.5703125, 267.7265625)\"><rect class=\"basic label-container\" style=\"\" rx=\"0\" ry=\"0\" x=\"-23.109375\" y=\"-17\" width=\"46.21875\" height=\"34\"/><g class=\"label\" style=\"\" transform=\"translate(-15.609375, -9.5)\"><rect/><foreignObject width=\"31.21875\" height=\"19\"><div xmlns=\"http://www.w3.org/1999/xhtml\" style=\"display: inline-block; white-space: nowrap;\"><span class=\"nodeLabel\">True</span></div></foreignObject></g></g></g></g></g></svg>"
      ],
      "text/plain": [
       "<mermaid._main.Mermaid at 0x7457975dd990>"
      ]
     },
     "metadata": {},
     "output_type": "display_data"
    }
   ],
   "source": [
    "%%mermaidjs\n",
    "flowchart LR\n",
    "    C{Names match?}\n",
    "    C -->|No| D[False]\n",
    "    C -->|Yes| E{Years match?}\n",
    "    E -->|No| F[False]\n",
    "    E -->|Yes| G{Places match?}\n",
    "    G -->|No| H[False]\n",
    "    G -->|Yes| I[True]"
   ]
  },
  {
   "cell_type": "markdown",
   "id": "4555f71e-3adc-4b37-8109-d4c90a9727f6",
   "metadata": {
    "editable": true,
    "slideshow": {
     "slide_type": "slide"
    },
    "tags": []
   },
   "source": [
    "## Underfitting\n",
    "\n",
    "When a model doesn't have enough parameters, it isn't able to capture the complexity of the problem, and we say it **underfits** the training data. \n",
    "\n",
    "When a model underfits, it doesn't do a very good job generating the correct outputs from the inputs.\n",
    "\n",
    "For example, if we set a hyperparameter that restricts our decision tree algorithm to make trees that contain only a single decision, then it won't be powerful enough to make good record-to-person-attachment decisions."
   ]
  },
  {
   "cell_type": "code",
   "execution_count": 11,
   "id": "01414954-ecbf-4530-8785-9ec5ddbe01e4",
   "metadata": {
    "editable": true,
    "slideshow": {
     "slide_type": "slide"
    },
    "tags": []
   },
   "outputs": [
    {
     "data": {
      "text/html": [
       "<svg id=\"mermaid-svg\" width=\"100%\" xmlns=\"http://www.w3.org/2000/svg\" style=\"max-width: 291.890625px;\" viewBox=\"-8 -8 291.890625 167.5\" role=\"graphics-document document\" aria-roledescription=\"flowchart-v2\" xmlns:xlink=\"http://www.w3.org/1999/xlink\"><style xmlns=\"http://www.w3.org/1999/xhtml\">@import url(\"https://cdnjs.cloudflare.com/ajax/libs/font-awesome/6.5.2/css/all.min.css\");</style><style>#mermaid-svg{font-family:\"trebuchet ms\",verdana,arial,sans-serif;font-size:16px;fill:#333;}#mermaid-svg .error-icon{fill:#552222;}#mermaid-svg .error-text{fill:#552222;stroke:#552222;}#mermaid-svg .edge-thickness-normal{stroke-width:2px;}#mermaid-svg .edge-thickness-thick{stroke-width:3.5px;}#mermaid-svg .edge-pattern-solid{stroke-dasharray:0;}#mermaid-svg .edge-pattern-dashed{stroke-dasharray:3;}#mermaid-svg .edge-pattern-dotted{stroke-dasharray:2;}#mermaid-svg .marker{fill:#333333;stroke:#333333;}#mermaid-svg .marker.cross{stroke:#333333;}#mermaid-svg svg{font-family:\"trebuchet ms\",verdana,arial,sans-serif;font-size:16px;}#mermaid-svg .label{font-family:\"trebuchet ms\",verdana,arial,sans-serif;color:#333;}#mermaid-svg .cluster-label text{fill:#333;}#mermaid-svg .cluster-label span,#mermaid-svg p{color:#333;}#mermaid-svg .label text,#mermaid-svg span,#mermaid-svg p{fill:#333;color:#333;}#mermaid-svg .node rect,#mermaid-svg .node circle,#mermaid-svg .node ellipse,#mermaid-svg .node polygon,#mermaid-svg .node path{fill:#ECECFF;stroke:#9370DB;stroke-width:1px;}#mermaid-svg .flowchart-label text{text-anchor:middle;}#mermaid-svg .node .katex path{fill:#000;stroke:#000;stroke-width:1px;}#mermaid-svg .node .label{text-align:center;}#mermaid-svg .node.clickable{cursor:pointer;}#mermaid-svg .arrowheadPath{fill:#333333;}#mermaid-svg .edgePath .path{stroke:#333333;stroke-width:2.0px;}#mermaid-svg .flowchart-link{stroke:#333333;fill:none;}#mermaid-svg .edgeLabel{background-color:#e8e8e8;text-align:center;}#mermaid-svg .edgeLabel rect{opacity:0.5;background-color:#e8e8e8;fill:#e8e8e8;}#mermaid-svg .labelBkg{background-color:rgba(232, 232, 232, 0.5);}#mermaid-svg .cluster rect{fill:#ffffde;stroke:#aaaa33;stroke-width:1px;}#mermaid-svg .cluster text{fill:#333;}#mermaid-svg .cluster span,#mermaid-svg p{color:#333;}#mermaid-svg div.mermaidTooltip{position:absolute;text-align:center;max-width:200px;padding:2px;font-family:\"trebuchet ms\",verdana,arial,sans-serif;font-size:12px;background:hsl(80, 100%, 96.2745098039%);border:1px solid #aaaa33;border-radius:2px;pointer-events:none;z-index:100;}#mermaid-svg .flowchartTitleText{text-anchor:middle;font-size:18px;fill:#333;}#mermaid-svg :root{--mermaid-font-family:\"trebuchet ms\",verdana,arial,sans-serif;}</style><g><marker id=\"mermaid-svg_flowchart-pointEnd\" class=\"marker flowchart\" viewBox=\"0 0 10 10\" refX=\"6\" refY=\"5\" markerUnits=\"userSpaceOnUse\" markerWidth=\"12\" markerHeight=\"12\" orient=\"auto\"><path d=\"M 0 0 L 10 5 L 0 10 z\" class=\"arrowMarkerPath\" style=\"stroke-width: 1; stroke-dasharray: 1, 0;\"/></marker><marker id=\"mermaid-svg_flowchart-pointStart\" class=\"marker flowchart\" viewBox=\"0 0 10 10\" refX=\"4.5\" refY=\"5\" markerUnits=\"userSpaceOnUse\" markerWidth=\"12\" markerHeight=\"12\" orient=\"auto\"><path d=\"M 0 5 L 10 10 L 10 0 z\" class=\"arrowMarkerPath\" style=\"stroke-width: 1; stroke-dasharray: 1, 0;\"/></marker><marker id=\"mermaid-svg_flowchart-circleEnd\" class=\"marker flowchart\" viewBox=\"0 0 10 10\" refX=\"11\" refY=\"5\" markerUnits=\"userSpaceOnUse\" markerWidth=\"11\" markerHeight=\"11\" orient=\"auto\"><circle cx=\"5\" cy=\"5\" r=\"5\" class=\"arrowMarkerPath\" style=\"stroke-width: 1; stroke-dasharray: 1, 0;\"/></marker><marker id=\"mermaid-svg_flowchart-circleStart\" class=\"marker flowchart\" viewBox=\"0 0 10 10\" refX=\"-1\" refY=\"5\" markerUnits=\"userSpaceOnUse\" markerWidth=\"11\" markerHeight=\"11\" orient=\"auto\"><circle cx=\"5\" cy=\"5\" r=\"5\" class=\"arrowMarkerPath\" style=\"stroke-width: 1; stroke-dasharray: 1, 0;\"/></marker><marker id=\"mermaid-svg_flowchart-crossEnd\" class=\"marker cross flowchart\" viewBox=\"0 0 11 11\" refX=\"12\" refY=\"5.2\" markerUnits=\"userSpaceOnUse\" markerWidth=\"11\" markerHeight=\"11\" orient=\"auto\"><path d=\"M 1,1 l 9,9 M 10,1 l -9,9\" class=\"arrowMarkerPath\" style=\"stroke-width: 2; stroke-dasharray: 1, 0;\"/></marker><marker id=\"mermaid-svg_flowchart-crossStart\" class=\"marker cross flowchart\" viewBox=\"0 0 11 11\" refX=\"-1\" refY=\"5.2\" markerUnits=\"userSpaceOnUse\" markerWidth=\"11\" markerHeight=\"11\" orient=\"auto\"><path d=\"M 1,1 l 9,9 M 10,1 l -9,9\" class=\"arrowMarkerPath\" style=\"stroke-width: 2; stroke-dasharray: 1, 0;\"/></marker><g class=\"root\"><g class=\"clusters\"/><g class=\"edgePaths\"><path d=\"M131.351,55.601L140.764,51.959C150.177,48.318,169.003,41.034,183.587,37.392C198.171,33.75,208.514,33.75,213.685,33.75L218.856,33.75\" id=\"L-C-D-0\" class=\" edge-thickness-normal edge-pattern-solid flowchart-link LS-C LE-D\" style=\"fill:none;\" marker-end=\"url(#mermaid-svg_flowchart-pointEnd)\"/><path d=\"M131.351,96.899L140.764,100.374C150.177,103.849,169.003,110.8,184.046,114.275C199.09,117.75,210.352,117.75,215.983,117.75L221.614,117.75\" id=\"L-C-E-0\" class=\" edge-thickness-normal edge-pattern-solid flowchart-link LS-C LE-E\" style=\"fill:none;\" marker-end=\"url(#mermaid-svg_flowchart-pointEnd)\"/></g><g class=\"edgeLabels\"><g class=\"edgeLabel\" transform=\"translate(187.828125, 33.75)\"><g class=\"label\" transform=\"translate(-9.3984375, -9.5)\"><foreignObject width=\"18.796875\" height=\"19\"><div xmlns=\"http://www.w3.org/1999/xhtml\" style=\"display: inline-block; white-space: nowrap;\"><span class=\"edgeLabel\">No</span></div></foreignObject></g></g><g class=\"edgeLabel\" transform=\"translate(187.828125, 117.75)\"><g class=\"label\" transform=\"translate(-11.328125, -9.5)\"><foreignObject width=\"22.65625\" height=\"19\"><div xmlns=\"http://www.w3.org/1999/xhtml\" style=\"display: inline-block; white-space: nowrap;\"><span class=\"edgeLabel\">Yes</span></div></foreignObject></g></g></g><g class=\"nodes\"><g class=\"node default default flowchart-label\" id=\"flowchart-C-0\" data-node=\"true\" data-id=\"C\" transform=\"translate(75.75, 75.75)\"><polygon points=\"75.75,0 151.5,-75.75 75.75,-151.5 0,-75.75\" class=\"label-container\" transform=\"translate(-75.75,75.75)\" style=\"\"/><g class=\"label\" style=\"\" transform=\"translate(-51.25, -9.5)\"><rect/><foreignObject width=\"102.5\" height=\"19\"><div xmlns=\"http://www.w3.org/1999/xhtml\" style=\"display: inline-block; white-space: nowrap;\"><span class=\"nodeLabel\">Names match?</span></div></foreignObject></g></g><g class=\"node default default flowchart-label\" id=\"flowchart-D-2\" data-node=\"true\" data-id=\"D\" transform=\"translate(250.0234375, 33.75)\"><rect class=\"basic label-container\" style=\"\" rx=\"0\" ry=\"0\" x=\"-25.8671875\" y=\"-17\" width=\"51.734375\" height=\"34\"/><g class=\"label\" style=\"\" transform=\"translate(-18.3671875, -9.5)\"><rect/><foreignObject width=\"36.734375\" height=\"19\"><div xmlns=\"http://www.w3.org/1999/xhtml\" style=\"display: inline-block; white-space: nowrap;\"><span class=\"nodeLabel\">False</span></div></foreignObject></g></g><g class=\"node default default flowchart-label\" id=\"flowchart-E-4\" data-node=\"true\" data-id=\"E\" transform=\"translate(250.0234375, 117.75)\"><rect class=\"basic label-container\" style=\"\" rx=\"0\" ry=\"0\" x=\"-23.109375\" y=\"-17\" width=\"46.21875\" height=\"34\"/><g class=\"label\" style=\"\" transform=\"translate(-15.609375, -9.5)\"><rect/><foreignObject width=\"31.21875\" height=\"19\"><div xmlns=\"http://www.w3.org/1999/xhtml\" style=\"display: inline-block; white-space: nowrap;\"><span class=\"nodeLabel\">True</span></div></foreignObject></g></g></g></g></g></svg>"
      ],
      "text/plain": [
       "<mermaid._main.Mermaid at 0x7457975dd890>"
      ]
     },
     "metadata": {},
     "output_type": "display_data"
    }
   ],
   "source": [
    "%%mermaidjs\n",
    "flowchart LR\n",
    "    C{Names match?}\n",
    "    C -->|No| D[False]\n",
    "    C -->|Yes| E[True]"
   ]
  },
  {
   "cell_type": "markdown",
   "id": "40313221-0c6b-4e8c-9e79-00b97e9dae2e",
   "metadata": {
    "editable": true,
    "slideshow": {
     "slide_type": "slide"
    },
    "tags": []
   },
   "source": [
    "## Overfitting\n",
    "\n",
    "When a model has a lot of parameters, it is often able to match the training data perfectly or nearly perfectly.\n",
    "But training data often has mistakes. When a model matches the training data so well that it even matches the mistakes in the training data, we say it **overfits** the training data. \n",
    "\n",
    "When a model overfits, it does really well on the training data but doesn't generalize well to unseen examples.\n",
    "\n",
    "For example, remember this line in the training data? \n",
    "\n",
    "| Person Name | Birth Date | Birth Place | Record Name | Record Date | Record Place | Page # | Human Label |\n",
    "|-------------|------------|-------------|------------|-------------|--------|-------------|---|\n",
    "| John Doe    | about 1883 | Illinois    | John Doe   | July 1, 1883 | Chicago, Illinois | 2 | **False** |\n",
    "\n",
    "**False** is likely a mistake. If we set a hyperparameter that says our decision tree algorithm is able to make trees that contain up to four decisions, it might make a decision tree that looks like this in order to match the training data perfectly."
   ]
  },
  {
   "cell_type": "code",
   "execution_count": 21,
   "id": "1ef8ae8c-64ac-4098-963c-335834d600e2",
   "metadata": {
    "editable": true,
    "slideshow": {
     "slide_type": "slide"
    },
    "tags": []
   },
   "outputs": [
    {
     "data": {
      "text/html": [
       "<svg id=\"mermaid-svg\" width=\"100%\" xmlns=\"http://www.w3.org/2000/svg\" style=\"max-width: 951.265625px;\" viewBox=\"-8 -8 951.265625 385.96875\" role=\"graphics-document document\" aria-roledescription=\"flowchart-v2\" xmlns:xlink=\"http://www.w3.org/1999/xlink\"><style xmlns=\"http://www.w3.org/1999/xhtml\">@import url(\"https://cdnjs.cloudflare.com/ajax/libs/font-awesome/6.5.2/css/all.min.css\");</style><style>#mermaid-svg{font-family:\"trebuchet ms\",verdana,arial,sans-serif;font-size:16px;fill:#333;}#mermaid-svg .error-icon{fill:#552222;}#mermaid-svg .error-text{fill:#552222;stroke:#552222;}#mermaid-svg .edge-thickness-normal{stroke-width:2px;}#mermaid-svg .edge-thickness-thick{stroke-width:3.5px;}#mermaid-svg .edge-pattern-solid{stroke-dasharray:0;}#mermaid-svg .edge-pattern-dashed{stroke-dasharray:3;}#mermaid-svg .edge-pattern-dotted{stroke-dasharray:2;}#mermaid-svg .marker{fill:#333333;stroke:#333333;}#mermaid-svg .marker.cross{stroke:#333333;}#mermaid-svg svg{font-family:\"trebuchet ms\",verdana,arial,sans-serif;font-size:16px;}#mermaid-svg .label{font-family:\"trebuchet ms\",verdana,arial,sans-serif;color:#333;}#mermaid-svg .cluster-label text{fill:#333;}#mermaid-svg .cluster-label span,#mermaid-svg p{color:#333;}#mermaid-svg .label text,#mermaid-svg span,#mermaid-svg p{fill:#333;color:#333;}#mermaid-svg .node rect,#mermaid-svg .node circle,#mermaid-svg .node ellipse,#mermaid-svg .node polygon,#mermaid-svg .node path{fill:#ECECFF;stroke:#9370DB;stroke-width:1px;}#mermaid-svg .flowchart-label text{text-anchor:middle;}#mermaid-svg .node .katex path{fill:#000;stroke:#000;stroke-width:1px;}#mermaid-svg .node .label{text-align:center;}#mermaid-svg .node.clickable{cursor:pointer;}#mermaid-svg .arrowheadPath{fill:#333333;}#mermaid-svg .edgePath .path{stroke:#333333;stroke-width:2.0px;}#mermaid-svg .flowchart-link{stroke:#333333;fill:none;}#mermaid-svg .edgeLabel{background-color:#e8e8e8;text-align:center;}#mermaid-svg .edgeLabel rect{opacity:0.5;background-color:#e8e8e8;fill:#e8e8e8;}#mermaid-svg .labelBkg{background-color:rgba(232, 232, 232, 0.5);}#mermaid-svg .cluster rect{fill:#ffffde;stroke:#aaaa33;stroke-width:1px;}#mermaid-svg .cluster text{fill:#333;}#mermaid-svg .cluster span,#mermaid-svg p{color:#333;}#mermaid-svg div.mermaidTooltip{position:absolute;text-align:center;max-width:200px;padding:2px;font-family:\"trebuchet ms\",verdana,arial,sans-serif;font-size:12px;background:hsl(80, 100%, 96.2745098039%);border:1px solid #aaaa33;border-radius:2px;pointer-events:none;z-index:100;}#mermaid-svg .flowchartTitleText{text-anchor:middle;font-size:18px;fill:#333;}#mermaid-svg :root{--mermaid-font-family:\"trebuchet ms\",verdana,arial,sans-serif;}</style><g><marker id=\"mermaid-svg_flowchart-pointEnd\" class=\"marker flowchart\" viewBox=\"0 0 10 10\" refX=\"6\" refY=\"5\" markerUnits=\"userSpaceOnUse\" markerWidth=\"12\" markerHeight=\"12\" orient=\"auto\"><path d=\"M 0 0 L 10 5 L 0 10 z\" class=\"arrowMarkerPath\" style=\"stroke-width: 1; stroke-dasharray: 1, 0;\"/></marker><marker id=\"mermaid-svg_flowchart-pointStart\" class=\"marker flowchart\" viewBox=\"0 0 10 10\" refX=\"4.5\" refY=\"5\" markerUnits=\"userSpaceOnUse\" markerWidth=\"12\" markerHeight=\"12\" orient=\"auto\"><path d=\"M 0 5 L 10 10 L 10 0 z\" class=\"arrowMarkerPath\" style=\"stroke-width: 1; stroke-dasharray: 1, 0;\"/></marker><marker id=\"mermaid-svg_flowchart-circleEnd\" class=\"marker flowchart\" viewBox=\"0 0 10 10\" refX=\"11\" refY=\"5\" markerUnits=\"userSpaceOnUse\" markerWidth=\"11\" markerHeight=\"11\" orient=\"auto\"><circle cx=\"5\" cy=\"5\" r=\"5\" class=\"arrowMarkerPath\" style=\"stroke-width: 1; stroke-dasharray: 1, 0;\"/></marker><marker id=\"mermaid-svg_flowchart-circleStart\" class=\"marker flowchart\" viewBox=\"0 0 10 10\" refX=\"-1\" refY=\"5\" markerUnits=\"userSpaceOnUse\" markerWidth=\"11\" markerHeight=\"11\" orient=\"auto\"><circle cx=\"5\" cy=\"5\" r=\"5\" class=\"arrowMarkerPath\" style=\"stroke-width: 1; stroke-dasharray: 1, 0;\"/></marker><marker id=\"mermaid-svg_flowchart-crossEnd\" class=\"marker cross flowchart\" viewBox=\"0 0 11 11\" refX=\"12\" refY=\"5.2\" markerUnits=\"userSpaceOnUse\" markerWidth=\"11\" markerHeight=\"11\" orient=\"auto\"><path d=\"M 1,1 l 9,9 M 10,1 l -9,9\" class=\"arrowMarkerPath\" style=\"stroke-width: 2; stroke-dasharray: 1, 0;\"/></marker><marker id=\"mermaid-svg_flowchart-crossStart\" class=\"marker cross flowchart\" viewBox=\"0 0 11 11\" refX=\"-1\" refY=\"5.2\" markerUnits=\"userSpaceOnUse\" markerWidth=\"11\" markerHeight=\"11\" orient=\"auto\"><path d=\"M 1,1 l 9,9 M 10,1 l -9,9\" class=\"arrowMarkerPath\" style=\"stroke-width: 2; stroke-dasharray: 1, 0;\"/></marker><g class=\"root\"><g class=\"clusters\"/><g class=\"edgePaths\"><path d=\"M123.157,57.575L133.935,50.812C144.714,44.05,166.271,30.525,189.716,23.762C213.16,17,238.493,17,251.159,17L263.825,17\" id=\"L-C-D-0\" class=\" edge-thickness-normal edge-pattern-solid flowchart-link LS-C LE-D\" style=\"fill:none;\" marker-end=\"url(#mermaid-svg_flowchart-pointEnd)\"/><path d=\"M123.157,115.261L133.935,121.857C144.714,128.453,166.271,141.644,182.304,148.312C198.338,154.979,208.847,155.121,214.102,155.193L219.357,155.264\" id=\"L-C-E-0\" class=\" edge-thickness-normal edge-pattern-solid flowchart-link LS-C LE-E\" style=\"fill:none;\" marker-end=\"url(#mermaid-svg_flowchart-pointEnd)\"/><path d=\"M338.126,127.133L348.797,119.935C359.469,112.737,380.813,98.341,404.808,91.143C428.804,83.945,455.451,83.945,468.775,83.945L482.098,83.945\" id=\"L-E-F-0\" class=\" edge-thickness-normal edge-pattern-solid flowchart-link LS-E LE-F\" style=\"fill:none;\" marker-end=\"url(#mermaid-svg_flowchart-pointEnd)\"/><path d=\"M338.126,183.539L348.797,190.57C359.469,197.601,380.813,211.664,396.739,218.767C412.666,225.869,423.175,226.012,428.43,226.083L433.685,226.155\" id=\"L-E-G-0\" class=\" edge-thickness-normal edge-pattern-solid flowchart-link LS-E LE-G\" style=\"fill:none;\" marker-end=\"url(#mermaid-svg_flowchart-pointEnd)\"/><path d=\"M559.539,197.218L570.345,190.234C581.151,183.25,602.763,169.281,626.734,162.297C650.705,155.313,677.034,155.313,690.199,155.313L703.364,155.313\" id=\"L-G-H-0\" class=\" edge-thickness-normal edge-pattern-solid flowchart-link LS-G LE-H\" style=\"fill:none;\" marker-end=\"url(#mermaid-svg_flowchart-pointEnd)\"/><path d=\"M559.539,255.235L570.345,262.052C581.151,268.87,602.763,282.505,618.824,289.394C634.885,296.283,645.394,296.426,650.649,296.497L655.904,296.569\" id=\"L-G-I-0\" class=\" edge-thickness-normal edge-pattern-solid flowchart-link LS-G LE-I\" style=\"fill:none;\" marker-end=\"url(#mermaid-svg_flowchart-pointEnd)\"/><path d=\"M788.648,276.429L798.197,272.714C807.747,268.999,826.846,261.57,841.777,257.855C856.707,254.141,867.469,254.141,872.85,254.141L878.231,254.141\" id=\"L-I-J-0\" class=\" edge-thickness-normal edge-pattern-solid flowchart-link LS-I LE-J\" style=\"fill:none;\" marker-end=\"url(#mermaid-svg_flowchart-pointEnd)\"/><path d=\"M788.648,316.852L798.197,320.4C807.747,323.949,826.846,331.045,842.236,334.593C857.627,338.141,869.308,338.141,875.148,338.141L880.989,338.141\" id=\"L-I-K-0\" class=\" edge-thickness-normal edge-pattern-solid flowchart-link LS-I LE-K\" style=\"fill:none;\" marker-end=\"url(#mermaid-svg_flowchart-pointEnd)\"/></g><g class=\"edgeLabels\"><g class=\"edgeLabel\" transform=\"translate(187.828125, 17)\"><g class=\"label\" transform=\"translate(-9.3984375, -9.5)\"><foreignObject width=\"18.796875\" height=\"19\"><div xmlns=\"http://www.w3.org/1999/xhtml\" style=\"display: inline-block; white-space: nowrap;\"><span class=\"edgeLabel\">No</span></div></foreignObject></g></g><g class=\"edgeLabel\" transform=\"translate(187.828125, 154.8359375)\"><g class=\"label\" transform=\"translate(-11.328125, -9.5)\"><foreignObject width=\"22.65625\" height=\"19\"><div xmlns=\"http://www.w3.org/1999/xhtml\" style=\"display: inline-block; white-space: nowrap;\"><span class=\"edgeLabel\">Yes</span></div></foreignObject></g></g><g class=\"edgeLabel\" transform=\"translate(402.15625, 83.9453125)\"><g class=\"label\" transform=\"translate(-9.3984375, -9.5)\"><foreignObject width=\"18.796875\" height=\"19\"><div xmlns=\"http://www.w3.org/1999/xhtml\" style=\"display: inline-block; white-space: nowrap;\"><span class=\"edgeLabel\">No</span></div></foreignObject></g></g><g class=\"edgeLabel\" transform=\"translate(402.15625, 225.7265625)\"><g class=\"label\" transform=\"translate(-11.328125, -9.5)\"><foreignObject width=\"22.65625\" height=\"19\"><div xmlns=\"http://www.w3.org/1999/xhtml\" style=\"display: inline-block; white-space: nowrap;\"><span class=\"edgeLabel\">Yes</span></div></foreignObject></g></g><g class=\"edgeLabel\" transform=\"translate(624.375, 155.3125)\"><g class=\"label\" transform=\"translate(-9.3984375, -9.5)\"><foreignObject width=\"18.796875\" height=\"19\"><div xmlns=\"http://www.w3.org/1999/xhtml\" style=\"display: inline-block; white-space: nowrap;\"><span class=\"edgeLabel\">No</span></div></foreignObject></g></g><g class=\"edgeLabel\" transform=\"translate(624.375, 296.140625)\"><g class=\"label\" transform=\"translate(-11.328125, -9.5)\"><foreignObject width=\"22.65625\" height=\"19\"><div xmlns=\"http://www.w3.org/1999/xhtml\" style=\"display: inline-block; white-space: nowrap;\"><span class=\"edgeLabel\">Yes</span></div></foreignObject></g></g><g class=\"edgeLabel\" transform=\"translate(845.9453125, 254.140625)\"><g class=\"label\" transform=\"translate(-12.5859375, -9.5)\"><foreignObject width=\"25.171875\" height=\"19\"><div xmlns=\"http://www.w3.org/1999/xhtml\" style=\"display: inline-block; white-space: nowrap;\"><span class=\"edgeLabel\">==2</span></div></foreignObject></g></g><g class=\"edgeLabel\" transform=\"translate(845.9453125, 338.140625)\"><g class=\"label\" transform=\"translate(-11.328125, -9.5)\"><foreignObject width=\"22.65625\" height=\"19\"><div xmlns=\"http://www.w3.org/1999/xhtml\" style=\"display: inline-block; white-space: nowrap;\"><span class=\"edgeLabel\">!=2</span></div></foreignObject></g></g></g><g class=\"nodes\"><g class=\"node default default flowchart-label\" id=\"flowchart-C-0\" data-node=\"true\" data-id=\"C\" transform=\"translate(75.75, 85.91796875)\"><polygon points=\"75.75,0 151.5,-75.75 75.75,-151.5 0,-75.75\" class=\"label-container\" transform=\"translate(-75.75,75.75)\" style=\"\"/><g class=\"label\" style=\"\" transform=\"translate(-51.25, -9.5)\"><rect/><foreignObject width=\"102.5\" height=\"19\"><div xmlns=\"http://www.w3.org/1999/xhtml\" style=\"display: inline-block; white-space: nowrap;\"><span class=\"nodeLabel\">Names match?</span></div></foreignObject></g></g><g class=\"node default default flowchart-label\" id=\"flowchart-D-2\" data-node=\"true\" data-id=\"D\" transform=\"translate(294.9921875, 17)\"><rect class=\"basic label-container\" style=\"\" rx=\"0\" ry=\"0\" x=\"-25.8671875\" y=\"-17\" width=\"51.734375\" height=\"34\"/><g class=\"label\" style=\"\" transform=\"translate(-18.3671875, -9.5)\"><rect/><foreignObject width=\"36.734375\" height=\"19\"><div xmlns=\"http://www.w3.org/1999/xhtml\" style=\"display: inline-block; white-space: nowrap;\"><span class=\"nodeLabel\">False</span></div></foreignObject></g></g><g class=\"node default default flowchart-label\" id=\"flowchart-E-4\" data-node=\"true\" data-id=\"E\" transform=\"translate(294.9921875, 154.8359375)\"><polygon points=\"70.8359375,0 141.671875,-70.8359375 70.8359375,-141.671875 0,-70.8359375\" class=\"label-container\" transform=\"translate(-70.8359375,70.8359375)\" style=\"\"/><g class=\"label\" style=\"\" transform=\"translate(-46.3359375, -9.5)\"><rect/><foreignObject width=\"92.671875\" height=\"19\"><div xmlns=\"http://www.w3.org/1999/xhtml\" style=\"display: inline-block; white-space: nowrap;\"><span class=\"nodeLabel\">Years match?</span></div></foreignObject></g></g><g class=\"node default default flowchart-label\" id=\"flowchart-F-6\" data-node=\"true\" data-id=\"F\" transform=\"translate(513.265625, 83.9453125)\"><rect class=\"basic label-container\" style=\"\" rx=\"0\" ry=\"0\" x=\"-25.8671875\" y=\"-17\" width=\"51.734375\" height=\"34\"/><g class=\"label\" style=\"\" transform=\"translate(-18.3671875, -9.5)\"><rect/><foreignObject width=\"36.734375\" height=\"19\"><div xmlns=\"http://www.w3.org/1999/xhtml\" style=\"display: inline-block; white-space: nowrap;\"><span class=\"nodeLabel\">False</span></div></foreignObject></g></g><g class=\"node default default flowchart-label\" id=\"flowchart-G-8\" data-node=\"true\" data-id=\"G\" transform=\"translate(513.265625, 225.7265625)\"><polygon points=\"74.78125,0 149.5625,-74.78125 74.78125,-149.5625 0,-74.78125\" class=\"label-container\" transform=\"translate(-74.78125,74.78125)\" style=\"\"/><g class=\"label\" style=\"\" transform=\"translate(-50.28125, -9.5)\"><rect/><foreignObject width=\"100.5625\" height=\"19\"><div xmlns=\"http://www.w3.org/1999/xhtml\" style=\"display: inline-block; white-space: nowrap;\"><span class=\"nodeLabel\">Places match?</span></div></foreignObject></g></g><g class=\"node default default flowchart-label\" id=\"flowchart-H-10\" data-node=\"true\" data-id=\"H\" transform=\"translate(734.53125, 155.3125)\"><rect class=\"basic label-container\" style=\"\" rx=\"0\" ry=\"0\" x=\"-25.8671875\" y=\"-17\" width=\"51.734375\" height=\"34\"/><g class=\"label\" style=\"\" transform=\"translate(-18.3671875, -9.5)\"><rect/><foreignObject width=\"36.734375\" height=\"19\"><div xmlns=\"http://www.w3.org/1999/xhtml\" style=\"display: inline-block; white-space: nowrap;\"><span class=\"nodeLabel\">False</span></div></foreignObject></g></g><g class=\"node default default flowchart-label\" id=\"flowchart-I-12\" data-node=\"true\" data-id=\"I\" transform=\"translate(734.53125, 296.140625)\"><polygon points=\"73.828125,0 147.65625,-73.828125 73.828125,-147.65625 0,-73.828125\" class=\"label-container\" transform=\"translate(-73.828125,73.828125)\" style=\"\"/><g class=\"label\" style=\"\" transform=\"translate(-49.328125, -9.5)\"><rect/><foreignObject width=\"98.65625\" height=\"19\"><div xmlns=\"http://www.w3.org/1999/xhtml\" style=\"display: inline-block; white-space: nowrap;\"><span class=\"nodeLabel\">Page number?</span></div></foreignObject></g></g><g class=\"node default default flowchart-label\" id=\"flowchart-J-14\" data-node=\"true\" data-id=\"J\" transform=\"translate(909.3984375, 254.140625)\"><rect class=\"basic label-container\" style=\"\" rx=\"0\" ry=\"0\" x=\"-25.8671875\" y=\"-17\" width=\"51.734375\" height=\"34\"/><g class=\"label\" style=\"\" transform=\"translate(-18.3671875, -9.5)\"><rect/><foreignObject width=\"36.734375\" height=\"19\"><div xmlns=\"http://www.w3.org/1999/xhtml\" style=\"display: inline-block; white-space: nowrap;\"><span class=\"nodeLabel\">False</span></div></foreignObject></g></g><g class=\"node default default flowchart-label\" id=\"flowchart-K-16\" data-node=\"true\" data-id=\"K\" transform=\"translate(909.3984375, 338.140625)\"><rect class=\"basic label-container\" style=\"\" rx=\"0\" ry=\"0\" x=\"-23.109375\" y=\"-17\" width=\"46.21875\" height=\"34\"/><g class=\"label\" style=\"\" transform=\"translate(-15.609375, -9.5)\"><rect/><foreignObject width=\"31.21875\" height=\"19\"><div xmlns=\"http://www.w3.org/1999/xhtml\" style=\"display: inline-block; white-space: nowrap;\"><span class=\"nodeLabel\">True</span></div></foreignObject></g></g></g></g></g></svg>"
      ],
      "text/plain": [
       "<mermaid._main.Mermaid at 0x7457975d97d0>"
      ]
     },
     "metadata": {},
     "output_type": "display_data"
    }
   ],
   "source": [
    "%%mermaidjs\n",
    "flowchart LR\n",
    "    C{Names match?}\n",
    "    C -->|No| D[False]\n",
    "    C -->|Yes| E{Years match?}\n",
    "    E -->|No| F[False]\n",
    "    E -->|Yes| G{Places match?}\n",
    "    G -->|No| H[False]\n",
    "    G -->|Yes| I{Page number?}\n",
    "    I -->|==2| J[False]\n",
    "    I -->|!=2| K[True]"
   ]
  },
  {
   "cell_type": "markdown",
   "id": "d521cbc9-52f6-45b9-a4fc-0b8f6c214074",
   "metadata": {
    "editable": true,
    "slideshow": {
     "slide_type": "slide"
    },
    "tags": []
   },
   "source": [
    "## Hyperparameter optmization\n",
    "\n",
    "Picking a good set of hyperparameters makes a big difference in how good your model is at generating the correct outputs.\n",
    "\n",
    "**Question:** How can you choose the best hyperparameters?\n",
    "\n",
    "*Hint:* You can't simply choose the hyperparameters that give the best result on the training data because of overfitting.\n",
    "\n",
    "**Answer:** You need more examples (input-output pairs)! This is a separate set of examples that your model hasn't been trained on. It's often called a **dev set** or **development dataset**."
   ]
  },
  {
   "cell_type": "markdown",
   "id": "b55b39dc-ec4b-4ea2-a819-ddb3c6194b9c",
   "metadata": {
    "editable": true,
    "slideshow": {
     "slide_type": "slide"
    },
    "tags": []
   },
   "source": [
    "### Hyperparameter optimization steps:\n",
    "\n",
    "1. Choose a combination of hyperparameters.\n",
    "2. Train your model using the training data with the chosen hyperparameters.\n",
    "3. Evaluate how well your trained model does on the dev set.\n",
    "4. Repeat until you can't find new combinations of hyperparameters that give better results than the results you've already gotten from previous combinations of hyperparameters. Return the best combination."
   ]
  },
  {
   "cell_type": "markdown",
   "id": "6544a202-9e5a-4d5e-85d6-a5fe9a851e9a",
   "metadata": {
    "editable": true,
    "slideshow": {
     "slide_type": "slide"
    },
    "tags": []
   },
   "source": [
    "## Predicting \"real world\" model performance\n",
    "\n",
    "**Question:** How can you know how well your model will do in the real world?\n",
    "\n",
    "*Hint:* You can't simply re-use the dev set, because you chose your hyperparameters to optimize the model's performance on the dev set.\n",
    "\n",
    "**Answer:** You need still more examples! This is a separate set of examples that your model hasn't been trained on, and you haven't used it even to choose the hyperparameters. This is called the **test set**. "
   ]
  },
  {
   "cell_type": "markdown",
   "id": "dd79c0e8-04a0-4a47-bacf-c92900709e66",
   "metadata": {
    "editable": true,
    "slideshow": {
     "slide_type": "slide"
    },
    "tags": []
   },
   "source": [
    "### Predicting real world model performance steps\n",
    "\n",
    "1. After choosing a combination of hyperparameters, train your model. (You can train it using both the training and the dev set at this point.)\n",
    "2. Evaluate how well your trained model does on the test set. This is your best estimate of how well it will do in the real world.\n",
    "\n",
    "**Important:** Don't look into the mistakes made on the test set! If you review the mistakes your model makes on the test set and then use those results to make the model better, you will need a new test set in order to measure real-world performance."
   ]
  },
  {
   "cell_type": "markdown",
   "id": "c27ad1a9-e99d-48d6-b5bc-9966e67b973a",
   "metadata": {
    "editable": true,
    "slideshow": {
     "slide_type": "slide"
    },
    "tags": []
   },
   "source": [
    "## Data Pyramid\n",
    "\n",
    "- Test dataset - smallest, used solely to estimate how well the model will perform in the real world. (hundreds of examples)\n",
    "- Dev dataset - medium size, used to pick the best combination of hyperparameters. (hundreds to thousands of examples)\n",
    "- Training dataset - largest, used to train the model parameters. (often thousands to 10's of thousands of examples or even more)"
   ]
  },
  {
   "cell_type": "markdown",
   "id": "e46d2f56-b9a7-4f0f-b9de-60c14640dc05",
   "metadata": {
    "editable": true,
    "slideshow": {
     "slide_type": "slide"
    },
    "tags": []
   },
   "source": [
    "## How do we create all this data?\n",
    "\n",
    "It used to be that you could spend months creating the data and cleaning it up before you could start your machine-learning project. But now with large language models (LLMs) you now have other options:\n",
    "\n",
    "1. Find and use pre-trained datasets (the **PT** in ChatG**PT** stands for **P**re**T**rained). Find a dataset that is similar to yours and build on top of it (called fine-tuning).\n",
    "2. Ask an LLM like GPT4 to generate the data for you. Use the best (expensive) LLM you can find. You can use the outputs from an expensive model as labels to train a cheaper model.\n",
    "3. Ask humans to create the data. This is the most expensive approach, but usually provides the highest-quality data."
   ]
  },
  {
   "cell_type": "markdown",
   "id": "5c8deabe-b2da-4101-abcf-db9333fde841",
   "metadata": {
    "editable": true,
    "slideshow": {
     "slide_type": "slide"
    },
    "tags": []
   },
   "source": [
    "### Dataset quality\n",
    "\n",
    "In general, the test dataset needs to be the highest quality, the dev dataset the next-highest quality, and you can deal with errors in the training dataset. However, I believe that every hour spent cleaning any of the datasets will save you at least two hours of headaches later on. You could get started quickly with computer-generated data and clean it later on. There are things you can do to identify examples that are most-likely to be incorrect and need human review."
   ]
  },
  {
   "cell_type": "markdown",
   "id": "9426d8c9-d206-47e6-a230-d36fca0456ad",
   "metadata": {
    "editable": true,
    "slideshow": {
     "slide_type": "slide"
    },
    "tags": []
   },
   "source": [
    "## Application to AI projects\n",
    "\n",
    "Now let's learn how these machine-learning principles apply to our personal and group AI projects.\n",
    "\n",
    "Last week we talked about one way to create and deploy a personal project quickly. It's important to get something up and running as soon as you can. Once it's deployed you can work on making it better. Let's call this initial commit your **baseline**. \n",
    "\n",
    "Once you have implemented your baseline the next step is to improve it."
   ]
  },
  {
   "cell_type": "markdown",
   "id": "9be94222-3d2c-49b1-9ecd-75d287a58164",
   "metadata": {
    "editable": true,
    "slideshow": {
     "slide_type": "slide"
    },
    "tags": []
   },
   "source": [
    "## How can I improve my baseline?\n",
    "\n",
    "Here are the steps involved in a RAG question-answer AI system. Other generative AI systems will have similar steps. Each step has several different algorithms to try, each with different hyperparameters that can be set. \n",
    "\n",
    "1. Load data - where is your data coming from? do you need to clean or filter out bad data? deduplicate?\n",
    "2. Split data into chunks - based on # characters, markdown titles, or similarity?\n",
    "3. Index the data - vector, keyword, or hybrid? try different embedding models?\n",
    "4. Retrieve the data - query rewrite? semantic router? rerank?\n",
    "5. Send the data to pre-trained model for a generated response - try different prompts (prompt engineering)?"
   ]
  },
  {
   "cell_type": "markdown",
   "id": "6b185577-18fc-4b0b-aef4-fa3e5cb1517d",
   "metadata": {
    "editable": true,
    "slideshow": {
     "slide_type": "slide"
    },
    "tags": []
   },
   "source": [
    "## How can I know if my new approach is better than the baseline?\n",
    "\n",
    "You need to gather a set of inputs, and compare the quality of the outputs of your new approach against the quality of the outputs of your baseline on the inputs. \n",
    "\n",
    "This is hyperparameter optimization, same as for machine-learning projects. You need a way to **evaluate** the quality of your project's outputs so you can compare one approach against another."
   ]
  },
  {
   "cell_type": "markdown",
   "id": "8842d521-883f-430c-afef-1598b3c6c248",
   "metadata": {
    "editable": true,
    "slideshow": {
     "slide_type": "slide"
    },
    "tags": []
   },
   "source": [
    "### Options for inputs:\n",
    "\n",
    "1. Find a source for real-world user inputs.\n",
    "2. Ask an LLM to generate inputs based upon your data (e.g., given text paragraphs, generate one or more questions that could be answered by each paragraph)."
   ]
  },
  {
   "cell_type": "markdown",
   "id": "6ee2922e-f19d-476d-bc30-a4d58c68afaa",
   "metadata": {
    "editable": true,
    "slideshow": {
     "slide_type": "slide"
    },
    "tags": []
   },
   "source": [
    "### Options for outputs (labels):\n",
    "\n",
    "1. Eyeball it - review a dozen examples to see which approach is better. This approach is the easiest to start with, but will get very tiresome over time since you have to re-eyeball results for every approach.\n",
    "2. Ask an LLM to review the inputs and outputs and judge how correct the outputs are. This approach is the next easiest, but may not give very accurate judgings, which may lead to choosing less-than-ideal hyperparameters.\n",
    "3. Ask an LLM to generate \"ideal/correct\" outputs for each input. This can work if you ask a large, expensive LLM like GPT4 to generate outputs for simple inputs, like simple questions you generated from your text paragraphs.\n",
    "4. Ask humans to generate \"ideal/correct\" outputs for each input."
   ]
  },
  {
   "cell_type": "markdown",
   "id": "99591c67-4fd7-48ab-a41f-9e627f64a6b4",
   "metadata": {
    "editable": true,
    "slideshow": {
     "slide_type": "slide"
    },
    "tags": []
   },
   "source": [
    "## But wait, there's one more problem!\n",
    "\n",
    "If you choose options 3 or 4, you now have another issue: how to judge how close the computer-generated output is to the human-generated ideal/correct output in case the outputs use different words that mean the same thing?\n",
    "\n",
    "You can ask an LLM to review the inputs, the human-generated output, and the computer-generated output and tell you how close the computer-generated output is to the human-generated output. This is a much simpler problem than asking an LLM to come up with ideal/correct outputs to begin with, so this generally works ok."
   ]
  },
  {
   "cell_type": "markdown",
   "id": "40ac56ea-1e18-4899-b7b1-04b28a4962c1",
   "metadata": {
    "editable": true,
    "slideshow": {
     "slide_type": "slide"
    },
    "tags": []
   },
   "source": [
    "### But isn't this just another machine-learning problem? \n",
    "\n",
    "Given the original inputs, the human-generated output, and the computer-generated output we want to return how close the computer-generated output is to the human-generated output. We can ask an LLM to score them as in the previous slide, but another option is to learn a function to score them.\n",
    "\n",
    "First have humans label a bunch of these (input, human-generated-output, computer-generated-output) triples with a score of 1-5 (5=computer- and human-generated outputs are the same; 1=different). Now train a model on these labeled triples so the computer outputs scores similar to the human scores.\n",
    "\n",
    "Training a separate model to be the judge for the first model is extra work but will likely result in a more-accurate judge that may eventually be worth the extra work."
   ]
  },
  {
   "cell_type": "markdown",
   "id": "b8a272d1-2a89-454a-9f91-167eed5a912d",
   "metadata": {
    "editable": true,
    "slideshow": {
     "slide_type": "slide"
    },
    "tags": []
   },
   "source": [
    "## Take-away for today\n",
    "\n",
    "Start figuring out how will get the data you plan to use to **evaluate** your personal AI project.\n",
    "\n",
    "- What are the inputs and the outputs?\n",
    "- Where will you get it from?\n",
    "  - Can you find it online, will you have a computer generate it, or will it be human-generated?"
   ]
  },
  {
   "cell_type": "markdown",
   "id": "529bab11-190c-4718-8c8b-2a470c3017cc",
   "metadata": {
    "editable": true,
    "slideshow": {
     "slide_type": "slide"
    },
    "tags": []
   },
   "source": [
    "## Coming up next\n",
    "\n",
    "We talked about using a development dataset to choose the hyperparameters of our AI systems, and we can similarly use a test dataset to test the performance of our AI systems on real-world inputs.\n",
    "\n",
    "But we haven't talked about how to use a training dataset to train an AI system. That will be the focus in two weeks, using an amazing framework called [DSPy](https://github.com/stanfordnlp/dspy).\n",
    "\n",
    "Next we will show how to use Llamaindex, a library called [Optuna](https://optuna.org/) that makes it easy to do hyperparameter optimization, and a library called [Arize Phoenix](https://phoenix.arize.com/) that makes it easy to evaluate the quality of your model's outputs."
   ]
  },
  {
   "cell_type": "code",
   "execution_count": null,
   "id": "5c3c625f-8d78-4e1e-a98a-ba59af278553",
   "metadata": {
    "editable": true,
    "slideshow": {
     "slide_type": ""
    },
    "tags": []
   },
   "outputs": [],
   "source": []
  }
 ],
 "metadata": {
  "kernelspec": {
   "display_name": "Python 3 (ipykernel)",
   "language": "python",
   "name": "python3"
  },
  "language_info": {
   "codemirror_mode": {
    "name": "ipython",
    "version": 3
   },
   "file_extension": ".py",
   "mimetype": "text/x-python",
   "name": "python",
   "nbconvert_exporter": "python",
   "pygments_lexer": "ipython3",
   "version": "3.11.4"
  }
 },
 "nbformat": 4,
 "nbformat_minor": 5
}
