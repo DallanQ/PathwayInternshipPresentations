{
 "cells": [
  {
   "cell_type": "markdown",
   "id": "086f9c5e",
   "metadata": {
    "slideshow": {
     "slide_type": "slide"
    }
   },
   "source": [
    "# Week 10 - Day 3 (Everyone) - Pair Programming, Codeium, Git Feature Branch Workflow, and Software Architecture\n",
    "\n",
    "We will learn four related things today to prepare us to start the group project next week.\n",
    "\n",
    "1. **Pair Programming** is a way of coding together in pairs so that you produce code and learn at the same time.\n",
    "\n",
    "2. **Codeium** is a code-writing assistant.\n",
    "\n",
    "2. **Git Feature Branch Workflow** is a way of using git to keep from overwriting each other's changes even if you edit the same files at the same time.\n",
    "\n",
    "3. **Software Architecture** is a set of guidelines for writing real-world programs."
   ]
  },
  {
   "cell_type": "markdown",
   "id": "dc1b6f17",
   "metadata": {
    "slideshow": {
     "slide_type": "slide"
    }
   },
   "source": [
    "## 1. Pair Programming\n",
    "\n",
    "Pair programming is where two people work on the same code at the same time. \n",
    "\n",
    "One person is the writes the code (driver) and the other person provides feedback (navigator). The two people communicate continually and switch roles every few minutes.\n",
    "\n",
    "Goals\n",
    "- Improved code quality\n",
    "- Increased collaboration and communication\n",
    "- Increased productivity"
   ]
  },
  {
   "cell_type": "markdown",
   "id": "58be8542",
   "metadata": {
    "slideshow": {
     "slide_type": "slide"
    }
   },
   "source": [
    "### 1. Pair Programming - best practices\n",
    "\n",
    "- Clearly define roles\n",
    "- Effective communication\n",
    "- Respect and empathy\n",
    "- Take breaks\n",
    "- Embrace learning opportunities\n",
    "- Practice active code review\n",
    "- Plan and set goals\n",
    "- Document and share knowledge\n",
    "- Reflect and improve"
   ]
  },
  {
   "cell_type": "markdown",
   "id": "32228b45",
   "metadata": {
    "slideshow": {
     "slide_type": "slide"
    }
   },
   "source": [
    "### 1. Pair Programming - tools\n",
    "\n",
    "- VS Code Live Share extension: https://www.youtube.com/watch?v=A2ceblXTBBc\n",
    "- Google Colab"
   ]
  },
  {
   "cell_type": "markdown",
   "id": "83f57a13",
   "metadata": {
    "slideshow": {
     "slide_type": "slide"
    }
   },
   "source": [
    "## 2. Codeium\n",
    "\n",
    "Don't expect Codeium to write all of your code for you. It's more of a brain **assistant** than a brain **replacement**. It will make mistakes, but overall it will save you keystrokes, and if you use it correctly it will make you a faster developer.\n",
    " \n",
    "Install the Codeium extension into VS Code\n",
    "- https://codeium.com/vscode_tutorial"
   ]
  },
  {
   "cell_type": "markdown",
   "id": "c476ddc1",
   "metadata": {
    "slideshow": {
     "slide_type": "slide"
    }
   },
   "source": [
    "## 3. Git Feature Branch Workflow\n",
    "\n",
    "When you work on a software project with others, you need to have to way to keep from overwriting each other's changes in case you happen to edit the same files at the same time. \n",
    "\n",
    "To do this we will use the *Feature Branch Workflow* \n",
    "- First, create a new *feature branch* for your changes `git checkout -b <branch_name>`\n",
    "- Make your changes and commit them to the branch at at natural stopping points"
   ]
  },
  {
   "cell_type": "markdown",
   "id": "22d74084",
   "metadata": {
    "slideshow": {
     "slide_type": "slide"
    }
   },
   "source": [
    "### 3. Feature Branch Workflow - continued\n",
    "\n",
    "- When you want to share your changes with others so they can look at them: normally `git push` but the first time you push, you will need to set the name of the remote branch to this branch name `git push --set-upstream origin <branch_name>`\n",
    "- When your changes are ready to be merged into the main branch, follow the instructions to create a *Pull Request* and assign me to review your pull request\n",
    "- At this point you can go back to the main branch `git checkout main`"
   ]
  },
  {
   "cell_type": "markdown",
   "id": "10b5a862",
   "metadata": {
    "slideshow": {
     "slide_type": "slide"
    }
   },
   "source": [
    "### 3. Feature Branch Workflow - continued\n",
    "\n",
    "- Once I've reviewed and merged your changes, you and everyone else will be able to access your code on the main branch by pulling down the latest changes: `git pull`\n",
    "- At this point you can delete your feature branch `git branch -d <branch_name>`"
   ]
  },
  {
   "cell_type": "markdown",
   "id": "3786602f",
   "metadata": {
    "slideshow": {
     "slide_type": "slide"
    }
   },
   "source": [
    "### 3. Feature Branch Workflow: Review notebooks in PRs\n",
    "\n",
    "**TODO:** ReviewNB vs Github Notebook reviews\n",
    "\n",
    "NbStripout?"
   ]
  },
  {
   "cell_type": "markdown",
   "id": "f5fe106b",
   "metadata": {
    "slideshow": {
     "slide_type": "slide"
    }
   },
   "source": [
    "## 4. Software Architecture\n",
    "\n",
    "How do we build programs without having them look something like this?\n",
    "\n",
    "<img src=\"architecture_mess.png\" width=\"600px\">"
   ]
  },
  {
   "cell_type": "markdown",
   "id": "0585d8c4",
   "metadata": {
    "slideshow": {
     "slide_type": "slide"
    }
   },
   "source": [
    "### 4. Software Architecture: Program = Data + Statements\n",
    "\n",
    "Programs are essentially about two things:\n",
    "\n",
    "1. Data - information that is acted upon by programming statements\n",
    "2. Programming statements - things that act upon the data: create, read, update, or delete it (CRUD)"
   ]
  },
  {
   "cell_type": "markdown",
   "id": "1263dd0f",
   "metadata": {
    "slideshow": {
     "slide_type": "slide"
    }
   },
   "source": [
    "### 4. Software Architecture: Programming in the small and the large\n",
    "\n",
    "Programming in the small is what you do when you write kata's - use a handful statements to manipulate a handful of data elements so it looks the way you want it when the statements have completed running.\n",
    "\n",
    "Programming in the large is about growing programs from 10's of statements to 10's of thousands or even millions of statements. The challenge is to keep the program correct and easy to understand when it no longer fits on a single page."
   ]
  },
  {
   "cell_type": "markdown",
   "id": "04cf9636",
   "metadata": {
    "slideshow": {
     "slide_type": "slide"
    }
   },
   "source": [
    "### 4. Software Architecture: Composition and Encapsulation\n",
    "\n",
    "As programs grow in size they can become extremely complex and difficult to understand and maintain. To manage complexity we use *Composition* and *Encapsulation* (among other things):\n",
    "\n",
    "* Data: \n",
    "  * Individual variables are composed into lists, sets, dictionaries, and (class) objects. \n",
    "  * You can even have lists of objects, dictionaries of sets, etc.\n",
    "\n",
    "* Statements:\n",
    "  * Individual statements are composed and encapsulated into functions.\n",
    "  * Functions are composed into modules or classes."
   ]
  },
  {
   "cell_type": "markdown",
   "id": "b5f161e5",
   "metadata": {
    "slideshow": {
     "slide_type": "slide"
    }
   },
   "source": [
    "### 4. Software Architecture: Composition and Encapsulation - illustration\n",
    "\n",
    "Think of a large program like a marble chase composed of 100's of pieces. If you had to think about all of the pieces at once, it would be overwhelming. But you can break down the chase into a few large separate components:\n",
    "<table>\n",
    "    <tr>\n",
    "        <td>\n",
    "            <ol style=\"text-align: left\">\n",
    "                <li>a control knob that turns a crank</li>\n",
    "                <li>a large wheel that moves marbles up</li>\n",
    "                <li>a track that guides the marbles down a path</li>\n",
    "                <li>a staircase that marbles climb up</li> \n",
    "                <li>a second track that guides the marbles down a path</li>\n",
    "                <li>a spiral that marbles go around until they get to the bottom</li>\n",
    "            </ol>\n",
    "        </td>\n",
    "        <td>\n",
    "            <img src=\"marble_chase.jpeg\" width=\"300px\">\n",
    "        </td>\n",
    "    </tr>\n",
    "</table>\n",
    "Each component is composed of many pieces that each play a part in the component.\n",
    "By encapsulating the many pieces into a few large components, the marble chase is easier to think about and maintain."
   ]
  },
  {
   "cell_type": "markdown",
   "id": "b36eda0a",
   "metadata": {
    "slideshow": {
     "slide_type": "slide"
    }
   },
   "source": [
    "## Homework\n",
    "\n",
    "I will break you into pairs again. \n",
    "\n",
    "- *Back-end:* Each pair will create the same question-answering system as you did in Week 7 http://localhost:8888/notebooks/07B_QA_Project.ipynb, but this time you will use LangChain. \n",
    "\n",
    "- *Front-end:* Work together to create a sveltekit blog. Here are some resources to help you\n",
    "  - https://www.youtube.com/watch?v=RhScu3uqGd0\n",
    "  - https://joyofcode.xyz/sveltekit-markdown-blog\n",
    "\n",
    "You will present your projects on Monday.\n",
    "\n",
    "Need help?\n",
    "- https://calendly.com/dallanq/help"
   ]
  },
  {
   "cell_type": "markdown",
   "id": "11d1781d",
   "metadata": {
    "slideshow": {
     "slide_type": "slide"
    }
   },
   "source": [
    "## Optional\n",
    "\n",
    "\n",
    "Learn more about how to to be an effective Pair Programmer: https://dev.to/documatic/pair-programming-best-practices-and-tools-154j\n",
    "\n",
    "Learn more about Git Feature Branch Workflow: https://www.atlassian.com/git/tutorials/comparing-workflows/feature-branch-workflow\n",
    "\n",
    "Learn more about software architecture:\n",
    "- Watch this video about CUPID: https://www.youtube.com/watch?v=KRLOCFDw5x4 or read this website: https://cupid.dev/ to learn some properties of well-written large programs.\n",
    "- SOLID https://www.digitalocean.com/community/conceptual-articles/s-o-l-i-d-the-first-five-principles-of-object-oriented-design is another set of principles of software architecture. It is similar to CUPID with some differences. It is more common than CUPID, but I personally prefer CUPID."
   ]
  }
 ],
 "metadata": {
  "celltoolbar": "Slideshow",
  "kernelspec": {
   "display_name": "PathwayInternshipPresentations",
   "language": "python",
   "name": "pathwayinternshippresentations"
  },
  "language_info": {
   "codemirror_mode": {
    "name": "ipython",
    "version": 3
   },
   "file_extension": ".py",
   "mimetype": "text/x-python",
   "name": "python",
   "nbconvert_exporter": "python",
   "pygments_lexer": "ipython3",
   "version": "3.11.4"
  }
 },
 "nbformat": 4,
 "nbformat_minor": 5
}
