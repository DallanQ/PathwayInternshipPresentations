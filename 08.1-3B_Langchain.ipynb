{
 "cells": [
  {
   "cell_type": "markdown",
   "id": "086f9c5e",
   "metadata": {
    "slideshow": {
     "slide_type": "slide"
    }
   },
   "source": [
    "# Week 8 (Back-End) - LangChain\n",
    "\n",
    "As developers we never build anything from scratch. We build on top of things that others have built, so we can get more done. The things we build on top of are called **frameworks**. There are dozens if not hundreds of popular frameworks that people build upon. This week we will learn about **LangChain**, a framework for creating applications that use LLMs.\n",
    "\n",
    "In addition, we will all learn about **Agile Development**"
   ]
  },
  {
   "cell_type": "markdown",
   "id": "a32a121f",
   "metadata": {
    "slideshow": {
     "slide_type": "slide"
    }
   },
   "source": [
    "## Day 1: Back-end development framework: LangChain\n",
    "\n",
    "Go to https://www.deeplearning.ai/short-courses/ and complete the following two courses\n",
    "- LangChain for LLM Application Development\n",
    "- LangChain: Chat with Your Data"
   ]
  },
  {
   "cell_type": "markdown",
   "id": "8aab6fda",
   "metadata": {
    "slideshow": {
     "slide_type": "slide"
    }
   },
   "source": [
    "## Day 2+3: James Briggs' course\n",
    "\n",
    "- https://www.youtube.com/playlist?list=PLIUOU7oqGTLieV9uTIFMm6_4PXg-hlN6F\n",
    "    - https://www.pinecone.io/learn/series/langchain/langchain-intro/\n",
    "    - https://github.com/pinecone-io/examples/tree/master/learn/generation/langchain/handbook\n",
    "    "
   ]
  },
  {
   "cell_type": "markdown",
   "id": "99c2665e",
   "metadata": {
    "slideshow": {
     "slide_type": "slide"
    }
   },
   "source": [
    "## Homework\n",
    "\n",
    "- Make sure you understand what we covered this week. Go through the notebooks on your own.\n",
    "\n",
    "- Optional:\n",
    "  - https://landing.deepset.ai/thank-you-rag-qa-for-enterprise-search\n",
    "  - LangChain \"RAG Evaluation\" Webinar https://www.youtube.com/watch?v=fWC4VxolWAk\n",
    "  - LangChain \"Production Ingestion\" Webinar https://www.youtube.com/watch?v=-y8p7eAlg3o\n",
    "  - LangChain \"Advanced Retrieval\" Webinar https://www.youtube.com/watch?v=DY3sT4yIezs\n",
    "  - LangChain x Pinecone: Supercharging Llama-2 with RAG https://www.youtube.com/watch?v=8Y0o2aBzfWg\n",
    "  - LangChain Retrieval Webinar https://www.youtube.com/watch?v=VrL7AbrY438\n",
    "  - LangChain \"Hallucinations in Document Question-Answering\" Webinar https://www.youtube.com/watch?v=QDsE6vYA82A\n",
    "  - https://blog.langchain.dev/evaluating-rag-pipelines-with-ragas-langsmith/\n",
    "  - https://blog.langchain.dev/integrating-chatgpt-with-google-drive-and-notion-data/\n",
    "  - https://blog.langchain.dev/benchmarking-question-answering-over-csv-data/\n",
    "  - https://mailchi.mp/3a1a86697ee2/week-of-724-langchain-release-notes-6251953?e=1b5c55d0d4\n",
    "\n",
    "Need help?\n",
    "- https://calendly.com/dallanq/help"
   ]
  },
  {
   "cell_type": "code",
   "execution_count": null,
   "id": "7f9b2a0d",
   "metadata": {},
   "outputs": [],
   "source": []
  }
 ],
 "metadata": {
  "celltoolbar": "Slideshow",
  "kernelspec": {
   "display_name": "PathwayInternshipPresentations",
   "language": "python",
   "name": "pathwayinternshippresentations"
  },
  "language_info": {
   "codemirror_mode": {
    "name": "ipython",
    "version": 3
   },
   "file_extension": ".py",
   "mimetype": "text/x-python",
   "name": "python",
   "nbconvert_exporter": "python",
   "pygments_lexer": "ipython3",
   "version": "3.11.4"
  }
 },
 "nbformat": 4,
 "nbformat_minor": 5
}
