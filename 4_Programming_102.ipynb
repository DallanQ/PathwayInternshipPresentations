{
 "cells": [
  {
   "cell_type": "markdown",
   "id": "399a5d69",
   "metadata": {
    "slideshow": {
     "slide_type": "slide"
    }
   },
   "source": [
    "# Week 4 - How to Become a Great Software Engineer\n",
    "\n",
    "Today we answer the question: How can I become a **great** software engineer?\n",
    "\n",
    "But first, any questions on *AI for Everyone* or *Git* (or anything else)?"
   ]
  },
  {
   "cell_type": "markdown",
   "id": "4e998296",
   "metadata": {
    "slideshow": {
     "slide_type": "slide"
    }
   },
   "source": [
    "## Git review\n",
    "\n",
    "Create a new gittest directory and initialize git\n",
    "\n",
    "    mkdir gittest\n",
    "    cd gittest\n",
    "    git init\n",
    "\n",
    "Create a file `twinkle.txt` with the text: Twinkle twinkle little star\n",
    "\n",
    "    nano twinkle.txt\n",
    "\n",
    "Add and commit the file\n",
    "\n",
    "    git add .\n",
    "    git commit -m 'Initial commit'\n",
    "    git log\n",
    "    "
   ]
  },
  {
   "cell_type": "markdown",
   "id": "15c75575",
   "metadata": {
    "slideshow": {
     "slide_type": "slide"
    }
   },
   "source": [
    "## Git review - continued\n",
    "\n",
    "Create a new branch named up_above and switch to it\n",
    "\n",
    "    git checkout -b up_above\n",
    "    \n",
    "Edit twinkle.txt and add a line to the end: Up above the world so high\n",
    "\n",
    "    nano twinkle.txt\n",
    "\n",
    "Commit your changes\n",
    "\n",
    "    git status\n",
    "    git diff\n",
    "    git add .\n",
    "    git status\n",
    "    git commit -m 'Add line 3'\n",
    "    cat twinkle.txt\n",
    "    "
   ]
  },
  {
   "cell_type": "markdown",
   "id": "7b21c063",
   "metadata": {
    "slideshow": {
     "slide_type": "slide"
    }
   },
   "source": [
    "## Git review - continued\n",
    "\n",
    "Switch back to the main branch\n",
    "\n",
    "    git checkout main\n",
    "    cat twinkle.txt\n",
    "    \n",
    "Create a new branch named wonder and switch to it\n",
    "\n",
    "    git checkout -b wonder\n",
    "    \n",
    "Edit twinkle.txt and add a line to the end: How I wonder what you are\n",
    "\n",
    "    nano twinkle.txt\n",
    "    "
   ]
  },
  {
   "cell_type": "markdown",
   "id": "66b3effa",
   "metadata": {
    "slideshow": {
     "slide_type": "slide"
    }
   },
   "source": [
    "## Git review - continued\n",
    "\n",
    "Commit your changes\n",
    "\n",
    "    git status\n",
    "    git diff\n",
    "    git add .\n",
    "    git status\n",
    "    git commit -m 'Add line 2'\n",
    "    cat twinkle.txt\n",
    "    \n",
    " Switch back to the main branch\n",
    "\n",
    "    git checkout main\n",
    "    cat twinkle.txt\n",
    "    "
   ]
  },
  {
   "cell_type": "markdown",
   "id": "1830a5dd",
   "metadata": {
    "slideshow": {
     "slide_type": "slide"
    }
   },
   "source": [
    "## Git review - continued\n",
    "\n",
    "Merge the changes from the up_above branch into main\n",
    "\n",
    "    git merge up_above\n",
    "    cat twinkle.txt\n",
    "    git log\n",
    "    \n",
    "Now merge the changes from the wonder branch into main\n",
    "\n",
    "    git merge wonder\n",
    "    \n",
    "Resolve conflicts\n",
    "    \n",
    "    nano twinkle.txt\n",
    "    "
   ]
  },
  {
   "cell_type": "markdown",
   "id": "43981bd1",
   "metadata": {
    "slideshow": {
     "slide_type": "slide"
    }
   },
   "source": [
    "## Git review - continued\n",
    "\n",
    "Commit the result\n",
    "\n",
    "    git status\n",
    "    git add .\n",
    "    git commit -m 'fix merge conflict'\n",
    "    git log\n",
    "    git log --graph --oneline"
   ]
  },
  {
   "cell_type": "markdown",
   "id": "07ec1fdb",
   "metadata": {
    "slideshow": {
     "slide_type": "slide"
    }
   },
   "source": [
    "## Front-end or Back-end?\n",
    "\n",
    "You now have to make a choice in this internship. Do you want to learn \n",
    "- front-end programming (*html, css, javascript*) or\n",
    "- back-end programming (*python, AI*)?\n",
    "\n",
    "You need to specialize in one or the other for this internship. It's hard enough to become great at one; trying to become great at both at the same time is not recommended. If you want to become great at both, first spend a few years becoming great at one, then learn the other. I spent many years as a back-end developer before learning front-end development.\n",
    "\n",
    "**Let me know by the end of the day today which one you choose!**"
   ]
  },
  {
   "cell_type": "markdown",
   "id": "647e62ca",
   "metadata": {
    "slideshow": {
     "slide_type": "slide"
    }
   },
   "source": [
    "## How does a musician become great?\n",
    "\n",
    "1. Takes music classes\n",
    "2. Practices scales and other fingering exercises over and over (and over!) again\n",
    "3. Practices songs\n",
    "\n",
    "Musicians spend hundreds to thousands of hours practicing to become great."
   ]
  },
  {
   "cell_type": "markdown",
   "id": "20b4ea74",
   "metadata": {
    "slideshow": {
     "slide_type": "slide"
    }
   },
   "source": [
    "## How does a Go player become great?\n",
    "\n",
    "Go is an ancient game from China. It's easy to learn, but very difficult to become great at. A computer beat the world chess champion in 1997 but didn't beat the world go champion until 2016. Go players also spend many years becoming great. \n",
    "\n",
    "<table>\n",
    "    <tr>\n",
    "        <td style=\"font-size: 32px; text-align: center\">1. Read Go Books</td>\n",
    "        <td style=\"font-size: 32px; text-align: center\">2. Solve Go Problems</td>\n",
    "        <td style=\"font-size: 32px; text-align: center\">3. Play Go Games</td>\n",
    "    </tr>\n",
    "    <tr>\n",
    "        <td style=\"text-align: center\"><img src=\"go_books.jpeg\" width=\"150px\"></td>\n",
    "        <td style=\"text-align: center\"><img src=\"go_problems.jpeg\" width=\"150px\"></td>\n",
    "        <td style=\"text-align: center\"><img src=\"go_playing.jpeg\"  width=\"300px\"></td>\n",
    "    </tr>\n",
    "</table>"
   ]
  },
  {
   "cell_type": "markdown",
   "id": "a6210efd",
   "metadata": {
    "slideshow": {
     "slide_type": "slide"
    }
   },
   "source": [
    "## So how can I become a great software engineer?\n",
    "\n",
    "Just like a musician or a go master,\n",
    "\n",
    "1. Read books and take courses\n",
    "2. Practice programming problems\n",
    "3. Write software programs\n",
    "\n",
    "You are going to start doing all three this week!\n",
    "\n",
    "By the way, we will eventually use `Codeium` to help us code in this internship. But you should **not** use it during the courses and programming problems this week. You need to learn and practice the material! Codeium doesn't need the practice. 😆"
   ]
  },
  {
   "cell_type": "markdown",
   "id": "7514440b",
   "metadata": {
    "slideshow": {
     "slide_type": "slide"
    }
   },
   "source": [
    "## 1. Read books and take courses\n",
    "\n",
    "* If you want to learn front-end development, complete this course on HTML + CSS this week: https://www.freecodecamp.org/learn/2022/responsive-web-design/\n",
    "        \n",
    "* If you want to learn back-end development, complete **either** the first half of this course: \n",
    "https://www.freecodecamp.org/learn/scientific-computing-with-python/ **or** this course: https://www.coursera.org/learn/python-data?specialization=python this week. You will get a certificate from the FreeCodeCamp course but not from the Coursera course unless you get the Coursera scholarship.\n",
    "\n",
    "Make sure you complete all the necessary material to get the certificate to add to your profile on LinkedIn."
   ]
  },
  {
   "cell_type": "markdown",
   "id": "580578b0",
   "metadata": {
    "slideshow": {
     "slide_type": "slide"
    }
   },
   "source": [
    "## 1. Read books and take courses - continued\n",
    "\n",
    "Each project you work on should be in its own project directory. All of your presentations should be in your *presentations* directory, your personal project should be in its own directory, and the code your write for your classes this week and next should be in another directory. Here's what I recommend:\n",
    "\n",
    "1. Create a new directory: `mkdir ~/class` and `cd ~/class`\n",
    "2. Initialize git so you have access to git's version control: `git init`. Add files periodically when you get to a stopping point: `git add .` and `git commit`\n",
    "3. Specify which version of python (back-end) or node (front-end) you want to use: `rtx use python@3.11` or `rtx use node@18`"
   ]
  },
  {
   "cell_type": "markdown",
   "id": "7d70f6ae",
   "metadata": {
    "slideshow": {
     "slide_type": "slide"
    }
   },
   "source": [
    "## 1. Read books and take courses - continued\n",
    "\n",
    "4. If you are doing back-end, create a new virtual environment and activate it: `python -m venv .venv` followed by `source .venv/bin/activate.fish` for fish or `source .venv/bin/activate` for bash. If you are doing front-end, you don't need to worry about virtual environments because node creates a virtual environment in the *node_modules* directory for you.\n",
    "5. If you are doing back-end, you need to tell VS Code to use the virtual environment you just created: launch VS Code `code .` type **control-shift-p** to open the command palette, followed by **python: select interpreter**, and select the virtual environment you just created **('.venv': venv)**"
   ]
  },
  {
   "cell_type": "markdown",
   "id": "fdb5fbc4",
   "metadata": {
    "slideshow": {
     "slide_type": "slide"
    }
   },
   "source": [
    "## 2. Practice programming problems\n",
    "\n",
    "Sign up for CodeWars: www.codewars.com/r/TWKi4w\n",
    "\n",
    "Here's a tutorial to get started: https://docs.codewars.com/getting-started/registering\n",
    "* Sign in with your github account and set your development experience to beginner, \n",
    "* *Front-end developers*: set your specialized programming track to Front-End Web, and your language to Javascript\n",
    "* *Back-end developers*: set your specialized programming tracks to Back-End Web and Data Science, and your language to Python\n",
    "* *Everyone*: set your clan to **AfricanInterns**"
   ]
  },
  {
   "cell_type": "markdown",
   "id": "91b4d2c7",
   "metadata": {
    "slideshow": {
     "slide_type": "slide"
    }
   },
   "source": [
    "## 2. Practice programming problems - continued\n",
    "\n",
    "Spend at least **an hour a day** and try to complete at least **5 programming problems (kata's) each day** this week. Use the personal trainer to have the computer choose your next kata. \n",
    "\n",
    "After clicking on the codewars icon in the upper-left to get a new kata to train on, if you see *Rank Up* in the drop-down under *Suggested Challenge*, change it to *Fundamentals* so you get simpler kata. Get help if you need it.\n",
    "\n",
    "You will start off at level 8-kyu (this is how go players are ranked). As you complete kata's successfully, your kyu number will go *down*. Lower kyu ratings are better. \n",
    "\n",
    "If you go beyond 1-kyu, your next level will be 1-dan, and then your dan number will go *up*. Very few go players are dan level."
   ]
  },
  {
   "cell_type": "markdown",
   "id": "aa578fa8",
   "metadata": {
    "slideshow": {
     "slide_type": "slide"
    }
   },
   "source": [
    "## 3. Write software programs\n",
    "\n",
    "Everyone should have a programming project they are working on **on the side** - something that **interests you** so much that you **think about it** frequently and **look forward** to working on it even when you **not being paid**.\n",
    "\n",
    "Side-projects motivate us to learn new things!\n",
    "\n",
    "This week, think about what you want your side-project to be. Create a **Curiosity Presentation** describing your idea to present to the rest of the group next Monday. After listening to your presentation I will help you refine your idea to make sure it is doable and not overwhelming."
   ]
  },
  {
   "cell_type": "markdown",
   "id": "ebf8f7e8",
   "metadata": {
    "slideshow": {
     "slide_type": "slide"
    }
   },
   "source": [
    "## This week is on your own\n",
    "\n",
    "You have a lot to do this week so we won't meet again after today. \n",
    "\n",
    "Next Monday we'll listen to everyone's curiosity presentations on their side-projects and review the work for next week.\n",
    "\n",
    "If you have questions during the week, please ask them on slack. "
   ]
  }
 ],
 "metadata": {
  "celltoolbar": "Slideshow",
  "kernelspec": {
   "display_name": "PathwayInternshipPresentations",
   "language": "python",
   "name": "pathwayinternshippresentations"
  },
  "language_info": {
   "codemirror_mode": {
    "name": "ipython",
    "version": 3
   },
   "file_extension": ".py",
   "mimetype": "text/x-python",
   "name": "python",
   "nbconvert_exporter": "python",
   "pygments_lexer": "ipython3",
   "version": "3.11.4"
  }
 },
 "nbformat": 4,
 "nbformat_minor": 5
}
