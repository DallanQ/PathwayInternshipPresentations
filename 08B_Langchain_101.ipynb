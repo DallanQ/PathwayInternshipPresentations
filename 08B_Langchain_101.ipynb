{
 "cells": [
  {
   "cell_type": "markdown",
   "id": "086f9c5e",
   "metadata": {
    "slideshow": {
     "slide_type": "slide"
    }
   },
   "source": [
    "# Week 8 (Back-End) - LangChain 101\n",
    "\n",
    "As developers we never build anything from scratch. We build on top of things that others have built, so we can get more done. The things we build on top of are called **frameworks**. There are dozens if not hundreds of popular frameworks that people build upon. This week we will start learning about **LangChain**, a framework for creating applications that use LLMs."
   ]
  },
  {
   "cell_type": "markdown",
   "id": "02ec656c",
   "metadata": {
    "slideshow": {
     "slide_type": "slide"
    }
   },
   "source": [
    "## Day 1: QA Project Demonstrations\n",
    "\n",
    "Each team will demonstrate their QA project"
   ]
  },
  {
   "cell_type": "markdown",
   "id": "a32a121f",
   "metadata": {
    "slideshow": {
     "slide_type": "slide"
    }
   },
   "source": [
    "## Day 2: LangChain for LLM Application Development\n",
    "\n",
    "We will watch the following course together\n",
    "- https://www.deeplearning.ai/short-courses/langchain-for-llm-application-development/"
   ]
  },
  {
   "cell_type": "markdown",
   "id": "b13faa85",
   "metadata": {
    "slideshow": {
     "slide_type": "slide"
    }
   },
   "source": [
    "## Day 3+4: LangChain: Chat with Your Data\n",
    "\n",
    "We will watch the following course together. It covers each of steps in creating a question-answer system.\n",
    "- https://www.deeplearning.ai/short-courses/langchain-chat-with-your-data/"
   ]
  },
  {
   "cell_type": "markdown",
   "id": "08514489",
   "metadata": {
    "slideshow": {
     "slide_type": "slide"
    }
   },
   "source": [
    "## Day 5: Using LangChain with Pinecone\n",
    "\n",
    "We will review the following together. This shows how to use Pinecone with LangChain.\n",
    "- https://www.youtube.com/watch?v=LhnCsygAvzY\n",
    "  - https://github.com/pinecone-io/examples/blob/master/learn/generation/langchain/rag-chatbot.ipynb\n",
    "  - Open in Colab https://colab.research.google.com/github/pinecone-io/examples/blob/master/learn/generation/langchain/rag-chatbot.ipynb"
   ]
  },
  {
   "cell_type": "markdown",
   "id": "99c2665e",
   "metadata": {
    "slideshow": {
     "slide_type": "slide"
    }
   },
   "source": [
    "## Homework\n",
    "\n",
    "- Complete Modules 2 and 3 in Crash Course on Python\n",
    "  - https://www.coursera.org/learn/python-crash-course?specialization=google-it-automation\n",
    "- Practice your Kata\n",
    "\n",
    "Need help?\n",
    "- https://calendly.com/dallanq/help"
   ]
  },
  {
   "cell_type": "markdown",
   "id": "01281f72",
   "metadata": {
    "slideshow": {
     "slide_type": "slide"
    }
   },
   "source": [
    "## Optional\n",
    "\n",
    "Additional resources for using LangChain to query documents\n",
    "- https://www.youtube.com/watch?v=kvdVduIJsc8\n",
    "  - https://www.pinecone.io/learn/series/langchain/langchain-retrieval-augmentation/\n",
    "  - https://github.com/pinecone-io/examples/blob/master/learn/generation/langchain/handbook/05-langchain-retrieval-augmentation.ipynb\n",
    "- https://python.langchain.com/docs/use_cases/question_answering/\n",
    "- https://python.langchain.com/docs/use_cases/question_answering/how_to/vector_db_qa\n",
    "- https://www.youtube.com/watch?v=ZzgUqFtxgXI\n",
    "- https://www.youtube.com/watch?v=3yPBVii7Ct0    "
   ]
  }
 ],
 "metadata": {
  "celltoolbar": "Slideshow",
  "kernelspec": {
   "display_name": "PathwayInternshipPresentations",
   "language": "python",
   "name": "pathwayinternshippresentations"
  },
  "language_info": {
   "codemirror_mode": {
    "name": "ipython",
    "version": 3
   },
   "file_extension": ".py",
   "mimetype": "text/x-python",
   "name": "python",
   "nbconvert_exporter": "python",
   "pygments_lexer": "ipython3",
   "version": "3.11.4"
  }
 },
 "nbformat": 4,
 "nbformat_minor": 5
}
