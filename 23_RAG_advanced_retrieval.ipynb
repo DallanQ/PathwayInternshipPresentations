{
 "cells": [
  {
   "attachments": {},
   "cell_type": "markdown",
   "id": "9894eef3-c141-4b25-8483-80456a716589",
   "metadata": {},
   "source": [
    "# Advanced retrieval for RAG\n",
    "\n",
    "Jerry Liu, the creator of LlamaIndex, recently posted this image:\n",
    "\n",
    "<img src=\"images/from-simple-to-advanced-rag.jpeg\" width=\"800\">\n",
    "\n",
    "We will cover fine-tuning and Agentic Behavior later this month;\n",
    "today we'll look at 5 examples of topics under \"Table Stakes\" and \"Advanced Retrieval\".\n",
    "- Metadata filters\n",
    "- Hybrid search\n",
    "- Reranking\n",
    "- Recursive retrieval\n",
    "- Small-to-big retrieval\n",
    "\n",
    "All of these topics (and more) are covered in detail under the \"Advanced Topics\" tab in the LlamaIndex documentation: https://docs.llamaindex.ai/en/stable/optimizing/production_rag/ \n",
    "\n",
    "It's worth reading through this documentation later when you're more familiar with the basics."
   ]
  },
  {
   "cell_type": "code",
   "execution_count": 1,
   "id": "4000efde-54e5-4fa0-aa1c-61995065cb9a",
   "metadata": {},
   "outputs": [],
   "source": [
    "%load_ext autoreload\n",
    "%autoreload 2\n",
    "%load_ext dotenv\n",
    "%dotenv"
   ]
  },
  {
   "cell_type": "markdown",
   "id": "379223da-2f0d-4c35-89fa-d4ce38aec47c",
   "metadata": {},
   "source": [
    "## Load and split the document into nodes (chunks)"
   ]
  },
  {
   "cell_type": "code",
   "execution_count": 2,
   "id": "668d41b6-84b2-446d-b66d-2ff2896de501",
   "metadata": {},
   "outputs": [],
   "source": [
    "import logging\n",
    "import os\n",
    "import sys\n",
    "\n",
    "from llama_index.core import Document\n",
    "from llama_index.core.node_parser import MarkdownNodeParser\n",
    "from llama_index.embeddings.openai import OpenAIEmbedding"
   ]
  },
  {
   "cell_type": "code",
   "execution_count": 3,
   "id": "d64dbeab-3467-4c26-8b94-ea62da9eadcd",
   "metadata": {},
   "outputs": [],
   "source": [
    "# configure\n",
    "filename = 'sleeping_gods.md'\n",
    "\n",
    "logging.basicConfig(stream=sys.stdout, level=logging.INFO)\n",
    "logging.getLogger().addHandler(logging.StreamHandler(stream=sys.stdout))"
   ]
  },
  {
   "cell_type": "code",
   "execution_count": 4,
   "id": "08286ee7-2e2e-43f3-b54e-c15ed5df09df",
   "metadata": {},
   "outputs": [
    {
     "name": "stdout",
     "output_type": "stream",
     "text": [
      "77034\n"
     ]
    }
   ],
   "source": [
    "with open(f'data/{filename}', 'r', encoding='utf-8') as file:\n",
    "    document = Document(\n",
    "        text = file.read(),\n",
    "        metadata = {\"filename\": filename},\n",
    "    )\n",
    "print(len(document.text))"
   ]
  },
  {
   "cell_type": "code",
   "execution_count": 5,
   "id": "61d4b73d-ff91-4173-ad4e-480b70c2916e",
   "metadata": {},
   "outputs": [
    {
     "name": "stdout",
     "output_type": "stream",
     "text": [
      "97\n"
     ]
    }
   ],
   "source": [
    "splitter = MarkdownNodeParser()\n",
    "nodes = splitter.get_nodes_from_documents([document], show_progress=False)\n",
    "print(len(nodes))"
   ]
  },
  {
   "cell_type": "code",
   "execution_count": 6,
   "id": "04fa25cd-1730-4693-85f9-290f5a444030",
   "metadata": {},
   "outputs": [
    {
     "name": "stdout",
     "output_type": "stream",
     "text": [
      ">>>0 737d332f-22d5-4f3f-906c-d55d88f96263\n",
      "Metadata {'Header_2': 'Overview (page 1)', 'filename': 'sleeping_gods.md'}\n",
      "Text Overview (page 1)\n",
      "\n",
      "1-4 players, ages 13+, 1-20 hours\n",
      "\n",
      "\"This is the Wandering Sea. The gods have brought you here, and you must wake them if you wish to return home.\"\n",
      "\n",
      "In Sleeping Gods, you and up to t\n",
      "\n",
      "\n",
      "\n",
      ">>>1 1ef2d784-342b-42f2-a9c7-43c23739bcea\n",
      "Metadata {'Header_2': 'Setup (page 4)', 'filename': 'sleeping_gods.md'}\n",
      "Text Setup (page 4)\n",
      "\n",
      "Follow these instructions if you are starting a new campaign. If this is your first campaign, we recommend using the quick start guide first. If you are setting up the game to continue\n",
      "\n",
      "\n",
      "\n",
      ">>>2 a231c621-6f71-4889-9cf0-f59e3a2265a2\n",
      "Metadata {'Header_2': 'Basics (page 6)', 'filename': 'sleeping_gods.md'}\n",
      "Text Basics (page 6)\n",
      "\n",
      "Pgs. 6-9 introduce some basics of Sleeping Gods to help you get your sea legs. Turn structure and actions are explained starting on pg. 10.\n",
      "\n",
      "\n",
      "\n",
      ">>>3 37765f08-ce45-4ca6-a541-98bd0c7c5bd5\n",
      "Metadata {'Header_2': 'Basics (page 6)', 'Header_3': 'Ship Board (page 6)', 'filename': 'sleeping_gods.md'}\n",
      "Text Ship Board (page 6)\n",
      "\n",
      "\n",
      "\n",
      ">>>4 489e5e21-b5d5-460d-9078-f9285125e3f2\n",
      "Metadata {'Header_2': 'Basics (page 6)', 'Header_3': 'Ship Board (page 6)', 'Header_4': 'Ship Room (page 6)', 'filename': 'sleeping_gods.md'}\n",
      "Text Ship Room (page 6)\n",
      "\n",
      "There are five rooms on the ship. Each room contains an action that you can take at the start of your turn. Each room also contains spaces for ship damage. A room with all damage s\n",
      "\n",
      "\n",
      "\n"
     ]
    }
   ],
   "source": [
    "for ix, node in enumerate(nodes[0:5]):\n",
    "    print(f\">>>{ix} {node.id_}\")\n",
    "    print(\"Metadata\", node.metadata)\n",
    "    print(\"Text\", node.text[:200])\n",
    "    print(\"\\n\\n\")"
   ]
  },
  {
   "cell_type": "markdown",
   "id": "a2843715-cebf-4724-acaf-bce25399ff5a",
   "metadata": {},
   "source": [
    "## Metadata filters\n",
    "\n",
    "Let's add metadata filters so only certain nodes are retrieved.\n",
    "\n",
    "This example is adapted from https://docs.llamaindex.ai/en/stable/examples/vector_stores/chroma_auto_retriever/"
   ]
  },
  {
   "cell_type": "code",
   "execution_count": 7,
   "id": "initial_id",
   "metadata": {
    "ExecuteTime": {
     "end_time": "2024-06-02T06:51:20.014116631Z",
     "start_time": "2024-06-02T06:51:20.013126125Z"
    }
   },
   "outputs": [],
   "source": [
    "import re\n",
    "\n",
    "import chromadb\n",
    "\n",
    "from llama_index.core import VectorStoreIndex, StorageContext\n",
    "from llama_index.core.retrievers import VectorIndexAutoRetriever\n",
    "from llama_index.core.vector_stores.types import MetadataInfo, VectorStoreInfo\n",
    "from llama_index.vector_stores.chroma import ChromaVectorStore"
   ]
  },
  {
   "cell_type": "code",
   "execution_count": 8,
   "id": "38f40092-d24c-483c-bbd7-c9b846c059bf",
   "metadata": {},
   "outputs": [
    {
     "data": {
      "text/plain": [
       "{'Basics (page 6)',\n",
       " 'Challenges (page 19)',\n",
       " 'Combat (page 21)',\n",
       " 'Icons (page 40)',\n",
       " 'Other Rules (page 28)',\n",
       " 'Overview (page 1)',\n",
       " 'Player Turn (page 10)',\n",
       " 'Setup (page 4)',\n",
       " 'Spending Command (page 17)',\n",
       " 'Turn Overview (page 10)'}"
      ]
     },
     "execution_count": 8,
     "metadata": {},
     "output_type": "execute_result"
    }
   ],
   "source": [
    "set(node.metadata['Header_2'] for node in nodes)"
   ]
  },
  {
   "cell_type": "code",
   "execution_count": 9,
   "id": "e6ebb680-f4be-48c3-aa99-4b7948f33aad",
   "metadata": {},
   "outputs": [
    {
     "data": {
      "text/plain": [
       "{'Basics',\n",
       " 'Challenges',\n",
       " 'Combat',\n",
       " 'Icons',\n",
       " 'Other Rules',\n",
       " 'Overview',\n",
       " 'Player Turn',\n",
       " 'Setup',\n",
       " 'Spending Command',\n",
       " 'Turn Overview'}"
      ]
     },
     "execution_count": 9,
     "metadata": {},
     "output_type": "execute_result"
    }
   ],
   "source": [
    "for node in nodes:\n",
    "    if 'Header_2' in node.metadata:\n",
    "        node.metadata['Header_2'] = re.sub(r'\\(page \\d+\\)$', '', node.metadata['Header_2']).strip()\n",
    "set(node.metadata['Header_2'] for node in nodes)"
   ]
  },
  {
   "cell_type": "code",
   "execution_count": 10,
   "id": "4f82c275efc6aa93",
   "metadata": {
    "ExecuteTime": {
     "end_time": "2024-06-02T06:51:27.966680878Z",
     "start_time": "2024-06-02T06:51:20.554743009Z"
    },
    "collapsed": false,
    "jupyter": {
     "outputs_hidden": false
    }
   },
   "outputs": [
    {
     "name": "stdout",
     "output_type": "stream",
     "text": [
      "INFO:chromadb.telemetry.product.posthog:Anonymized telemetry enabled. See                     https://docs.trychroma.com/telemetry for more information.\n",
      "Anonymized telemetry enabled. See                     https://docs.trychroma.com/telemetry for more information.\n",
      "INFO:httpx:HTTP Request: POST https://api.openai.com/v1/embeddings \"HTTP/1.1 200 OK\"\n",
      "HTTP Request: POST https://api.openai.com/v1/embeddings \"HTTP/1.1 200 OK\"\n"
     ]
    }
   ],
   "source": [
    "chroma_client = chromadb.EphemeralClient()\n",
    "chroma_collection = chroma_client.create_collection(\"test\")\n",
    "\n",
    "vector_store = ChromaVectorStore(chroma_collection=chroma_collection)\n",
    "storage_context = StorageContext.from_defaults(vector_store=vector_store)\n",
    "\n",
    "index = VectorStoreIndex(nodes, storage_context=storage_context)"
   ]
  },
  {
   "cell_type": "code",
   "execution_count": 11,
   "id": "4b4fde4e-bce1-4c7a-ae7a-05a04dfd0ab1",
   "metadata": {},
   "outputs": [],
   "source": [
    "vector_store_info = VectorStoreInfo(\n",
    "    content_info=\"How to play the board game Sleeping Gods\",\n",
    "    metadata_info=[\n",
    "        MetadataInfo(\n",
    "            name=\"Header_2\",\n",
    "            type=\"str\",\n",
    "            description=(\n",
    "                \"Board game manual topic, one of [Basics, Challenges, Combat, Icons, Other Rules, Overview, Player Turn, Setup, Spending Command, Turn Overview]\"\n",
    "            ),\n",
    "        ),\n",
    "    ],\n",
    ")\n",
    "retriever = VectorIndexAutoRetriever(\n",
    "    index, vector_store_info=vector_store_info\n",
    ")"
   ]
  },
  {
   "cell_type": "code",
   "execution_count": 12,
   "id": "ce94ee5d-c5b0-426f-9030-78d9bf58519f",
   "metadata": {},
   "outputs": [
    {
     "name": "stdout",
     "output_type": "stream",
     "text": [
      "INFO:httpx:HTTP Request: POST https://api.openai.com/v1/chat/completions \"HTTP/1.1 200 OK\"\n",
      "HTTP Request: POST https://api.openai.com/v1/chat/completions \"HTTP/1.1 200 OK\"\n",
      "INFO:llama_index.core.indices.vector_store.retrievers.auto_retriever.auto_retriever:Using query str: actions during my turn\n",
      "Using query str: actions during my turn\n",
      "INFO:llama_index.core.indices.vector_store.retrievers.auto_retriever.auto_retriever:Using filters: [('Header_2', '==', 'Player Turn'), ('Header_2', '==', 'Turn Overview'), ('Header_2', '==', 'Spending Command')]\n",
      "Using filters: [('Header_2', '==', 'Player Turn'), ('Header_2', '==', 'Turn Overview'), ('Header_2', '==', 'Spending Command')]\n",
      "INFO:llama_index.core.indices.vector_store.retrievers.auto_retriever.auto_retriever:Using top_k: 2\n",
      "Using top_k: 2\n",
      "INFO:httpx:HTTP Request: POST https://api.openai.com/v1/embeddings \"HTTP/1.1 200 OK\"\n",
      "HTTP Request: POST https://api.openai.com/v1/embeddings \"HTTP/1.1 200 OK\"\n"
     ]
    },
    {
     "data": {
      "text/plain": [
       "[]"
      ]
     },
     "execution_count": 12,
     "metadata": {},
     "output_type": "execute_result"
    }
   ],
   "source": [
    "# Note that the filters look good, but no nodes were retrieved!\n",
    "# I repeated this step with many different queries and often got good filters but no nodes returned.\n",
    "# I'm guessing this is because the chunks are way too large to match the query string: actions during turn\n",
    "\n",
    "retriever.retrieve(\"What actions can I take during my turn?\")"
   ]
  },
  {
   "cell_type": "markdown",
   "id": "f9c58dc2-341f-413e-8596-95edb6c6740c",
   "metadata": {},
   "source": [
    "## Hybrid search example\n",
    "\n",
    "Hybrid search means to index each node twice: once with a dense embedding usual, and also with a \"sparse\" embedding. \n",
    "Hybrid search is especially important when queries contain specific keywords instead of just context. \n",
    "For example, we don't want to get results for Joseph Smith or Martin Harris for a query about Oliver Cowdery, even if their embeddings turn out to be similar.\n",
    "\n",
    "There are several popular sparse embeddings:\n",
    "- BM25 - embedding contains a column for every possible word in the index, with the value being the number of times the word appears in the node\n",
    "- Splade - you can think of this as being similar to BM25, but nodes also have non-zero numbers for synonyms of the words they contain\n",
    "- BGE-M3 - this is a new embedding model that supports both dense and sparse embeddings: https://github.com/FlagOpen/FlagEmbedding\n",
    "\n",
    "We will use the Milvus index, hosted at Zilliz, which uses BGE-M3. \n",
    "To use Zilliz, you need to create a free account at https://zilliz.com/ start a cluster, \n",
    "and copy the cluster URI and TOKEN into your .env file as MILVUS_URI and MILVUS_TOKEN respectively.\n",
    "\n",
    "You can see more hybrid search examples here:\n",
    "- https://docs.llamaindex.ai/en/stable/examples/vector_stores/PineconeIndexDemo-Hybrid/\n",
    "- https://docs.llamaindex.ai/en/stable/examples/vector_stores/WeaviateIndexDemo-Hybrid/\n",
    "- https://docs.llamaindex.ai/en/stable/examples/vector_stores/MilvusHybridIndexDemo/"
   ]
  },
  {
   "cell_type": "code",
   "execution_count": 13,
   "id": "ab8255e29444203f",
   "metadata": {
    "ExecuteTime": {
     "end_time": "2024-06-02T06:51:28.392069312Z",
     "start_time": "2024-06-02T06:51:27.969236719Z"
    },
    "collapsed": false,
    "jupyter": {
     "outputs_hidden": false
    }
   },
   "outputs": [],
   "source": [
    "from llama_index.core.vector_stores.types import VectorStoreQueryMode\n",
    "from llama_index.vector_stores.milvus import MilvusVectorStore\n",
    "from pymilvus import MilvusClient"
   ]
  },
  {
   "cell_type": "code",
   "execution_count": 14,
   "id": "2e7e9882-6d82-4d48-aefb-a39d7023ed6f",
   "metadata": {},
   "outputs": [
    {
     "name": "stdout",
     "output_type": "stream",
     "text": [
      "DEBUG:pymilvus.milvus_client.milvus_client:Created new connection using: 4a7589f73ec949a794bf9033970dfbbd\n",
      "Created new connection using: 4a7589f73ec949a794bf9033970dfbbd\n",
      "INFO:httpx:HTTP Request: POST https://api.openai.com/v1/embeddings \"HTTP/1.1 200 OK\"\n",
      "HTTP Request: POST https://api.openai.com/v1/embeddings \"HTTP/1.1 200 OK\"\n",
      "DEBUG:pymilvus.milvus_client.milvus_client:Created new connection using: 2fb00a62120f46aeb70e6ff1152d0591\n",
      "Created new connection using: 2fb00a62120f46aeb70e6ff1152d0591\n",
      "WARNING:llama_index.vector_stores.milvus.base:Sparse embedding function is not provided, using default.\n",
      "Sparse embedding function is not provided, using default.\n"
     ]
    },
    {
     "data": {
      "application/vnd.jupyter.widget-view+json": {
       "model_id": "555fd549c3754d14a7b25239a7ccf2f0",
       "version_major": 2,
       "version_minor": 0
      },
      "text/plain": [
       "Fetching 30 files:   0%|          | 0/30 [00:00<?, ?it/s]"
      ]
     },
     "metadata": {},
     "output_type": "display_data"
    },
    {
     "name": "stdout",
     "output_type": "stream",
     "text": [
      "INFO:FlagEmbedding.BGE_M3.modeling:loading existing colbert_linear and sparse_linear---------\n",
      "loading existing colbert_linear and sparse_linear---------\n"
     ]
    }
   ],
   "source": [
    "embed_model = OpenAIEmbedding(model= 'text-embedding-3-small')\n",
    "\n",
    "milvus_k = 60\n",
    "# delete collection if it exists\n",
    "client = MilvusClient(uri=os.environ['MILVUS_URI'], token=os.environ['MILVUS_TOKEN'])\n",
    "if client.has_collection('test'):\n",
    "    client.drop_collection(collection_name='test')\n",
    "client.close()\n",
    "# hybrid uses BGE-M3 for sparse vectors\n",
    "vector_store = MilvusVectorStore(\n",
    "    uri=os.environ['MILVUS_URI'], \n",
    "    token=os.environ['MILVUS_TOKEN'],\n",
    "    collection_name='test',\n",
    "    dim=len(embed_model.get_text_embedding('foo')),\n",
    "    overwrite=True,\n",
    "    enable_sparse=True,  # NOTE!!!\n",
    "    hybrid_ranker='RRFRanker',\n",
    "    hybrid_ranker_params={'k': milvus_k},\n",
    ")"
   ]
  },
  {
   "cell_type": "code",
   "execution_count": 15,
   "id": "dab517b9-e74b-4787-873d-842db1d380d7",
   "metadata": {},
   "outputs": [],
   "source": [
    "index = VectorStoreIndex.from_vector_store(\n",
    "    vector_store,\n",
    "    embed_model=embed_model,\n",
    ")"
   ]
  },
  {
   "cell_type": "code",
   "execution_count": 16,
   "id": "7c15c051-3dca-418e-809c-3296ddf98c66",
   "metadata": {},
   "outputs": [
    {
     "name": "stdout",
     "output_type": "stream",
     "text": [
      "INFO:httpx:HTTP Request: POST https://api.openai.com/v1/embeddings \"HTTP/1.1 200 OK\"\n",
      "HTTP Request: POST https://api.openai.com/v1/embeddings \"HTTP/1.1 200 OK\"\n"
     ]
    },
    {
     "name": "stderr",
     "output_type": "stream",
     "text": [
      "/Users/dallan/dallanq/PathwayInternshipPresentations/.venv/lib/python3.11/site-packages/transformers/models/xlm_roberta/modeling_xlm_roberta.py:1578: UserWarning: cumsum_out_mps supported by MPS on MacOS 13+, please upgrade (Triggered internally at /Users/runner/work/pytorch/pytorch/pytorch/aten/src/ATen/native/mps/operations/UnaryOps.mm:425.)\n",
      "  incremental_indices = (torch.cumsum(mask, dim=1).type_as(mask) + past_key_values_length) * mask\n"
     ]
    }
   ],
   "source": [
    "# add the nodes to the index\n",
    "index.insert_nodes(nodes)"
   ]
  },
  {
   "cell_type": "code",
   "execution_count": 17,
   "id": "c761e5fc-9e75-4458-95c4-c45cab068652",
   "metadata": {},
   "outputs": [],
   "source": [
    "# create a retriever from the index\n",
    "top_k = 3\n",
    "sparse_top_k = top_k * 5\n",
    "retriever = index.as_retriever(\n",
    "    vector_store_query_mode=VectorStoreQueryMode.HYBRID,  # NOTE!!!\n",
    "    similarity_top_k=top_k,\n",
    "    sparse_top_k=sparse_top_k,\n",
    ")"
   ]
  },
  {
   "cell_type": "code",
   "execution_count": 18,
   "id": "39af7dba-da3c-4bc3-a022-2a7da5d49130",
   "metadata": {},
   "outputs": [
    {
     "name": "stdout",
     "output_type": "stream",
     "text": [
      "INFO:httpx:HTTP Request: POST https://api.openai.com/v1/embeddings \"HTTP/1.1 200 OK\"\n",
      "HTTP Request: POST https://api.openai.com/v1/embeddings \"HTTP/1.1 200 OK\"\n",
      "\n",
      "\n",
      "0 Node=bb919c95-995d-41b5-9f68-11623a6a40d0\n",
      "Fatigue (page 8)\n",
      "\n",
      "When crew members participate in challenges, they gain fatigue, represented by a fatigue token. Each crew member can hold up to 2 fatigue tokens.\n",
      "\n",
      "Each fatigue token is double-sided. If a crew member has only 1 token, place the blank side face up. If a crew member has a 2nd fatigue token, it should have the \"-1 damage\" side face up. This causes the crew member to deal -1 damage in combat.\n",
      "\n",
      "A crew member with 2 fatigue tokens cannot participate in challenges (pg. 19), but can continue to participate in combat (pg. 21).\n",
      "\n",
      "You can remove fatigue mainly by cooking recipes or performing a port action.\n",
      "\n",
      "\n",
      "1 Node=ae2addc7-cd3c-4b5a-94fe-974e5fb33a4f\n",
      "Failure (page 20)\n",
      "\n",
      "If you fail, apply the consequences listed after the word \"fail.\" These are some of the possible consequences:\n",
      "\n",
      "- X health: You must take crew damage. Damage must be applied to any crew members that participated first. The active player decides where to place damage. Example: Cid, Jamey, and Zoey achieve 8 skill, but they needed 9 to pass the challenge. The fail consequence is -9 health. They each participated with one of their crew members and decide to split the damage between them. Each crew member takes 3 damage.\n",
      "\n",
      "- Ship Damage: You must take the listed ship damage. Remember to draw fate for each damage cube so that you know in which room to place it.\n",
      "\n",
      "- Turn to X: Some fail consequences require you to turn to a different story number than if you had succeeded. You must turn to the specified \"fail\" story number (in italics), instead of the number listed on the next line (if any).\n",
      "\n",
      "- Gain Venom/Weakened/Frightened/Madness/Low Morale: Place the appropriate token on one of your crew member\n",
      "\n",
      "\n",
      "2 Node=ed00aa5e-eca5-4e1e-8868-1c46cc13ff5b\n",
      "Challenges (page 19)\n",
      "\n",
      "A challenge is a test of skill that you must overcome. Each challenge is associated with one of the five crew skills: strength, cunning, savvy, perception, or craft.\n",
      "\n",
      "A basic challenge looks like this:\n",
      "\n",
      "Strength 5 Fail: -3 Health\n",
      "\n",
      "In this example, you must achieve a total of 5 strength or higher. If you fail you will take the failure consequence.\n",
      "\n",
      "To overcome a challenge, follow these steps:\n",
      "\n",
      "1. Decide which of your crew members participate (from crew members that you control and Captain Sofi Odessa). Crew members with 2 fatigue cannot participate. You cannot use a crew member more than once per challenge. Place 1 fatigue token on each crew member that participates.\n",
      "\n",
      "If another player wants to use the crew members they control to participate in the challenge, they must pay 1 command. This cost is the same no matter how many crew members they use. They must also give each of their participating crew members 1 fatigue.\n",
      "\n",
      "Example: Tom is the active player and chooses Captain Sofi Odessa to p\n"
     ]
    }
   ],
   "source": [
    "query = 'What is fatigue?'\n",
    "nodes = retriever.retrieve(query)\n",
    "for ix, node in enumerate(nodes):\n",
    "    print(f\"\\n\\n{ix} Node={node.id_}\")\n",
    "    print(node.text[:1024])"
   ]
  },
  {
   "cell_type": "markdown",
   "id": "8c15e62e-6be6-43c4-b28c-5b3d2b792bf8",
   "metadata": {},
   "source": [
    "## Reranking example\n",
    "\n",
    "It's really difficult to capture all of the nuances present in a sentence or paragraph of text in a sequence of numbers such that sentences/paragraphs with similar meaning end up having vectors with high cosine similarity. It's much easier to write an algorithm that takes two text sentences at once and returns how similar they are.\n",
    "\n",
    "Therefore, one popular approach in RAG systems is to use a \"re-ranker\" model that takes the query and the similar nodes returned from the index. \n",
    "This approach issues (query, node) pairs to a re-ranker model to score how relevant each returned node is to the query and uses those scores to re-rank the nodes.\n",
    "The top nodes are then fed to the LLM for generating the answer.\n",
    "\n",
    "There are many re-ranker models. CoHere seems to be the most popular. Some people suggest using multiple re-ranking models and then averaging the results to get the top nodes.\n",
    "\n",
    "Let's re-rank the nodes returned from the previous query. To run this code you will need to create a free account at https://cohere.com/ and copy the API key into your .env file as COHERE_API_KEY.\n",
    "\n",
    "This example is adapted from https://docs.llamaindex.ai/en/stable/examples/node_postprocessor/CohereRerank/"
   ]
  },
  {
   "cell_type": "code",
   "execution_count": 19,
   "id": "0cd19869-8fe6-4604-906d-9d18de1c1bff",
   "metadata": {},
   "outputs": [],
   "source": [
    "from llama_index.postprocessor.cohere_rerank import CohereRerank"
   ]
  },
  {
   "cell_type": "code",
   "execution_count": 20,
   "id": "5290d66c-61fa-4465-a34e-80dad4053dfe",
   "metadata": {},
   "outputs": [],
   "source": [
    "cohere_rerank = CohereRerank(\n",
    "    api_key=os.environ[\"COHERE_API_KEY\"], \n",
    "    top_n=2,\n",
    ")"
   ]
  },
  {
   "cell_type": "code",
   "execution_count": 21,
   "id": "3d097555-4176-48da-aef8-73e130d59915",
   "metadata": {},
   "outputs": [
    {
     "name": "stdout",
     "output_type": "stream",
     "text": [
      "INFO:httpx:HTTP Request: POST https://api.cohere.com/v1/rerank \"HTTP/1.1 200 OK\"\n",
      "HTTP Request: POST https://api.cohere.com/v1/rerank \"HTTP/1.1 200 OK\"\n"
     ]
    }
   ],
   "source": [
    "reranked_nodes = cohere_rerank.postprocess_nodes(\n",
    "    nodes=nodes,\n",
    "    query_str=query,\n",
    ")"
   ]
  },
  {
   "cell_type": "code",
   "execution_count": 22,
   "id": "c9f813c5-3f6f-4027-847a-1413c677d4e9",
   "metadata": {},
   "outputs": [
    {
     "name": "stdout",
     "output_type": "stream",
     "text": [
      "\n",
      "\n",
      "0 Node=bb919c95-995d-41b5-9f68-11623a6a40d0 Score=0.6674729\n",
      "Fatigue (page 8)\n",
      "\n",
      "When crew members participate in challenges, they gain fatigue, represented by a fatigue token. Each crew member can hold up to 2 fatigue tokens.\n",
      "\n",
      "Each fatigue token is double-sided. If a crew member has only 1 token, place the blank side face up. If a crew member has a 2nd fatigue token, it should have the \"-1 damage\" side face up. This causes the crew member to deal -1 damage in combat.\n",
      "\n",
      "A crew member with 2 fatigue tokens cannot participate in challenges (pg. 19), but can continue to participate in combat (pg. 21).\n",
      "\n",
      "You can remove fatigue mainly by cooking recipes or performing a port action.\n",
      "\n",
      "\n",
      "1 Node=ed00aa5e-eca5-4e1e-8868-1c46cc13ff5b Score=0.22371607\n",
      "Challenges (page 19)\n",
      "\n",
      "A challenge is a test of skill that you must overcome. Each challenge is associated with one of the five crew skills: strength, cunning, savvy, perception, or craft.\n",
      "\n",
      "A basic challenge looks like this:\n",
      "\n",
      "Strength 5 Fail: -3 Health\n",
      "\n",
      "In this example, you must achieve a total of 5 strength or higher. If you fail you will take the failure consequence.\n",
      "\n",
      "To overcome a challenge, follow these steps:\n",
      "\n",
      "1. Decide which of your crew members participate (from crew members that you control and Captain Sofi Odessa). Crew members with 2 fatigue cannot participate. You cannot use a crew member more than once per challenge. Place 1 fatigue token on each crew member that participates.\n",
      "\n",
      "If another player wants to use the crew members they control to participate in the challenge, they must pay 1 command. This cost is the same no matter how many crew members they use. They must also give each of their participating crew members 1 fatigue.\n",
      "\n",
      "Example: Tom is the active player and chooses Captain Sofi Odessa to p\n"
     ]
    }
   ],
   "source": [
    "for ix, node in enumerate(reranked_nodes):\n",
    "    print(f\"\\n\\n{ix} Node={node.id_} Score={node.score}\")\n",
    "    print(node.text[:1024])"
   ]
  },
  {
   "cell_type": "markdown",
   "id": "45cb605b-7d43-40cf-bfaa-4f5a838bf141",
   "metadata": {},
   "source": [
    "## Small-to-big retrieval example\n",
    "\n",
    "The idea here is to create small nodes (e.g., a node for each sentence) but to pass the node with surrounding context (e.g., the entire paragraph or the previous and next 5 sentences) to the LLM to answer the question.\n",
    "\n",
    "LlamaIndex includes a *SentenceWindowParser* that makes it easy to add previous and next sentences as metadata to a node, \n",
    "and a *MetadataReplacementNodePostProcessor* that makes it easy to add those sentences from the metadata back to the node text.\n",
    "Let's try it out.\n",
    "\n",
    "This example is adapted from https://docs.llamaindex.ai/en/stable/examples/node_postprocessor/MetadataReplacementDemo/"
   ]
  },
  {
   "cell_type": "code",
   "execution_count": 26,
   "id": "a695f45c-3bd5-4a17-8f13-6348ad97d93d",
   "metadata": {},
   "outputs": [],
   "source": [
    "from llama_index.core import VectorStoreIndex\n",
    "from llama_index.core.node_parser import SentenceWindowNodeParser\n",
    "from llama_index.core.postprocessor import MetadataReplacementPostProcessor\n",
    "from llama_index.llms.openai import OpenAI"
   ]
  },
  {
   "cell_type": "code",
   "execution_count": 27,
   "id": "6a4b237b-8caa-4e07-96d5-5bbc10570f09",
   "metadata": {},
   "outputs": [],
   "source": [
    "# create the sentence window node parser w/ default settings\n",
    "node_parser = SentenceWindowNodeParser.from_defaults(\n",
    "    window_size=3,\n",
    "    window_metadata_key=\"window\",\n",
    "    original_text_metadata_key=\"original_text\",\n",
    ")"
   ]
  },
  {
   "cell_type": "code",
   "execution_count": 28,
   "id": "24921791-daef-47da-b94b-7358ec64e28c",
   "metadata": {},
   "outputs": [
    {
     "name": "stdout",
     "output_type": "stream",
     "text": [
      "998\n",
      "{'window': '## Overview (page 1)\\n\\n1-4 players, ages 13+, 1-20 hours\\n\\n\"This is the Wandering Sea.  The gods have brought you here, and you must wake them if you wish to return home.\"\\n\\n In Sleeping Gods, you and up to three friends become Captain Sofi Odessa and her crew, lost in a strange world in 1929 on your steamship, the Manticore.  You must work together to survive, exploring exotic islands, meeting new characters, and seeking out the totems of the gods so that you can return home.\\n\\n Sleeping Gods is a campaign game.  Each session can last as long as you want. ', 'original_text': 'In Sleeping Gods, you and up to three friends become Captain Sofi Odessa and her crew, lost in a strange world in 1929 on your steamship, the Manticore. ', 'filename': 'sleeping_gods.md'}\n",
      "In Sleeping Gods, you and up to three friends become Captain Sofi Odessa and her crew, lost in a strange world in 1929 on your steamship, the Manticore. \n"
     ]
    }
   ],
   "source": [
    "nodes = node_parser.get_nodes_from_documents([document])\n",
    "print(len(nodes))\n",
    "print(nodes[2].metadata)\n",
    "print(nodes[2].text)"
   ]
  },
  {
   "cell_type": "code",
   "execution_count": 29,
   "id": "73057e75-485e-4f2e-86da-1001fdf41a44",
   "metadata": {},
   "outputs": [
    {
     "name": "stdout",
     "output_type": "stream",
     "text": [
      "INFO:httpx:HTTP Request: POST https://api.openai.com/v1/embeddings \"HTTP/1.1 200 OK\"\n",
      "HTTP Request: POST https://api.openai.com/v1/embeddings \"HTTP/1.1 200 OK\"\n",
      "INFO:httpx:HTTP Request: POST https://api.openai.com/v1/embeddings \"HTTP/1.1 200 OK\"\n",
      "HTTP Request: POST https://api.openai.com/v1/embeddings \"HTTP/1.1 200 OK\"\n",
      "INFO:httpx:HTTP Request: POST https://api.openai.com/v1/embeddings \"HTTP/1.1 200 OK\"\n",
      "HTTP Request: POST https://api.openai.com/v1/embeddings \"HTTP/1.1 200 OK\"\n",
      "INFO:httpx:HTTP Request: POST https://api.openai.com/v1/embeddings \"HTTP/1.1 200 OK\"\n",
      "HTTP Request: POST https://api.openai.com/v1/embeddings \"HTTP/1.1 200 OK\"\n",
      "INFO:httpx:HTTP Request: POST https://api.openai.com/v1/embeddings \"HTTP/1.1 200 OK\"\n",
      "HTTP Request: POST https://api.openai.com/v1/embeddings \"HTTP/1.1 200 OK\"\n",
      "INFO:httpx:HTTP Request: POST https://api.openai.com/v1/embeddings \"HTTP/1.1 200 OK\"\n",
      "HTTP Request: POST https://api.openai.com/v1/embeddings \"HTTP/1.1 200 OK\"\n",
      "INFO:httpx:HTTP Request: POST https://api.openai.com/v1/embeddings \"HTTP/1.1 200 OK\"\n",
      "HTTP Request: POST https://api.openai.com/v1/embeddings \"HTTP/1.1 200 OK\"\n",
      "INFO:httpx:HTTP Request: POST https://api.openai.com/v1/embeddings \"HTTP/1.1 200 OK\"\n",
      "HTTP Request: POST https://api.openai.com/v1/embeddings \"HTTP/1.1 200 OK\"\n",
      "INFO:httpx:HTTP Request: POST https://api.openai.com/v1/embeddings \"HTTP/1.1 200 OK\"\n",
      "HTTP Request: POST https://api.openai.com/v1/embeddings \"HTTP/1.1 200 OK\"\n",
      "INFO:httpx:HTTP Request: POST https://api.openai.com/v1/embeddings \"HTTP/1.1 200 OK\"\n",
      "HTTP Request: POST https://api.openai.com/v1/embeddings \"HTTP/1.1 200 OK\"\n"
     ]
    }
   ],
   "source": [
    "# add the nodes to an index\n",
    "sentence_index = VectorStoreIndex(nodes)"
   ]
  },
  {
   "cell_type": "code",
   "execution_count": 30,
   "id": "49dfc88d-c147-41f8-b034-bc4499d8a194",
   "metadata": {},
   "outputs": [],
   "source": [
    "retriever = sentence_index.as_retriever(top_k=2)\n",
    "node_postprocessor = MetadataReplacementPostProcessor(target_metadata_key=\"window\")"
   ]
  },
  {
   "cell_type": "code",
   "execution_count": 31,
   "id": "e4df0a53-3a3e-4544-a638-15364c7712f3",
   "metadata": {},
   "outputs": [
    {
     "name": "stdout",
     "output_type": "stream",
     "text": [
      "INFO:httpx:HTTP Request: POST https://api.openai.com/v1/embeddings \"HTTP/1.1 200 OK\"\n",
      "HTTP Request: POST https://api.openai.com/v1/embeddings \"HTTP/1.1 200 OK\"\n",
      "\n",
      "\n",
      "0 Node=9ea5d975-f66d-4336-902d-2b0ee28a6699\n",
      "Metadata {'window': '#### Challenge (page 8)\\n\\nYou may be faced with challenges you must overcome, usually when reading from the storybook but also when you draw event cards.  It involves selecting crew members to participate and drawing fate in an effort to reach or exceed a specified challenge number (see pg.  19).\\n\\n #### Fatigue (page 8)\\n\\nWhen crew members participate in challenges, they gain fatigue, represented by a fatigue token.  Each crew member can hold up to 2 fatigue tokens.\\n\\n Each fatigue token is double-sided.  If a crew member has only 1 token, place the blank side face up. ', 'original_text': '#### Fatigue (page 8)\\n\\nWhen crew members participate in challenges, they gain fatigue, represented by a fatigue token. ', 'filename': 'sleeping_gods.md'}\n",
      "Text #### Fatigue (page 8)\n",
      "\n",
      "When crew members participate in challenges, they gain fatigue, represented by a fatigue token. \n",
      "\n",
      "\n",
      "1 Node=b474a31d-74c2-448a-9ff6-a87ed693ab41\n",
      "Metadata {'window': 'Place 1 fatigue token on each crew member that participates.\\n\\n If another player wants to use the crew members they control to participate in the challenge, they must pay 1 command.  This cost is the same no matter how many crew members they use.  They must also give each of their participating crew members 1 fatigue.\\n\\n Example: Tom is the active player and chooses Captain Sofi Odessa to participate.  Zoey decides to participate with two of her crew members, and she pays 1 command to do so.\\n\\n Determine the sum of the specified skills on participating crew members (which is usually 1 per crew member plus any relevant equipped ability cards they have) and move to the next step.\\n\\n', 'original_text': 'They must also give each of their participating crew members 1 fatigue.\\n\\n', 'filename': 'sleeping_gods.md'}\n",
      "Text They must also give each of their participating crew members 1 fatigue.\n",
      "\n",
      "\n"
     ]
    }
   ],
   "source": [
    "query = 'What is fatigue?'\n",
    "nodes = retriever.retrieve(query)\n",
    "\n",
    "for ix, node in enumerate(nodes):\n",
    "    print(f\"\\n\\n{ix} Node={node.id_}\")\n",
    "    print('Metadata', node.metadata)\n",
    "    print('Text', node.text)"
   ]
  },
  {
   "cell_type": "code",
   "execution_count": 32,
   "id": "4118ab9a-1a5d-45f6-a355-7cf4c67713f6",
   "metadata": {},
   "outputs": [
    {
     "name": "stdout",
     "output_type": "stream",
     "text": [
      "\n",
      "\n",
      "0 Node=9ea5d975-f66d-4336-902d-2b0ee28a6699\n",
      "Metadata {'window': '#### Challenge (page 8)\\n\\nYou may be faced with challenges you must overcome, usually when reading from the storybook but also when you draw event cards.  It involves selecting crew members to participate and drawing fate in an effort to reach or exceed a specified challenge number (see pg.  19).\\n\\n #### Fatigue (page 8)\\n\\nWhen crew members participate in challenges, they gain fatigue, represented by a fatigue token.  Each crew member can hold up to 2 fatigue tokens.\\n\\n Each fatigue token is double-sided.  If a crew member has only 1 token, place the blank side face up. ', 'original_text': '#### Fatigue (page 8)\\n\\nWhen crew members participate in challenges, they gain fatigue, represented by a fatigue token. ', 'filename': 'sleeping_gods.md'}\n",
      "Text #### Challenge (page 8)\n",
      "\n",
      "You may be faced with challenges you must overcome, usually when reading from the storybook but also when you draw event cards.  It involves selecting crew members to participate and drawing fate in an effort to reach or exceed a specified challenge number (see pg.  19).\n",
      "\n",
      " #### Fatigue (page 8)\n",
      "\n",
      "When crew members participate in challenges, they gain fatigue, represented by a fatigue token.  Each crew member can hold up to 2 fatigue tokens.\n",
      "\n",
      " Each fatigue token is double-sided.  If a crew member has only 1 token, place the blank side face up. \n",
      "\n",
      "\n",
      "1 Node=b474a31d-74c2-448a-9ff6-a87ed693ab41\n",
      "Metadata {'window': 'Place 1 fatigue token on each crew member that participates.\\n\\n If another player wants to use the crew members they control to participate in the challenge, they must pay 1 command.  This cost is the same no matter how many crew members they use.  They must also give each of their participating crew members 1 fatigue.\\n\\n Example: Tom is the active player and chooses Captain Sofi Odessa to participate.  Zoey decides to participate with two of her crew members, and she pays 1 command to do so.\\n\\n Determine the sum of the specified skills on participating crew members (which is usually 1 per crew member plus any relevant equipped ability cards they have) and move to the next step.\\n\\n', 'original_text': 'They must also give each of their participating crew members 1 fatigue.\\n\\n', 'filename': 'sleeping_gods.md'}\n",
      "Text Place 1 fatigue token on each crew member that participates.\n",
      "\n",
      " If another player wants to use the crew members they control to participate in the challenge, they must pay 1 command.  This cost is the same no matter how many crew members they use.  They must also give each of their participating crew members 1 fatigue.\n",
      "\n",
      " Example: Tom is the active player and chooses Captain Sofi Odessa to participate.  Zoey decides to participate with two of her crew members, and she pays 1 command to do so.\n",
      "\n",
      " Determine the sum of the specified skills on participating crew members (which is usually 1 per crew member plus any relevant equipped ability cards they have) and move to the next step.\n",
      "\n",
      "\n"
     ]
    }
   ],
   "source": [
    "processed_nodes = node_postprocessor.postprocess_nodes(nodes)\n",
    "\n",
    "for ix, node in enumerate(processed_nodes):\n",
    "    print(f\"\\n\\n{ix} Node={node.id_}\")\n",
    "    print('Metadata', node.metadata)\n",
    "    print('Text', node.text)"
   ]
  },
  {
   "cell_type": "markdown",
   "id": "99d53816-1834-403e-9873-13ed3c70a8d6",
   "metadata": {},
   "source": [
    "## Recursive retrieval example\n",
    "\n",
    "Suppose we want to index content from many documents. \n",
    "One way to search this content is to create a separate index for each document, and to create a top-level index that contains summaries of each document.\n",
    "To process a query, you first query the top-level index to see which document is most-likely to contain an answer, then re-issue the query on the index for that document.\n",
    "This is called *Recurisve retrieval*.\n",
    "\n",
    "Let's index content for the board games Sleeping Gods and also Everdell.\n",
    "\n",
    "This example is adapted from https://docs.llamaindex.ai/en/stable/examples/retrievers/auto_vs_recursive_retriever/"
   ]
  },
  {
   "cell_type": "code",
   "execution_count": 33,
   "id": "85c000c4-f53d-48b2-b6af-fd0ea6fbf231",
   "metadata": {},
   "outputs": [],
   "source": [
    "from llama_index.core import SimpleDirectoryReader, SummaryIndex\n",
    "from llama_index.core.callbacks import LlamaDebugHandler, CallbackManager\n",
    "from llama_index.core.node_parser import SentenceSplitter\n",
    "from llama_index.core.retrievers import RecursiveRetriever\n",
    "from llama_index.core.schema import IndexNode\n",
    "from llama_index.llms.openai import OpenAI"
   ]
  },
  {
   "cell_type": "code",
   "execution_count": 34,
   "id": "48ee5862-58cd-4320-8dec-d6b7d5bbf89e",
   "metadata": {},
   "outputs": [],
   "source": [
    "llm = OpenAI(\"gpt-4\")\n",
    "callback_manager = CallbackManager([LlamaDebugHandler()])\n",
    "\n",
    "# we'll just do dumb splitting for this example\n",
    "splitter = SentenceSplitter(chunk_size=256)\n",
    "\n",
    "titles = ['everdell', 'sleeping_gods']"
   ]
  },
  {
   "cell_type": "code",
   "execution_count": 35,
   "id": "f7e8e969-4e61-40dd-8a18-fa7bd73c342e",
   "metadata": {},
   "outputs": [
    {
     "name": "stdout",
     "output_type": "stream",
     "text": [
      "2\n"
     ]
    }
   ],
   "source": [
    "# load documents\n",
    "docs_dict = {}\n",
    "for title in titles:\n",
    "    with open(f'data/{title}.md', 'r', encoding='utf-8') as file:\n",
    "        document = Document(\n",
    "            text = file.read(),\n",
    "            metadata = {\"title\": title},\n",
    "        )\n",
    "    docs_dict[title] = document\n",
    "print(len(docs_dict))"
   ]
  },
  {
   "cell_type": "code",
   "execution_count": 36,
   "id": "1fa4d6e3-33aa-4b3c-94c5-383bd5e26e0d",
   "metadata": {},
   "outputs": [
    {
     "name": "stdout",
     "output_type": "stream",
     "text": [
      "INFO:httpx:HTTP Request: POST https://api.openai.com/v1/embeddings \"HTTP/1.1 200 OK\"\n",
      "HTTP Request: POST https://api.openai.com/v1/embeddings \"HTTP/1.1 200 OK\"\n",
      "**********\n",
      "Trace: index_construction\n",
      "    |_CBEventType.EMBEDDING -> 0.667611 seconds\n",
      "**********\n",
      "**********\n",
      "Trace: index_construction\n",
      "**********\n",
      "INFO:httpx:HTTP Request: POST https://api.openai.com/v1/chat/completions \"HTTP/1.1 200 OK\"\n",
      "HTTP Request: POST https://api.openai.com/v1/chat/completions \"HTTP/1.1 200 OK\"\n",
      "**Summary for everdell: Everdell is a board game where players take on the role of critters building cities in an enchanting forest. The game begins in late winter and ends as the next winter approaches, with each player taking turns to perform actions such as placing a worker, playing a card, or preparing for a season. \n",
      "\n",
      "Players can visit various locations to gather resources, draw more cards, host events, or embark on a journey. There are two types of locations: exclusive and shared. The game also involves playing cards to form a city, with two types of cards: Critters and Constructions. \n",
      "\n",
      "The game ends when players cannot or do not wish to perform any more actions. The winner is determined by adding up all points from cards, point tokens, bonuses, journey points, and events. In case of a tie, the player who achieved the most events wins, and if there's still a tie, the player with the most leftover resources wins.\n",
      "\n",
      "The game also includes solo rules where the player competes against a character named Rugwort. The solo game spans three years, with each year introducing new challenges.\n",
      "INFO:httpx:HTTP Request: POST https://api.openai.com/v1/embeddings \"HTTP/1.1 200 OK\"\n",
      "HTTP Request: POST https://api.openai.com/v1/embeddings \"HTTP/1.1 200 OK\"\n",
      "INFO:httpx:HTTP Request: POST https://api.openai.com/v1/embeddings \"HTTP/1.1 200 OK\"\n",
      "HTTP Request: POST https://api.openai.com/v1/embeddings \"HTTP/1.1 200 OK\"\n",
      "INFO:httpx:HTTP Request: POST https://api.openai.com/v1/embeddings \"HTTP/1.1 200 OK\"\n",
      "HTTP Request: POST https://api.openai.com/v1/embeddings \"HTTP/1.1 200 OK\"\n",
      "INFO:httpx:HTTP Request: POST https://api.openai.com/v1/embeddings \"HTTP/1.1 200 OK\"\n",
      "HTTP Request: POST https://api.openai.com/v1/embeddings \"HTTP/1.1 200 OK\"\n",
      "**********\n",
      "Trace: index_construction\n",
      "    |_CBEventType.EMBEDDING -> 0.724381 seconds\n",
      "    |_CBEventType.EMBEDDING -> 0.744224 seconds\n",
      "    |_CBEventType.EMBEDDING -> 0.754754 seconds\n",
      "    |_CBEventType.EMBEDDING -> 0.833852 seconds\n",
      "**********\n",
      "**********\n",
      "Trace: index_construction\n",
      "**********\n",
      "INFO:httpx:HTTP Request: POST https://api.openai.com/v1/chat/completions \"HTTP/1.1 200 OK\"\n",
      "HTTP Request: POST https://api.openai.com/v1/chat/completions \"HTTP/1.1 200 OK\"\n",
      "INFO:httpx:HTTP Request: POST https://api.openai.com/v1/chat/completions \"HTTP/1.1 200 OK\"\n",
      "HTTP Request: POST https://api.openai.com/v1/chat/completions \"HTTP/1.1 200 OK\"\n",
      "INFO:httpx:HTTP Request: POST https://api.openai.com/v1/chat/completions \"HTTP/1.1 200 OK\"\n",
      "HTTP Request: POST https://api.openai.com/v1/chat/completions \"HTTP/1.1 200 OK\"\n",
      "INFO:httpx:HTTP Request: POST https://api.openai.com/v1/chat/completions \"HTTP/1.1 200 OK\"\n",
      "HTTP Request: POST https://api.openai.com/v1/chat/completions \"HTTP/1.1 200 OK\"\n",
      "**Summary for sleeping_gods: \"Sleeping Gods\" is a cooperative campaign game for 1-4 players set in 1929. Players assume the roles of Captain Sofi Odessa and her crew, who are lost in a strange world on their steamship, the Manticore. The game involves exploring exotic islands, meeting new characters, and seeking out the totems of the gods to return home. The game is both an atlas and a storybook game, with each page of the atlas and each new location offering different adventures, treasures, and characters. \n",
      "\n",
      "The gameplay involves equipping ability cards to crew members, spending command tokens to activate abilities, and overcoming challenges. Each crew member can have a total of 2 equipped ability cards at once. Combat rounds are also a part of the game, where players use their combat action tokens to attack enemies. The game concludes when all crew member health is reduced to zero or if the ship takes 11 damage. \n",
      "\n",
      "The game also includes a campaign mode where players can save their progress and continue at a later time. However, the game can only support one campaign at a time. The game concludes with a final score based on various factors like adventure cards, quest cards, level cards, remaining coins, and remaining artifacts.\n"
     ]
    }
   ],
   "source": [
    "# define retrievers and summary nodes\n",
    "summary_nodes = []\n",
    "retrievers = {}\n",
    "\n",
    "for title in titles:\n",
    "    # build vector index\n",
    "    vector_index = VectorStoreIndex.from_documents(\n",
    "        [docs_dict[title]],\n",
    "        embed_model=embed_model,\n",
    "        transformations=[splitter],\n",
    "        callback_manager=callback_manager,\n",
    "    )\n",
    "    # define retriever\n",
    "    retrievers[title] = vector_index.as_retriever(top_k=2)\n",
    "\n",
    "    # generate a summary\n",
    "    summary_index = SummaryIndex.from_documents(\n",
    "        [docs_dict[title]], callback_manager=callback_manager\n",
    "    )\n",
    "\n",
    "    summarizer = summary_index.as_query_engine(\n",
    "        response_mode=\"tree_summarize\", llm=llm\n",
    "    )\n",
    "    response = summarizer.query(\n",
    "        f\"Give me a summary of {title}\"\n",
    "    )\n",
    "\n",
    "    summary = response.response\n",
    "\n",
    "    print(f\"**Summary for {title}: {summary}\")\n",
    "    node = IndexNode(text=summary, index_id=title)\n",
    "    summary_nodes.append(node)"
   ]
  },
  {
   "cell_type": "code",
   "execution_count": 37,
   "id": "e280dda1-6ac3-45b2-8fde-0cf2ad75743b",
   "metadata": {},
   "outputs": [
    {
     "name": "stdout",
     "output_type": "stream",
     "text": [
      "INFO:httpx:HTTP Request: POST https://api.openai.com/v1/embeddings \"HTTP/1.1 200 OK\"\n",
      "HTTP Request: POST https://api.openai.com/v1/embeddings \"HTTP/1.1 200 OK\"\n",
      "**********\n",
      "Trace: index_construction\n",
      "    |_CBEventType.EMBEDDING -> 0.253167 seconds\n",
      "**********\n"
     ]
    }
   ],
   "source": [
    "# define top-level retriever\n",
    "top_vector_index = VectorStoreIndex(\n",
    "    summary_nodes, \n",
    "    embed_model=embed_model,\n",
    "    transformations=[splitter], \n",
    "    callback_manager=callback_manager,\n",
    ")\n",
    "top_retriever = top_vector_index.as_retriever(similarity_top_k=1)"
   ]
  },
  {
   "cell_type": "code",
   "execution_count": 38,
   "id": "a33161b1-0f5d-480d-8469-f17534436918",
   "metadata": {},
   "outputs": [],
   "source": [
    "recursive_retriever = RecursiveRetriever(\n",
    "    \"vector\",\n",
    "    retriever_dict={\"vector\": top_retriever, **retrievers},\n",
    "    verbose=True,\n",
    ")"
   ]
  },
  {
   "cell_type": "code",
   "execution_count": 39,
   "id": "9c34f48a-c85c-4769-8fba-1ad8c6ec49ca",
   "metadata": {},
   "outputs": [
    {
     "name": "stdout",
     "output_type": "stream",
     "text": [
      "\u001b[1;3;34mRetrieving with query id None: What is the difference between exclusive and shared locations in the forest?\n",
      "\u001b[0mINFO:httpx:HTTP Request: POST https://api.openai.com/v1/embeddings \"HTTP/1.1 200 OK\"\n",
      "HTTP Request: POST https://api.openai.com/v1/embeddings \"HTTP/1.1 200 OK\"\n",
      "\u001b[1;3;38;5;200mRetrieved node with id, entering: everdell\n",
      "\u001b[0m\u001b[1;3;34mRetrieving with query id everdell: What is the difference between exclusive and shared locations in the forest?\n",
      "\u001b[0m\u001b[1;3;38;5;200mRetrieving text node: There are two types of locations: exclusive and shared (portrayed with an open encircling ring). Only 1 worker may visit an exclusive location. Multiple workers, even of the same color, may visit a shared location.\n",
      "\n",
      "To visit a location, place one of your workers on any available symbol and immediately take the listed resources or perform the action. That worker is then considered deployed to that location until you bring them back with the Prepare for Season action.\n",
      "\n",
      "Example: Placing a worker on the second basic action space gains the player two twigs, and a card drawn from the deck.\n",
      "\n",
      "### Locations To Visit Include\n",
      "\n",
      "#### 1. Basic Action Spaces\n",
      "#### 2. Forest Locations\n",
      "The placement locations are only used in a four-player game. However, you may not place 2 of your own workers on a single Forest location.\n",
      "\n",
      "#### 3. Destination Cards (PAGE 8)\n",
      "You may place a worker on any Destination card in your city, or on a Destination card in another city that has an symbol, in which case the owner of the Destination gains 1 point token from the supply.<br>\n",
      "Example: If another player places their worker on the Post Office, the owner gains 1 point.\n",
      "\u001b[0m\u001b[1;3;38;5;200mRetrieving text node: You will be deploying them to various locations in Everdell in order to gather resources, draw more cards, host events, or perhaps to embark on a journey.\n",
      "\n",
      "There are two types of locations: exclusive and shared (portrayed with an open encircling ring). Only 1 worker may visit an exclusive location. Multiple workers, even of the same color, may visit a shared location.\n",
      "\n",
      "To visit a location, place one of your workers on any available symbol and immediately take the listed resources or perform the action. That worker is then considered deployed to that location until you bring them back with the Prepare for Season action.\n",
      "\n",
      "Example: Placing a worker on the second basic action space gains the player two twigs, and a card drawn from the deck.\n",
      "\n",
      "### Locations To Visit Include\n",
      "\n",
      "#### 1. Basic Action Spaces\n",
      "#### 2. Forest Locations\n",
      "The placement locations are only used in a four-player game. However, you may not place 2 of your own workers on a single Forest location.\n",
      "\n",
      "#### 3.\n",
      "\u001b[0m\n",
      "\n",
      ">>> 0 Node=f0aadbc2-8e57-4339-82c0-9de48b8f165e\n",
      "There are two types of locations: exclusive and shared (portrayed with an open encircling ring). Only 1 worker may visit an exclusive location. Multiple workers, even of the same color, may visit a shared location.\n",
      "\n",
      "To visit a location, place one of your workers on any available symbol and immediately take the listed resources or perform the action. That worker is then considered deployed to that location until you bring them back with the Prepare for Season action.\n",
      "\n",
      "Example: Placing a worker on the second basic action space gains the player two twigs, and a card drawn from the deck.\n",
      "\n",
      "### Locations To Visit Include\n",
      "\n",
      "#### 1. Basic Action Spaces\n",
      "#### 2. Forest Locations\n",
      "The placement locations are only used in a four-player game. However, you may not place 2 of your own workers on a single Forest location.\n",
      "\n",
      "#### 3. Destination Cards (PAGE 8)\n",
      "You may place a worker on any Destination card in your city, or on a Destination card in another city that has an symbol, in which case the owner of the Destination gains 1\n",
      "\n",
      "\n",
      ">>> 1 Node=0b7dbfc9-9817-46bb-98b0-41cdd79a3687\n",
      "You will be deploying them to various locations in Everdell in order to gather resources, draw more cards, host events, or perhaps to embark on a journey.\n",
      "\n",
      "There are two types of locations: exclusive and shared (portrayed with an open encircling ring). Only 1 worker may visit an exclusive location. Multiple workers, even of the same color, may visit a shared location.\n",
      "\n",
      "To visit a location, place one of your workers on any available symbol and immediately take the listed resources or perform the action. That worker is then considered deployed to that location until you bring them back with the Prepare for Season action.\n",
      "\n",
      "Example: Placing a worker on the second basic action space gains the player two twigs, and a card drawn from the deck.\n",
      "\n",
      "### Locations To Visit Include\n",
      "\n",
      "#### 1. Basic Action Spaces\n",
      "#### 2. Forest Locations\n",
      "The placement locations are only used in a four-player game. However, you may not place 2 of your own workers on a single Forest location.\n",
      "\n",
      "#### 3.\n"
     ]
    }
   ],
   "source": [
    "# run recursive retriever\n",
    "query = \"What is the difference between exclusive and shared locations in the forest?\"\n",
    "nodes = recursive_retriever.retrieve(query)\n",
    "for ix, node in enumerate(nodes):\n",
    "    print(f\"\\n\\n>>> {ix} Node={node.id_}\")\n",
    "    print(node.text[:1024])\n",
    "    # print(node.node.get_content())"
   ]
  },
  {
   "cell_type": "markdown",
   "id": "9e5846c4-bc35-48bb-8506-abe23e4d37c0",
   "metadata": {},
   "source": [
    "### Let's break down how the recursive retriever works"
   ]
  },
  {
   "cell_type": "code",
   "execution_count": 40,
   "id": "bad7304d-e261-4e47-a748-3fc53fbacfd1",
   "metadata": {},
   "outputs": [
    {
     "name": "stdout",
     "output_type": "stream",
     "text": [
      "INFO:httpx:HTTP Request: POST https://api.openai.com/v1/embeddings \"HTTP/1.1 200 OK\"\n",
      "HTTP Request: POST https://api.openai.com/v1/embeddings \"HTTP/1.1 200 OK\"\n",
      "**********\n",
      "Trace: query\n",
      "    |_CBEventType.RETRIEVE -> 0.190008 seconds\n",
      "      |_CBEventType.EMBEDDING -> 0.185999 seconds\n",
      "**********\n",
      "everdell\n"
     ]
    }
   ],
   "source": [
    "# query the top retriever\n",
    "nodes = top_retriever.retrieve(query)\n",
    "index_id = nodes[0].node.index_id\n",
    "print(index_id)"
   ]
  },
  {
   "cell_type": "code",
   "execution_count": 41,
   "id": "5fbe880c-0270-45f1-bb80-f142e8917052",
   "metadata": {},
   "outputs": [
    {
     "name": "stdout",
     "output_type": "stream",
     "text": [
      "INFO:httpx:HTTP Request: POST https://api.openai.com/v1/embeddings \"HTTP/1.1 200 OK\"\n",
      "HTTP Request: POST https://api.openai.com/v1/embeddings \"HTTP/1.1 200 OK\"\n",
      "**********\n",
      "Trace: query\n",
      "    |_CBEventType.RETRIEVE -> 0.170884 seconds\n",
      "      |_CBEventType.EMBEDDING -> 0.156394 seconds\n",
      "**********\n"
     ]
    },
    {
     "data": {
      "text/plain": [
       "[NodeWithScore(node=TextNode(id_='f0aadbc2-8e57-4339-82c0-9de48b8f165e', embedding=None, metadata={'title': 'everdell'}, excluded_embed_metadata_keys=[], excluded_llm_metadata_keys=[], relationships={<NodeRelationship.SOURCE: '1'>: RelatedNodeInfo(node_id='398df769-8b34-4313-8837-30bf7ea1dc05', node_type=<ObjectType.DOCUMENT: '4'>, metadata={'title': 'everdell'}, hash='1eec132a7e78d74d7c1c3ef971d658520ca36c180a4129e1c2b3c21bd2e750c7'), <NodeRelationship.PREVIOUS: '2'>: RelatedNodeInfo(node_id='0b7dbfc9-9817-46bb-98b0-41cdd79a3687', node_type=<ObjectType.TEXT: '1'>, metadata={'title': 'everdell'}, hash='ebbeaf08eb03bef2fad62843a43a1230747725a75159882dad0072e08f0bb6e3'), <NodeRelationship.NEXT: '3'>: RelatedNodeInfo(node_id='e1a8fcd5-6146-4be5-af63-79f647972f7d', node_type=<ObjectType.TEXT: '1'>, metadata={}, hash='6ffd14501c6bb2e437bb765c4f09664d3aa67ed11246534ebf02a20d2da2342e')}, text='There are two types of locations: exclusive and shared (portrayed with an open encircling ring). Only 1 worker may visit an exclusive location. Multiple workers, even of the same color, may visit a shared location.\\n\\nTo visit a location, place one of your workers on any available symbol and immediately take the listed resources or perform the action. That worker is then considered deployed to that location until you bring them back with the Prepare for Season action.\\n\\nExample: Placing a worker on the second basic action space gains the player two twigs, and a card drawn from the deck.\\n\\n### Locations To Visit Include\\n\\n#### 1. Basic Action Spaces\\n#### 2. Forest Locations\\nThe placement locations are only used in a four-player game. However, you may not place 2 of your own workers on a single Forest location.\\n\\n#### 3. Destination Cards (PAGE 8)\\nYou may place a worker on any Destination card in your city, or on a Destination card in another city that has an symbol, in which case the owner of the Destination gains 1 point token from the supply.<br>\\nExample: If another player places their worker on the Post Office, the owner gains 1 point.', start_char_idx=2003, end_char_idx=3152, text_template='{metadata_str}\\n\\n{content}', metadata_template='{key}: {value}', metadata_seperator='\\n'), score=0.5175069668364263),\n",
       " NodeWithScore(node=TextNode(id_='0b7dbfc9-9817-46bb-98b0-41cdd79a3687', embedding=None, metadata={'title': 'everdell'}, excluded_embed_metadata_keys=[], excluded_llm_metadata_keys=[], relationships={<NodeRelationship.SOURCE: '1'>: RelatedNodeInfo(node_id='398df769-8b34-4313-8837-30bf7ea1dc05', node_type=<ObjectType.DOCUMENT: '4'>, metadata={'title': 'everdell'}, hash='1eec132a7e78d74d7c1c3ef971d658520ca36c180a4129e1c2b3c21bd2e750c7'), <NodeRelationship.PREVIOUS: '2'>: RelatedNodeInfo(node_id='04b16ef8-9675-4be1-9181-bf15bc09d59b', node_type=<ObjectType.TEXT: '1'>, metadata={'title': 'everdell'}, hash='ab3d59921064d29d79f858a8d1d179234afea895116e1b811f7d31ded5dbee96'), <NodeRelationship.NEXT: '3'>: RelatedNodeInfo(node_id='f0aadbc2-8e57-4339-82c0-9de48b8f165e', node_type=<ObjectType.TEXT: '1'>, metadata={}, hash='1816fbd4c8db25a7e99eaebc7b925db22258b2bdb88d6df4c227d62578c78da0')}, text='You will be deploying them to various locations in Everdell in order to gather resources, draw more cards, host events, or perhaps to embark on a journey.\\n\\nThere are two types of locations: exclusive and shared (portrayed with an open encircling ring). Only 1 worker may visit an exclusive location. Multiple workers, even of the same color, may visit a shared location.\\n\\nTo visit a location, place one of your workers on any available symbol and immediately take the listed resources or perform the action. That worker is then considered deployed to that location until you bring them back with the Prepare for Season action.\\n\\nExample: Placing a worker on the second basic action space gains the player two twigs, and a card drawn from the deck.\\n\\n### Locations To Visit Include\\n\\n#### 1. Basic Action Spaces\\n#### 2. Forest Locations\\nThe placement locations are only used in a four-player game. However, you may not place 2 of your own workers on a single Forest location.\\n\\n#### 3.', start_char_idx=1847, end_char_idx=2827, text_template='{metadata_str}\\n\\n{content}', metadata_template='{key}: {value}', metadata_seperator='\\n'), score=0.4961665308136336)]"
      ]
     },
     "execution_count": 41,
     "metadata": {},
     "output_type": "execute_result"
    }
   ],
   "source": [
    "retrievers[index_id].retrieve(query)"
   ]
  },
  {
   "cell_type": "code",
   "execution_count": null,
   "id": "a1ff8fa9-a4c1-4ee8-9579-1ba0bbda99a0",
   "metadata": {},
   "outputs": [],
   "source": []
  }
 ],
 "metadata": {
  "kernelspec": {
   "display_name": "Python 3 (ipykernel)",
   "language": "python",
   "name": "python3"
  },
  "language_info": {
   "codemirror_mode": {
    "name": "ipython",
    "version": 3
   },
   "file_extension": ".py",
   "mimetype": "text/x-python",
   "name": "python",
   "nbconvert_exporter": "python",
   "pygments_lexer": "ipython3",
   "version": "3.11.7"
  }
 },
 "nbformat": 4,
 "nbformat_minor": 5
}
