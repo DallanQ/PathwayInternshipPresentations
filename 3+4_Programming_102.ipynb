{
 "cells": [
  {
   "cell_type": "markdown",
   "id": "91b4d2c7",
   "metadata": {
    "slideshow": {
     "slide_type": "slide"
    }
   },
   "source": [
    "# Weeks 3 + 4 - Improve your python or javascript understanding\n",
    "\n",
    "You now have to make a choice in this internship. Do you want to learn \n",
    "- front-end programming (*html, css, javascript*) or\n",
    "- back-end programming (*python, AI*)?\n",
    "\n",
    "Most programmers specialize in one or the other, especially for the first few years of their career.\n",
    "\n",
    "These two weeks are also mostly on your own. As you have questions, please ask on slack!\n",
    "\n",
    "By the way, we will eventually use `Codeium` to help us code in this internship. But I suggest that you **not** use it during these courses. You need to learn and practice the material! Codeium doesn't need the practice. 😆"
   ]
  },
  {
   "cell_type": "markdown",
   "id": "0f2f3fd5",
   "metadata": {
    "slideshow": {
     "slide_type": "slide"
    }
   },
   "source": [
    "## If you want to learn front-end progarmming\n",
    "\n",
    "Complete these courses during this week and the next:\n",
    "\n",
    "HTML + CSS: https://www.freecodecamp.org/learn/2022/responsive-web-design/\n",
    "\n",
    "Javascript: https://www.freecodecamp.org/learn/javascript-algorithms-and-data-structures/"
   ]
  },
  {
   "cell_type": "markdown",
   "id": "ec7f2f39",
   "metadata": {
    "slideshow": {
     "slide_type": "slide"
    }
   },
   "source": [
    "## If you want to learn back-end programming\n",
    "\n",
    "Complete **either** this course during this week and the next\n",
    "\n",
    "https://www.freecodecamp.org/learn/scientific-computing-with-python/\n",
    "\n",
    "**Or** these two courses\n",
    "\n",
    "https://www.coursera.org/learn/python-data?specialization=python\n",
    "\n",
    "https://www.coursera.org/learn/python-operating-system?specialization=google-it-automation\n",
    "\n",
    "You will get a certificate from the FreeCodeCamp course, but not from the Coursera courses."
   ]
  },
  {
   "cell_type": "markdown",
   "id": "2b006abc",
   "metadata": {
    "slideshow": {
     "slide_type": "slide"
    }
   },
   "source": [
    "## Create a presentation\n",
    "\n",
    "During this week and the next, I want you to create a 15-minute presentation on something that you are learning. It can be related to the courses or something in addition.\n",
    "\n",
    "You will share your presentation with the group during week 5."
   ]
  },
  {
   "cell_type": "markdown",
   "id": "ebf8f7e8",
   "metadata": {
    "slideshow": {
     "slide_type": "slide"
    }
   },
   "source": [
    "# Congratulations!\n",
    "\n",
    "Once you have completed these courses, the most important thing beyond this point will be getting more experience. The more you code, the better you will become. That's what we'll be doing for the rest of the internship."
   ]
  }
 ],
 "metadata": {
  "celltoolbar": "Slideshow",
  "kernelspec": {
   "display_name": "PathwayInternshipPresentations",
   "language": "python",
   "name": "pathwayinternshippresentations"
  },
  "language_info": {
   "codemirror_mode": {
    "name": "ipython",
    "version": 3
   },
   "file_extension": ".py",
   "mimetype": "text/x-python",
   "name": "python",
   "nbconvert_exporter": "python",
   "pygments_lexer": "ipython3",
   "version": "3.11.4"
  }
 },
 "nbformat": 4,
 "nbformat_minor": 5
}
