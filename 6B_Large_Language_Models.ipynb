{
 "cells": [
  {
   "cell_type": "markdown",
   "id": "357488f0",
   "metadata": {
    "slideshow": {
     "slide_type": "slide"
    }
   },
   "source": [
    "# Week 6 (Back-End) - Large Language Models\n",
    "\n",
    "Large Language Models allow us to \"program\" computers using english instructions. This week we'll dive into how they work."
   ]
  },
  {
   "cell_type": "markdown",
   "id": "39a20c06",
   "metadata": {
    "slideshow": {
     "slide_type": "slide"
    }
   },
   "source": [
    "## Full Stack Deep Learning LLM Bootcamp\n",
    "\n",
    "We'll spend the first part of this week watching the Full Stack Deep Learning LLM Bootcamp: https://www.youtube.com/playlist?list=PL1T8fO7ArWleyIqOy37OVXsP4hFXymdOZ\n",
    "\n",
    "* Day 1: https://www.youtube.com/watch?v=twHxmU9OxDU and https://www.youtube.com/watch?v=MyFrMFab6bo\n",
    "* Day 2: https://www.youtube.com/watch?v=JnBHR_yL2w8 and https://www.youtube.com/watch?v=YdeuQhlHmCA\n",
    "* Day 3: https://www.youtube.com/watch?v=pUKs4xM1r5U and https://www.youtube.com/watch?v=Fquj2u7ay40"
   ]
  },
  {
   "cell_type": "markdown",
   "id": "29fa94e0",
   "metadata": {
    "slideshow": {
     "slide_type": "slide"
    }
   },
   "source": [
    "## DeepLearning.ai Short Courses\n",
    "\n",
    "Let's learn how to use the ChatGPT API\n",
    "\n",
    "* Day 4: https://www.deeplearning.ai/short-courses/chatgpt-prompt-engineering-for-developers/\n",
    "* Day 5: https://www.deeplearning.ai/short-courses/building-systems-with-chatgpt/"
   ]
  },
  {
   "cell_type": "markdown",
   "id": "2e1d6cc6",
   "metadata": {
    "slideshow": {
     "slide_type": "slide"
    }
   },
   "source": [
    "## Homework\n",
    "\n",
    "* Watch: https://www.youtube.com/watch?v=l5mG4z343qg and also https://www.youtube.com/watch?v=ax_R4yz1WwM"
   ]
  }
 ],
 "metadata": {
  "celltoolbar": "Slideshow",
  "kernelspec": {
   "display_name": "PathwayInternshipPresentations",
   "language": "python",
   "name": "pathwayinternshippresentations"
  },
  "language_info": {
   "codemirror_mode": {
    "name": "ipython",
    "version": 3
   },
   "file_extension": ".py",
   "mimetype": "text/x-python",
   "name": "python",
   "nbconvert_exporter": "python",
   "pygments_lexer": "ipython3",
   "version": "3.11.4"
  }
 },
 "nbformat": 4,
 "nbformat_minor": 5
}
