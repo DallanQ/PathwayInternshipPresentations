{
 "cells": [
  {
   "cell_type": "markdown",
   "metadata": {
    "slideshow": {
     "slide_type": "slide"
    }
   },
   "source": [
    "# Week 1 day 1 - Windows Subsystem for Linux (WSL), VS Code, and Git\n",
    "\n",
    "Today's goal: Turn your laptop into a professional development machine\n",
    "\n",
    "Do the following steps in order."
   ]
  },
  {
   "cell_type": "markdown",
   "metadata": {
    "slideshow": {
     "slide_type": "slide"
    }
   },
   "source": [
    "## Tools and Techniques\n",
    "\n",
    "Becoming a good programmer means becoming proficient in two ways: knowing how to use the tools available to you, and knowing how to code.\n",
    "\n",
    "Just like a builder has to learn how to use various tools: hammers, power saws, etc. and also needs to learn how to build a house so it doesn't fall down, you need to learn how to use various software development tools alongside learning how to code. \n",
    "\n",
    "During this internship you will learn both."
   ]
  },
  {
   "cell_type": "markdown",
   "metadata": {
    "slideshow": {
     "slide_type": "slide"
    }
   },
   "source": [
    "## Programming Goals\n",
    "\n",
    "You have four goals main as a programmer. Create code that:\n",
    "\n",
    "- Works correctly\n",
    "- Is easy to understand and maintain\n",
    "- Doesn't take too long for you to write\n",
    "- Runs efficiently\n",
    "\n",
    "These goals are sometimes at odds with one another. Code that is super-efficient may not always be easy to understand. Code that you create too quickly may have bugs. Usually you should prioritize your goals in the order listed above."
   ]
  },
  {
   "cell_type": "markdown",
   "metadata": {
    "slideshow": {
     "slide_type": "slide"
    }
   },
   "source": [
    "## Lifelong Learning\n",
    "\n",
    "The career you've chosen is changing rapidly. My dentist can use pretty much the same tools and techniques today that he used 10 years ago. But I have to learn new tools and techniques constantly. Anything more than 5 old is out of date. \n",
    "\n",
    "This is both an opportunity and a problem. If you love to learn new things, you will be better prepared than many others. If you don't love to learn new things, you may want to consider a different career.\n",
    "\n",
    "During this internship I strongly encourage you to spend some time learning something that interests you on your own. You will have an opportunity each week to give a 15 minute presentation on what you've learned so that everyone benefits."
   ]
  },
  {
   "cell_type": "markdown",
   "metadata": {
    "slideshow": {
     "slide_type": "slide"
    }
   },
   "source": [
    "## Step 0: Make sure virtualization is enabled in your BIOS\n",
    "\n",
    "Virtualization has to be enabled in your BIOS before you can run WSL\n",
    "\n",
    "Follow these instructions to enable virtualization (VTx) on HP laptops: https://support.hp.com/us-en/document/ish_5637142-5637191-16\n",
    "\n",
    "The process is similar for other laptops."
   ]
  },
  {
   "cell_type": "markdown",
   "metadata": {
    "slideshow": {
     "slide_type": "slide"
    }
   },
   "source": [
    "## Step 1: Install WSL\n",
    "\n",
    "We will follow the steps in this document: https://learn.microsoft.com/en-us/windows/wsl/setup/environment I encourage you to read it for more information.\n",
    "\n",
    "First, make sure support for WSL is enabled.  Open a powershell window as administrator (type \"powershell\" in the search bar at the bottom left and select \"Run as administrator\") and enter\n",
    "\n",
    "    Enable-WindowsOptionalFeature -Online -FeatureName Microsoft-Windows-Subsystem-Linux\n",
    "\n",
    "You should see Online: True. If you also see RestartNeeded: True, then you need to restart your computer."
   ]
  },
  {
   "cell_type": "markdown",
   "metadata": {
    "slideshow": {
     "slide_type": "slide"
    }
   },
   "source": [
    "## Step 1: Install WSL (continued)\n",
    "\n",
    "Close the powershell window and open a command window as a regular user, not as an administrator (type \"cmd\" in the search bar at the bottom left and select \"Open\") and enter the following into the command window. This steps takes a **long** time (maybe 30 minutes). Make sure your battery is charged and your laptop is connected to power before doing this step.\n",
    "\n",
    "    wsl --install"
   ]
  },
  {
   "cell_type": "markdown",
   "metadata": {
    "slideshow": {
     "slide_type": "slide"
    }
   },
   "source": [
    "## Step 2: Set up WSL\n",
    "\n",
    "If you don't see a prompt asking you for your Linux username, try rebooting your computer. If you still don't see a prompt, open a command window (type \"cmd\" in the search bar as before) and type `wsl`.\n",
    "\n",
    "Create your Linux username and password\n",
    "- your username should be short. I use my first name\n",
    "- your username should contain only letters a-z or numbers 0-9"
   ]
  },
  {
   "cell_type": "markdown",
   "metadata": {
    "slideshow": {
     "slide_type": "slide"
    }
   },
   "source": [
    "## Step 2: Set up WSL - continued\n",
    "\n",
    "You should be logged into ubuntu and see your username at the left of your prompt.  \n",
    "\n",
    "**If you see *root* instead of your username, something went wrong. Stop now and contact me.**\n",
    "\n",
    "Update and upgrade packages\n",
    "\n",
    "    sudo apt update && sudo apt upgrade"
   ]
  },
  {
   "cell_type": "markdown",
   "metadata": {
    "slideshow": {
     "slide_type": "slide"
    }
   },
   "source": [
    "## What just happened?\n",
    "\n",
    "Your computer now has two operating systems available: Windows (the default) and Ubuntu Linux.\n",
    "\n",
    "Both operating systems can run on your computer at the same time.\n",
    "\n",
    "You start Ubuntu by clicking on the Start icon in the lower-left corner and selecting the \"Ubuntu\" icon."
   ]
  },
  {
   "cell_type": "markdown",
   "metadata": {
    "slideshow": {
     "slide_type": "slide"
    }
   },
   "source": [
    "## About File systems\n",
    "\n",
    "Each operating system has its own file system, but can access files on the other operating system.\n",
    "\n",
    "From Ubuntu, your home directory is `/home/<your Ubuntu username>` and you can access the files on Windows at `/mnt/c/<your Windows username>`\n",
    "    \n",
    "From Windows, your home directory is `C:\\Users\\<your Windows username>` and you can access the files on Ubuntu at `\\\\wsl.localhost\\Ubuntu\\home\\<your Ubuntu username>`\n",
    "    \n",
    "But when using one operating system, I recommend not accessing files on the other operating system's file system unless you need to.\n",
    "\n",
    "In general, you'll use the Ubuntu file system for development work."
   ]
  },
  {
   "cell_type": "markdown",
   "metadata": {
    "slideshow": {
     "slide_type": "slide"
    }
   },
   "source": [
    "## Step 3: Set up Windows Terminal\n",
    "\n",
    "Open Microsoft Store (type \"store\" in the search bar at the bottom left) and install \"Windows Terminal\" (*not* the preview version).\n",
    "\n",
    "Windows Terminal lets you have multiple terminal windows open in different tabs, similarly to how you can have multiple browser tabs open in a browser.\n",
    "\n",
    "If you want, you can edit your terminal settings (click the down-arrow at the top of the terminal window), change the \"Default profile\" to \"Ubuntu\", and change the \"Default terminal application\" to \"Windows termainal\".\n",
    "\n",
    "If you don't do this, you will need to launch \"Ubuntu\" before starting the terminal, type `wsl` in the terminal window to access the \"Ubuntu\" operating system, and type `cd /home/<your Ubuntu username>` to go to your home directory in Ubuntu. For example, I would type `cd /home/dallan` to go to my home directory since I entered my username as dallan."
   ]
  },
  {
   "cell_type": "markdown",
   "metadata": {
    "slideshow": {
     "slide_type": "slide"
    }
   },
   "source": [
    "## Step 4: Install VS Code\n",
    "\n",
    "We will follow the steps in this document: https://learn.microsoft.com/en-us/windows/wsl/tutorials/wsl-vscode I encourage you to read it for more information.\n",
    "\n",
    "Download and install VS Code from https://code.visualstudio.com/download\n",
    "\n",
    "When prompted to \"Select Additional Tasks\", make sure the \"Add to PATH\" option is checked.\n",
    "\n",
    "Launch VS Code, click the \"Extensions\" icon on the left, and install the \"Remote Development\" extension pack."
   ]
  },
  {
   "cell_type": "markdown",
   "metadata": {
    "slideshow": {
     "slide_type": "slide"
    }
   },
   "source": [
    "### Here's something to blow your mind  😆\n",
    "\n",
    "When you install the Remote Development extension pack, VS Code actually installs a VS Code server in the Ubuntu operating system. The VS Code client that you run in Windows communicates with the VS Code server running in Ubuntu. This allows VS Code to access your Ubuntu file system. It's similar to a browser running on your laptop that connects to a server running on the Internet."
   ]
  },
  {
   "cell_type": "markdown",
   "metadata": {
    "slideshow": {
     "slide_type": "slide"
    }
   },
   "source": [
    "## Step 5: Update your Linux Distribution and Restart\n",
    "\n",
    "Do the following in Ubuntu:\n",
    "\n",
    "    sudo apt-get install wget ca-certificates\n",
    "    \n",
    "**Next, reboot your laptop**"
   ]
  },
  {
   "cell_type": "markdown",
   "metadata": {
    "slideshow": {
     "slide_type": "slide"
    }
   },
   "source": [
    "## Step 6: Install Git\n",
    "\n",
    "We will follow the steps in this document: https://learn.microsoft.com/en-us/windows/wsl/tutorials/wsl-git I encourage you to read it for more information.\n",
    "\n",
    "### Install Git in Ubuntu\n",
    "\n",
    "    sudo apt-get install git\n",
    "    \n",
    "### Also install Git in Windows\n",
    "\n",
    "Download from https://git-scm.com/download/win and run the installer.\n",
    "\n",
    "Select \"Notepad\" as the default Git editor. You can leave the rest of the defaults as they are."
   ]
  },
  {
   "cell_type": "markdown",
   "metadata": {
    "slideshow": {
     "slide_type": "slide"
    }
   },
   "source": [
    "## Step 7: Create a Github account\n",
    "\n",
    "Create an account on https://www.github.com if you don't already have one."
   ]
  },
  {
   "cell_type": "markdown",
   "metadata": {
    "slideshow": {
     "slide_type": "slide"
    }
   },
   "source": [
    "## Step 8: Configure Git\n",
    "\n",
    "Do the following in Ubuntu:\n",
    "\n",
    "    git config --global user.name \"Your full name (not username)\"\n",
    "    \n",
    "    git config --global user.email \"Your email address\"\n",
    "    \n",
    "For example, I would type:\n",
    "\n",
    "    git config --global user.name \"Dallan Quass\"\n",
    "    \n",
    "    git config --global user.email \"dallan@gmail.com\"\n",
    "    \n",
    "You won't see any output from these commands. To make sure they worked, show the contents of the git configuration file. You should see your name and email:\n",
    "\n",
    "    cat .gitconfig"
   ]
  },
  {
   "cell_type": "markdown",
   "metadata": {
    "slideshow": {
     "slide_type": "slide"
    }
   },
   "source": [
    "## Step 9: Set up Git Credential Manager\n",
    "\n",
    "Do the following in Ubuntu. I don't think you'll see any output from this command:\n",
    "\n",
    "    git config --global credential.helper \"/mnt/c/Program\\ Files/Git/mingw64/bin/git-credential-manager.exe\"\n",
    "\n",
    "The path after credential.helper is \"/mnt/c/Program\\ Files/Git/mingw64/bin/git-credential-manager.exe\". Don't forget the \\ and a space before the word \"Files\"\n",
    "\n",
    "Also set up git credential manager in windows by **opening a Windows command prompt** and entering:\n",
    "\n",
    "    git config --global credential.helper wincred"
   ]
  },
  {
   "cell_type": "markdown",
   "metadata": {
    "slideshow": {
     "slide_type": "slide"
    }
   },
   "source": [
    "## Step 10: Create a source code repo and download it\n",
    "\n",
    "Go to https://www.github.com and create a new repository called \"Test\". Add a description and check the box to add a Readme file, then create the reponsitory.\n",
    "\n",
    "Do the following in Ubuntu to copy the repo from Github to your local machine:\n",
    "\n",
    "    git clone https://github.com/<your github username>/Test\n",
    "    \n",
    "For example, I would type the following, since my Github username is DallanQ:\n",
    "\n",
    "    git clone https://github.com/DallanQ/Test"
   ]
  },
  {
   "cell_type": "markdown",
   "metadata": {
    "slideshow": {
     "slide_type": "slide"
    }
   },
   "source": [
    "## Step 11: Update your new source code repo\n",
    "\n",
    "Edit the Readme file\n",
    "\n",
    "    cd Test\n",
    "    \n",
    "    nano README.md\n",
    "    \n",
    "Add a new line \"Created by \\<your name\\>\" to the end of the Readme file, type Control-O to save the file, and Control-X to quit.\n",
    "\n",
    "Add your change to git, commit it, and push it to Github.\n",
    "\n",
    "    git add .\n",
    "    \n",
    "    git commit -m \"Test edit\"\n",
    "    \n",
    "    git push\n",
    "    \n",
    "Go back to Github and refresh the page for your repo. You should now see your name in your Readme file on Github!"
   ]
  },
  {
   "cell_type": "markdown",
   "metadata": {
    "slideshow": {
     "slide_type": "slide"
    }
   },
   "source": [
    "## Step 12: Congratulate yourself!\n",
    "\n",
    "You've installed WSL (Ubuntu), VS Code, and Git.\n",
    "\n",
    "We will learn more about these tools as we go."
   ]
  },
  {
   "cell_type": "markdown",
   "metadata": {
    "slideshow": {
     "slide_type": "slide"
    }
   },
   "source": [
    "## Homework\n",
    "\n",
    "You will use VS Code every day as a programmer. You will code faster the more familiar you are with it's capabilities.  Take a couple of hours to learn it well.  \n",
    "\n",
    "Complete one or both of the following courses/videos:\n",
    "\n",
    "https://code.visualstudio.com/docs/introvideos/basics\n",
    "\n",
    "https://www.youtube.com/watch?v=WPqXP_kLzpo\n",
    "\n",
    "Need help?\n",
    "- https://calendly.com/dallanq/help"
   ]
  }
 ],
 "metadata": {
  "celltoolbar": "Slideshow",
  "kernelspec": {
   "display_name": "PathwayInternshipPresentations",
   "language": "python",
   "name": "pathwayinternshippresentations"
  },
  "language_info": {
   "codemirror_mode": {
    "name": "ipython",
    "version": 3
   },
   "file_extension": ".py",
   "mimetype": "text/x-python",
   "name": "python",
   "nbconvert_exporter": "python",
   "pygments_lexer": "ipython3",
   "version": "3.11.4"
  }
 },
 "nbformat": 4,
 "nbformat_minor": 4
}
