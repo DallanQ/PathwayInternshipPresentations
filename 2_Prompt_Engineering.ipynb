{
 "cells": [
  {
   "cell_type": "markdown",
   "id": "1193b7a8",
   "metadata": {
    "slideshow": {
     "slide_type": "slide"
    }
   },
   "source": [
    "# Week 2 - Learn Prompt Engineering\n",
    "\n",
    "This week is mostly on your own. You will complete two self-paced courses on Prompt Engineering.\n",
    "\n",
    "Large Language Models (LLMs) are a relatively new development in computing. They have been fed billions of pages of content from the Internet, books, and other places. As a result, they can understand and respond to natural-language instructions. Because of this, you don't need to learn a specialized programming language to get an LLM to do what you want. *Programming* an LLM is a matter of learning the best way to give it instructions so its responses are the most accurate. Nobody knows exactly how best to instruct an LLM. It's often a matter of trial and error, but people are discovering ideas that seem to work well generally.\n",
    "\n",
    "These two courses will give you an overview of various things you can use to program LLMs for your own work."
   ]
  },
  {
   "cell_type": "markdown",
   "id": "fe309fca",
   "metadata": {
    "slideshow": {
     "slide_type": "slide"
    }
   },
   "source": [
    "## Pre-requisite: OpenAI account\n",
    "\n",
    "In order to complete the courses you will need an OpenAI account. \n",
    "\n",
    "To start, create a non-developer OpenAI account here: https://chat.openai.com/ \n",
    "\n",
    "Stick with the free version. You don't need a plus account.\n",
    "\n",
    "Ask ChatGPT a few questions to get an idea of what it can do."
   ]
  },
  {
   "cell_type": "markdown",
   "id": "769f8dfb",
   "metadata": {
    "slideshow": {
     "slide_type": "slide"
    }
   },
   "source": [
    "## Learn Prompting\n",
    "\n",
    "**Prompt Engineering** is the *art* of constructing inputs (prompts) to LLMs to get them to output (respond) with the information you want.\n",
    "\n",
    "The first course is https://learnprompting.org/ Complete at least the following sections of this course. Plan to spend 3-4 days.\n",
    "- Basics\n",
    "- Basic Applications\n",
    "- Intermediate\n",
    "- Applied Prompting\n",
    "\n",
    "During this course you will be asked to create a *developer* OpenAI account. You will receive $5.00 in free credits, which should be enough to complete the courses. If you run into difficulties creating the account, you can use my account."
   ]
  },
  {
   "cell_type": "markdown",
   "id": "2a6a7813",
   "metadata": {
    "slideshow": {
     "slide_type": "slide"
    }
   },
   "source": [
    "## Prompt Engineering Guide\n",
    "\n",
    "The second course is https://www.promptingguide.ai/ Complete at least the following sections. Plan to spend 1-2 days.\n",
    "\n",
    "- Introduction\n",
    "- Techniques\n",
    "- Applications\n",
    "- Models\n",
    "- Risks & Misuses\n",
    "\n",
    "After completing these two courses you will understand more about how to use these new LLM tools than 99% of the people on the planet!"
   ]
  }
 ],
 "metadata": {
  "celltoolbar": "Slideshow",
  "kernelspec": {
   "display_name": "PathwayInternshipPresentations",
   "language": "python",
   "name": "pathwayinternshippresentations"
  },
  "language_info": {
   "codemirror_mode": {
    "name": "ipython",
    "version": 3
   },
   "file_extension": ".py",
   "mimetype": "text/x-python",
   "name": "python",
   "nbconvert_exporter": "python",
   "pygments_lexer": "ipython3",
   "version": "3.11.4"
  }
 },
 "nbformat": 4,
 "nbformat_minor": 5
}
