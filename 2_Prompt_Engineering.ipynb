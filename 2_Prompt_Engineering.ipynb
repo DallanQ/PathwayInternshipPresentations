{
 "cells": [
  {
   "cell_type": "markdown",
   "id": "1193b7a8",
   "metadata": {
    "slideshow": {
     "slide_type": "slide"
    }
   },
   "source": [
    "# Week 2 - Learn Prompt Engineering\n",
    "\n",
    "This week is mostly on your own. You will complete two self-paced courses on Prompt Engineering.\n",
    "\n",
    "Large Language Models (LLMs) are a relatively new development in computing. They have been fed billions of pages of content from the Internet, books, and other places. As a result, they can understand and respond to natural-language instructions. Because of this, you don't need to learn a specialized programming language to get an LLM to do what you want. *Programming* an LLM is a matter of learning the best way to give it instructions so its responses are the most accurate. Nobody knows exactly how best to instruct an LLM. It's often a matter of trial and error, but people are discovering ideas that seem to work well generally.\n",
    "\n",
    "These two courses will give you an overview of various things you can use to program LLMs for your own work."
   ]
  },
  {
   "cell_type": "markdown",
   "id": "fe309fca",
   "metadata": {
    "slideshow": {
     "slide_type": "slide"
    }
   },
   "source": [
    "## Understand ChatGPT\n",
    "\n",
    "ChatGPT reached 100 million monthly active users, just *two months* after launch!\n",
    "\n",
    "Before starting the two courses below, I want you to get familiar with ChatGPT if you aren't already.\n",
    "\n",
    "First create a (non-developer) OpenAI account here: https://chat.openai.com/ Stick with the free version. You don't need a plus account.\n",
    "\n",
    "Spend 1-2 hours asking ChatGPT questions or asking it to write things for you."
   ]
  },
  {
   "cell_type": "markdown",
   "id": "a4945540",
   "metadata": {
    "slideshow": {
     "slide_type": "slide"
    }
   },
   "source": [
    "## Learn Prompting\n",
    "\n",
    "**Prompt Engineering** is the *art* of constructing inputs (prompts) to LLMs to get them to output (respond) with the information you want.\n",
    "\n",
    "The first course is https://learnprompting.org/ Complete at least the following sections of this course. Plan to spend 3-4 days.\n",
    "- Basics\n",
    "- Basic Applications\n",
    "- Intermediate\n",
    "- Applied Prompting"
   ]
  },
  {
   "cell_type": "markdown",
   "id": "769f8dfb",
   "metadata": {
    "slideshow": {
     "slide_type": "slide"
    }
   },
   "source": [
    "### OpenAI Key\n",
    "\n",
    "During the LearnPrompting course you will be asked to enter your OpenAI API key. Use the key I sent in via slack. \n",
    "\n",
    "Please be careful with this key. It's my personal OpenAI key. Don't use it except for this course and don't share it with others."
   ]
  },
  {
   "cell_type": "markdown",
   "id": "2a6a7813",
   "metadata": {
    "slideshow": {
     "slide_type": "slide"
    }
   },
   "source": [
    "## Prompt Engineering Guide\n",
    "\n",
    "The second course is https://www.promptingguide.ai/ Complete at least the following sections. Plan to spend 1-2 days.\n",
    "\n",
    "- Introduction\n",
    "- Techniques\n",
    "- Applications\n",
    "- Models\n",
    "- Risks & Misuses\n",
    "\n",
    "After completing these two courses you will understand how to get LLMs to accomplish tasks for you. This can help you in your employment!"
   ]
  },
  {
   "cell_type": "markdown",
   "id": "c3ad6c2d",
   "metadata": {
    "slideshow": {
     "slide_type": "slide"
    }
   },
   "source": [
    "## Curiousity Presentation\n",
    "\n",
    "Please create a 15-minute presentation on something that you are curious about and studied more in depth this week. It could be something related to prompt engineering. For example, did you know that you can use prompts to generate entire HTML pages? \n",
    "\n",
    "Use the method we used on day 4 of last week to create your presentation in a Jupyter notebook and post it to your public \"presentations\" github repository. You will present your presentations to the group next Monday.\n",
    "\n",
    "**BONUS:** Create a https://linkedin.com profile if you don't already have one and post a summary of your presentation there along with a link to your full presentation on github. Your presentations will help potential employers get to know you better."
   ]
  }
 ],
 "metadata": {
  "celltoolbar": "Slideshow",
  "kernelspec": {
   "display_name": "PathwayInternshipPresentations",
   "language": "python",
   "name": "pathwayinternshippresentations"
  },
  "language_info": {
   "codemirror_mode": {
    "name": "ipython",
    "version": 3
   },
   "file_extension": ".py",
   "mimetype": "text/x-python",
   "name": "python",
   "nbconvert_exporter": "python",
   "pygments_lexer": "ipython3",
   "version": "3.11.4"
  }
 },
 "nbformat": 4,
 "nbformat_minor": 5
}
