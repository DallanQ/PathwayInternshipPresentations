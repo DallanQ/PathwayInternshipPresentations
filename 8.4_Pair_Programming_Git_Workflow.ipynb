{
 "cells": [
  {
   "cell_type": "markdown",
   "id": "086f9c5e",
   "metadata": {
    "slideshow": {
     "slide_type": "slide"
    }
   },
   "source": [
    "# Week 8 day 4 (Everyone) - Pair Programming and Git Feature Branch Workflow\n",
    "\n",
    "Pair Programming is a way of coding together in pairs so that you produce code and learn at the same time.\n",
    "\n",
    "Git Feature Branch Workflow is a way of using git to keep from overwriting each other's changes even if you edit the same files at the same time."
   ]
  },
  {
   "cell_type": "markdown",
   "id": "dc1b6f17",
   "metadata": {
    "slideshow": {
     "slide_type": "slide"
    }
   },
   "source": [
    "## Pair Programming\n",
    "\n",
    "Pair programming is where two people work on the same code at the same time. \n",
    "\n",
    "One person is the writes the code (driver) and the other person provides feedback (navigator). The two people communicate continually and switch roles every few minutes.\n",
    "\n",
    "Goals\n",
    "- Improved code quality\n",
    "- Increased collaboration and communication\n",
    "- Increased productivity"
   ]
  },
  {
   "cell_type": "markdown",
   "id": "58be8542",
   "metadata": {
    "slideshow": {
     "slide_type": "slide"
    }
   },
   "source": [
    "### Pair Programming - best practices\n",
    "\n",
    "- Clearly define roles\n",
    "- Effective communication\n",
    "- Respect and empathy\n",
    "- Take breaks\n",
    "- Embrace learning opportunities\n",
    "- Practice active code review\n",
    "- Plan and set goals\n",
    "- Document and share knowledge\n",
    "- Reflect and improve"
   ]
  },
  {
   "cell_type": "markdown",
   "id": "32228b45",
   "metadata": {
    "slideshow": {
     "slide_type": "slide"
    }
   },
   "source": [
    "### Pair Programming - tools\n",
    "\n",
    "VS Code Live Share extension: https://www.youtube.com/watch?v=A2ceblXTBBc"
   ]
  },
  {
   "cell_type": "markdown",
   "id": "c476ddc1",
   "metadata": {
    "slideshow": {
     "slide_type": "slide"
    }
   },
   "source": [
    "## Git Feature Branch Workflow\n",
    "\n",
    "When you work on a software project with others, you need to have to way to keep from overwriting each other's changes in case you happen to edit the same files at the same time. \n",
    "\n",
    "To do this we will use the *Feature Branch Workflow* \n",
    "- First, create a new *feature branch* for your changes `git checkout -b <branch_name>`\n",
    "- Make your changes and commit them to the branch at at natural stopping points"
   ]
  },
  {
   "cell_type": "markdown",
   "id": "22d74084",
   "metadata": {
    "slideshow": {
     "slide_type": "slide"
    }
   },
   "source": [
    "### Feature Branch Workflow - continued\n",
    "\n",
    "- When you want to share your changes with others so they can look at them: normally `git push` but the first time you push, you will need to set the name of the remote branch to this branch name `git push --set-upstream origin <branch_name>`\n",
    "- When your changes are ready to be merged into the main branch, follow the instructions to create a *Pull Request* and assign me to review your pull request\n",
    "- At this point you can go back to the main branch `git checkout main`"
   ]
  },
  {
   "cell_type": "markdown",
   "id": "10b5a862",
   "metadata": {
    "slideshow": {
     "slide_type": "slide"
    }
   },
   "source": [
    "### Feature Branch Workflow - continued\n",
    "\n",
    "- Once I've reviewed and merged your changes, you and everyone else will be able to access your code on the main branch by pulling down the latest changes: `git pull`\n",
    "- At this point you can delete your feature branch `git branch -d <branch_name>`"
   ]
  },
  {
   "cell_type": "markdown",
   "id": "b36eda0a",
   "metadata": {
    "slideshow": {
     "slide_type": "slide"
    }
   },
   "source": [
    "## Homework\n",
    "\n",
    "Learn more about how to to be an effective Pair Programmer: https://dev.to/documatic/pair-programming-best-practices-and-tools-154j\n",
    "\n",
    "Learn more about Git Feature Branch Workflow: https://www.atlassian.com/git/tutorials/comparing-workflows/feature-branch-workflow\n",
    "\n",
    "Need help?\n",
    "- https://calendly.com/dallanq/help"
   ]
  }
 ],
 "metadata": {
  "celltoolbar": "Slideshow",
  "kernelspec": {
   "display_name": "PathwayInternshipPresentations",
   "language": "python",
   "name": "pathwayinternshippresentations"
  },
  "language_info": {
   "codemirror_mode": {
    "name": "ipython",
    "version": 3
   },
   "file_extension": ".py",
   "mimetype": "text/x-python",
   "name": "python",
   "nbconvert_exporter": "python",
   "pygments_lexer": "ipython3",
   "version": "3.11.4"
  }
 },
 "nbformat": 4,
 "nbformat_minor": 5
}
