{
 "cells": [
  {
   "cell_type": "markdown",
   "metadata": {
    "slideshow": {
     "slide_type": "slide"
    }
   },
   "source": [
    "# Week 2 - Useful bash commands"
   ]
  },
  {
   "cell_type": "markdown",
   "metadata": {
    "slideshow": {
     "slide_type": "slide"
    }
   },
   "source": [
    "## Managing directories\n",
    "\n",
    "`ls <directory>` list files in a directory: `-l` long format `-a` all files, including files that start with a .\n",
    "\n",
    "`cd <directory>` change to the directory\n",
    "\n",
    "`mkdir <directory>` create a directory\n",
    "\n",
    "`rmdir <directory>` remove an empty directory.\n",
    "\n",
    "`pwd` print the working (current) directory."
   ]
  },
  {
   "cell_type": "markdown",
   "metadata": {
    "slideshow": {
     "slide_type": "slide"
    }
   },
   "source": [
    "## Managing files\n",
    "\n",
    "`touch <filename>` create an empty file named filename\n",
    "\n",
    "`cp <source filename> <target filename>` copy source filename to target filename.\n",
    "\n",
    "`mv <source filename> <target filename>` move (rename) source filename to target filename. Works for directories as well.\n",
    "\n",
    "`rm <filename>` removes (deletes) filename. You can also use patterns like `*.js` to remove all files in the directory matching the pattern."
   ]
  },
  {
   "cell_type": "markdown",
   "metadata": {
    "slideshow": {
     "slide_type": "slide"
    }
   },
   "source": [
    "## Managing file permissions (advanced)\n",
    "\n",
    "Files are associated with an owner and a group. Users (owners) can belong to multiple groups. \n",
    "\n",
    "`chmod <permissions> <filename>` changes the permissions (read, write, and execute) on a file for owner, group, or anyone. \n",
    "\n",
    "`chown <user or group> <filename>` changes the owner or group of a file."
   ]
  },
  {
   "cell_type": "markdown",
   "metadata": {
    "slideshow": {
     "slide_type": "slide"
    }
   },
   "source": [
    "## Finding files\n",
    "\n",
    "`find . -name '*.js'` searches for filenames matching `*.js` in the current directory (`.`) recursively.\n",
    "\n",
    "`grep <something> *` searches for \"something\" inside all files in the directory `-r` include files in subdirectories `-l` just list the filenames `-i` case-insensitive search. Grep is very powerful. You can even search for regular expressions."
   ]
  },
  {
   "cell_type": "markdown",
   "metadata": {
    "slideshow": {
     "slide_type": "slide"
    }
   },
   "source": [
    "## Viewing files\n",
    "\n",
    "`head <filename>` displays the first few lines of filename. \n",
    "\n",
    "`tail <filename>` displays the last few lines of filename.\n",
    "\n",
    "`cat <filename>` displays the entire contents of filename.\n",
    "\n",
    "`less <filename>` displays the entire contents of filename in a scrollable window.\n",
    "\n",
    "`sort <filename> ` displays the contents of filename sorted."
   ]
  },
  {
   "cell_type": "markdown",
   "metadata": {
    "slideshow": {
     "slide_type": "slide"
    }
   },
   "source": [
    "## Compressing files\n",
    "\n",
    "`gzip <filename>` compresses filename\n",
    "\n",
    "`gunzip <filename>` uncompresses filename\n",
    "\n",
    "`tar -czvf <target filename.tgz> <directory>` copies all files from directory into target filename, compressed.\n",
    "\n",
    "`tar -xzvf <filename.tgz>` uncompresses and writes files to their original directory."
   ]
  },
  {
   "cell_type": "markdown",
   "metadata": {
    "slideshow": {
     "slide_type": "slide"
    }
   },
   "source": [
    "## Managing processes\n",
    "\n",
    "`ps aux` list running processes\n",
    "\n",
    "`kill <process id>` gracefully kill a running process; add `-9` to force killing it.\n",
    "\n",
    "`top` list running processes sorted by CPU or memory usage"
   ]
  },
  {
   "cell_type": "markdown",
   "metadata": {
    "slideshow": {
     "slide_type": "slide"
    }
   },
   "source": [
    "## Misc\n",
    "\n",
    "`which <command>` displays the directory where an executable command is located.\n",
    "\n",
    "`history` shows a history of the shell commands you have used.\n",
    "\n",
    "`man <command>` get help for a command. Many commands have lots of options to customize the command's behavior. You can also often type `<command> --help` to get a short summary of the options.\n",
    "\n",
    "`sudo <command` run the command as root (administrator)."
   ]
  },
  {
   "cell_type": "markdown",
   "metadata": {
    "slideshow": {
     "slide_type": "slide"
    }
   },
   "source": [
    "### Misc (continued)\n",
    "\n",
    "`date` what time is it?\n",
    "\n",
    "`df` how much disk space do I have left?\n",
    "\n",
    "`du -h <directory>` how much space do the files in this directory consume?\n",
    "\n",
    "`exit` close the terminal window."
   ]
  },
  {
   "cell_type": "markdown",
   "metadata": {
    "slideshow": {
     "slide_type": "slide"
    }
   },
   "source": [
    "## Redirection and pipes\n",
    "\n",
    "`echo <something> > <filename>` the `>` symbol redirects the output of a command to a file. This example creates a file named \"filename\" with \"something\" in it.\n",
    "\n",
    "`history | grep git` the `|` (pipe) symbol redirects the output of one command to be the input of another command. This example searches the history for the string \"git\"."
   ]
  },
  {
   "cell_type": "markdown",
   "metadata": {
    "slideshow": {
     "slide_type": "slide"
    }
   },
   "source": [
    "## Conclusion\n",
    "\n",
    "* Bash is very powerful. There are literally hundreds of commands available. The ability to pipe the output of one command to the input of another means you can do many things in a single line that you'd otherwise have to write a program to do. The `man` command, google, and ChatGPT will help you find out what's available."
   ]
  },
  {
   "cell_type": "markdown",
   "metadata": {
    "slideshow": {
     "slide_type": "slide"
    }
   },
   "source": [
    "### Conclusion (continued)\n",
    "\n",
    "* Scripts - Bash has a simple scripting language with variables, if statements, and for loops. You can often write a simple script to manipulate files and directories simply without having to write a program.\n",
    "\n",
    "* There are other shells: Bash is just one shell. Other popular shells are zsh and fish. They are very similar to bash, but have some nice additions."
   ]
  },
  {
   "cell_type": "code",
   "execution_count": null,
   "metadata": {},
   "outputs": [],
   "source": []
  }
 ],
 "metadata": {
  "celltoolbar": "Slideshow",
  "kernelspec": {
   "display_name": "PathwayInternshipPresentations",
   "language": "python",
   "name": "pathwayinternshippresentations"
  },
  "language_info": {
   "codemirror_mode": {
    "name": "ipython",
    "version": 3
   },
   "file_extension": ".py",
   "mimetype": "text/x-python",
   "name": "python",
   "nbconvert_exporter": "python",
   "pygments_lexer": "ipython3",
   "version": "3.11.4"
  }
 },
 "nbformat": 4,
 "nbformat_minor": 4
}
