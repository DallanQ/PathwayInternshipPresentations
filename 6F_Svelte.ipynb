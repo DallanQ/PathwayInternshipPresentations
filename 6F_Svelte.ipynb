{
 "cells": [
  {
   "cell_type": "markdown",
   "id": "357488f0",
   "metadata": {
    "slideshow": {
     "slide_type": "slide"
    }
   },
   "source": [
    "# Week 6 (Front-End) - Svelte\n",
    "\n",
    "As developers we never build anything from scratch. We build on top of things that others have built, so we can get more done. The things we build on top of are called **frameworks**. There are dozens if not hundreds of popular frameworks that people build upon. This week we will learn about **Svelte**."
   ]
  },
  {
   "cell_type": "markdown",
   "id": "cf5f5f8f",
   "metadata": {
    "slideshow": {
     "slide_type": "slide"
    }
   },
   "source": [
    "## Typescript\n",
    "\n",
    "Before we learn Svelte, let's learn Typescript. Typescript adds types to Javascript, which makes it easier for VS Code to give you coding hints.\n",
    "\n",
    "* Day 1: https://www.youtube.com/playlist?list=PLA9WiRZ-IS_xcCa-n43hzTQ27PVVNVWuN videos 1-9"
   ]
  },
  {
   "cell_type": "markdown",
   "id": "4d9cf8aa",
   "metadata": {
    "slideshow": {
     "slide_type": "slide"
    }
   },
   "source": [
    "## Svelte tutorials by Joy of Code\n",
    "\n",
    "I really like the videos by Joy of Code. We will watch them together.\n",
    "\n",
    "* Day 2: https://www.youtube.com/playlist?list=PLA9WiRZ-IS_ylnMYxIFCsZN6xVVSvLuHk"
   ]
  },
  {
   "cell_type": "markdown",
   "id": "ba210ce3",
   "metadata": {
    "slideshow": {
     "slide_type": "slide"
    }
   },
   "source": [
    "## Create a ToDo app\n",
    "\n",
    "Next we'll spend a couple of days creating a simple ToDo app.\n",
    "\n",
    "* Day 3+4: https://www.youtube.com/playlist?list=PLA9WiRZ-IS_xz1M4H0fjZAii4vzRffTno\n",
    "\n",
    "To set up the project on your laptop (video #3)\n",
    "- create a new directory\n",
    "- **cd** into that directory\n",
    "- install node 18 and use it in this directory: `rtx use node@18`\n",
    "- init vite `npm init vite@latest`\n",
    "- follow the rest of the instructions in the video"
   ]
  },
  {
   "cell_type": "markdown",
   "id": "df940f49",
   "metadata": {
    "slideshow": {
     "slide_type": "slide"
    }
   },
   "source": [
    "## Matching game\n",
    "\n",
    "Finally, we'll cover Svelte's advanced features by creating a matching game\n",
    "\n",
    "* Day 5: https://youtube.com/watch?v=w2q9caYXgkg"
   ]
  },
  {
   "cell_type": "markdown",
   "id": "13a193e3",
   "metadata": {
    "slideshow": {
     "slide_type": "slide"
    }
   },
   "source": [
    "## Homework\n",
    "\n",
    "For this week's homework during the week, go to the online tutorial at https://learn.svelte.dev and complete **Part 1: Basic Svelte** and also **Part 2: Advanced Svelte**"
   ]
  }
 ],
 "metadata": {
  "celltoolbar": "Slideshow",
  "kernelspec": {
   "display_name": "PathwayInternshipPresentations",
   "language": "python",
   "name": "pathwayinternshippresentations"
  },
  "language_info": {
   "codemirror_mode": {
    "name": "ipython",
    "version": 3
   },
   "file_extension": ".py",
   "mimetype": "text/x-python",
   "name": "python",
   "nbconvert_exporter": "python",
   "pygments_lexer": "ipython3",
   "version": "3.11.4"
  }
 },
 "nbformat": 4,
 "nbformat_minor": 5
}
