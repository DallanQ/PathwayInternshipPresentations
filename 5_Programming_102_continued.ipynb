{
 "cells": [
  {
   "cell_type": "markdown",
   "id": "91b4d2c7",
   "metadata": {
    "slideshow": {
     "slide_type": "slide"
    }
   },
   "source": [
    "# Week 5 - Continue to Improve Your Programming Skills\n",
    "\n",
    "Questions from last week?"
   ]
  },
  {
   "cell_type": "markdown",
   "id": "88dfdbcb",
   "metadata": {
    "slideshow": {
     "slide_type": "slide"
    }
   },
   "source": [
    "## Curiosity Presentations\n",
    "\n",
    "Present ideas for your side-projects. I will listen to the presentations and help you refine your ideas to make sure they are doable and not overwhelming."
   ]
  },
  {
   "cell_type": "markdown",
   "id": "71088257",
   "metadata": {
    "slideshow": {
     "slide_type": "slide"
    }
   },
   "source": [
    "## Data + Statements = Program\n",
    "\n",
    "Programs are essentially about two things:\n",
    "\n",
    "1. Data - information that is acted upon by programming statements\n",
    "2. Programming statements - things that act upon the data and create, update, or delete it"
   ]
  },
  {
   "cell_type": "markdown",
   "id": "24e51ea1",
   "metadata": {
    "slideshow": {
     "slide_type": "slide"
    }
   },
   "source": [
    "## Programming in the small and the large\n",
    "\n",
    "Programming in the small is what you do when you write kata's - use a handful statements to manipulate a handful of data elements so it looks the way you want it when the statements have completed running.\n",
    "\n",
    "Programming in the large is about growing programs from 10's of statements to 10's of thousands or even millions of statements. The challenge is to keep the program correct and easy to understand when it no longer fits on a single page."
   ]
  },
  {
   "cell_type": "markdown",
   "id": "addf4586",
   "metadata": {
    "slideshow": {
     "slide_type": "slide"
    }
   },
   "source": [
    "## Composition and Encapsulation\n",
    "\n",
    "As programs grow in size they can become extremely complex and difficult to understand and maintain. To manage complexity we use *Composition* and *Encapsulation* (among other things):\n",
    "\n",
    "* Data: individual variables are composed into lists, sets, dictionaries, and (class) objects. You can even have lists of objects, dictionaries of sets, etc.\n",
    "\n",
    "* Statements: individual statements are composed and encapsulated into functions, and functions are composed into modules or classes.\n",
    "\n",
    "Using composition and encapsulation, we can keep programs easy to understand and reason about even when they contain 10's of thousands (or millions) of data elements and statements."
   ]
  },
  {
   "cell_type": "markdown",
   "id": "afc98d65",
   "metadata": {
    "slideshow": {
     "slide_type": "slide"
    }
   },
   "source": [
    "## Composition and Encapsulation - illustration\n",
    "\n",
    "Think of a large program like a marble chase composed of 100's of pieces. If you had to think about all of the pieces at once, it would be overwhelming. But you can break down the chase into a few large separate components:\n",
    "<table>\n",
    "    <tr>\n",
    "        <td>\n",
    "            <ol style=\"text-align: left\">\n",
    "                <li>a control knob that turns a crank</li>\n",
    "                <li>a large wheel that moves marbles up</li>\n",
    "                <li>a track that guides the marbles down a path</li>\n",
    "                <li>a staircase that marbles climb up</li> \n",
    "                <li>a second track that guides the marbles down a path</li>\n",
    "                <li>a spiral that marbles go around until they get to the bottom</li>\n",
    "            </ol>\n",
    "        </td>\n",
    "        <td>\n",
    "            <img src=\"marble_chase.jpeg\" width=\"300px\">\n",
    "        </td>\n",
    "    </tr>\n",
    "</table>\n",
    "Each component is composed of many pieces that each play a part in the component.\n",
    "By encapsulating the many pieces into a few large components, the marble chase is easier to think about and maintain."
   ]
  },
  {
   "cell_type": "markdown",
   "id": "3004e0df",
   "metadata": {
    "slideshow": {
     "slide_type": "slide"
    }
   },
   "source": [
    "## Homework for this week\n",
    "\n",
    "Continue doing what you did last week\n",
    "\n",
    "1. Read books and take courses\n",
    "2. Practice programming problems\n",
    "3. Write software programs"
   ]
  },
  {
   "cell_type": "markdown",
   "id": "4641631f",
   "metadata": {
    "slideshow": {
     "slide_type": "slide"
    }
   },
   "source": [
    "## 1. Read books and take courses\n",
    "\n",
    "* *Front-end developers*: complete this course on Javascript this week: https://www.freecodecamp.org/learn/javascript-algorithms-and-data-structures/\n",
    "        \n",
    "* *Back-end developers*: complete **either** the second half of this course: \n",
    "https://www.freecodecamp.org/learn/scientific-computing-with-python/ **or** this course: https://www.coursera.org/learn/python-operating-system?specialization=google-it-automation this week. \n",
    "\n",
    "* *Everyone*: Read all of the pages of this website: https://cupid.dev/ or watch this video: https://www.youtube.com/watch?v=KRLOCFDw5x4 to learn some properties of well-written large programs.\n",
    "\n",
    "Same as last week, don't use `Codeium` this week."
   ]
  },
  {
   "cell_type": "markdown",
   "id": "1ba5464b",
   "metadata": {
    "slideshow": {
     "slide_type": "slide"
    }
   },
   "source": [
    "## 2. Practice programming problems\n",
    "\n",
    "Continue to spend at least **an hour a day** and complete at least **5 programming problems (kata's) each day** this week."
   ]
  },
  {
   "cell_type": "markdown",
   "id": "ebf8f7e8",
   "metadata": {
    "slideshow": {
     "slide_type": "slide"
    }
   },
   "source": [
    "## 3. Write software programs\n",
    "\n",
    "Start working on your **side project** this week. Don't let the empty project get you discouraged! The best thing to do when starting a new project is to **START**! The purpose of a side-project is to learn, and we learn best when we make mistakes, so start making mistakes. You can correct them as you go on developing. 😆\n",
    "\n",
    "Prepare a 15-minute **Curiosity Presentation** on your **side project** or something else that you learned this week."
   ]
  },
  {
   "cell_type": "markdown",
   "id": "8402e417",
   "metadata": {
    "slideshow": {
     "slide_type": "slide"
    }
   },
   "source": [
    "## This week is on your own\n",
    "\n",
    "You have a lot to accomplish this week so we won't meet again. If you have questions, please ask them on slack!\n",
    "\n",
    "Next week we'll start learning about *frameworks* to help us write larger programs. We will start holding daily meetings again next week."
   ]
  }
 ],
 "metadata": {
  "celltoolbar": "Slideshow",
  "kernelspec": {
   "display_name": "PathwayInternshipPresentations",
   "language": "python",
   "name": "pathwayinternshippresentations"
  },
  "language_info": {
   "codemirror_mode": {
    "name": "ipython",
    "version": 3
   },
   "file_extension": ".py",
   "mimetype": "text/x-python",
   "name": "python",
   "nbconvert_exporter": "python",
   "pygments_lexer": "ipython3",
   "version": "3.11.4"
  }
 },
 "nbformat": 4,
 "nbformat_minor": 5
}
