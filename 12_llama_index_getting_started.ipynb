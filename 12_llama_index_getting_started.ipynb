{
 "cells": [
  {
   "cell_type": "markdown",
   "id": "94697a2f-38c9-4b39-b084-8d3bc9cfc8b2",
   "metadata": {},
   "source": [
    "# Getting Started with Llamaindex and Vercel"
   ]
  },
  {
   "cell_type": "markdown",
   "id": "957a9748-7995-4ccb-9f70-6fc22be5c404",
   "metadata": {},
   "source": [
    "First make sure you have a recent version of node"
   ]
  },
  {
   "cell_type": "markdown",
   "id": "d50ea7db-6ed3-4da3-bf64-9d2306d04889",
   "metadata": {},
   "source": [
    "## Create a Llamaindex project\n",
    "- `npx create-llama@latest`\n",
    "  - Project Name? llama-vercel\n",
    "  - Template? Chat\n",
    "  - Framework? FastAPI (Python)\n",
    "  - Generate a NextJS frontend? Yes\n",
    "  - Obervability? No\n",
    "  - OpenAI key?\n",
    "    - you can use mine if you want to take this approach\n",
    "  - Data source? Example PDF\n",
    "  - Another data source? No\n",
    "  - LlamaParse? No\n",
    "  - Vector database? ChromaDB\n",
    "  - Agent? leave blank and just press enter\n",
    "  - Proceed? Generate code and install dependencies"
   ]
  },
  {
   "cell_type": "markdown",
   "id": "d5a8c056-a543-4bb8-9b0d-c8a9dd4d18c5",
   "metadata": {},
   "source": [
    "### Start the backend\n",
    "- `cd llama-vercel/backend`\n",
    "- `poetry install`\n",
    "- `poetry shell`\n",
    "- edit .env: uncomment CHROMA_PATH and set it to `chroma`\n",
    "- `poetry run generate`\n",
    "- `python main.py`\n",
    "- read backend/README.md for more information"
   ]
  },
  {
   "cell_type": "markdown",
   "id": "6bf708f8-c27f-431f-b67f-1ff1d3badb31",
   "metadata": {},
   "source": [
    "### Start the frontend\n",
    "- open a new terminal window\n",
    "- `cd ../frontend`\n",
    "- `npm install`\n",
    "- `npm run dev`\n",
    "- visit http://localhost:3000"
   ]
  },
  {
   "cell_type": "markdown",
   "id": "d49bcf2f-275f-4696-9b73-1648f714336c",
   "metadata": {},
   "source": [
    "## Create a nextjs-fastapi project and deploy it on Vercel\n",
    "- Sign into https://vercel.com/ using your github account\n",
    "- Go to https://vercel.com/templates/next.js/nextjs-fastapi-starter\n",
    "- Click deploy\n",
    "    - this creates a new github repo using the nextjs-fastapi-starter template\n",
    "    - and deploys your new repo to vercel\n",
    "- Click \"Continue to dashboard\"\n",
    "- Click on the thumbnail on the left side of the page\n",
    "    - That's your new project!"
   ]
  },
  {
   "cell_type": "markdown",
   "id": "1dfe226c-2ef2-4000-a234-056b9ffa1f98",
   "metadata": {},
   "source": [
    "### Run the project locally\n",
    "- `git clone https://github.com/[username]/nextjs-fastapi-starter`\n",
    "- `cd nextjs-fastapi-starter`\n",
    "- `npm install`\n",
    "- `npm run dev`\n",
    "- Go to http://localhost:3000"
   ]
  },
  {
   "cell_type": "markdown",
   "id": "8e554588-bd00-41f1-a103-a6e8508d3212",
   "metadata": {},
   "source": [
    "## Deploy Llamaindex project to Vercel"
   ]
  },
  {
   "cell_type": "markdown",
   "id": "d508daa2-a6d2-4a9d-a5d6-74d9547a2c5b",
   "metadata": {},
   "source": [
    "### Initial commit to a new llama-vercel repo on github\n",
    "- Create a llama-vercel repo on github\n",
    "- `cd ~/llama-vercel`\n",
    "- `git add .`\n",
    "- `git commit -m 'first commit'`\n",
    "- `git remote add origin https://github.com/[username]/llama-vercel.git`\n",
    "- `git branch -M main`\n",
    "- `git push -u origin main`"
   ]
  },
  {
   "cell_type": "markdown",
   "id": "bcc50a03-e055-4943-b278-5a8ba8ec5599",
   "metadata": {},
   "source": [
    "### Make the project structure compatible with Vercel\n",
    "- `mv backend api`\n",
    "- `mv frontend/README.md frontend/README-frontend.md`\n",
    "- `mv frontend/* .`\n",
    "- `mv frontend/.* .`\n",
    "- `rmdir frontend`"
   ]
  },
  {
   "cell_type": "markdown",
   "id": "efa5076c-f12b-4ace-9940-65cd6165a4b1",
   "metadata": {},
   "source": [
    "### Make api request forwarding compatible with Vercel\n",
    "- edit `.env` and set NEXT_PUBLIC_CHAT_API=/api/chat\n",
    "- comment out lines 6-9 in `app/components/ui/lib/url.ts`\n",
    "- rm `next.config.json`\n",
    "- replace the contents of `next.config.mjs` with the following:\n",
    "```\n",
    "/** @type {import('next').NextConfig} */\n",
    "import fs from \"fs\";\n",
    "import webpack from \"./webpack.config.mjs\";\n",
    "\n",
    "const nextConfig = {\n",
    "  \"experimental\": {\n",
    "    \"outputFileTracingIncludes\": {\n",
    "      \"/*\": [\n",
    "        \"./cache/**/*\"\n",
    "      ]\n",
    "    },\n",
    "    \"serverComponentsExternalPackages\": [\n",
    "      \"sharp\",\n",
    "      \"onnxruntime-node\"\n",
    "    ]\n",
    "  },\n",
    "  \"images\": {\n",
    "    \"unoptimized\": true\n",
    "  },\n",
    "  \"webpack\": webpack,\n",
    "  \"rewrites\": async () => {\n",
    "    return [\n",
    "      {\n",
    "        source: \"/api/:path*\",\n",
    "        destination:\n",
    "          process.env.NODE_ENV === \"development\"\n",
    "            ? \"http://127.0.0.1:8000/api/:path*\"\n",
    "            : \"/api/\",\n",
    "      },\n",
    "    ];\n",
    "  },\n",
    "}\n",
    "\n",
    "export default nextConfig;\n",
    "```"
   ]
  },
  {
   "cell_type": "markdown",
   "id": "42e48bc5-b064-4105-9d55-ff98288625e5",
   "metadata": {},
   "source": [
    "### Reduce the number of files in the api directory\n",
    "Vercel creates a serverless function for each file, and you must have fewer than 12 files on the free (Hobby) plan\n",
    "- `rm api/app/observability.py`\n",
    "- edit `api/main.py` and remove the init_observability import and function call"
   ]
  },
  {
   "cell_type": "markdown",
   "id": "7c3d092e-48b3-43d1-86a1-aa666d7f6307",
   "metadata": {},
   "source": [
    "### Downgrade to python 3.9 for Vercel\n",
    "In the api directory\n",
    "- edit `pyproject.toml` and set the python version to ^3.9\n",
    "- `poetry lock --no-update`"
   ]
  },
  {
   "cell_type": "markdown",
   "id": "5d2789fd-d688-4ed0-824a-a6d9eeac4fa9",
   "metadata": {},
   "source": [
    "### Reinstall poetry virtual environment (because we changed backend to api)\n",
    "In the api directory\n",
    "- `poetry env remove --all`\n",
    "- `poetry install`"
   ]
  },
  {
   "cell_type": "markdown",
   "id": "ff1390a1-1e6e-49b4-8d64-6b1c0bc992d9",
   "metadata": {},
   "source": [
    "### Generate a requirements.txt file from pyproject.toml\n",
    "In the api directory\n",
    "- if your version of poetry is below 1.8,\n",
    "    - run `poetry self update` or re-install poetry to get poetry 1.8 or later\n",
    "- add poetry-plugin-export:\n",
    "    - run `pip install --user poetry-plugin-export` or `poetry self add poetry-plugin-export`\n",
    "- create requirements.txt\n",
    "    - `poetry export -f requirements.txt --without-hashes --output ../requirements.txt`"
   ]
  },
  {
   "cell_type": "markdown",
   "id": "e6e22b62-c505-4063-9767-d3a179ecbc1b",
   "metadata": {},
   "source": [
    "### Test the project locally\n",
    "\n",
    "Start the backend (in the api directory)\n",
    "- `poetry shell`\n",
    "- `python main.py`\n",
    "\n",
    "Start the frontend (do this in a new terminal window in the project root directory)\n",
    "- `npm run dev`\n",
    "- visit http://localhost:3000"
   ]
  },
  {
   "cell_type": "markdown",
   "id": "3b53a305-a549-4313-b2f2-5f70a9dac3a6",
   "metadata": {},
   "source": [
    "### Push changes to github\n",
    "In the project root\n",
    "- `git add .`\n",
    "- `git commit -m 'prepare to deploy to vercel'`\n",
    "- `git push`"
   ]
  },
  {
   "cell_type": "markdown",
   "id": "fe53d7de-656e-408f-9a8e-4137e9cbfc3c",
   "metadata": {},
   "source": [
    "### Create a llama-vercel project on vercel\n",
    "- Go to https://vercel.com and sign in as your github user\n",
    "- Add a new project\n",
    "- Import your llama-vercel repo\n",
    "- Change the Framework preset to Next.js\n",
    "- Set the Node.js version to 18.x\n",
    "- paste the contents of api/.env to the environment variables section\n",
    "- click Deploy"
   ]
  },
  {
   "cell_type": "code",
   "execution_count": null,
   "id": "f7df92a6-9587-43bd-b0bb-30b9038bc4ac",
   "metadata": {},
   "outputs": [],
   "source": []
  }
 ],
 "metadata": {
  "kernelspec": {
   "display_name": "PathwayInternshipPresentations",
   "language": "python",
   "name": "pathwayinternshippresentations"
  },
  "language_info": {
   "codemirror_mode": {
    "name": "ipython",
    "version": 3
   },
   "file_extension": ".py",
   "mimetype": "text/x-python",
   "name": "python",
   "nbconvert_exporter": "python",
   "pygments_lexer": "ipython3",
   "version": "3.11.7"
  }
 },
 "nbformat": 4,
 "nbformat_minor": 5
}
