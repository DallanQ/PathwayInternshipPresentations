{
 "cells": [
  {
   "cell_type": "markdown",
   "id": "086f9c5e",
   "metadata": {
    "slideshow": {
     "slide_type": "slide"
    }
   },
   "source": [
    "# Week 9 (Front-End) - SvelteKit 102\n",
    "\n",
    "This week you will continue to learn about **Sveltekit**."
   ]
  },
  {
   "cell_type": "markdown",
   "id": "5fde5d14",
   "metadata": {
    "slideshow": {
     "slide_type": "slide"
    }
   },
   "source": [
    "## Continue Sveltekit tutorials by Joy of Code\n",
    "\n",
    "* Day 1-5: https://www.youtube.com/playlist?list=PLA9WiRZ-IS_zfHpxmztJQLeBISsQkh9-M"
   ]
  },
  {
   "cell_type": "markdown",
   "id": "e4b179dd",
   "metadata": {
    "slideshow": {
     "slide_type": "slide"
    }
   },
   "source": [
    "## Homework\n",
    "\n",
    "\n",
    "For this week's homework during the week, continue the online tutorial at https://learn.svelte.dev and complete **Part 3: Basic Sveltekit**\n",
    "\n",
    "Need help?\n",
    "- https://calendly.com/dallanq/help"
   ]
  },
  {
   "cell_type": "markdown",
   "id": "0f7d6533",
   "metadata": {
    "slideshow": {
     "slide_type": "slide"
    }
   },
   "source": [
    "## Optional\n",
    "\n",
    "- **PicoCSS** CSS is hard. There are dozens of frameworks out there to try to make CSS easier. Pico CSS is not the most popular. But it is among the simplest.\n",
    "  - Watch https://www.youtube.com/watch?v=-n84EMKIXQM\n",
    "  - Review https://picocss.com/"
   ]
  }
 ],
 "metadata": {
  "celltoolbar": "Slideshow",
  "kernelspec": {
   "display_name": "PathwayInternshipPresentations",
   "language": "python",
   "name": "pathwayinternshippresentations"
  },
  "language_info": {
   "codemirror_mode": {
    "name": "ipython",
    "version": 3
   },
   "file_extension": ".py",
   "mimetype": "text/x-python",
   "name": "python",
   "nbconvert_exporter": "python",
   "pygments_lexer": "ipython3",
   "version": "3.11.4"
  }
 },
 "nbformat": 4,
 "nbformat_minor": 5
}
