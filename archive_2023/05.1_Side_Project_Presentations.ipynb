{
 "cells": [
  {
   "cell_type": "markdown",
   "id": "91b4d2c7",
   "metadata": {
    "slideshow": {
     "slide_type": "slide"
    }
   },
   "source": [
    "# Week 5 day 1 - Side-Project Presentations\n",
    "\n",
    "Questions from last week?"
   ]
  },
  {
   "cell_type": "markdown",
   "id": "88dfdbcb",
   "metadata": {
    "slideshow": {
     "slide_type": "slide"
    }
   },
   "source": [
    "## Side-Project Presentations\n",
    "\n",
    "Present ideas for your side-projects. I will listen to the presentations and help you refine your ideas to make sure they are doable and not overwhelming."
   ]
  },
  {
   "cell_type": "markdown",
   "id": "3004e0df",
   "metadata": {
    "slideshow": {
     "slide_type": "slide"
    }
   },
   "source": [
    "## Homework for this week\n",
    "\n",
    "Continue doing what you did last week\n",
    "\n",
    "1. Read books and take courses\n",
    "2. Practice programming problems\n",
    "3. Write software programs"
   ]
  },
  {
   "cell_type": "markdown",
   "id": "4641631f",
   "metadata": {
    "slideshow": {
     "slide_type": "slide"
    }
   },
   "source": [
    "## 1. Read books and take courses\n",
    "\n",
    "* *Front-end developers*: complete this course on Javascript this week: https://www.freecodecamp.org/learn/javascript-algorithms-and-data-structures/\n",
    "        \n",
    "* *Back-end developers*: complete **either** the second half of this course: \n",
    "https://www.freecodecamp.org/learn/scientific-computing-with-python/ **or** this course: https://www.coursera.org/learn/python-operating-system?specialization=google-it-automation this week. \n",
    "\n",
    "Same as last week, don't use `Codeium` this week."
   ]
  },
  {
   "cell_type": "markdown",
   "id": "1ba5464b",
   "metadata": {
    "slideshow": {
     "slide_type": "slide"
    }
   },
   "source": [
    "## 2. Practice programming problems\n",
    "\n",
    "Continue to spend at least **an hour a day** and complete as many kata as you can this week.\n",
    "\n",
    "If you get stuck, take a screenshot and share it so others can help!"
   ]
  },
  {
   "cell_type": "markdown",
   "id": "ebf8f7e8",
   "metadata": {
    "slideshow": {
     "slide_type": "slide"
    }
   },
   "source": [
    "## 3. Write software programs\n",
    "\n",
    "Start working on your **side project** this week. Don't let the empty project get you discouraged! The best thing to do when starting a new project is to **START**! The purpose of a side-project is to learn, and we learn best when we make mistakes, so start making mistakes. You can correct them as you go on developing. 😆\n",
    "\n",
    "Tomorrow we will cover an **easy way to get started** on your side project using scaffolding tools.\n",
    "\n",
    "Prepare a 15-minute **Curiosity Presentation** on your **side project** or something else that you learned this week."
   ]
  },
  {
   "cell_type": "markdown",
   "id": "9286f09d",
   "metadata": {
    "slideshow": {
     "slide_type": "slide"
    }
   },
   "source": [
    "## Need help?\n",
    "\n",
    "- https://calendly.com/dallanq/help"
   ]
  }
 ],
 "metadata": {
  "celltoolbar": "Slideshow",
  "kernelspec": {
   "display_name": "Python 3 (ipykernel)",
   "language": "python",
   "name": "python3"
  },
  "language_info": {
   "codemirror_mode": {
    "name": "ipython",
    "version": 3
   },
   "file_extension": ".py",
   "mimetype": "text/x-python",
   "name": "python",
   "nbconvert_exporter": "python",
   "pygments_lexer": "ipython3",
   "version": "3.11.7"
  }
 },
 "nbformat": 4,
 "nbformat_minor": 5
}
