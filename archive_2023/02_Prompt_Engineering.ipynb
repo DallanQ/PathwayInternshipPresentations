{
 "cells": [
  {
   "cell_type": "markdown",
   "id": "6ab086bd",
   "metadata": {
    "slideshow": {
     "slide_type": "slide"
    }
   },
   "source": [
    "# Week 2 - Learn Prompt Engineering\n",
    "\n",
    "This week is mostly on your own. You will complete two self-paced courses on Prompt Engineering and learn Markdown.\n",
    "\n",
    "Large Language Models (LLMs) are a relatively new development in computing. They have been fed billions of pages of content from the Internet, books, and other places. As a result, they can understand and respond to natural-language instructions. Because of this, you don't need to learn a specialized programming language to get an LLM to do what you want. *Programming* an LLM is a matter of learning the best way to give it instructions so its responses are the most accurate. Nobody knows exactly how best to instruct an LLM. It's often a matter of trial and error, but people are discovering ideas that seem to work well generally.\n",
    "\n",
    "These two courses will give you an overview of various things you can use to program LLMs for your own work."
   ]
  },
  {
   "cell_type": "markdown",
   "id": "2aa98b5b",
   "metadata": {
    "slideshow": {
     "slide_type": "slide"
    }
   },
   "source": [
    "## Understand ChatGPT\n",
    "\n",
    "ChatGPT reached 100 million monthly active users, just *two months* after launch!\n",
    "\n",
    "Before starting the two courses below, I want you to get familiar with ChatGPT if you aren't already.\n",
    "\n",
    "First create a (non-developer) OpenAI account here: https://chat.openai.com/ Stick with the free version. You don't need a plus account.\n",
    "\n",
    "Spend 1-2 hours asking ChatGPT questions or asking it to write things for you."
   ]
  },
  {
   "cell_type": "markdown",
   "id": "fbd371bf",
   "metadata": {
    "slideshow": {
     "slide_type": "slide"
    }
   },
   "source": [
    "## Learn Prompting\n",
    "\n",
    "**Prompt Engineering** is the *art* of constructing inputs (prompts) to LLMs to get them to output (respond) with the information you want.\n",
    "\n",
    "The first course is https://learnprompting.org/ Complete at least the following sections of this course. Plan to spend 3-4 days.\n",
    "- Basics\n",
    "- Basic Applications\n",
    "- Intermediate\n",
    "- Applied Prompting"
   ]
  },
  {
   "cell_type": "markdown",
   "id": "4353a080",
   "metadata": {
    "slideshow": {
     "slide_type": "slide"
    }
   },
   "source": [
    "### OpenAI Key\n",
    "\n",
    "During the LearnPrompting course you will be asked to enter your OpenAI API key. Use the key I sent in via slack. \n",
    "\n",
    "Please be careful with this key. It's my personal OpenAI key. Don't use it except for this course and don't share it with others."
   ]
  },
  {
   "cell_type": "markdown",
   "id": "570ed8b3",
   "metadata": {
    "slideshow": {
     "slide_type": "slide"
    }
   },
   "source": [
    "## Prompt Engineering Guide\n",
    "\n",
    "The second course is https://www.promptingguide.ai/ Complete at least the following sections. Plan to spend 1-2 days.\n",
    "\n",
    "- Introduction\n",
    "- Techniques\n",
    "- Applications\n",
    "\n",
    "After completing these two courses you will understand how to get LLMs to accomplish tasks for you. This can help you in your employment!"
   ]
  },
  {
   "cell_type": "markdown",
   "id": "4e191696",
   "metadata": {
    "slideshow": {
     "slide_type": "slide"
    }
   },
   "source": [
    "## Curiosity Presentation\n",
    "\n",
    "Please create a 15-minute presentation on something that you are curious about and studied more in depth this week. It could be something related to prompt engineering. For example, did you know that you can use prompts to generate entire HTML pages? \n",
    "\n",
    "Use the method we used on day 4 of last week to create your presentation in a Jupyter notebook and post it to your public \"presentations\" github repository. You will present your presentations to the group next Monday.\n",
    "\n",
    "**BONUS:** Create a https://linkedin.com profile if you don't already have one and post a summary of your presentation there along with a link to your full presentation on github. Your presentations will help potential employers get to know you better."
   ]
  },
  {
   "cell_type": "markdown",
   "id": "a89044ce",
   "metadata": {
    "slideshow": {
     "slide_type": "slide"
    }
   },
   "source": [
    "### How to Create Your Curiosity Presentation\n",
    "\n",
    "You will create your curiosity presentations by adding them to your existing presentations directory. First, change to your presentations directory\n",
    "\n",
    "    cd ~/presentations\n",
    "    \n",
    "And activate your presentations virtual environment\n",
    "* fish: `source .venv/bin/activate.fish`\n",
    "* bash: `source .venv/bin/activate`\n",
    "    \n",
    "Launch Jupyter Notebook\n",
    "\n",
    "    jupyter notebook\n",
    "    \n",
    "Control-click on the http://localhost:8888... link to open jupyter in your browser"
   ]
  },
  {
   "cell_type": "markdown",
   "id": "249cab9c",
   "metadata": {
    "slideshow": {
     "slide_type": "slide"
    }
   },
   "source": [
    "### How to Create Your Curiosity Presentation - continued\n",
    "\n",
    "Create your presentation as a new jupyter notebook by clicking on the **New** dropdown at the top-right and selecting the **presentations** kernel. \n",
    "\n",
    "Rename the notebook by cicking on **Untitled** at the top of the notebook and changing the name to whatever you want to call your presentation.\n",
    "\n",
    "Enable RISE in your notebook by clicking on **View** > **Cell Toolbar** > **Slideshow**\n",
    "\n",
    "When you are finished, be sure to save your notebook by typing **control-s**. Then exit the jupyter server by typing **control-c** in the shell and pressing **y** when asked.\n",
    "\n",
    "Add your notebook to GitHub by typing\n",
    "\n",
    "    git add .\n",
    "    git commit -m 'whatever you want as your commit message'\n",
    "    git push"
   ]
  },
  {
   "cell_type": "markdown",
   "id": "25b9c186",
   "metadata": {
    "slideshow": {
     "slide_type": "slide"
    }
   },
   "source": [
    "## Tools of the Trade: Markdown\n",
    "\n",
    "Markdown is a simple syntax for HTML. There are many things in HTML that can't be represented in markdown, but many HTML tags can be represented in markdown, and markdown is easier to write than HTML. \n",
    "\n",
    "Markdown can be converted to HTML so it can be displayed in a browser. This notebook is an example of markdown being converted to HTML.\n",
    "\n",
    "You will use Markdown in your curiosity presentations as well as your README.md files, so it's time to learn it. Here's a terrific tutorial on markdown. The thing I like best about this tutorial is that it not only teaches you markdown, but also some HTML along the way. Spend 20-30 minutes getting familiar with Markdown.\n",
    "\n",
    "https://medium.com/analytics-vidhya/the-ultimate-markdown-guide-for-jupyter-notebook-d5e5abf728fd"
   ]
  }
 ],
 "metadata": {
  "celltoolbar": "Slideshow",
  "kernelspec": {
   "display_name": "Python 3 (ipykernel)",
   "language": "python",
   "name": "python3"
  },
  "language_info": {
   "codemirror_mode": {
    "name": "ipython",
    "version": 3
   },
   "file_extension": ".py",
   "mimetype": "text/x-python",
   "name": "python",
   "nbconvert_exporter": "python",
   "pygments_lexer": "ipython3",
   "version": "3.11.7"
  }
 },
 "nbformat": 4,
 "nbformat_minor": 5
}
