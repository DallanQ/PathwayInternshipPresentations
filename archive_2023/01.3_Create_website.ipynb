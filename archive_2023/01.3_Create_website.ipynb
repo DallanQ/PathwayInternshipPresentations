{
 "cells": [
  {
   "cell_type": "markdown",
   "id": "9dbb927c",
   "metadata": {
    "slideshow": {
     "slide_type": "slide"
    }
   },
   "source": [
    "# Week 1 day 3 - Create a website in a day\n",
    "\n",
    "Create a website from start to finish and launch it in one day!"
   ]
  },
  {
   "cell_type": "markdown",
   "id": "f9fa7d46",
   "metadata": {
    "slideshow": {
     "slide_type": "slide"
    }
   },
   "source": [
    "## Tools of the trade: Node.js\n",
    "\n",
    "Front-end programming uses javascript or typescript. Typescript is a language with type-checking that is \"compiled\" into javascript. Node.js is a program that runs javascript programs.\n",
    "\n",
    "Install node version 18 globally\n",
    "\n",
    "    rtx use -g node@18"
   ]
  },
  {
   "cell_type": "markdown",
   "id": "35d54ca5",
   "metadata": {
    "slideshow": {
     "slide_type": "slide"
    }
   },
   "source": [
    "## Tools of the trade: npm\n",
    "\n",
    "Npm is the \"Node Package Manager\". Use it to install javascript packages when doing front-end programming.\n",
    "\n",
    "Npm also has the ability to \"scaffold\" - create a rough outline for a new project. We will use npm to create a new SvelteKit project.\n",
    "\n",
    "    npm create svelte@latest sveltekit-demo\n",
    "    \n",
    "When asked, select the following options\n",
    "\n",
    "- SvelkteKit demo app\n",
    "- Yes, using Typescript syntax\n",
    "- check all of the boxes: ESLint, Prettier, Playwrite, Vitest\n",
    "\n",
    "Check out all the files that scaffolding created for you:\n",
    "\n",
    "    find sveltekit-demo"
   ]
  },
  {
   "cell_type": "markdown",
   "id": "fe887064",
   "metadata": {
    "slideshow": {
     "slide_type": "slide"
    }
   },
   "source": [
    "## Run your new demo\n",
    "\n",
    "Use npm to install the dependencies\n",
    "\n",
    "    cd sveltekit-demo\n",
    "    \n",
    "    npm install\n",
    "\n",
    "Now run the new program you created    \n",
    "\n",
    "    npm run dev -- --open"
   ]
  },
  {
   "cell_type": "markdown",
   "id": "b661639c",
   "metadata": {
    "slideshow": {
     "slide_type": "slide"
    }
   },
   "source": [
    "## Get your demo ready to deploy\n",
    "\n",
    "Ok, your new project may not change the world, but you won't know for sure unless you try. Let's deploy it!\n",
    "\n",
    "First, go back to Ubuntu and press q to quit running the server.\n",
    "\n",
    "You will deploy your app to vercel, a free hosting service. To make this easy, we will add an adapter to tell Sveltekit that we want to deploy the app to vercel.\n",
    "\n",
    "    npm install -D @sveltejs/adapter-vercel"
   ]
  },
  {
   "cell_type": "markdown",
   "id": "c3000dc9",
   "metadata": {
    "slideshow": {
     "slide_type": "slide"
    }
   },
   "source": [
    "## Get your demo ready to deploy - continued\n",
    "\n",
    "Let's do this next step in VS Code\n",
    "\n",
    "    code .\n",
    "    \n",
    "Edit **svelte.config.js**, and change the first line from adapter-auto to adapter-vercel\n",
    "\n",
    "    import adapter from '@sveltejs/adapter-vercel';\n",
    "    \n",
    "Commit your files to git\n",
    "    \n",
    "    git init\n",
    "    \n",
    "    git add .\n",
    "    \n",
    "    git commit -m 'Initial commit'"
   ]
  },
  {
   "cell_type": "markdown",
   "id": "03559f35",
   "metadata": {
    "slideshow": {
     "slide_type": "slide"
    }
   },
   "source": [
    "## Create a Github repo for your demo\n",
    "\n",
    "We're going to create this repo differently from the previous repo. Since we already have code to push up to it, we'll create an empty repo.\n",
    "\n",
    "Go to https://github.com and **create a new repository** Name the repo **sveltekit-demo** make sure that it's **public** and **don't** check the box to add a README file.\n",
    "\n",
    "Back in Ubuntu, connect your sveltekit-demo directory to your sveltekit-demo Github repo\n",
    "\n",
    "    git remote add origin https://github.com/<your github username>/sveltekit-demo.git\n",
    "    \n",
    "    git branch -m main\n",
    "    \n",
    "    git push -u origin main\n",
    "    \n",
    "Go back to Github in your browser and verify your code appears in your repo."
   ]
  },
  {
   "cell_type": "markdown",
   "id": "6248908b",
   "metadata": {
    "slideshow": {
     "slide_type": "slide"
    }
   },
   "source": [
    "## Deploy your demo\n",
    "\n",
    "Create a free account at vercel: https://vercel.com/ Click **Sign up**, select **Hobby**, enter your name, and click **Continue**. Then click **Continue with Github** and **Authorize Vercel**.\n",
    "\n",
    "Next, connect your Github account to Vercel by clicking on **Select Git namespace** followed by **Add Github Account**.\n",
    "\n",
    "Now install your sveltekit-demo repository into Vercel by clicking on **Only select repositories**, select your new **sveltekit-demo** repository, and click **Install**."
   ]
  },
  {
   "cell_type": "markdown",
   "id": "cf03c2a0",
   "metadata": {
    "slideshow": {
     "slide_type": "slide"
    }
   },
   "source": [
    "## Deploy your demo - continued\n",
    "\n",
    "Click **Import**, scroll down to the bottom, click **Deploy**, and wait a few minutes for the deploy to complete, then click on the picture to see link under **Domains** near the middle of the page.\n",
    "\n",
    "What do you see?  Your new application!!!"
   ]
  },
  {
   "cell_type": "markdown",
   "id": "4cfab219",
   "metadata": {
    "slideshow": {
     "slide_type": "slide"
    }
   },
   "source": [
    "## Personalize your demo\n",
    "\n",
    "Back in VS Code, edit **src/routes/+page.svelte**\n",
    "\n",
    "Replace the text **to your SvelteKit app** with your name. Press **control-s** to save your change.\n",
    "\n",
    "Back in Ubuntu, verify the change you made was saved\n",
    "\n",
    "    git diff\n",
    "    \n",
    "Now add, commit, and push your change\n",
    "\n",
    "    git add .\n",
    "    \n",
    "    git commit -m 'personalize demo'\n",
    "    \n",
    "    git push"
   ]
  },
  {
   "cell_type": "markdown",
   "id": "4c51772a",
   "metadata": {
    "slideshow": {
     "slide_type": "slide"
    }
   },
   "source": [
    "## View your changes\n",
    "\n",
    "Go back to your project's page on Vercel, click on the **Deployments** tab at the upper-left, and make sure your new deployment is ready (*green*)\n",
    "\n",
    "Now go back to the **Projects** tab and click on the link under **Domains** again.\n",
    "\n",
    "What do you see?\n",
    "\n",
    "Congratulations, you just created a new website! You can share the URL with your family and friends!"
   ]
  },
  {
   "cell_type": "markdown",
   "id": "6b430f7e",
   "metadata": {
    "slideshow": {
     "slide_type": "slide"
    }
   },
   "source": [
    "## Homework\n",
    "\n",
    "Continue learning about bash. Do the first part of the third week\n",
    "\n",
    "https://www.coursera.org/learn/hands-on-introduction-to-linux-commands-and-shell-scripting \n",
    "\n",
    "- Introduction to Shell Scripting - up to Reading: Examples of Bash Shell Features\n",
    "\n",
    "There is so much to learn and new things come up so quickly that it's impossible for anyone to know everything about software development. The **most important technique** you can learn is how to learn new things quickly. As a developer, you will be expected to learn mostly on your own.\n",
    "\n",
    "How can you learn? Ask your friends!"
   ]
  },
  {
   "cell_type": "markdown",
   "id": "051f3b86",
   "metadata": {
    "slideshow": {
     "slide_type": "slide"
    }
   },
   "source": [
    "## Homework - continued\n",
    "\n",
    "In addition to your fellow interns, as a software developer your new best friends are:\n",
    "- Google\n",
    "- https://stackoverflow.com\n",
    "\n",
    "And your second-best friends are:\n",
    "- https://codeium.com/\n",
    "- https://chat.openai.com\n",
    "- https://www.phind.com/\n",
    "\n",
    "Take some time to get to know your new best friends! Think of something you want to understand more (many of the things we've covered we've just scratched the surface of), and ask them questions.\n",
    "\n",
    "Need help?\n",
    "- https://calendly.com/dallanq/help"
   ]
  }
 ],
 "metadata": {
  "celltoolbar": "Slideshow",
  "kernelspec": {
   "display_name": "Python 3 (ipykernel)",
   "language": "python",
   "name": "python3"
  },
  "language_info": {
   "codemirror_mode": {
    "name": "ipython",
    "version": 3
   },
   "file_extension": ".py",
   "mimetype": "text/x-python",
   "name": "python",
   "nbconvert_exporter": "python",
   "pygments_lexer": "ipython3",
   "version": "3.11.7"
  }
 },
 "nbformat": 4,
 "nbformat_minor": 5
}
