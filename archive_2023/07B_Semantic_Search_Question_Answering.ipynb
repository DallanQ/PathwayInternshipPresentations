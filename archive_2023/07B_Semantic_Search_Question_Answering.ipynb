{
 "cells": [
  {
   "cell_type": "markdown",
   "id": "357488f0",
   "metadata": {
    "slideshow": {
     "slide_type": "slide"
    }
   },
   "source": [
    "# Week 7 (Back-End) - Sementic Search and Question Answering\n",
    "\n",
    "This week we will learn how to use **Semantic Search** and **Retrieval Augmented Generation** to build **Question Answering** systems."
   ]
  },
  {
   "cell_type": "markdown",
   "id": "810be292",
   "metadata": {
    "slideshow": {
     "slide_type": "slide"
    }
   },
   "source": [
    "## Day 1 + 2: Retrieval Augmented Generation\n",
    "\n",
    "Complete this course: https://www.deeplearning.ai/short-courses/google-cloud-vertex-ai/"
   ]
  },
  {
   "cell_type": "markdown",
   "id": "6867137d",
   "metadata": {
    "slideshow": {
     "slide_type": "slide"
    }
   },
   "source": [
    "## Day 3: OpenAI and Pinecone\n",
    "\n",
    "- https://www.youtube.com/watch?v=dRUIGgNBvVk\n",
    "    - https://github.com/pinecone-io/examples/blob/master/learn/generation/openai/openai-ml-qa/00-build-index.ipynb\n",
    "    - https://github.com/pinecone-io/examples/blob/master/learn/generation/openai/openai-ml-qa/01-making-queries.ipynb\n",
    "\n",
    "### Team projects\n",
    "- Divide into two-person teams and create a Question Answering system on [Scripture Mastery passages](https://www.churchofjesuschrist.org/study/manual/new-testament-seminary-teacher-manual/appendix/100-scripture-mastery-passages?lang=eng)"
   ]
  },
  {
   "cell_type": "markdown",
   "id": "e072e0c9",
   "metadata": {
    "slideshow": {
     "slide_type": "slide"
    }
   },
   "source": [
    "## Day 4: Answer questions on the project\n",
    "\n",
    "Bring your questions!"
   ]
  },
  {
   "cell_type": "markdown",
   "id": "1c6da0bd",
   "metadata": {
    "slideshow": {
     "slide_type": "slide"
    }
   },
   "source": [
    "## Day 5: Pair project presentations\n",
    "\n",
    "Each team will have 15 minutes to present their project."
   ]
  },
  {
   "cell_type": "markdown",
   "id": "f555e093",
   "metadata": {
    "slideshow": {
     "slide_type": "slide"
    }
   },
   "source": [
    "## Optional resources\n",
    "\n",
    "### Evaluation measures\n",
    "- https://www.youtube.com/watch?v=BD9TkvEsKwM\n",
    "    - https://www.pinecone.io/learn/offline-evaluation/\n",
    "    - https://github.com/pinecone-io/examples/blob/master/learn/experimental/algos-and-libraries/offline-evaluation/offline-evaluation.ipynb\n",
    "\n",
    "### Keyword search\n",
    "- https://www.youtube.com/watch?v=ziiF1eFM3_4\n",
    "    - https://www.pinecone.io/learn/semantic-search/#Vector-Similarity-Search\n",
    "    - https://github.com/pinecone-io/examples/blob/master/learn/experimental/semantic-search-intro/tfidf.ipynb\n",
    "    - https://github.com/pinecone-io/examples/blob/master/learn/experimental/semantic-search-intro/bm25.ipynb\n",
    "    - https://github.com/pinecone-io/examples/blob/master/learn/experimental/semantic-search-intro/sbert.ipynb\n",
    "\n",
    "### Dense embeddings and semantic search\n",
    "- https://www.youtube.com/watch?v=bVZJ_O_-0RE\n",
    "    - https://www.pinecone.io/learn/series/nlp/dense-vector-embeddings-nlp/\n",
    "- https://www.deeplearning.ai/short-courses/large-language-models-semantic-search/\n",
    "- Additional notebooks\n",
    "    - https://github.com/pinecone-io/examples/blob/master/learn/search/semantic-search/semantic-search.ipynb\n",
    "    - https://github.com/pinecone-io/examples/blob/master/learn/search/semantic-search/light-demo/light-demo.ipynb  \n",
    "\n",
    "### OpenAI and Pinecone\n",
    "- https://www.youtube.com/watch?v=ocxq84ocYi0\n",
    "    - https://github.com/pinecone-io/examples/blob/master/integrations/openai/semantic_search_openai.ipynb\n",
    "- https://www.youtube.com/watch?v=rrAChpbwygE\n",
    "    - https://www.pinecone.io/learn/openai-gen-qa/\n",
    "    - https://github.com/pinecone-io/examples/blob/master/learn/generation/openai/gen-qa-openai.ipynb    \n",
    "  "
   ]
  },
  {
   "cell_type": "markdown",
   "id": "a696d25a",
   "metadata": {
    "slideshow": {
     "slide_type": "slide"
    }
   },
   "source": [
    "## Homework\n",
    "\n",
    "Run the notebooks on your own and make sure you understand what's going on. \n",
    "\n",
    "Work on your team projects starting day 3 so you can present your solutions on day 5.\n",
    "\n",
    "Need help?\n",
    "- https://calendly.com/dallanq/help"
   ]
  }
 ],
 "metadata": {
  "celltoolbar": "Slideshow",
  "kernelspec": {
   "display_name": "PathwayInternshipPresentations",
   "language": "python",
   "name": "pathwayinternshippresentations"
  },
  "language_info": {
   "codemirror_mode": {
    "name": "ipython",
    "version": 3
   },
   "file_extension": ".py",
   "mimetype": "text/x-python",
   "name": "python",
   "nbconvert_exporter": "python",
   "pygments_lexer": "ipython3",
   "version": "3.11.4"
  }
 },
 "nbformat": 4,
 "nbformat_minor": 5
}
