{
 "cells": [
  {
   "cell_type": "markdown",
   "id": "91b4d2c7",
   "metadata": {
    "slideshow": {
     "slide_type": "slide"
    }
   },
   "source": [
    "# Week 10 day 1 - Review what you've learned\n",
    "\n",
    "You will spend today reviewing what you've learned the past few weeks. Tomorrow we will install and review the source code for I Love Conference, which is the code we will build upon for the group project."
   ]
  },
  {
   "cell_type": "markdown",
   "id": "c61a842d",
   "metadata": {
    "slideshow": {
     "slide_type": "slide"
    }
   },
   "source": [
    "## Front-end group\n",
    "\n",
    "Review Svelte and Sveltekit by rewatching videos or redoing the online tutorial\n",
    "\n",
    "- Svelte https://www.youtube.com/playlist?list=PLA9WiRZ-IS_ylnMYxIFCsZN6xVVSvLuHk\n",
    "- ToDo app https://www.youtube.com/playlist?list=PLA9WiRZ-IS_xz1M4H0fjZAii4vzRffTno\n",
    "- Sveltekit https://www.youtube.com/playlist?list=PLA9WiRZ-IS_zfHpxmztJQLeBISsQkh9-M\n",
    "- Blog https://www.youtube.com/watch?v=RhScu3uqGd0\n",
    "- Online tutorial: https://learn.svelte.dev"
   ]
  },
  {
   "cell_type": "markdown",
   "id": "962c7ef7",
   "metadata": {
    "slideshow": {
     "slide_type": "slide"
    }
   },
   "source": [
    "## Back-end group\n",
    "\n",
    "Review the LangChain notebooks\n",
    "\n",
    "- Basics https://www.deeplearning.ai/short-courses/langchain-for-llm-application-development/\n",
    "- Q&A https://learn.deeplearning.ai/langchain-chat-with-your-data\n",
    "- Pinecone https://www.youtube.com/watch?v=kvdVduIJsc8\n",
    "  - https://www.pinecone.io/learn/series/langchain/langchain-retrieval-augmentation/\n",
    "  - https://github.com/pinecone-io/examples/blob/master/learn/generation/langchain/handbook/05-langchain-retrieval-augmentation.ipynb"
   ]
  }
 ],
 "metadata": {
  "celltoolbar": "Slideshow",
  "kernelspec": {
   "display_name": "PathwayInternshipPresentations",
   "language": "python",
   "name": "pathwayinternshippresentations"
  },
  "language_info": {
   "codemirror_mode": {
    "name": "ipython",
    "version": 3
   },
   "file_extension": ".py",
   "mimetype": "text/x-python",
   "name": "python",
   "nbconvert_exporter": "python",
   "pygments_lexer": "ipython3",
   "version": "3.11.4"
  }
 },
 "nbformat": 4,
 "nbformat_minor": 5
}
