{
 "cells": [
  {
   "cell_type": "markdown",
   "id": "357488f0",
   "metadata": {
    "slideshow": {
     "slide_type": "slide"
    }
   },
   "source": [
    "# Week 6 - Frameworks\n",
    "\n",
    "As developers we never build anything from scratch. We build on top of things that others have built, so we can get more done. The things we build on top of are called **frameworks**. There are dozens if not hundreds of popular frameworks that people build upon. This week we will learn about two:\n",
    "\n",
    "- For front-end developers: Svelte\n",
    "- For back-end developers: LLMs"
   ]
  },
  {
   "cell_type": "markdown",
   "id": "1ac9c868",
   "metadata": {
    "slideshow": {
     "slide_type": "slide"
    }
   },
   "source": [
    "## Front-end development framework: Svelte\n",
    "\n",
    "This week you will be learning **Svelte**, a javascript framework for building web applications quickly and easily. Next week you will learn **Sveltekit**, which extends Svelte and makes it easy to build more complex applications."
   ]
  },
  {
   "cell_type": "markdown",
   "id": "9de8e11a",
   "metadata": {
    "slideshow": {
     "slide_type": "slide"
    }
   },
   "source": [
    "### Svelte official tutorial\n",
    "\n",
    "Go to the online tutorial at https://learn.svelte.dev and complete the following two sections. Plan to spend 3-4 days:\n",
    "- Part 1: Basic Svelte\n",
    "- Part 2: Advanced Svelte"
   ]
  },
  {
   "cell_type": "markdown",
   "id": "ba210ce3",
   "metadata": {
    "slideshow": {
     "slide_type": "slide"
    }
   },
   "source": [
    "### Svelte tutorials by Joy of Code\n",
    "\n",
    "I really like the videos by Joy of Code. Plan to spend 1-2 days watching his beginning svelte videos here: https://www.youtube.com/playlist?list=PLA9WiRZ-IS_ylnMYxIFCsZN6xVVSvLuHk \n",
    "\n",
    "And then create a simple ToDo app by following along the videos here: https://www.youtube.com/playlist?list=PLA9WiRZ-IS_xz1M4H0fjZAii4vzRffTno\n",
    "\n",
    "To set up the project on your laptop (video #3)\n",
    "- create a new directory\n",
    "- **cd** into that directory\n",
    "- install node 18 and use it in this directory: `rtx use node@18`\n",
    "- init vite `npm init vite@latest`\n",
    "- follow the rest of the instructions in the video"
   ]
  },
  {
   "cell_type": "markdown",
   "id": "4e1ea65d",
   "metadata": {
    "slideshow": {
     "slide_type": "slide"
    }
   },
   "source": [
    "## Back-end development: LLMs\n",
    "\n",
    "Ok, LLMs aren't really a framework, they're more of a technology. But you need to understand how to use LLM technology before you learn to use the LLM framework we'll introduce next week.\n",
    "\n",
    "I really like James Briggs' videos. He has a ton of videos from which I've selected the following for you to work through. When there are corresponding notebooks, I want you to go through the notebooks as well. Open the notebooks using the \"Open in Colab\" link at the top of each notebook."
   ]
  },
  {
   "cell_type": "markdown",
   "id": "810be292",
   "metadata": {
    "slideshow": {
     "slide_type": "slide"
    }
   },
   "source": [
    "### Back-end development: LLMs - Monday\n",
    "\n",
    "How dense and sparse vectors are used for search\n",
    "\n",
    "- https://www.youtube.com/watch?v=ziiF1eFM3_4\n",
    "    - https://www.pinecone.io/learn/semantic-search/#Vector-Similarity-Search\n",
    "    - https://github.com/pinecone-io/examples/blob/master/learn/semantic_search_intro/tfidf.ipynb\n",
    "    - https://github.com/pinecone-io/examples/blob/master/learn/semantic_search_intro/bm25.ipynb\n",
    "    - https://github.com/pinecone-io/examples/blob/master/learn/semantic_search_intro/sbert.ipynb\n",
    "- https://www.youtube.com/watch?v=bVZJ_O_-0RE\n",
    "    - https://www.pinecone.io/learn/series/nlp/dense-vector-embeddings-nlp/"
   ]
  },
  {
   "cell_type": "markdown",
   "id": "7035eaf5",
   "metadata": {
    "slideshow": {
     "slide_type": "slide"
    }
   },
   "source": [
    "### Back-end development: LLMs - Tuesday\n",
    "\n",
    "Semantic search with dense embeddings\n",
    "\n",
    "- https://www.youtube.com/watch?v=ocxq84ocYi0\n",
    "    - https://github.com/pinecone-io/examples/blob/master/integrations/openai/semantic_search_openai.ipynb\n",
    "- Additional notebooks\n",
    "    - https://github.com/pinecone-io/examples/blob/master/learn/semantic_text_search/semantic_text_search.ipynb\n",
    "    - https://github.com/pinecone-io/examples/blob/master/search/semantic-search/semantic-search.ipynb\n",
    "    - https://github.com/pinecone-io/examples/blob/master/search/semantic-search/light-demo/light-demo.ipynb"
   ]
  },
  {
   "cell_type": "markdown",
   "id": "6867137d",
   "metadata": {
    "slideshow": {
     "slide_type": "slide"
    }
   },
   "source": [
    "### Back-end development: LLMs - Wednesday\n",
    "\n",
    "Introduction to Question Answering\n",
    "\n",
    "- https://www.youtube.com/watch?v=-td57YvJdHc\n",
    "    - https://www.pinecone.io/learn/series/nlp/question-answering/\n",
    "    - https://github.com/pinecone-io/examples/blob/master/search/question-answering/extractive-question-answering.ipynb\n",
    "- https://www.youtube.com/watch?v=L8U-pm-vZ4c\n",
    "    - https://github.com/pinecone-io/examples/blob/master/search/question-answering/abstractive-question-answering.ipynb\n",
    "- Prompt Engineering\n",
    "    - https://github.com/pinecone-io/examples/blob/master/generation/prompt-engineering.ipynb"
   ]
  },
  {
   "cell_type": "markdown",
   "id": "2343ffc0",
   "metadata": {
    "slideshow": {
     "slide_type": "slide"
    }
   },
   "source": [
    "### Back-end development: LLMs - Thursday\n",
    "\n",
    "Deep-dive into Question Answering\n",
    "\n",
    "- https://www.youtube.com/watch?v=dRUIGgNBvVk\n",
    "    - https://github.com/pinecone-io/examples/blob/master/generation/generative-qa/openai-ml-qa/00-build-index.ipynb\n",
    "    - https://github.com/pinecone-io/examples/blob/master/generation/generative-qa/openai-ml-qa/01-making-queries.ipynb\n",
    "- https://www.youtube.com/watch?v=rrAChpbwygE\n",
    "    - https://www.pinecone.io/learn/openai-gen-qa/\n",
    "    - https://github.com/pinecone-io/examples/blob/master/generation/generative-qa/openai/gen-qa-openai/gen-qa-openai.ipynb"
   ]
  },
  {
   "cell_type": "markdown",
   "id": "e072e0c9",
   "metadata": {
    "slideshow": {
     "slide_type": "slide"
    }
   },
   "source": [
    "### Back-end development: LLMs - Friday\n",
    "\n",
    "ChatGPT and Evaluation Measures\n",
    "\n",
    "- Go to https://www.deeplearning.ai/short-courses/ and do the first two courses:\n",
    "    - ChatGPT Prompt Engineering for Developers\n",
    "    - Building Systems with the ChatGPT API\n",
    "- https://www.youtube.com/watch?v=BD9TkvEsKwM\n",
    "    - https://www.pinecone.io/learn/offline-evaluation/\n",
    "    - https://github.com/pinecone-io/examples/blob/master/learn/learn/algos-and-libraries/offline-evaluation/offline-evaluation.ipynb"
   ]
  }
 ],
 "metadata": {
  "celltoolbar": "Slideshow",
  "kernelspec": {
   "display_name": "PathwayInternshipPresentations",
   "language": "python",
   "name": "pathwayinternshippresentations"
  },
  "language_info": {
   "codemirror_mode": {
    "name": "ipython",
    "version": 3
   },
   "file_extension": ".py",
   "mimetype": "text/x-python",
   "name": "python",
   "nbconvert_exporter": "python",
   "pygments_lexer": "ipython3",
   "version": "3.11.4"
  }
 },
 "nbformat": 4,
 "nbformat_minor": 5
}
