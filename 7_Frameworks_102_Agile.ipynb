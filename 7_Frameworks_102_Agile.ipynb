{
 "cells": [
  {
   "cell_type": "markdown",
   "id": "086f9c5e",
   "metadata": {
    "slideshow": {
     "slide_type": "slide"
    }
   },
   "source": [
    "# Week 7 - Frameworks continued and Agile Development\n",
    "\n",
    "Last week we learned about **Svelte** and **LLMs**. This week we will learn about **Sveltekit**, which makes it easy to create more-complex front-end applications with multiple routes, and **LangChain** which makes it easy to create applications using LLMs.\n",
    "\n",
    "- For front-end developers: Sveltekit\n",
    "- For back-end developers: LangChain\n",
    "\n",
    "In addition, we will all learn about **Agile Development**"
   ]
  },
  {
   "cell_type": "markdown",
   "id": "e4b179dd",
   "metadata": {
    "slideshow": {
     "slide_type": "slide"
    }
   },
   "source": [
    "## Front-end development framework: Sveltekit\n",
    "\n",
    "Go to the online tutorial at https://learn.svelte.dev and complete the following two sections (2 days)\n",
    "- Part 3: Basic Sveltekit\n",
    "- Part 4: Advanced Sveltekit\n",
    "\n",
    "Next, go through Joy of Code's course on Youtube (1 day)\n",
    "- https://www.youtube.com/watch?v=MoGkX4RvZ38"
   ]
  },
  {
   "cell_type": "markdown",
   "id": "8aab6fda",
   "metadata": {
    "slideshow": {
     "slide_type": "slide"
    }
   },
   "source": [
    "## Back-end development framework: LangChain\n",
    "\n",
    "**LangChain** is a framework for creating applications that use LLMs.\n",
    "\n",
    "First, go to https://www.deeplearning.ai/short-courses/ and complete the following two courses (1 day)\n",
    "- LangChain for LLM Application Development\n",
    "- LangChain: Chat with Your Data\n",
    "\n",
    "Next, go through James Briggs' course (2 days)\n",
    "- https://www.youtube.com/playlist?list=PLIUOU7oqGTLieV9uTIFMm6_4PXg-hlN6F\n",
    "    - https://www.pinecone.io/learn/series/langchain/langchain-intro/\n",
    "    - https://github.com/pinecone-io/examples/tree/master/generation/langchain/handbook\n",
    "    "
   ]
  },
  {
   "cell_type": "markdown",
   "id": "8c084f98",
   "metadata": {
    "slideshow": {
     "slide_type": "slide"
    }
   },
   "source": [
    "## Everyone: Transition from learn --> apply what you've learned!\n",
    "\n",
    "We are now two months into the six month internship - about a third of the way.  Congratulations for making it this far!\n",
    "\n",
    "Up to this point you've focused on learning basic things to help you be a productive software developer. From now on you will use the skills and tools that you've learned to work on real-world live software projects.\n",
    "\n"
   ]
  },
  {
   "cell_type": "markdown",
   "id": "dc1b6f17",
   "metadata": {
    "slideshow": {
     "slide_type": "slide"
    }
   },
   "source": [
    "## Everyone: Agile project management\n",
    "\n",
    "**Agile** is a project management methodology, or a way to manage projects, that is very common in software development. We will use Agile during the rest of the internship. I believe this will help you be more productive as well as learn an important new skill. To familiarize yourself with Agile, read the following\n",
    "- https://business.adobe.com/blog/basics/agile\n",
    "\n",
    "And take the following course (2 days)\n",
    "- https://www.coursera.org/learn/agile-development-and-scrum\n",
    "\n",
    "**Optional:** If you want to learn even more about agile, including how to become an agile project manager, take the following course (25 hours)\n",
    "- https://www.coursera.org/learn/agile-project-management"
   ]
  }
 ],
 "metadata": {
  "celltoolbar": "Slideshow",
  "kernelspec": {
   "display_name": "PathwayInternshipPresentations",
   "language": "python",
   "name": "pathwayinternshippresentations"
  },
  "language_info": {
   "codemirror_mode": {
    "name": "ipython",
    "version": 3
   },
   "file_extension": ".py",
   "mimetype": "text/x-python",
   "name": "python",
   "nbconvert_exporter": "python",
   "pygments_lexer": "ipython3",
   "version": "3.11.4"
  }
 },
 "nbformat": 4,
 "nbformat_minor": 5
}
