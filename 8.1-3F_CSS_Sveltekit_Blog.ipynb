{
 "cells": [
  {
   "cell_type": "markdown",
   "id": "086f9c5e",
   "metadata": {
    "slideshow": {
     "slide_type": "slide"
    }
   },
   "source": [
    "# Week 8 (Front-End) - CSS and Sveltekit Blog\n",
    "\n",
    "This week you will learn a very simple CSS framework called Pico CSS and also learn how to use Sveltekit to create your own personal blog.\n",
    "\n",
    "In addition, you will all learn about **Agile Development**"
   ]
  },
  {
   "cell_type": "markdown",
   "id": "e4b179dd",
   "metadata": {
    "slideshow": {
     "slide_type": "slide"
    }
   },
   "source": [
    "## Day 1: Pico CSS\n",
    "\n",
    "CSS is hard. There are dozens of frameworks out there to try to make CSS easier. Pico CSS is not the most popular. But it is among the simplest.\n",
    "\n",
    "- Watch https://www.youtube.com/watch?v=-n84EMKIXQM\n",
    "- Review https://picocss.com/"
   ]
  },
  {
   "cell_type": "markdown",
   "id": "ef440651",
   "metadata": {
    "slideshow": {
     "slide_type": "slide"
    }
   },
   "source": [
    "## Day 2: Sveltekit blog\n",
    "\n",
    "A great way to show off your Sveltekit skills and add to your online portfolio is to create a blog. \n",
    "\n",
    "- Watch https://www.youtube.com/watch?v=RhScu3uqGd0\n",
    "- Review https://joyofcode.xyz/sveltekit-markdown-blog"
   ]
  },
  {
   "cell_type": "markdown",
   "id": "a1c97213",
   "metadata": {
    "slideshow": {
     "slide_type": "slide"
    }
   },
   "source": [
    "## Day 3: Enhance your blog\n",
    "\n",
    "You're on your own today to work on your blog. Play around with it and make it look wonderful! This is a chance to show off what you've learned about Svelte and Sveltekit.\n",
    "\n",
    "Need help?\n",
    "- https://calendly.com/dallanq/help"
   ]
  }
 ],
 "metadata": {
  "celltoolbar": "Slideshow",
  "kernelspec": {
   "display_name": "PathwayInternshipPresentations",
   "language": "python",
   "name": "pathwayinternshippresentations"
  },
  "language_info": {
   "codemirror_mode": {
    "name": "ipython",
    "version": 3
   },
   "file_extension": ".py",
   "mimetype": "text/x-python",
   "name": "python",
   "nbconvert_exporter": "python",
   "pygments_lexer": "ipython3",
   "version": "3.11.4"
  }
 },
 "nbformat": 4,
 "nbformat_minor": 5
}
