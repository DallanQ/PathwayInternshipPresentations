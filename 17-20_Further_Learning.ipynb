{
 "cells": [
  {
   "cell_type": "markdown",
   "id": "91b4d2c7",
   "metadata": {
    "slideshow": {
     "slide_type": "slide"
    }
   },
   "source": [
    "# Weeks 17-20 - Further Learning\n",
    "\n",
    "Under construction"
   ]
  },
  {
   "cell_type": "markdown",
   "id": "c61a842d",
   "metadata": {
    "slideshow": {
     "slide_type": "slide"
    }
   },
   "source": [
    "## Front end\n",
    "\n",
    "https://www.freecodecamp.org/learn/front-end-development-libraries/\n",
    "\n",
    "- Week 1: Bootstrap\n",
    "- Week 2+3: React\n",
    "- Week 4: Redux, React and Redux\n",
    "\n",
    "Optional\n",
    "- jQuery\n",
    "- SASS"
   ]
  },
  {
   "cell_type": "markdown",
   "id": "1e8dd2c2",
   "metadata": {
    "slideshow": {
     "slide_type": "slide"
    }
   },
   "source": [
    "## Back end\n",
    "\n",
    "- Week 1: Data Analysis and Numpy: https://www.freecodecamp.org/learn/data-analysis-with-python/ and Pandas: https://www.youtube.com/watch?v=gtjxAH8uaP0\n",
    "- Week 2+3: Fast.ai practical deep learning for coders: https://course.fast.ai/\n",
    "- Week 4: Huggingface NLP course: https://huggingface.co/learn/nlp-course and Fine-tuning large language models: https://www.deeplearning.ai/short-courses/finetuning-large-language-models/"
   ]
  },
  {
   "cell_type": "markdown",
   "id": "eb15b72f",
   "metadata": {
    "slideshow": {
     "slide_type": "slide"
    }
   },
   "source": [
    "## Back end - optional\n",
    "\n",
    "- Deep learning foundations to stable diffusion (ch 9-19): https://course.fast.ai/Lessons/part2.html (55h)\n",
    "- Deep learning foundations to stable diffusion (ch 20-25): https://course.fast.ai/Lessons/part2.html (30h)\n",
    "- Practical data science on AWS https://www.deeplearning.ai/courses/practical-data-science-specialization/ (34h)"
   ]
  }
 ],
 "metadata": {
  "celltoolbar": "Slideshow",
  "kernelspec": {
   "display_name": "PathwayInternshipPresentations",
   "language": "python",
   "name": "pathwayinternshippresentations"
  },
  "language_info": {
   "codemirror_mode": {
    "name": "ipython",
    "version": 3
   },
   "file_extension": ".py",
   "mimetype": "text/x-python",
   "name": "python",
   "nbconvert_exporter": "python",
   "pygments_lexer": "ipython3",
   "version": "3.11.4"
  }
 },
 "nbformat": 4,
 "nbformat_minor": 5
}
