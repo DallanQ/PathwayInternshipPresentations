{
 "cells": [
  {
   "cell_type": "markdown",
   "metadata": {
    "editable": true,
    "slideshow": {
     "slide_type": "slide"
    },
    "tags": []
   },
   "source": [
    "# Week 6 - Testing"
   ]
  },
  {
   "cell_type": "markdown",
   "metadata": {
    "editable": true,
    "jp-MarkdownHeadingCollapsed": true,
    "slideshow": {
     "slide_type": "slide"
    },
    "tags": []
   },
   "source": [
    "## What are tests, and why do we care?\n",
    "\n",
    "Tests are additional code that helps ensure that your program works correctly.\n",
    "\n",
    "Tests help ensure:\n",
    "\n",
    "- that the code you wrote works the way you think it should work, and\n",
    "- that it continues to work even after you make changes to it and other parts of your program."
   ]
  },
  {
   "cell_type": "markdown",
   "metadata": {
    "editable": true,
    "jp-MarkdownHeadingCollapsed": true,
    "slideshow": {
     "slide_type": "slide"
    },
    "tags": []
   },
   "source": [
    "## Unit and integration tests\n",
    "\n",
    "- Unit tests test that a single function works as expected\n",
    "- Integration tests test that multiple functions work together as expected\n",
    "\n",
    "You should write both kinds of tests. Whenever you run your program to make sure it is working correctly, think: \"Maybe I should turn what I am doing into a test.\""
   ]
  },
  {
   "cell_type": "markdown",
   "metadata": {
    "editable": true,
    "jp-MarkdownHeadingCollapsed": true,
    "slideshow": {
     "slide_type": "slide"
    },
    "tags": []
   },
   "source": [
    "## When to write tests?\n",
    "\n",
    "Two schools of thought:\n",
    "\n",
    "- Write your code, then write tests to verify that the code you just wrote works correctly\n",
    "- Test Driven Development (TDD): write your tests first, make sure they fail, then write your code to make the tests pass"
   ]
  },
  {
   "cell_type": "markdown",
   "metadata": {
    "editable": true,
    "jp-MarkdownHeadingCollapsed": true,
    "slideshow": {
     "slide_type": "slide"
    },
    "tags": []
   },
   "source": [
    "## How to write tests\n",
    "\n",
    "There are several test runners: unittest, pytest, nose2, etc.\n",
    "\n",
    "We'll use pytest as our test runner\n",
    "\n",
    "    poetry add pytest@latest --group dev\n",
    "\n",
    "By convention, we will put all of our tests in a `tests` subdirectory under the project root:\n",
    "\n",
    "    mkdir tests\n",
    "    touch tests/__init__.py"
   ]
  },
  {
   "cell_type": "markdown",
   "metadata": {
    "editable": true,
    "slideshow": {
     "slide_type": "slide"
    },
    "tags": []
   },
   "source": [
    "## How to write tests (continued)\n",
    "\n",
    "Here's a simple function in `myproject/mymodule.py` that we want to test:\n",
    "\n",
    "```\n",
    "def say_hello(name):\n",
    "    \"\"\"Return Hello name\"\"\"\n",
    "\n",
    "    return f\"Hello {name}\"\n",
    "```\n",
    "\n",
    "We test it by writing a function `test_say_hello` in `tests/test_mymodule.py` \n",
    "\n",
    "```\n",
    "from myproject.mymodule import say_hello\n",
    "\n",
    "def test_say_hello():\n",
    "    assert say_hello('World') == 'Hello World'\n",
    "```\n",
    "\n",
    "Alternatively, we can add a message to the assert statement that prints when the assertion fails:\n",
    "\n",
    "    assert say_hello('World') == 'Hello World', \"Should be Hello World\""
   ]
  },
  {
   "cell_type": "markdown",
   "metadata": {
    "editable": true,
    "slideshow": {
     "slide_type": "slide"
    },
    "tags": []
   },
   "source": [
    "## How to run tests\n",
    "\n",
    "Use pytest to run the tests. From the project root:\n",
    "\n",
    "    pytest\n",
    "\n",
    "That's all you need to do"
   ]
  },
  {
   "cell_type": "markdown",
   "metadata": {
    "editable": true,
    "jp-MarkdownHeadingCollapsed": true,
    "slideshow": {
     "slide_type": "slide"
    },
    "tags": []
   },
   "source": [
    "## BONUS: another way to write your tests\n",
    "\n",
    "Ask ChatGPT:\n",
    "\n",
    "Please write a pytest unit test for the following python function\n",
    "\n",
    "```\n",
    "def say_hello(name):\n",
    "    \"\"\"Return Hello name\"\"\"\n",
    "    \n",
    "    return f\"Hello {name}\"\n",
    "```"
   ]
  },
  {
   "cell_type": "markdown",
   "metadata": {
    "editable": true,
    "slideshow": {
     "slide_type": "slide"
    },
    "tags": []
   },
   "source": [
    "## BONUS: another way to write your tests (continued)\n",
    "\n",
    "ChatGPT responds with:\n",
    "\n",
    "Certainly! Below is an example of a Pytest unit test for the say_hello function:\n",
    "\n",
    "```\n",
    "# test_hello.py\n",
    "\n",
    "from my_module import say_hello\n",
    "\n",
    "def test_say_hello():\n",
    "    name = \"Alice\"\n",
    "    expected_result = \"Hello Alice\"\n",
    "    assert say_hello(name) == expected_result\n",
    "```"
   ]
  },
  {
   "cell_type": "code",
   "execution_count": null,
   "metadata": {
    "editable": true,
    "slideshow": {
     "slide_type": ""
    },
    "tags": []
   },
   "outputs": [],
   "source": []
  }
 ],
 "metadata": {
  "celltoolbar": "Slideshow",
  "kernelspec": {
   "display_name": "PathwayInternshipPresentations",
   "language": "python",
   "name": "pathwayinternshippresentations"
  },
  "language_info": {
   "codemirror_mode": {
    "name": "ipython",
    "version": 3
   },
   "file_extension": ".py",
   "mimetype": "text/x-python",
   "name": "python",
   "nbconvert_exporter": "python",
   "pygments_lexer": "ipython3",
   "version": "3.11.7"
  }
 },
 "nbformat": 4,
 "nbformat_minor": 4
}
