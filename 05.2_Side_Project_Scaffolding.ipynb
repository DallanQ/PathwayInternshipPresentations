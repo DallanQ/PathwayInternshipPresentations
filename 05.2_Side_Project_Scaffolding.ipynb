{
 "cells": [
  {
   "cell_type": "markdown",
   "id": "91b4d2c7",
   "metadata": {
    "slideshow": {
     "slide_type": "slide"
    }
   },
   "source": [
    "# Week 5 day 2 - Side-Project Scaffolding\n",
    "\n",
    "Just like construction engineers use scaffolding to help build buildings, software engineers use scaffolding to help build software"
   ]
  },
  {
   "cell_type": "markdown",
   "id": "6c2969e8",
   "metadata": {
    "slideshow": {
     "slide_type": "slide"
    }
   },
   "source": [
    "## Front-end scaffolding\n",
    "\n",
    "npm has the ability to \"scaffold\" - create a rough outline for a new project. Similar to week 1 day 3, to create a project named my-front-end-project (replace this name with whatever you want)\n",
    "\n",
    "    npm create svelte@latest my-front-end-project\n",
    "    \n",
    "When asked, select the following options\n",
    "\n",
    "- Skeleton project  <-- *this will create a blank template for your project*\n",
    "- Yes, using Typescript syntax\n",
    "- check all of the boxes: ESLint, Prettier, Playwrite, Vitest"
   ]
  },
  {
   "cell_type": "markdown",
   "id": "f83250d1",
   "metadata": {
    "slideshow": {
     "slide_type": "slide"
    }
   },
   "source": [
    "## Front-end scaffolding - continued\n",
    "\n",
    "Launch the project and set up git\n",
    "\n",
    "    cd my-front-end-project\n",
    "    npm install\n",
    "    npm run dev\n",
    "    \n",
    "    git init\n",
    "    git add .\n",
    "    git commit -m 'initial commit'\n",
    "    \n",
    "When you're ready, you can host the project on vercel using the instructions in week 1 day 3. \n",
    "\n",
    "You can also create a repo on github and push your project to github."
   ]
  },
  {
   "cell_type": "markdown",
   "id": "46dbb48e",
   "metadata": {
    "slideshow": {
     "slide_type": "slide"
    }
   },
   "source": [
    "## Back-end scaffolding\n",
    "\n",
    "Python doesn't have built-in scaffolding, so we'll create a project by hand.\n",
    "\n",
    "We're going to host the project on HuggingFace because that's where the cool kids are.\n",
    "\n",
    "1. Create a new huggingface space: https://huggingface.co/new-space?sdk=streamlit\n",
    "2. Follow the instructions to create a default app\n",
    "3. Follow the instructions to create a hot dog classifier: https://huggingface.co/docs/hub/spaces-sdks-streamlit"
   ]
  },
  {
   "cell_type": "markdown",
   "id": "14079897",
   "metadata": {
    "slideshow": {
     "slide_type": "slide"
    }
   },
   "source": [
    "## Back-end scaffolding - continued\n",
    "\n",
    "Run the hot dog classifier app locally.\n",
    "\n",
    "    cd ~/streamlit_demo\n",
    "    rtx use python@3.11\n",
    "    python -m venv .venv\n",
    "    source .venv/bin/activate.fish or source .venv/bin/activate\n",
    "    pip install streamlit\n",
    "    pip install -r requirements.txt\n",
    "    streamlit run app.py\n",
    "\n",
    "Now add, commit, and push to HuggingFace so you can run it on HuggingFace\n",
    "\n",
    "    nano .gitignore <-- add .venv\n",
    "    git add .\n",
    "    git commit -m 'hotdog or not'\n",
    "    git push"
   ]
  },
  {
   "cell_type": "markdown",
   "id": "85028eeb",
   "metadata": {
    "slideshow": {
     "slide_type": "slide"
    }
   },
   "source": [
    "### Gradio\n",
    "\n",
    "Gradio is an alternative to Streamlit that is easier to learn but more limited in functionality. Streamlit can be used to build model-calling applications (like recipe-generation or text summarization), or it can be used to build dashboards (like expense-tracking). But Gradio is only for model-calling applications.\n",
    "\n",
    "If you are interested in learning Gradio, here are some resources:\n",
    "\n",
    "https://huggingface.co/docs/hub/spaces-sdks-gradio\n",
    "\n",
    "https://www.deeplearning.ai/short-courses/building-generative-ai-applications-with-gradio/"
   ]
  },
  {
   "cell_type": "markdown",
   "id": "c15d423e",
   "metadata": {
    "slideshow": {
     "slide_type": "slide"
    }
   },
   "source": [
    "## Storage\n",
    "\n",
    "- If you deploy to vercel, vercel has several free storage (database) solutions available: https://vercel.com/guides/using-databases-with-vercel\n",
    "- You can get a free Redis server here: https://upstash.com/\n",
    "- You can get a free Postgres, MySql, or Redis server here: https://aiven.io/\n",
    "- You can get a free MongoDB database here: https://www.mongodb.com/atlas/database"
   ]
  },
  {
   "cell_type": "markdown",
   "id": "b09b13b8",
   "metadata": {
    "slideshow": {
     "slide_type": "slide"
    }
   },
   "source": [
    "## Need help?\n",
    "\n",
    "- https://calendly.com/dallanq/help"
   ]
  }
 ],
 "metadata": {
  "celltoolbar": "Slideshow",
  "kernelspec": {
   "display_name": "PathwayInternshipPresentations",
   "language": "python",
   "name": "pathwayinternshippresentations"
  },
  "language_info": {
   "codemirror_mode": {
    "name": "ipython",
    "version": 3
   },
   "file_extension": ".py",
   "mimetype": "text/x-python",
   "name": "python",
   "nbconvert_exporter": "python",
   "pygments_lexer": "ipython3",
   "version": "3.11.4"
  }
 },
 "nbformat": 4,
 "nbformat_minor": 5
}
