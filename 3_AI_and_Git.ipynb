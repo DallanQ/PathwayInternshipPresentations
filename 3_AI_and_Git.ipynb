{
 "cells": [
  {
   "cell_type": "markdown",
   "id": "19ac4e4f",
   "metadata": {
    "slideshow": {
     "slide_type": "slide"
    }
   },
   "source": [
    "# Week 3 - AI and Git\n",
    "\n",
    "This week is mostly on your own. You will learn about AI and Git.\n",
    "\n",
    "As you have questions, please ask on slack!"
   ]
  },
  {
   "cell_type": "markdown",
   "id": "f4398336",
   "metadata": {
    "slideshow": {
     "slide_type": "slide"
    }
   },
   "source": [
    "## AI for everyone\n",
    "\n",
    "Last week you learned about Prompt Engineering, where you learned how to get Large Language Models (LLMs) to do useful work. This week we will take a step back and learn about AI more generally. \n",
    "\n",
    "AI is a hot topic right now. It will be good for you to learn more about it. AI will impact nearly everyone's lives in the future.\n",
    "\n",
    "Complete the following course on AI this week. Watch the optional videos as well.\n",
    "\n",
    "https://www.deeplearning.ai/courses/ai-for-everyone/"
   ]
  },
  {
   "cell_type": "markdown",
   "id": "a53b5f8c",
   "metadata": {
    "slideshow": {
     "slide_type": "slide"
    }
   },
   "source": [
    "## Git\n",
    "\n",
    "Git is how software developers manage their source code so multiple developers can work on the same project together without stepping on each other's toes.\n",
    "\n",
    "Complete the following course on Git this week. Git may be complicated, but it's what nearly every software developer uses, so you need to get comfortable with it.\n",
    "\n",
    "https://www.coursera.org/learn/introduction-git-github?specialization=google-it-automation#modules "
   ]
  },
  {
   "cell_type": "markdown",
   "id": "8e046ebf",
   "metadata": {
    "slideshow": {
     "slide_type": "slide"
    }
   },
   "source": [
    "## Curiosity Presentation\n",
    "\n",
    "No presentations this week, but do continue to take time to study something you are curious about!"
   ]
  },
  {
   "cell_type": "markdown",
   "id": "84ff6145",
   "metadata": {
    "slideshow": {
     "slide_type": "slide"
    }
   },
   "source": [
    "## Review or read ahead\n",
    "\n",
    "This is a lighter week than previous weeks. \n",
    "\n",
    "Use this week to review something you may have had to skim from previous weeks or to get a head-start on next week!"
   ]
  }
 ],
 "metadata": {
  "celltoolbar": "Slideshow",
  "kernelspec": {
   "display_name": "PathwayInternshipPresentations",
   "language": "python",
   "name": "pathwayinternshippresentations"
  },
  "language_info": {
   "codemirror_mode": {
    "name": "ipython",
    "version": 3
   },
   "file_extension": ".py",
   "mimetype": "text/x-python",
   "name": "python",
   "nbconvert_exporter": "python",
   "pygments_lexer": "ipython3",
   "version": "3.11.4"
  }
 },
 "nbformat": 4,
 "nbformat_minor": 5
}
