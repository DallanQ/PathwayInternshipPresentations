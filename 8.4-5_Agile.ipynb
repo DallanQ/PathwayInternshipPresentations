{
 "cells": [
  {
   "cell_type": "markdown",
   "id": "086f9c5e",
   "metadata": {
    "slideshow": {
     "slide_type": "slide"
    }
   },
   "source": [
    "# Week 8 (Everyone) - Agile\n",
    "\n",
    "**Agile** is a project management methodology, or a way to manage projects, that is very common in software development. We will use Agile during the rest of the internship. I believe this will help you be more productive as well as learn an important new skill. "
   ]
  },
  {
   "cell_type": "markdown",
   "id": "dc1b6f17",
   "metadata": {
    "slideshow": {
     "slide_type": "slide"
    }
   },
   "source": [
    "## Day 4+5: Agile project management\n",
    "\n",
    "To familiarize yourself with Agile, read the following https://business.adobe.com/blog/basics/agile\n",
    "\n",
    "Also take the following course: https://www.coursera.org/learn/agile-development-and-scrum\n",
    "\n",
    "**Optional:** If you want to learn even more about agile, including how to become an agile project manager, take the following course (25 hours)\n",
    "- https://www.coursera.org/learn/agile-project-management"
   ]
  },
  {
   "cell_type": "markdown",
   "id": "3d1475ca",
   "metadata": {
    "slideshow": {
     "slide_type": "slide"
    }
   },
   "source": [
    "## Transition from learn --> apply what you've learned!\n",
    "\n",
    "We are now two months into the six month internship - about a third of the way.  Congratulations for making it this far!\n",
    "\n",
    "Up to this point you've focused on learning basic things to help you be a productive software developer. For the next six week you will apply the skills and tools that you've learned to a real-world software project."
   ]
  }
 ],
 "metadata": {
  "celltoolbar": "Slideshow",
  "kernelspec": {
   "display_name": "PathwayInternshipPresentations",
   "language": "python",
   "name": "pathwayinternshippresentations"
  },
  "language_info": {
   "codemirror_mode": {
    "name": "ipython",
    "version": 3
   },
   "file_extension": ".py",
   "mimetype": "text/x-python",
   "name": "python",
   "nbconvert_exporter": "python",
   "pygments_lexer": "ipython3",
   "version": "3.11.4"
  }
 },
 "nbformat": 4,
 "nbformat_minor": 5
}
