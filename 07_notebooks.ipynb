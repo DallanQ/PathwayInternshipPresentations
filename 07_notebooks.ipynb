{
 "cells": [
  {
   "cell_type": "markdown",
   "id": "66fb93fd",
   "metadata": {
    "editable": true,
    "slideshow": {
     "slide_type": "slide"
    },
    "tags": []
   },
   "source": [
    "# Week 7 - python repl and jupyter notebooks"
   ]
  },
  {
   "cell_type": "markdown",
   "id": "208d314e",
   "metadata": {
    "editable": true,
    "slideshow": {
     "slide_type": "slide"
    },
    "tags": []
   },
   "source": [
    "## Python repl (Read Eval Print Loop)\n",
    "\n",
    "The python repl (interactive shell) lets you write short python scripts and test them interactively\n",
    "\n",
    "    python\n",
    "    \n",
    "In the repl, type\n",
    "\n",
    "    for i in range(5):\n",
    "        print(i)\n",
    "        \n",
    "You should see the numbers 0 through 4 displayed on the screen.\n",
    "\n",
    "To exit the repl, type `exit()`"
   ]
  },
  {
   "cell_type": "markdown",
   "id": "1170d6f5",
   "metadata": {
    "editable": true,
    "slideshow": {
     "slide_type": "slide"
    },
    "tags": []
   },
   "source": [
    "## Jupyter notebooks\n",
    "\n",
    "Jupyter notebooks are a fantastic way to explore python programming! They're like the python repl on steroids.\n",
    "\n",
    "First install jupyter lab, then launch a poetry shell:\n",
    "\n",
    "    poetry add jupyterlab --group dev\n",
    "    poetry shell\n",
    "\n",
    "### Or if you are using venv and pip:\n",
    "\n",
    "First install jupyter lab, and then add your virtual environmet to jupyter:\n",
    "\n",
    "    source .venv/bin/activate\n",
    "    pip install jupyterlab\n",
    "    python -m ipykernel install --user --name myproject"
   ]
  },
  {
   "cell_type": "markdown",
   "id": "5f267695",
   "metadata": {
    "editable": true,
    "slideshow": {
     "slide_type": "slide"
    },
    "tags": []
   },
   "source": [
    "## Using jupyter notebooks\n",
    "\n",
    "Launch jupyter notebooks by typing\n",
    "\n",
    "    jupyter lab\n",
    "    \n",
    "Control-click on the `http://localhost:8888...` link. You should see your project directory open in your browser.\n",
    "\n",
    "Create a new notebook by clicking on the **+** button at the top-left and selet the **Python 3** kernel.\n",
    "\n",
    "If you use venv and pip, select the **myproject** kernel that contains the virtual environment you just created for your project instead.\n",
    "\n",
    "Finally, rename your notebook by clicking on the **File** menu and then clicking on **Rename notebook**.\n",
    "\n",
    "Congratulations! You have just created your first jupyter notebook!"
   ]
  },
  {
   "cell_type": "markdown",
   "id": "598b31c2",
   "metadata": {
    "editable": true,
    "slideshow": {
     "slide_type": "slide"
    },
    "tags": []
   },
   "source": [
    "## Using jupyter notebooks - continued\n",
    "\n",
    "Type the following into the first cell and press **shift-enter**. \n",
    "\n",
    "    for i in range(5):\n",
    "        print(i)\n",
    "    \n",
    "What do you see?\n",
    "\n",
    "Each time you press shift-enter on a cell, jupyter executes the code in the cell"
   ]
  },
  {
   "cell_type": "markdown",
   "id": "80a368e2",
   "metadata": {
    "editable": true,
    "slideshow": {
     "slide_type": "slide"
    },
    "tags": []
   },
   "source": [
    "## Using jupyter notebooks - continued\n",
    "\n",
    "Your cursor should now be on the cell below the first cell. Change the **Code** dropdown at the top of the notebook to **Markdown**, enter the following in the cell, and press **shift-enter**\n",
    "\n",
    "    ## This is a header\n",
    "    This is text\n",
    "    \n",
    "What do you see?  Jupyter notebook cells can hold python code or markdown text."
   ]
  },
  {
   "cell_type": "markdown",
   "id": "e5501a65",
   "metadata": {
    "editable": true,
    "slideshow": {
     "slide_type": "slide"
    },
    "tags": []
   },
   "source": [
    "## Running notebooks using VS Code\n",
    "\n",
    "It is also possible to use VS Code to edit jupyter notebooks. This has a lot of advantages, including syntax highlighting and auto-completion. Here's how it works:\n",
    "\n",
    "Launch VS Code from Windows and open your python project\n",
    "\n",
    "Create a notebook file, such as **Example.ipynb**. Then tell VS Code which kernel you want to use:\n",
    "\n",
    "- **control-shift-P**: **Notebook: Select Notebook Kernel**\n",
    "- choose **Python environments**\n",
    "- choose **.venv**\n",
    "\n",
    "Congratulations! You can now use VS Code to run your notebook."
   ]
  },
  {
   "cell_type": "markdown",
   "id": "cc6a6c59",
   "metadata": {
    "editable": true,
    "slideshow": {
     "slide_type": "slide"
    },
    "tags": []
   },
   "source": [
    "## Additional information\n",
    "\n",
    "Here are a few videos with more information about running notebooks:\n",
    "\n",
    "https://www.youtube.com/watch?v=DA6ZAHBPF1U\n",
    "\n",
    "https://www.youtube.com/watch?v=IBdhwrfgP9c\n",
    "\n",
    "https://www.youtube.com/watch?v=HW29067qVWk"
   ]
  },
  {
   "cell_type": "markdown",
   "id": "1d0c5af2",
   "metadata": {
    "editable": true,
    "slideshow": {
     "slide_type": "slide"
    },
    "tags": []
   },
   "source": [
    "## Tip: Be tenacious\n",
    "\n",
    "One of the things that separates good software engineers from less-good ones is tenacity, or grit. Writing software is **hard**. If it were easy, it wouldn't pay as well. 😁 By now you've all had experiences where you felt like banging your head against a wall. We've all had lots of these experiences. Don't give up!  Keep banging your head against the wall until that wall crumbles before your greatness! When at long last it finally crumbles, and it almost always does, you get to do (as one of my friends says) **the engineer happy dance!**\n",
    "\n",
    "Software developers are some of the most helpful people I know, probably because we've all been there banging our heads against a wall. Scour the internet looking for answers, and also..."
   ]
  },
  {
   "cell_type": "markdown",
   "id": "eb7f8025",
   "metadata": {
    "editable": true,
    "slideshow": {
     "slide_type": "slide"
    },
    "tags": []
   },
   "source": [
    "## Tip: Help each other\n",
    "\n",
    "Finally, help each other! Helping others solidifies your learning. It warms my heart when I see you helping each other. I hope you create lifelong friendships and connections during this internship. I have gone my entire career without ever having to submit a resume to a stranger to get a job. Always, a friend has helped me. And friends are still helping me keep up with the latest technology developments.\n",
    "\n",
    "I can't tell you how much the friends I've made through work mean to me."
   ]
  },
  {
   "cell_type": "code",
   "execution_count": null,
   "id": "36d1cfe3-ea33-4a42-affc-b1fbcf497c20",
   "metadata": {},
   "outputs": [],
   "source": []
  }
 ],
 "metadata": {
  "celltoolbar": "Slideshow",
  "kernelspec": {
   "display_name": "Python 3 (ipykernel)",
   "language": "python",
   "name": "python3"
  },
  "language_info": {
   "codemirror_mode": {
    "name": "ipython",
    "version": 3
   },
   "file_extension": ".py",
   "mimetype": "text/x-python",
   "name": "python",
   "nbconvert_exporter": "python",
   "pygments_lexer": "ipython3",
   "version": "3.11.7"
  }
 },
 "nbformat": 4,
 "nbformat_minor": 5
}
