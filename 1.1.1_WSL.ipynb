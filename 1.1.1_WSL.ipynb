{
 "cells": [
  {
   "cell_type": "markdown",
   "metadata": {
    "slideshow": {
     "slide_type": "slide"
    }
   },
   "source": [
    "# Goal: Install Windows Subsystem for Linux (WSL)\n",
    "\n",
    "Today you will turn your laptop into a professional development machine"
   ]
  },
  {
   "cell_type": "markdown",
   "metadata": {
    "slideshow": {
     "slide_type": "slide"
    }
   },
   "source": [
    "## Step 1: Install WSL\n",
    "\n",
    "We will follow the steps in this document: https://learn.microsoft.com/en-us/windows/wsl/setup/environment I encourage you to read it for more information.\n",
    "\n",
    "Open a command window (type \"cmd\" in the search bar at the bottom left) and enter the following into the command window\n",
    "\n",
    "    wsl --install"
   ]
  },
  {
   "cell_type": "markdown",
   "metadata": {
    "slideshow": {
     "slide_type": "slide"
    }
   },
   "source": [
    "## Step 2: Set up WSL\n",
    "\n",
    "Create your Linux username and password\n",
    "- your username should be short\n",
    "- try to use only letters a-z or numbers 0-9\n",
    "\n",
    "Update and upgrade packages\n",
    "\n",
    "    sudo apt update && sudo apt upgrade\n"
   ]
  },
  {
   "cell_type": "markdown",
   "metadata": {
    "slideshow": {
     "slide_type": "slide"
    }
   },
   "source": [
    "## What just happened?\n",
    "\n",
    "Your computer now has two operating systems available: Windows (the default) and Ubuntu Linux.\n",
    "\n",
    "Both operating systems can run on your computer at the same time.\n",
    "\n",
    "You start Ubuntu by clicking on the Start icon in the lower-left corner and selecting the \"Ubuntu\" icon."
   ]
  },
  {
   "cell_type": "markdown",
   "metadata": {
    "slideshow": {
     "slide_type": "slide"
    }
   },
   "source": [
    "## About File systems\n",
    "\n",
    "Each operating system has its own file system, but can access files on the other operating system.\n",
    "\n",
    "From Ubuntu, your home directory is `/home/<your Ubuntu username>` and you can access the files on Windows at `/mnt/c/<your Windows username>`\n",
    "    \n",
    "From Windows, your home directory is `C:\\Users\\<your Windows username>` and you can access the files on Ubuntu at `\\\\wsl.localhost\\Ubuntu\\home\\<your Ubuntu username>`\n",
    "    \n",
    "But when using one operating system, I recommend not accessing files on the other operating system's file system unless you need to.\n",
    "\n",
    "In general, you'll use the Ubuntu file system for development work."
   ]
  },
  {
   "cell_type": "markdown",
   "metadata": {
    "slideshow": {
     "slide_type": "slide"
    }
   },
   "source": [
    "## Step 3: Set up Windows Terminal\n",
    "\n",
    "Open Microsoft Store (type \"store\" in the search bar at the bottom left) and install \"Windows Terminal\" (*not* the preview version).\n",
    "\n",
    "Windows Terminal lets you have multiple terminal windows open in different tabs, similarly to how you can have multiple browser tabs open in a browser.\n",
    "\n",
    "If you want, you can edit your terminal settings (click the down-arrow at the top of the terminal window), change the \"Default profile\" to \"Ubuntu\", and change the \"Default terminal application\" to \"Windows termainal\".\n",
    "\n",
    "If you don't do this, you will need to launch \"Ubuntu\" before starting the terminal, type `wsl` in the terminal window to access the \"Ubuntu\" operating system, and type `cd /home/<your Ubuntu username>` to go to your home directory in Ubuntu."
   ]
  },
  {
   "cell_type": "markdown",
   "metadata": {
    "slideshow": {
     "slide_type": "slide"
    }
   },
   "source": [
    "## Step 4: Install VS Code\n",
    "\n",
    "We will follow the steps in this document: https://learn.microsoft.com/en-us/windows/wsl/tutorials/wsl-vscode I encourage you to read it for more information.\n",
    "\n",
    "Download and install VS Code from https://code.visualstudio.com/download\n",
    "\n",
    "When prompted to \"Select Additional Tasks\", make sure the \"Add to PATH\" option is checked.\n",
    "\n",
    "Launch VS Code, click the \"Extensions\" icon on the left, and install the \"Remote Development\" extension pack."
   ]
  },
  {
   "cell_type": "markdown",
   "metadata": {
    "slideshow": {
     "slide_type": "slide"
    }
   },
   "source": [
    "### Here's something to blow your mind  😆\n",
    "\n",
    "When you install the Remote Development extension pack, VS Code actually installs a VS Code server in the Ubuntu operating system. The VS Code client that you run in Windows communicates with the VS Code server running in Ubuntu. This allows VS Code to access your Ubuntu file system. It's similar to a browser running on your laptop that connects to a server running someplace else on the Internet."
   ]
  },
  {
   "cell_type": "markdown",
   "metadata": {
    "slideshow": {
     "slide_type": "slide"
    }
   },
   "source": [
    "## Step 5: Update your Linux Distribution and Restart\n",
    "\n",
    "    sudo apt-get install wget ca-certificates\n",
    "    \n",
    "**Restart your laptop**"
   ]
  },
  {
   "cell_type": "markdown",
   "metadata": {
    "slideshow": {
     "slide_type": "slide"
    }
   },
   "source": [
    "## Step 6: Install Git\n",
    "\n",
    "We will follow the steps in this document: https://learn.microsoft.com/en-us/windows/wsl/tutorials/wsl-git I encourage you to read it for more information.\n",
    "\n",
    "### Install Git in Ubuntu\n",
    "\n",
    "    sudo apt-get install git\n",
    "    \n",
    "### Also install Git in Windows\n",
    "\n",
    "Download from https://git-scm.com/download/win and run the installer.\n",
    "\n",
    "Select \"Notepad\" as the default Git editor. You can leave the rest of the defaults as they are."
   ]
  },
  {
   "cell_type": "markdown",
   "metadata": {
    "slideshow": {
     "slide_type": "slide"
    }
   },
   "source": [
    "## Step 7: Create a Github account\n",
    "\n",
    "Create an account on https://www.github.com if you don't already have one."
   ]
  },
  {
   "cell_type": "markdown",
   "metadata": {
    "slideshow": {
     "slide_type": "slide"
    }
   },
   "source": [
    "## Step 8: Configure Git\n",
    "\n",
    "    git config --global user.name \"Your full name (not username)\"\n",
    "    \n",
    "    git config --global user.email \"Your email address\""
   ]
  },
  {
   "cell_type": "markdown",
   "metadata": {
    "slideshow": {
     "slide_type": "slide"
    }
   },
   "source": [
    "## Step 9: Set up Git Credential Manager\n",
    "\n",
    "    git config --global credential.helper \"/mnt/c/Program\\ Files/Git/mingw64/bin/git-credential-manager.exe\"\n",
    "\n",
    "The path after credential.helper is \"/mnt/c/Program\\ Files/Git/mingw64/bin/git-credential-manager.exe\"\n",
    "\n",
    "Don't forget the \\ and a space before the word \"Files\"\n",
    "\n",
    "Also set it up in windows by opening a Windows command prompt:\n",
    "\n",
    "    git config --global credential.helper wincred"
   ]
  },
  {
   "cell_type": "markdown",
   "metadata": {
    "slideshow": {
     "slide_type": "slide"
    }
   },
   "source": [
    "## Step 10: Create a source code repo and download it\n",
    "\n",
    "Go to https://www.github.com and create a new repository called \"Test\". Add a description and check the box to add a Readme file, then create the reponsitory.\n",
    "\n",
    "Copy the repo from Github to your local machine.\n",
    "\n",
    "    git clone https://github.com/<your github username>/Test"
   ]
  },
  {
   "cell_type": "markdown",
   "metadata": {
    "slideshow": {
     "slide_type": "slide"
    }
   },
   "source": [
    "## Step 11: Update your new source code repo\n",
    "\n",
    "Edit the Readme file\n",
    "\n",
    "    cd Test\n",
    "    nano README.md\n",
    "    \n",
    "Add your name to the Readme file, type Control-X to quit, and save the file.\n",
    "\n",
    "Add your change to git, commit your change, and push your change to Github.\n",
    "\n",
    "    git add .\n",
    "    \n",
    "    git commit -m \"Test edit\"\n",
    "    \n",
    "    git push\n",
    "    \n",
    "You should now see your name in your Readme file on Github!"
   ]
  },
  {
   "cell_type": "markdown",
   "metadata": {
    "slideshow": {
     "slide_type": "slide"
    }
   },
   "source": [
    "## Step 12: That's it for today!\n",
    "\n",
    "Congratulate yourself! \n",
    "\n",
    "We will learn more about Ubuntu, VS Code, and Git in future lessons."
   ]
  }
 ],
 "metadata": {
  "celltoolbar": "Slideshow",
  "kernelspec": {
   "display_name": "PathwayInternshipPresentations",
   "language": "python",
   "name": "pathwayinternshippresentations"
  },
  "language_info": {
   "codemirror_mode": {
    "name": "ipython",
    "version": 3
   },
   "file_extension": ".py",
   "mimetype": "text/x-python",
   "name": "python",
   "nbconvert_exporter": "python",
   "pygments_lexer": "ipython3",
   "version": "3.11.4"
  }
 },
 "nbformat": 4,
 "nbformat_minor": 4
}
