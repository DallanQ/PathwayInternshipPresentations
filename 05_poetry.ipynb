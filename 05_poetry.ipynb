{
 "cells": [
  {
   "cell_type": "markdown",
   "metadata": {
    "slideshow": {
     "slide_type": "slide"
    }
   },
   "source": [
    "# Week 5 - Managing depdendencies using poetry"
   ]
  },
  {
   "cell_type": "markdown",
   "metadata": {
    "slideshow": {
     "slide_type": "slide"
    }
   },
   "source": [
    "## What is poetry?\n",
    "\n",
    "Poetry is a (better) alternative to venv and pip that we will use for the group project later this Summer. You may use it for your personal projects as well. It takes a bit more work to set up than venv and pip, but it has some nice features that I believe are worth the extra effort. \n",
    "\n",
    "https://python-poetry.org/"
   ]
  },
  {
   "cell_type": "markdown",
   "metadata": {
    "slideshow": {
     "slide_type": "slide"
    },
    "tags": []
   },
   "source": [
    "## Install poetry\n",
    "\n",
    "    curl -sSL https://install.python-poetry.org | python3 -\n",
    "    \n",
    "    poetry config virtualenvs.in-project true\n",
    "    \n",
    "The poetry config line tells poetry to create virtual environments in a .venv subdirectory, just like venv.\n",
    "\n",
    "Don't check the .venv directory into git (add `.venv` to your .gitignore file)."
   ]
  },
  {
   "cell_type": "markdown",
   "metadata": {
    "slideshow": {
     "slide_type": "slide"
    },
    "tags": []
   },
   "source": [
    "### Configure auto-completions (optional)\n",
    "\n",
    "Auto-completions give you suggested completions when you hit tab after typing poetry in the terminal. Once you've enabled them by following the instructions below, you will need to open a new terminal for them to take effect.\n",
    "\n",
    "- bash: `poetry completions bash >> ~/.bash_completion`\n",
    "- fish: `poetry completions fish > ~/.config/fish/completions/poetry.fish`\n",
    "- zsh: https://python-poetry.org/docs/#zsh\n",
    "    - `mkdir ~/.zfunc`\n",
    "    - `poetry completions zsh > ~/.zfunc/_poetry`\n",
    "    - add the following lines to .zshrc\n",
    "        - fpath+=~/.zfunc\n",
    "\t\t- autoload -Uz compinit && compinit"
   ]
  },
  {
   "cell_type": "markdown",
   "metadata": {
    "jp-MarkdownHeadingCollapsed": true,
    "slideshow": {
     "slide_type": "slide"
    },
    "tags": []
   },
   "source": [
    "## Set up a project to use poetry\n",
    "\n",
    "    cd myproject\n",
    "    mise use python@3.??\n",
    "    poetry init\n",
    "    \n",
    "You will be asked a few questions about your name and the name and description of your project. When asked if you would like to define your main or development dependencies interactively, answer no both times.\n",
    "\n",
    "This creates a `pyproject.toml` file, which is similar to `package.json` for node."
   ]
  },
  {
   "cell_type": "markdown",
   "metadata": {
    "jp-MarkdownHeadingCollapsed": true,
    "slideshow": {
     "slide_type": "slide"
    },
    "tags": []
   },
   "source": [
    "## Add dependencies\n",
    "\n",
    "    poetry add mydependency\n",
    "    \n",
    "This installs mydependency to your poetry virtual environment, similar to pip install, and it also adds the dependency to your `pyproject.toml` file so you don't have to run pip freeze afterward.\n",
    "\n",
    "Note that poetry uses `pyproject.toml` to track dependencies. It does not use `requirements.txt`.\n",
    "\n",
    "Note also that you can add dependencies even if you haven't yet activated the poetry virtual environment."
   ]
  },
  {
   "cell_type": "markdown",
   "metadata": {
    "jp-MarkdownHeadingCollapsed": true,
    "slideshow": {
     "slide_type": "slide"
    },
    "tags": []
   },
   "source": [
    "## Activate the poetry virtual environment\n",
    "\n",
    "The easiest way to activate the virtual environment is to type\n",
    "\n",
    "    poetry shell\n",
    "    \n",
    "This creates a sub-shell that has the dependencies in `pyproject.toml` installed. To deactivate, simply exit the sub-shell by typing `exit`."
   ]
  },
  {
   "cell_type": "markdown",
   "metadata": {
    "slideshow": {
     "slide_type": "slide"
    },
    "tags": []
   },
   "source": [
    "## Install all dependencies in pyproject.toml\n",
    "\n",
    "    poetry install\n",
    "    \n",
    "This installs all dependencies in `pyproject.toml`. If a `poetry.lock` file exists, it will install the versions of the dependencies that are specified in the poetry.lock file, similar to how npm works. \n",
    "\n",
    "If `poetry.lock` does not exist, poetry creates it.\n",
    "\n",
    "You will want to check both files `pyproject.toml` and `poetry.lock` into git."
   ]
  },
  {
   "cell_type": "markdown",
   "metadata": {
    "slideshow": {
     "slide_type": "slide"
    },
    "tags": []
   },
   "source": [
    "## Use your virtual environment in VS Code\n",
    "\n",
    "To select the poetry virtual environment in VS Code, type **control-shift-p** to open the command palette, followed by **python: select interpreter**, and click on **('.venv': poetry)**"
   ]
  },
  {
   "cell_type": "markdown",
   "metadata": {
    "slideshow": {
     "slide_type": "slide"
    },
    "tags": []
   },
   "source": [
    "## Other helpful poetry commands\n",
    "\n",
    "- `poetry update`  update all dependencies in pyproject.toml to their latest versions.\n",
    "- `poetry help`  get help\n",
    "\n",
    "Poetry has a lot of other features as well. If you want to learn more, the documentation on their website is pretty good: https://python-poetry.org/"
   ]
  },
  {
   "cell_type": "code",
   "execution_count": null,
   "metadata": {
    "slideshow": {
     "slide_type": ""
    },
    "tags": []
   },
   "outputs": [],
   "source": []
  }
 ],
 "metadata": {
  "celltoolbar": "Slideshow",
  "kernelspec": {
   "display_name": "PathwayInternshipPresentations",
   "language": "python",
   "name": "pathwayinternshippresentations"
  },
  "language_info": {
   "codemirror_mode": {
    "name": "ipython",
    "version": 3
   },
   "file_extension": ".py",
   "mimetype": "text/x-python",
   "name": "python",
   "nbconvert_exporter": "python",
   "pygments_lexer": "ipython3",
   "version": "3.11.7"
  }
 },
 "nbformat": 4,
 "nbformat_minor": 4
}
