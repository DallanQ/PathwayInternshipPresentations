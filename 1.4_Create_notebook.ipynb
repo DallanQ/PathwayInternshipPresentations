{
 "cells": [
  {
   "cell_type": "markdown",
   "id": "8fa8d1db",
   "metadata": {
    "slideshow": {
     "slide_type": "slide"
    }
   },
   "source": [
    "# Week 1 day 4 - Create a presentation using a Jupyter notebook\n",
    "\n",
    "During this internship you will give a 15-minute presentation on something you've learned each week, starting in week 4.\n",
    "\n",
    "You will be expected to use Jupyter Notebooks for these presentations. \n",
    "\n",
    "Today you will create an example presentation using a jupyter notebook."
   ]
  },
  {
   "cell_type": "markdown",
   "id": "00b2ca2d",
   "metadata": {
    "slideshow": {
     "slide_type": "slide"
    }
   },
   "source": [
    "## Create a new Github repo for your presentations\n",
    "\n",
    "\n",
    "Create a new repo for your presentations on Github, just like you did for your Test repo on day 1. \n",
    "\n",
    "Call the repo **presentations**\n",
    "\n",
    "Clone your presentations repo\n",
    "\n",
    "    git clone https://github.com/<your github username>/presentations\n",
    "    \n",
    "Change your current directory to your new presentations directory\n",
    "\n",
    "    cd presentations"
   ]
  },
  {
   "cell_type": "markdown",
   "id": "33310473",
   "metadata": {
    "slideshow": {
     "slide_type": "slide"
    }
   },
   "source": [
    "## Tools of the trade: RTX\n",
    "\n",
    "Install python 3.11 in your presentations directory.\n",
    "\n",
    "    rtx use python@3.11\n",
    "    \n",
    "From now on, whenever your current directory is your presentations directory, you will be using python 3.11"
   ]
  },
  {
   "cell_type": "markdown",
   "id": "4929ab67",
   "metadata": {
    "slideshow": {
     "slide_type": "slide"
    }
   },
   "source": [
    "### Verify you are using python 3.11 in your presentations directory\n",
    "\n",
    "\n",
    "First, change back to your home directory. You may not have python installed in this directory\n",
    "\n",
    "    cd ~\n",
    "    \n",
    "    python --version\n",
    "\n",
    "Now change to your presentations directory. The python version should be 3.11 because of the .rtx.toml file\n",
    "\n",
    "    cd presentations\n",
    "\n",
    "    python --version\n",
    "    \n",
    "    cat .rtx.toml   "
   ]
  },
  {
   "cell_type": "markdown",
   "id": "8c5af16f",
   "metadata": {
    "slideshow": {
     "slide_type": "slide"
    }
   },
   "source": [
    "## Tools of the trade: venv and virtual environments\n",
    "\n",
    "Venv creates *virtual environments*. Virtual environments allow you to install one set of python dependencies in one project, and a completely different set of python depdendencies in a different project without them conflicting with each other.\n",
    "\n",
    "First, use venv to create a new python environment in a `.venv` subdirectory under presentations\n",
    "\n",
    "    python -m venv .venv\n",
    "    \n",
    "Next, activate the new python environment. Python depdendencies are installed in the active environment\n",
    "\n",
    "    source .venv/bin/activate.fish\n",
    "    \n",
    "Deactivate your python environment when you want to use another one\n",
    "\n",
    "    deactivate"
   ]
  },
  {
   "cell_type": "markdown",
   "id": "f722577a",
   "metadata": {
    "slideshow": {
     "slide_type": "slide"
    }
   },
   "source": [
    "## Tools of the trade: Pip\n",
    "\n",
    "Pip is a package manager for python.  You use it to install python dependencies for the programs you create. (Later we will learn about Poetry, another package manager for python.)\n",
    "\n",
    "First use pip to install the Jupyter notebook package. (We'll install version 6.5.4, because RISE doesn't work under version 7)\n",
    "\n",
    "    pip install notebook==6.5.4\n",
    "    \n",
    "Next install RISE. \n",
    "\n",
    "    pip install rise"
   ]
  },
  {
   "cell_type": "markdown",
   "id": "fae50cb3",
   "metadata": {
    "slideshow": {
     "slide_type": "slide"
    }
   },
   "source": [
    "## Tools of the trade: requirements.txt\n",
    "\n",
    "If you want to share your project with others, they need to *pip install* the same versinos of the dependencies that you've installed. The convension is to list all dependencies, along with their versions, in a *requirements.txt* file.\n",
    "\n",
    "    pip freeze | grep \"notebook==\" >> requirements.txt\n",
    "    \n",
    "    pip freeze | grep \"rise==\" >> requirements.txt\n",
    "\n",
    "Let's take a look at that file. You can see the two dependencies you installed along with their version numbers\n",
    "\n",
    "    cat requirements.txt\n",
    "    \n",
    "Others can now install the same depdendencies and versions by running\n",
    "\n",
    "    pip install -r requirements.txt\n",
    "    \n",
    "Poetry, an alternative to pip that we will learn about later, makes this easier."
   ]
  },
  {
   "cell_type": "markdown",
   "id": "30647e46",
   "metadata": {
    "slideshow": {
     "slide_type": "slide"
    }
   },
   "source": [
    "## Tools of the trade: Python Read-Eval-Print-Loop (repl)\n",
    "\n",
    "The python repl (interactive shell) lets you write short python scripts and test them interactively\n",
    "\n",
    "    python\n",
    "    \n",
    "In the repl, type\n",
    "\n",
    "    for i in range(5):\n",
    "        print(i)\n",
    "        \n",
    "And hit enter a couple of times. You should see 0 through 4 displayed on the screen\n",
    "\n",
    "To exit the repl, type `exit()`"
   ]
  },
  {
   "cell_type": "markdown",
   "id": "e8a98a9e",
   "metadata": {
    "slideshow": {
     "slide_type": "slide"
    }
   },
   "source": [
    "## Tools of the trade: Jupyter\n",
    "\n",
    "Jupyter notebooks are a fantastic way to explore python programming! They're like the python repl on steroids.\n",
    "\n",
    "First, add your new virtual environment to jupyter. You need to do this each time you create a new project with a new virtual environment\n",
    "\n",
    "    python -m ipykernel install --user --name presentations\n",
    "    \n",
    "Next, launch jupyter\n",
    "\n",
    "    jupyter notebook\n",
    "    \n",
    "Control-click on the `http://localhost:8888...` link. You should see your presentations directory open in your browser."
   ]
  },
  {
   "cell_type": "markdown",
   "id": "c33b9d9e",
   "metadata": {
    "slideshow": {
     "slide_type": "slide"
    }
   },
   "source": [
    "### Using jupyter notebooks\n",
    "\n",
    "Create a new notebook by clicking on the **New** dropdown at the top-right and selecting the **presentations** kernel that contains the virtual environment you just created for this presentations project.\n",
    "\n",
    "Rename the notebook to **Example.ipynb** by clicking on **Untitled** at the top of the notebook and changing the text to Example.\n",
    "\n",
    "Make sure your notebook is trusted. If you see that your notebook is **Not Trusted** at the upper-right, click on **Not Trusted** and change it to **Trusted**\n",
    "\n",
    "You have just created your first jupyter notebook!"
   ]
  },
  {
   "cell_type": "markdown",
   "id": "7943f6d1",
   "metadata": {
    "slideshow": {
     "slide_type": "slide"
    }
   },
   "source": [
    "### Using jupyter notebooks - continued\n",
    "\n",
    "Type the following into the first cell and press **shift-enter**\n",
    "\n",
    "    for i in range(5):\n",
    "        print(i)    \n",
    "\n",
    "What do you see?\n",
    "\n",
    "Each time you press shift-enter on a cell, python executes the code in the cell\n",
    "\n",
    "Your cursor should now be on the cell below the first cell. Change the **Code** dropdown at the top of the notebook to **Markdown**, enter the following in the cell, and press **shift-enter**\n",
    "\n",
    "    ## This is a header\n",
    "    This is text\n",
    "    \n",
    "What do you see?  Jupyter notebook cells can hold python code or markdown text."
   ]
  },
  {
   "cell_type": "markdown",
   "id": "e0964ca0",
   "metadata": {
    "slideshow": {
     "slide_type": "slide"
    }
   },
   "source": [
    "# Tools of the trade: RISE\n",
    "\n",
    "RISE makes it easy to make presentations in Jupyter notebooks\n",
    "\n",
    "First, enable RISE in your notebook by clicking on **View** > **Cell Toolbar** > **Slideshow**\n",
    "\n",
    "This gives each cell in your notebook a new menu that allows you to assign a \"Slide Type\" to the cell. You will usually assign a slide type of \"Slide\"."
   ]
  },
  {
   "cell_type": "markdown",
   "id": "ebd0131e",
   "metadata": {
    "slideshow": {
     "slide_type": "slide"
    }
   },
   "source": [
    "## Create a presentation\n",
    "\n",
    "Delete the first cell in your notebook by clicking on it, pressing `escape`, and pressing `dd`\n",
    "\n",
    "Add a new cell to the end of the notebook by clicking on the remaining cell, pressing `escape`, and pressing `b`\n",
    "\n",
    "Click on the new cell, change **Code** to **Markdown** at the top of the notebook, set **Slide Type** to **Slide** at the right of the cell, type the following in the cell, and press **shift-enter**\n",
    "\n",
    "    ## This is slide two\n",
    "    \n",
    "    - Here is a thought\n",
    "    - And here is another thought"
   ]
  },
  {
   "cell_type": "markdown",
   "id": "fbae28ad",
   "metadata": {
    "slideshow": {
     "slide_type": "slide"
    }
   },
   "source": [
    "## Show and save your presentation\n",
    "\n",
    "Click on the the first slide, then click on the last button in the toolbar, **Enter/Exit RISE Slideshow**. It is two buttons to the right of the **Code** dropdown. \n",
    "\n",
    "What do you see?\n",
    "\n",
    "Next, click on the arrow in the bottom right. \n",
    "\n",
    "What do you see?\n",
    "\n",
    "Click on the **X** at the upper-left to exit your slideshow.\n",
    "\n",
    "Click **File** > **Save and Checkpoint** to save your presentation."
   ]
  },
  {
   "cell_type": "markdown",
   "id": "32afeb5a",
   "metadata": {
    "slideshow": {
     "slide_type": "slide"
    }
   },
   "source": [
    "## Upload your presentation to Github\n",
    "\n",
    "Go back to Ubuntu. Press **control-c** and type **y** to stop the notebook server.\n",
    "\n",
    "Type the following to see which files have been changed\n",
    "\n",
    "    git status\n",
    "    \n",
    "You don't want to upload your .venv directory or your .ipynb_checkpoints directory. Let's tell git to ignore them.\n",
    "\n",
    "    nano .gitignore\n",
    "    \n",
    "Add the following two lines to this file, then press **control-o** to write the file, and **control-x** to exit.\n",
    "\n",
    "    .venv\n",
    "    .ipynb_checkpoints\n",
    "    "
   ]
  },
  {
   "cell_type": "markdown",
   "id": "1bc1ddcd",
   "metadata": {
    "slideshow": {
     "slide_type": "slide"
    }
   },
   "source": [
    "## Upload your presentation to Github - continued\n",
    "\n",
    "Let's make sure you saved the file successfully.\n",
    "\n",
    "    cat .gitignore\n",
    "    \n",
    "You should see two lines: one containing .venv, and the other containing .ipynb_checkpoints\n",
    "\n",
    "Now type git status again to see what files have changed\n",
    "\n",
    "    git status\n",
    "    \n",
    "At this point you should see\n",
    "\n",
    "    .gitignore\n",
    "    .rtx.toml\n",
    "    Example.ipynb\n",
    "    requirements.txt\n",
    "    "
   ]
  },
  {
   "cell_type": "markdown",
   "id": "33d2a789",
   "metadata": {
    "slideshow": {
     "slide_type": "slide"
    }
   },
   "source": [
    "## Upload your presentation to Github - continued\n",
    "\n",
    "Let's add, commit, and push those files to github\n",
    "\n",
    "    git add .\n",
    "    \n",
    "    git commit -m 'example presentation'\n",
    "    \n",
    "    git push\n",
    "    \n",
    "Now go to your project repo on Github: \n",
    "\n",
    "    https://github.com/<your github username>/presentations\n",
    "    \n",
    "Click on your new `Example.iypnb` notebook. What do you see?"
   ]
  },
  {
   "cell_type": "markdown",
   "id": "097d38d8",
   "metadata": {
    "slideshow": {
     "slide_type": "slide"
    }
   },
   "source": [
    "## Tools of the trade: nano\n",
    "\n",
    "You'll notice that we've used `nano` twice. Why not use `VS Code` instead? \n",
    "\n",
    "When you just want to quickly view or edit a single file, it's often just more convenient to use `nano`."
   ]
  },
  {
   "cell_type": "markdown",
   "id": "fb8c7ad8",
   "metadata": {
    "slideshow": {
     "slide_type": "slide"
    }
   },
   "source": [
    "## Bonus Round! Running notebooks using VS Code\n",
    "\n",
    "It is also possible to use VS Code to edit jupyter notebooks. You need to use the browser, as I've demonstrated, to create presentations in notebooks, but if you're writing python code, you will likely find it more convenient to use VS Code to run your notebook.  Here's how it works:\n",
    "\n",
    "First, launch your jupyter server as above\n",
    "\n",
    "Next, launch VS Code from Windows and open your python project\n",
    "\n",
    "Then when you create a notebook file, click **Select kernel** in the upper-right, select **Existing Jupyter Server**, and enter the URL of your jupyter server.\n",
    "\n",
    "VS Code will take a long time to figure out which kernels (virtual environments) you have installed in your running jupyter server, but eventually you will see the kernels that you have installed and you can select the kernel for your current project.\n",
    "\n",
    "Congratulations! You are now using VS Code to run your notebook."
   ]
  },
  {
   "cell_type": "markdown",
   "id": "05e05769",
   "metadata": {
    "slideshow": {
     "slide_type": "slide"
    }
   },
   "source": [
    "## Bonus Round! - continued\n",
    "\n",
    "Here are a two videos with more information about running notebooks using VS Code\n",
    "\n",
    "https://www.youtube.com/watch?v=DA6ZAHBPF1U\n",
    "\n",
    "https://www.youtube.com/watch?v=IBdhwrfgP9c"
   ]
  },
  {
   "cell_type": "markdown",
   "id": "07878e68",
   "metadata": {
    "slideshow": {
     "slide_type": "slide"
    }
   },
   "source": [
    "## Homework\n",
    "\n",
    "Watch this video to learn more about jupyter notebooks. You will use jupyter notebooks a lot in this internship.\n",
    "\n",
    "https://www.youtube.com/watch?v=HW29067qVWk\n",
    "\n",
    "https://jupyter.org/\n",
    "\n",
    "Watch this video to learn more about RISE. Each week, you will use RISE to create a 15-minute presentation to explain something you learned during the week\n",
    "\n",
    "https://www.youtube.com/watch?v=utNl9f3gqYQ\n",
    "\n",
    "https://rise.readthedocs.io/en/stable/\n"
   ]
  }
 ],
 "metadata": {
  "celltoolbar": "Slideshow",
  "kernelspec": {
   "display_name": "PathwayInternshipPresentations",
   "language": "python",
   "name": "pathwayinternshippresentations"
  },
  "language_info": {
   "codemirror_mode": {
    "name": "ipython",
    "version": 3
   },
   "file_extension": ".py",
   "mimetype": "text/x-python",
   "name": "python",
   "nbconvert_exporter": "python",
   "pygments_lexer": "ipython3",
   "version": "3.11.4"
  }
 },
 "nbformat": 4,
 "nbformat_minor": 5
}
