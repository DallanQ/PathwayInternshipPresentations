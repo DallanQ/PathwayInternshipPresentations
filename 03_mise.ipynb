{
 "cells": [
  {
   "cell_type": "markdown",
   "metadata": {
    "slideshow": {
     "slide_type": "slide"
    }
   },
   "source": [
    "# Week 3 - Managing tool versions"
   ]
  },
  {
   "cell_type": "markdown",
   "metadata": {
    "jp-MarkdownHeadingCollapsed": true,
    "slideshow": {
     "slide_type": "slide"
    }
   },
   "source": [
    "## Why do we care?\n",
    "\n",
    "Sometimes a project you are working on needs a specific version of node or python. \n",
    "\n",
    "When you work in groups, it's especially important for everyone to use the same versions of the tools."
   ]
  },
  {
   "cell_type": "markdown",
   "metadata": {
    "jp-MarkdownHeadingCollapsed": true,
    "slideshow": {
     "slide_type": "slide"
    }
   },
   "source": [
    "## Managing tool versions\n",
    "\n",
    "There are several tools for managing tool versions:\n",
    "\n",
    "- `nvm` node version manager\n",
    "- `pyenv` python version manager\n",
    "- `asdf` universal version manager for node, python, java, php, etc.\n",
    "- `mise` like asdf but better in some ways (used to be called rtx)\n",
    "\n",
    "I will describe mise."
   ]
  },
  {
   "cell_type": "markdown",
   "metadata": {
    "editable": true,
    "jp-MarkdownHeadingCollapsed": true,
    "slideshow": {
     "slide_type": "slide"
    },
    "tags": []
   },
   "source": [
    "## MISE: installation\n",
    "\n",
    "    curl https://mise.jdx.dev/install.sh | sh"
   ]
  },
  {
   "cell_type": "markdown",
   "metadata": {
    "editable": true,
    "jp-MarkdownHeadingCollapsed": true,
    "slideshow": {
     "slide_type": "slide"
    },
    "tags": []
   },
   "source": [
    "## MISE: activation\n",
    "\n",
    "(1) Run the first line if you use the bash shell, the second if you use the zsh shell, or the third if you use the fish shell. By default WSL uses the bash shell and MacOS uses the zsh shell.\n",
    "\n",
    "    echo 'eval \"$(~/.local/bin/mise activate bash)\"' >> ~/.bashrc\n",
    "    \n",
    "    echo 'eval \"$(~/.local/bin/mise activate zsh)\"' >> ~/.zshrc\n",
    "    \n",
    "    echo '~/.local/bin/mise activate fish | source' >> ~/.config/fish/config.fish\n",
    "\n",
    "(2) Now open a new terminal and verify everything was successful:\n",
    "\n",
    "    mise doctor"
   ]
  },
  {
   "cell_type": "markdown",
   "metadata": {
    "editable": true,
    "jp-MarkdownHeadingCollapsed": true,
    "slideshow": {
     "slide_type": "slide"
    },
    "tags": []
   },
   "source": [
    "## MISE: installing tools\n",
    "\n",
    "First, cd to the root directory of your project, then run\n",
    "\n",
    "    mise use python@3.11\n",
    "    \n",
    "This will download python 3.11 and automatically make it the active version when you are in that directory. Then if you ran\n",
    "\n",
    "    mise use python@3.9\n",
    "\n",
    "in a different directory, python 3.9 would be the active version when you were in that directory."
   ]
  },
  {
   "cell_type": "markdown",
   "metadata": {
    "editable": true,
    "jp-MarkdownHeadingCollapsed": true,
    "slideshow": {
     "slide_type": "slide"
    },
    "tags": []
   },
   "source": [
    "## MISE: configuration\n",
    "\n",
    "This file tells mise which tool versions should be active for this directory.\n",
    "\n",
    "    cat .mise.toml"
   ]
  },
  {
   "cell_type": "markdown",
   "metadata": {
    "editable": true,
    "jp-MarkdownHeadingCollapsed": true,
    "slideshow": {
     "slide_type": "slide"
    },
    "tags": []
   },
   "source": [
    "## Conclusion\n",
    "\n",
    "- MISE can do a lot more than this. You can use MISE to install node, and MISE can also set environment variables automatically when you enter a directory. Learn more at https://mise.jdx.dev/ "
   ]
  },
  {
   "cell_type": "code",
   "execution_count": null,
   "metadata": {
    "editable": true,
    "slideshow": {
     "slide_type": ""
    },
    "tags": []
   },
   "outputs": [],
   "source": []
  }
 ],
 "metadata": {
  "celltoolbar": "Slideshow",
  "kernelspec": {
   "display_name": "Python 3 (ipykernel)",
   "language": "python",
   "name": "python3"
  },
  "language_info": {
   "codemirror_mode": {
    "name": "ipython",
    "version": 3
   },
   "file_extension": ".py",
   "mimetype": "text/x-python",
   "name": "python",
   "nbconvert_exporter": "python",
   "pygments_lexer": "ipython3",
   "version": "3.11.7"
  }
 },
 "nbformat": 4,
 "nbformat_minor": 4
}
